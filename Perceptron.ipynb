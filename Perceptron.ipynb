{
  "nbformat": 4,
  "nbformat_minor": 0,
  "metadata": {
    "colab": {
      "name": "03_Regresion Lineal.ipynb",
      "provenance": []
    },
    "kernelspec": {
      "name": "python3",
      "display_name": "Python 3"
    },
    "language_info": {
      "name": "python"
    }
  },
  "cells": [
    {
      "cell_type": "markdown",
      "metadata": {
        "id": "BptjP197j8JN"
      },
      "source": [
        "##Hago dataset de mentira y tomo de a partes para entregarle al modelo\n"
      ]
    },
    {
      "cell_type": "code",
      "metadata": {
        "id": "ws20i4atWlI6"
      },
      "source": [
        "import random\n",
        "import torch\n",
        "import numpy as np\n",
        "import matplotlib.pyplot as plt\n",
        "from torch.utils import data"
      ],
      "execution_count": 18,
      "outputs": []
    },
    {
      "cell_type": "code",
      "metadata": {
        "id": "HNN4PmZ9Lqgt"
      },
      "source": [
        "def synthetic_data(w, b, num_examples): \n",
        "    \"\"\"Generate y = Xw + b + noise.\n",
        "    num_ examples = numero de registros de mi dataset o numero de muestras\n",
        "    w = lista de parametros, uno por cada feature.\n",
        "    b = parametro termino independiente\n",
        "    Estos seran los parametros verdaderos que mi modelo debera predecir\"\"\"\n",
        "    \n",
        "    #Genero numeros aleatorios con distribucion gaussiana (parametros 0 y 1), estos numeros seran un array de filas = num_examples columnas = len(w)\n",
        "    X = torch.normal(0, 1, (num_examples, len(w)))\n",
        "\n",
        "    #Mediante la funcion genero los resultados de y exactos, sera una matriz de 1 x num_examples \n",
        "    y = torch.matmul(X, w) + b\n",
        "\n",
        "    #Introduzco ruido a los resultados\n",
        "    y += torch.normal(0, 0.01, y.shape)\n",
        "\n",
        "    #Devuelvo las muestras X y hago un reshape a y para que pase de ser 1 x num_examples a num_examples x 1\n",
        "    return X, y.reshape((-1, 1))\n",
        "\n",
        "true_w = torch.tensor([2, -3.4])\n",
        "true_b = 4.2\n",
        "features, labels = synthetic_data(true_w, true_b, 1000)"
      ],
      "execution_count": 19,
      "outputs": []
    },
    {
      "cell_type": "code",
      "metadata": {
        "colab": {
          "base_uri": "https://localhost:8080/"
        },
        "id": "lU0fciAIWdlA",
        "outputId": "c1c66f0d-2cab-4d9f-aa25-e78def2d3f82"
      },
      "source": [
        "features.shape"
      ],
      "execution_count": 20,
      "outputs": [
        {
          "output_type": "execute_result",
          "data": {
            "text/plain": [
              "torch.Size([1000, 2])"
            ]
          },
          "metadata": {
            "tags": []
          },
          "execution_count": 20
        }
      ]
    },
    {
      "cell_type": "code",
      "metadata": {
        "colab": {
          "base_uri": "https://localhost:8080/"
        },
        "id": "u8jJhnFoWuxF",
        "outputId": "1263a9c9-d7ab-4301-9f82-c6fa563881ef"
      },
      "source": [
        "labels.shape"
      ],
      "execution_count": 21,
      "outputs": [
        {
          "output_type": "execute_result",
          "data": {
            "text/plain": [
              "torch.Size([1000, 1])"
            ]
          },
          "metadata": {
            "tags": []
          },
          "execution_count": 21
        }
      ]
    },
    {
      "cell_type": "code",
      "metadata": {
        "id": "fBOf2hHQd80G"
      },
      "source": [
        "def load_array(data_arrays, batch_size, is_train=True): \n",
        "    \"\"\"Construct a PyTorch data iterator.\"\"\"\n",
        "    dataset = data.TensorDataset(*data_arrays)\n",
        "    #genero un iterable sobre el dataset\n",
        "    return data.DataLoader(dataset, batch_size, shuffle=is_train)\n",
        "    #El shuffle hace que cada vez que se llama desordena todo, esto para no pasarle siempre el mismo orden de registros"
      ],
      "execution_count": 22,
      "outputs": []
    },
    {
      "cell_type": "code",
      "metadata": {
        "id": "lNWVIB4shVYs"
      },
      "source": [
        "batch_size = 10\n",
        "data_iter = load_array((features, labels), batch_size)"
      ],
      "execution_count": 23,
      "outputs": []
    },
    {
      "cell_type": "code",
      "metadata": {
        "colab": {
          "base_uri": "https://localhost:8080/"
        },
        "id": "D1ybck79iiXI",
        "outputId": "5450ec42-3d55-4fe3-c781-90128fd92101"
      },
      "source": [
        "#Me dara una lista donde el primer elemento son las filas y el segundo el target, el numero de filas sera controlado por el tamaño del batch\n",
        "next(iter(data_iter))"
      ],
      "execution_count": 24,
      "outputs": [
        {
          "output_type": "execute_result",
          "data": {
            "text/plain": [
              "[tensor([[ 2.3919, -1.5827],\n",
              "         [-0.3891, -1.1564],\n",
              "         [-0.4609,  0.9488],\n",
              "         [ 0.9481,  0.6297],\n",
              "         [-0.7618,  0.5512],\n",
              "         [-0.2562, -1.2905],\n",
              "         [ 1.3527,  0.1660],\n",
              "         [-1.2684,  0.2662],\n",
              "         [-0.5053,  0.9694],\n",
              "         [-0.0452, -1.3483]]), tensor([[14.3500],\n",
              "         [ 7.3547],\n",
              "         [ 0.0695],\n",
              "         [ 3.9446],\n",
              "         [ 0.7961],\n",
              "         [ 8.0728],\n",
              "         [ 6.3311],\n",
              "         [ 0.7522],\n",
              "         [-0.1039],\n",
              "         [ 8.7021]])]"
            ]
          },
          "metadata": {
            "tags": []
          },
          "execution_count": 24
        }
      ]
    },
    {
      "cell_type": "markdown",
      "metadata": {
        "id": "IPij9JA5kLyv"
      },
      "source": [
        "##Defino el modelo"
      ]
    },
    {
      "cell_type": "code",
      "metadata": {
        "id": "Xwau4daYkN1U"
      },
      "source": [
        "from torch import nn\n",
        "#nn.sequencial es una forma de hacer redes neuronales, en este caso le estoy diciendo que mi red va a ser la mas basica de todas:\n",
        "#es decir le voy a meter dos variables a una sola neurona (la neurona hace la regresion lineal)\n",
        "net = nn.Sequential(nn.Linear(2, 1))"
      ],
      "execution_count": 25,
      "outputs": []
    },
    {
      "cell_type": "markdown",
      "metadata": {
        "id": "B8BDskgRlqxL"
      },
      "source": [
        "##Inicializo los parametros del modelo"
      ]
    },
    {
      "cell_type": "code",
      "metadata": {
        "colab": {
          "base_uri": "https://localhost:8080/"
        },
        "id": "rL2LTqUOluTw",
        "outputId": "550d2446-3d73-4703-c22c-e8861ee6980e"
      },
      "source": [
        "#net[0] porque quiero acceder a la primera capa de la red neuronal (en nuestro caso la unica)\n",
        "net[0].weight.data.normal_(0, 0.01) #los pesos w seran una distribucion gaussiana\n",
        "net[0].bias.data.fill_(0) # el b lo igualare a cero"
      ],
      "execution_count": 26,
      "outputs": [
        {
          "output_type": "execute_result",
          "data": {
            "text/plain": [
              "tensor([0.])"
            ]
          },
          "metadata": {
            "tags": []
          },
          "execution_count": 26
        }
      ]
    },
    {
      "cell_type": "markdown",
      "metadata": {
        "id": "8GDXxsxAmTQK"
      },
      "source": [
        "##Definiendo la funcion de perdida"
      ]
    },
    {
      "cell_type": "code",
      "metadata": {
        "id": "5auSvtMlmW2K"
      },
      "source": [
        "## se utilizara el error cuadratico medio\n",
        "loss = nn.MSELoss()"
      ],
      "execution_count": 27,
      "outputs": []
    },
    {
      "cell_type": "markdown",
      "metadata": {
        "id": "hsNhBV3QmnIe"
      },
      "source": [
        "##Definiendo el algoritmo de optimizacion de la funcion de perdida"
      ]
    },
    {
      "cell_type": "code",
      "metadata": {
        "id": "D4E_GmH1mr1y"
      },
      "source": [
        "#lr = learning rate\n",
        "# se usara el Stochastic gradient descent\n",
        "trainer = torch.optim.SGD(net.parameters(), lr=0.0003)"
      ],
      "execution_count": 28,
      "outputs": []
    },
    {
      "cell_type": "markdown",
      "metadata": {
        "id": "XrZKsTRUm_Pe"
      },
      "source": [
        "##Entrenamiento"
      ]
    },
    {
      "cell_type": "markdown",
      "metadata": {
        "id": "QFay5fC-nTU3"
      },
      "source": [
        "En cada epoca se pasara enteramente por todo el data set, agarrando de a partes (batch), para cada uno de estos pedazos se realizara:\n",
        "* Generar predicciones llamando a la neurona net y calcularemos la funcion de perdida\n",
        "* Calculamos los gradientes con backpropagation\n",
        "* Actualizamos los parametros con el descenso del gradiente\n",
        "\n",
        "Cada fin de epoca se computa la funcion de perdida para ver su progreso."
      ]
    },
    {
      "cell_type": "code",
      "metadata": {
        "colab": {
          "base_uri": "https://localhost:8080/"
        },
        "id": "Nnd8FmiQnwmG",
        "outputId": "5094024c-61f2-43da-a830-c510c0c3eda0"
      },
      "source": [
        "num_epochs = 30\n",
        "for epoch in range(num_epochs):\n",
        "    for X, y in data_iter:\n",
        "        l = loss(net(X), y)\n",
        "        trainer.zero_grad()\n",
        "        l.backward()\n",
        "        trainer.step()\n",
        "    l = loss(net(features), labels)\n",
        "    print(f'epoch {epoch + 1}, loss {l:f}')"
      ],
      "execution_count": 29,
      "outputs": [
        {
          "output_type": "stream",
          "text": [
            "epoch 1, loss 28.280796\n",
            "epoch 2, loss 25.215179\n",
            "epoch 3, loss 22.482016\n",
            "epoch 4, loss 20.045265\n",
            "epoch 5, loss 17.872679\n",
            "epoch 6, loss 15.935685\n",
            "epoch 7, loss 14.208711\n",
            "epoch 8, loss 12.668974\n",
            "epoch 9, loss 11.296176\n",
            "epoch 10, loss 10.072170\n",
            "epoch 11, loss 8.980846\n",
            "epoch 12, loss 8.007823\n",
            "epoch 13, loss 7.140266\n",
            "epoch 14, loss 6.366745\n",
            "epoch 15, loss 5.677042\n",
            "epoch 16, loss 5.062093\n",
            "epoch 17, loss 4.513781\n",
            "epoch 18, loss 4.024875\n",
            "epoch 19, loss 3.588945\n",
            "epoch 20, loss 3.200251\n",
            "epoch 21, loss 2.853673\n",
            "epoch 22, loss 2.544647\n",
            "epoch 23, loss 2.269098\n",
            "epoch 24, loss 2.023399\n",
            "epoch 25, loss 1.804318\n",
            "epoch 26, loss 1.608965\n",
            "epoch 27, loss 1.434776\n",
            "epoch 28, loss 1.279453\n",
            "epoch 29, loss 1.140949\n",
            "epoch 30, loss 1.017442\n"
          ],
          "name": "stdout"
        }
      ]
    },
    {
      "cell_type": "code",
      "metadata": {
        "colab": {
          "base_uri": "https://localhost:8080/"
        },
        "id": "-wtj1egBoQv6",
        "outputId": "19581d14-42e3-4f4b-eaf3-9ec050bf6435"
      },
      "source": [
        "#Error en la estimacion\n",
        "\n",
        "w = net[0].weight.data\n",
        "print('error in estimating w:', true_w - w.reshape(true_w.shape))\n",
        "b = net[0].bias.data\n",
        "print('error in estimating b:', true_b - b)"
      ],
      "execution_count": 30,
      "outputs": [
        {
          "output_type": "stream",
          "text": [
            "error in estimating w: tensor([ 0.3637, -0.6357])\n",
            "error in estimating b: tensor([0.7286])\n"
          ],
          "name": "stdout"
        }
      ]
    }
  ]
}