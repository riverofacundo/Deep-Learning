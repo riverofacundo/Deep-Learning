{
  "cells": [
    {
      "cell_type": "markdown",
      "metadata": {
        "id": "303iHntmdiDj"
      },
      "source": [
        "<center><img src='https://raw.githubusercontent.com/riverofacundo/Deep-Learning/main/Redes%20adversarias%20generativas/cuadro.jpg'></center>\n",
        "\n",
        "\n",
        "<h1><center>¿Qué sucede ahora que una pintura generada por IA se vendió por $ 432,500?</center></h1>\n",
        "\n",
        "[Forbes, 2018.](https://www.forbes.com/sites/williamfalcon/2018/10/25/what-happens-now-that-an-ai-generated-painting-sold-for-432500/?sh=234480b5a41c)\n",
        "\n",
        "# Creacion de una red antagonica adversaria (GAN) - Conceptos iniciales\n",
        "\n",
        "Fuentes:\n",
        "\n",
        "* [Unsupervised Representation Learning with Deep Convolutional Generative Adversarial Networks](https://arxiv.org/abs/1511.06434), Alec Radford, Luke Metz, Soumith Chintala.\n",
        "* [Generative Adversarial Networks](https://arxiv.org/abs/1406.2661), Ian J. Goodfellow.\n",
        "* [Jeff Heaton](https://sites.wustl.edu/jeffheaton/), McKelvey School of Engineering, [Washington University in St. Louis](https://engineering.wustl.edu/Programs/Pages/default.aspx)\n",
        "* Video: [GANs from Scratch](https://www.youtube.com/watch?v=T-MCludVNn4)\n",
        "* Dataset: Se utilizo un conjunto de datos de 10000 imagenes de caras en alta resolucion [Face Mask Lite Dataset](https://www.kaggle.com/code/theblackmamba31/generating-fake-faces-using-gan/data?select=without_mask)\n",
        "\n",
        "\n",
        "\n",
        "Las Redes Generativas Antagónicas (RGAs), también conocidas como GANs en inglés, son una clase de algoritmos de inteligencia artificial que se utilizan en el aprendizaje no supervisado, implementadas por **un sistema de dos redes neuronales que compiten mutuamente en una especie de juego de suma cero**. Fueron presentadas por Ian Goodfellow en 2014.\n",
        "\n",
        "Esta técnica puede generar fotografías que parecen auténticas a observadores humanos. Por ejemplo, una fotografía sintética de un gato que consiga engañar al discriminador (una de las partes funcionales del algoritmo), es probable que lleve a una persona cualquiera a aceptarlo como una fotografía real.\n",
        "\n",
        "# ¿Que es un modelo generativo?\n",
        "\n",
        "![GAN](https://raw.githubusercontent.com/riverofacundo/Deep-Learning/main/Redes%20adversarias%20generativas/discrimative.png \"GAN Images\")\n",
        "\n",
        "El modelado **generativo** es una tarea de aprendizaje no supervisada en el aprendizaje automático que implica descubrir y aprender automáticamente las regularidades o **patrones en los datos** de entrada de tal manera que el modelo se puede usar para generar o generar nuevos ejemplos que, de manera plausible, podrían haberse extraído del conjunto de datos original.\n",
        "\n",
        "Los algoritmos **discriminativos** modelan la dependencia de una variable objetivo Y en función de una variable observada X. De esta forma se puede **predecir** la variable Y a partir de X."
      ]
    },
    {
      "cell_type": "markdown",
      "metadata": {
        "id": "1yqlUD4sdiDk"
      },
      "source": [
        "# Implementacion de una GAN\n",
        "\n",
        "Una GAN esta compuesta por dos sistemas: un generador y un discriminador.\n",
        "\n",
        "El generador, como sugiere el nombre, intenta generar imágenes falsas que parecen imágenes reales. Aprende la distribucion probabilistica de las imagenes reales a traves del feedback que obtiene del discriminador. El generador toma ruido (características aleatorias) como ruido de entrada y a partir de esto crea una imagen. \n",
        "\n",
        "El discriminador es un clasificador binario y trata de discriminar las imágenes reales y las imágenes creadas por el generador. Aprende la probabilidad de la clase Y dadas las características X. \n",
        "\n",
        "***El Generador aprende a hacer falsificaciones que parecen reales. El discriminador aprende a distinguir lo real de lo falso.***\n",
        "\n",
        "![GAN](https://raw.githubusercontent.com/jeffheaton/t81_558_deep_learning/master/images/gan_fig_1.png \"GAN\")\n",
        "\n",
        "El discriminador acepta una imagen como su entrada y produce la probabilidad de que la imagen de entrada sea real. \n",
        "\n",
        "El generador acepta un vector semilla aleatorio y genera una imagen a partir de ese vector semilla aleatorio."
      ]
    },
    {
      "cell_type": "markdown",
      "source": [
        "# Pasos involucrados en el entrenamiento de una GAN:\n",
        "\n",
        "![GAN](https://raw.githubusercontent.com/riverofacundo/Deep-Learning/main/Redes%20adversarias%20generativas/red.png \"GAN\")\n",
        "\n",
        "\n",
        "1.Definir la arquitectura de red del generador y el discriminador.\n",
        "\n",
        "2.Entrene el Generador para generar los datos falsos que pueden engañar al discriminador.\n",
        "\n",
        "3.Entrene el discriminador para distinguir datos reales y falsos.\n",
        "\n",
        "4.Continúe el entrenamiento durante varias épocas y guarde el modelo.\n",
        "\n",
        "En esencia, tomamos el ruido aleatorio, lo pasamos a través del generador. El generador genera la imagen falsa. Esta imagen de salida se pasa al discriminador junto con un flujo de imágenes del conjunto de datos de imágenes reales. Tanto las imágenes reales como las falsas se entregan al Discriminador, que devuelve la probabilidad de autenticidad de la imagen. Luego calculamos la función de costo a partir de la salida del discriminador y actualizamos los pesos de ambos modelos.\n",
        "\n",
        "![GAN](https://raw.githubusercontent.com/riverofacundo/Deep-Learning/main/Redes%20adversarias%20generativas/flujo.png \"GAN\")\n"
      ],
      "metadata": {
        "id": "QpFUcKkdYaWb"
      }
    },
    {
      "cell_type": "markdown",
      "source": [
        "# Posibles aplicaciones de una GAN\n",
        "\n",
        "**Pix2Pix**\n",
        "\n",
        "Con la ayuda de GAN, podemos realizar la 'traducción' de fotos. Por ejemplo, usando GANs podemos convertir imágenes de caballos en cebras, crear fotografías en color a partir de bocetos, colorear imágenes en blanco y negro, y un sin fin de posibilidades\n",
        "\n",
        "![](https://raw.githubusercontent.com/riverofacundo/Deep-Learning/main/Redes%20adversarias%20generativas/pix2pix.jpg)\n",
        "\n",
        "**Seguridad**\n",
        "\n",
        "Con el auge de la IA, también aumentó el riesgo de fraude y ciberamenazas. Las amenazas cibernéticas pueden filtrar una gran cantidad de información confidencial. Las GAN se pueden usar para prevenir \"ataques adversarios\". Estos ataques adversarios utilizan una variedad de técnicas para engañar a las arquitecturas de aprendizaje profundo. GAN puede crear más ejemplos falsos de este tipo y podemos marcarlos fácilmente entrenando el modelo en los ejemplos falsos generados.\n",
        "\n",
        "*SSGAN se usa para detectar codificaciones ocultas en imágenes que idealmente no deberían estar allí. Las GAN también se pueden usar para generar datos sintéticos para la supervisión.*\n",
        "\n",
        "**Repintado de fotos** \n",
        "\n",
        "Las GAN se pueden usar para pintar fotografías o rellenar puntos, es decir, para llenar el área faltante de la fotografía que se eliminó o se destruyó por algún motivo. \n",
        "\n",
        "![](https://raw.githubusercontent.com/riverofacundo/Deep-Learning/main/Redes%20adversarias%20generativas/Inpainting.png)\n",
        "\n",
        "\n",
        "**Generacion de imagenes, sonidos, video y texto**\n",
        "\n",
        "Generar muestras de datos nuevas, como imágenes de personas, animales, objetos, etc. inexistentes. De esta manera, no solo se pueden generar imágenes, sino también otros tipos de medios (audio, texto).\n",
        "\n",
        "**Otras aplicaciones:**\n",
        "\n",
        "*   Traducción de texto a imagen\n",
        "*   Fotos a Emojis\n",
        "*   Edición de fotografía\n",
        "*   Envejecimiento facial\n",
        "*   Fusión de fotos\n",
        "*   Súper resolución\n",
        "*   Predicción de vídeo\n",
        "*   Generación de objetos 3D\n",
        "\n",
        " \n",
        "\n",
        "\n",
        "\n",
        "\n",
        "\n"
      ],
      "metadata": {
        "id": "28-wZnj8B-vF"
      }
    },
    {
      "cell_type": "markdown",
      "source": [
        "# Seteo inicial"
      ],
      "metadata": {
        "id": "kwegMkJusH13"
      }
    },
    {
      "cell_type": "markdown",
      "metadata": {
        "id": "SpCjlQyEdiDo"
      },
      "source": [
        "El siguiente código conecta este notebook con Google Drive (Solo si se esta usando Google Colab)"
      ]
    },
    {
      "cell_type": "code",
      "execution_count": null,
      "metadata": {
        "id": "zgMWBuf61OmL"
      },
      "outputs": [],
      "source": [
        "# Nicely formatted time string\n",
        "def hms_string(sec_elapsed):\n",
        "    h = int(sec_elapsed / (60 * 60))\n",
        "    m = int((sec_elapsed % (60 * 60)) / 60)\n",
        "    s = sec_elapsed % 60\n",
        "    return \"{}:{:>02}:{:>05.2f}\".format(h, m, s)"
      ]
    },
    {
      "cell_type": "code",
      "execution_count": null,
      "metadata": {
        "id": "Y8_-1h5ddiDp",
        "colab": {
          "base_uri": "https://localhost:8080/"
        },
        "outputId": "4f9c790b-6f64-4b8d-8a85-33e19cd62eee"
      },
      "outputs": [
        {
          "output_type": "stream",
          "name": "stdout",
          "text": [
            "Mounted at /content/drive\n",
            "Note: using Google CoLab\n"
          ]
        }
      ],
      "source": [
        "try:\n",
        "    from google.colab import drive\n",
        "    drive.mount('/content/drive', force_remount=True)\n",
        "    COLAB = True\n",
        "    print(\"Note: using Google CoLab\")\n",
        "    %tensorflow_version 2.x\n",
        "except:\n",
        "    print(\"Note: not using Google CoLab\")\n",
        "    COLAB = False"
      ]
    },
    {
      "cell_type": "markdown",
      "metadata": {
        "id": "BeVAWGHOdiDl"
      },
      "source": [
        "Importamos las librerias necesarias:"
      ]
    },
    {
      "cell_type": "code",
      "execution_count": null,
      "metadata": {
        "id": "KubxTY1mdiDm"
      },
      "outputs": [],
      "source": [
        "import tensorflow as tf\n",
        "from tensorflow.keras.layers import Input, Reshape, Dropout, Dense \n",
        "from tensorflow.keras.layers import Flatten, BatchNormalization\n",
        "from tensorflow.keras.layers import Activation, ZeroPadding2D\n",
        "from tensorflow.keras.layers import LeakyReLU\n",
        "from tensorflow.keras.layers import UpSampling2D, Conv2D\n",
        "from tensorflow.keras.models import Sequential, Model, load_model\n",
        "from tensorflow.keras.optimizers import Adam\n",
        "import numpy as np\n",
        "from PIL import Image\n",
        "from tqdm import tqdm\n",
        "import os \n",
        "import time\n",
        "import matplotlib.pyplot as plt"
      ]
    },
    {
      "cell_type": "markdown",
      "metadata": {
        "id": "X9uwIRYJdiDr"
      },
      "source": [
        "Constantes a setear:\n",
        "\n",
        "\n",
        "\n",
        "*   GENERATE_RES: es el factor de resolucion. Por ejemplo si elegimos 1 tendremos imagenes de 32x32, si elegimos 2 tendremos de 64x64 y asi sucesivamente mediante multiplos de 32.\n",
        "*   IMAGE_CHANNELS: cantidad de canales de la imagen, como utilizamos imagenes a color (RGB) elegimos 3 canales."
      ]
    },
    {
      "cell_type": "code",
      "execution_count": null,
      "metadata": {
        "id": "tb_XblE7diDr",
        "colab": {
          "base_uri": "https://localhost:8080/"
        },
        "outputId": "136cb86b-e114-4a1a-8098-ed4bc5ffd86e"
      },
      "outputs": [
        {
          "output_type": "stream",
          "name": "stdout",
          "text": [
            "Se generaran imagenes cuadradas de 96px.\n"
          ]
        }
      ],
      "source": [
        "GENERATE_RES = 3\n",
        "# (1=32, 2=64, 3=96, 4=128, etc.)\n",
        "GENERATE_SQUARE = 32 * GENERATE_RES\n",
        "IMAGE_CHANNELS = 3\n",
        "\n",
        "# Preview image \n",
        "PREVIEW_ROWS = 4\n",
        "PREVIEW_COLS = 7\n",
        "PREVIEW_MARGIN = 16\n",
        "\n",
        "# Tamaño del vector de ruido que ingresa al generador\n",
        "SEED_SIZE = 100\n",
        "\n",
        "# Configuraciones adicionales\n",
        "DATA_PATH = '/content/drive/MyDrive/'\n",
        "EPOCHS = 50\n",
        "BATCH_SIZE = 32\n",
        "BUFFER_SIZE = 10000\n",
        "\n",
        "print(f\"Se generaran imagenes cuadradas de {GENERATE_SQUARE}px.\")"
      ]
    },
    {
      "cell_type": "markdown",
      "metadata": {
        "id": "oDTfFQjTdiDu"
      },
      "source": [
        "Se realiza la carga y preprocesamiento de las imagenes del dataset, el cual consta de 10000 imagenes HD, por lo cual puede tomar horas, por esto al final se guardan los datos preprocesados en un archivo de numpy."
      ]
    },
    {
      "cell_type": "code",
      "execution_count": null,
      "metadata": {
        "id": "dJ69ALfSdiDv",
        "colab": {
          "base_uri": "https://localhost:8080/"
        },
        "outputId": "d11ce205-fe9d-4428-bcb3-ad89b81c6952"
      },
      "outputs": [
        {
          "output_type": "stream",
          "name": "stdout",
          "text": [
            "Looking for file: /content/drive/MyDrive/training_data_96_96.npy\n",
            "Loading previous training pickle...\n"
          ]
        }
      ],
      "source": [
        "training_binary_path = os.path.join(DATA_PATH,\n",
        "        f'training_data_{GENERATE_SQUARE}_{GENERATE_SQUARE}.npy')\n",
        "\n",
        "print(f\"Looking for file: {training_binary_path}\")\n",
        "\n",
        "if not os.path.isfile(training_binary_path):\n",
        "  start = time.time()\n",
        "  print(\"Loading training images...\")\n",
        "\n",
        "  training_data = []\n",
        "  faces_path = os.path.join(DATA_PATH,'without_mask')\n",
        "  for filename in tqdm(os.listdir(faces_path)):\n",
        "      path = os.path.join(faces_path,filename)\n",
        "      image = Image.open(path).resize((GENERATE_SQUARE,\n",
        "            GENERATE_SQUARE),Image.ANTIALIAS)\n",
        "      training_data.append(np.asarray(image))\n",
        "  training_data = np.reshape(training_data,(-1,GENERATE_SQUARE,\n",
        "            GENERATE_SQUARE,IMAGE_CHANNELS))\n",
        "  training_data = training_data.astype(np.float32)\n",
        "  training_data = training_data / 127.5 - 1.\n",
        "\n",
        "\n",
        "  print(\"Saving training image binary...\")\n",
        "  np.save(training_binary_path,training_data)\n",
        "  elapsed = time.time()-start\n",
        "  print (f'Image preprocess time: {hms_string(elapsed)}')\n",
        "else:\n",
        "  print(\"Loading previous training pickle...\")\n",
        "  training_data = np.load(training_binary_path)"
      ]
    },
    {
      "cell_type": "markdown",
      "source": [
        "Vemos como se compone el array de Numpy 'training_data'"
      ],
      "metadata": {
        "id": "o0JPpCKfdVFa"
      }
    },
    {
      "cell_type": "markdown",
      "source": [
        "Nuestro conjunto de entrenamiento se compone de 10000 imagenes, de 96x96 en 3 canales."
      ],
      "metadata": {
        "id": "rEnsRvotdkE9"
      }
    },
    {
      "cell_type": "code",
      "source": [
        "training_data.shape"
      ],
      "metadata": {
        "colab": {
          "base_uri": "https://localhost:8080/"
        },
        "id": "_7H3CPK4df6r",
        "outputId": "998f5b31-c337-433f-924f-610a94452f40"
      },
      "execution_count": null,
      "outputs": [
        {
          "output_type": "execute_result",
          "data": {
            "text/plain": [
              "(10000, 96, 96, 3)"
            ]
          },
          "metadata": {},
          "execution_count": 14
        }
      ]
    },
    {
      "cell_type": "markdown",
      "source": [
        "Sacamos la primer imagen para visualizarla:"
      ],
      "metadata": {
        "id": "ZCL2t1QYd0sI"
      }
    },
    {
      "cell_type": "code",
      "source": [
        "training_data[0].shape"
      ],
      "metadata": {
        "colab": {
          "base_uri": "https://localhost:8080/"
        },
        "id": "WHPVL5wzdtwc",
        "outputId": "5683202a-49e2-43d4-f528-a55003f3f4d7"
      },
      "execution_count": null,
      "outputs": [
        {
          "output_type": "execute_result",
          "data": {
            "text/plain": [
              "(96, 96, 3)"
            ]
          },
          "metadata": {},
          "execution_count": 15
        }
      ]
    },
    {
      "cell_type": "code",
      "source": [
        "plt.imshow(training_data[0])"
      ],
      "metadata": {
        "colab": {
          "base_uri": "https://localhost:8080/",
          "height": 303
        },
        "id": "gPLqk8kNd8Tk",
        "outputId": "b6bf1c99-7749-428f-c147-b918e83982d7"
      },
      "execution_count": null,
      "outputs": [
        {
          "output_type": "stream",
          "name": "stderr",
          "text": [
            "Clipping input data to the valid range for imshow with RGB data ([0..1] for floats or [0..255] for integers).\n"
          ]
        },
        {
          "output_type": "execute_result",
          "data": {
            "text/plain": [
              "<matplotlib.image.AxesImage at 0x7f7329e63a50>"
            ]
          },
          "metadata": {},
          "execution_count": 16
        },
        {
          "output_type": "display_data",
          "data": {
            "text/plain": [
              "<Figure size 432x288 with 1 Axes>"
            ],
            "image/png": "[encoded data removed]"
          },
          "metadata": {
            "needs_background": "light"
          }
        }
      ]
    },
    {
      "cell_type": "markdown",
      "metadata": {
        "id": "Y9kO_iSRyixQ"
      },
      "source": [
        "Usamos el objeto de TensorFlow **Dataset**, mezclando las imagenes y creando batch de imagenes (10000/32 = 313)"
      ]
    },
    {
      "cell_type": "code",
      "execution_count": null,
      "metadata": {
        "id": "BXl0JohJBx69"
      },
      "outputs": [],
      "source": [
        "# Batch and shuffle the data\n",
        "train_dataset = tf.data.Dataset.from_tensor_slices(training_data) \\\n",
        "    .shuffle(BUFFER_SIZE).batch(BATCH_SIZE)"
      ]
    },
    {
      "cell_type": "markdown",
      "source": [
        "Vemos que tenemos 313 conjuntos de imagenes, cada uno con 32 imagenes de 96x96 RGB\n",
        "\n"
      ],
      "metadata": {
        "id": "tdj1BSRihjIU"
      }
    },
    {
      "cell_type": "code",
      "source": [
        "train_dataset.cardinality().numpy()"
      ],
      "metadata": {
        "colab": {
          "base_uri": "https://localhost:8080/"
        },
        "id": "c_KOJyqyhLFz",
        "outputId": "348bb46c-170c-4145-8c91-3a2d863e55d0"
      },
      "execution_count": null,
      "outputs": [
        {
          "output_type": "execute_result",
          "data": {
            "text/plain": [
              "313"
            ]
          },
          "metadata": {},
          "execution_count": 22
        }
      ]
    },
    {
      "cell_type": "code",
      "source": [
        "next(iter(train_dataset)).shape"
      ],
      "metadata": {
        "colab": {
          "base_uri": "https://localhost:8080/"
        },
        "id": "uWUnm-hpifDt",
        "outputId": "e0e6f582-c4a0-4012-deb6-5ed4f0a0b79a"
      },
      "execution_count": null,
      "outputs": [
        {
          "output_type": "execute_result",
          "data": {
            "text/plain": [
              "TensorShape([32, 96, 96, 3])"
            ]
          },
          "metadata": {},
          "execution_count": 25
        }
      ]
    },
    {
      "cell_type": "markdown",
      "metadata": {
        "id": "2kxKk7uDOnPS"
      },
      "source": [
        "El siguiente codigo guarda imagenes generadas al momento de entrenar:"
      ]
    },
    {
      "cell_type": "code",
      "execution_count": null,
      "metadata": {
        "id": "UKnCeDut2cp0"
      },
      "outputs": [],
      "source": [
        "def save_images(cnt,noise):\n",
        "  image_array = np.full(( \n",
        "      PREVIEW_MARGIN + (PREVIEW_ROWS * (GENERATE_SQUARE+PREVIEW_MARGIN)), \n",
        "      PREVIEW_MARGIN + (PREVIEW_COLS * (GENERATE_SQUARE+PREVIEW_MARGIN)), IMAGE_CHANNELS), \n",
        "      255, dtype=np.uint8)\n",
        "  \n",
        "  generated_images = generator.predict(noise)\n",
        "\n",
        "  generated_images = 0.5 * generated_images + 0.5\n",
        "\n",
        "  image_count = 0\n",
        "  for row in range(PREVIEW_ROWS):\n",
        "      for col in range(PREVIEW_COLS):\n",
        "        r = row * (GENERATE_SQUARE+16) + PREVIEW_MARGIN\n",
        "        c = col * (GENERATE_SQUARE+16) + PREVIEW_MARGIN\n",
        "        image_array[r:r+GENERATE_SQUARE,c:c+GENERATE_SQUARE] \\\n",
        "            = generated_images[image_count] * 255\n",
        "        image_count += 1\n",
        "\n",
        "          \n",
        "  output_path = os.path.join(DATA_PATH,'output')\n",
        "  if not os.path.exists(output_path):\n",
        "    os.makedirs(output_path)\n",
        "  \n",
        "  filename = os.path.join(output_path,f\"train-{cnt}.png\")\n",
        "  im = Image.fromarray(image_array)\n",
        "  im.save(filename)"
      ]
    },
    {
      "cell_type": "markdown",
      "metadata": {
        "id": "2dATyXqQdiDw"
      },
      "source": [
        "# Creacion del generador\n",
        "\n",
        "\n",
        "![](https://raw.githubusercontent.com/riverofacundo/Deep-Learning/main/Redes%20adversarias%20generativas/generador.png)\n",
        "\n",
        "Para llevar un array de numeros aleatorios a una imagen debemos expandir el tamaño, podemos utilizar dos metodos:\n",
        "\n",
        "\n",
        "\n",
        "*   UpSampling2D: un metodo muy sencillo en el cual se escala la imagen rellenando los nuevos pixeles en funcion de los pixeles vecinos.\n",
        "*   Conv2DTranspose: Es una convolucion que aumenta la dimensionalidad, es mas costoso en terminos computacionales porque inmplica entrenar los parametros de dicha convolucion.\n",
        "\n",
        "La primera capa es una capa Densa cuya entrada es el ruido.\n",
        "\n"
      ]
    },
    {
      "cell_type": "code",
      "execution_count": null,
      "metadata": {
        "id": "Ulou-BZPybzT"
      },
      "outputs": [],
      "source": [
        "def build_generator(seed_size, channels):\n",
        "    model = Sequential()\n",
        "\n",
        "    model.add(Dense(4*4*256,activation=\"relu\",input_dim=seed_size))\n",
        "    model.add(Reshape((4,4,256)))\n",
        "\n",
        "    model.add(UpSampling2D())\n",
        "    model.add(Conv2D(256,kernel_size=3,padding=\"same\"))\n",
        "    model.add(BatchNormalization(momentum=0.8))\n",
        "    model.add(Activation(\"relu\"))\n",
        "\n",
        "    model.add(UpSampling2D())\n",
        "    model.add(Conv2D(256,kernel_size=3,padding=\"same\"))\n",
        "    model.add(BatchNormalization(momentum=0.8))\n",
        "    model.add(Activation(\"relu\"))\n",
        "   \n",
        "    model.add(UpSampling2D())\n",
        "    model.add(Conv2D(128,kernel_size=3,padding=\"same\"))\n",
        "    model.add(BatchNormalization(momentum=0.8))\n",
        "    model.add(Activation(\"relu\"))\n",
        "\n",
        "    if GENERATE_RES>1:\n",
        "      model.add(UpSampling2D(size=(GENERATE_RES,GENERATE_RES)))\n",
        "      model.add(Conv2D(128,kernel_size=3,padding=\"same\"))\n",
        "      model.add(BatchNormalization(momentum=0.8))\n",
        "      model.add(Activation(\"relu\"))\n",
        "\n",
        "    # Final CNN layer\n",
        "    model.add(Conv2D(channels,kernel_size=3,padding=\"same\"))\n",
        "    model.add(Activation(\"tanh\"))\n",
        "\n",
        "    return model"
      ]
    },
    {
      "cell_type": "code",
      "source": [
        "ex_generator = build_generator(100,3)\n",
        "ex_generator.summary()"
      ],
      "metadata": {
        "colab": {
          "base_uri": "https://localhost:8080/"
        },
        "id": "urTfQ5r1nfx1",
        "outputId": "f7f357f7-66b2-4a5a-fa8b-d73bbc90443c"
      },
      "execution_count": null,
      "outputs": [
        {
          "output_type": "stream",
          "name": "stdout",
          "text": [
            "Model: \"sequential_2\"\n",
            "_________________________________________________________________\n",
            " Layer (type)                Output Shape              Param #   \n",
            "=================================================================\n",
            " dense_2 (Dense)             (None, 4096)              413696    \n",
            "                                                                 \n",
            " reshape_2 (Reshape)         (None, 4, 4, 256)         0         \n",
            "                                                                 \n",
            " up_sampling2d_8 (UpSampling  (None, 8, 8, 256)        0         \n",
            " 2D)                                                             \n",
            "                                                                 \n",
            " conv2d_10 (Conv2D)          (None, 8, 8, 256)         590080    \n",
            "                                                                 \n",
            " batch_normalization_8 (Batc  (None, 8, 8, 256)        1024      \n",
            " hNormalization)                                                 \n",
            "                                                                 \n",
            " activation_10 (Activation)  (None, 8, 8, 256)         0         \n",
            "                                                                 \n",
            " up_sampling2d_9 (UpSampling  (None, 16, 16, 256)      0         \n",
            " 2D)                                                             \n",
            "                                                                 \n",
            " conv2d_11 (Conv2D)          (None, 16, 16, 256)       590080    \n",
            "                                                                 \n",
            " batch_normalization_9 (Batc  (None, 16, 16, 256)      1024      \n",
            " hNormalization)                                                 \n",
            "                                                                 \n",
            " activation_11 (Activation)  (None, 16, 16, 256)       0         \n",
            "                                                                 \n",
            " up_sampling2d_10 (UpSamplin  (None, 32, 32, 256)      0         \n",
            " g2D)                                                            \n",
            "                                                                 \n",
            " conv2d_12 (Conv2D)          (None, 32, 32, 128)       295040    \n",
            "                                                                 \n",
            " batch_normalization_10 (Bat  (None, 32, 32, 128)      512       \n",
            " chNormalization)                                                \n",
            "                                                                 \n",
            " activation_12 (Activation)  (None, 32, 32, 128)       0         \n",
            "                                                                 \n",
            " up_sampling2d_11 (UpSamplin  (None, 96, 96, 128)      0         \n",
            " g2D)                                                            \n",
            "                                                                 \n",
            " conv2d_13 (Conv2D)          (None, 96, 96, 128)       147584    \n",
            "                                                                 \n",
            " batch_normalization_11 (Bat  (None, 96, 96, 128)      512       \n",
            " chNormalization)                                                \n",
            "                                                                 \n",
            " activation_13 (Activation)  (None, 96, 96, 128)       0         \n",
            "                                                                 \n",
            " conv2d_14 (Conv2D)          (None, 96, 96, 3)         3459      \n",
            "                                                                 \n",
            " activation_14 (Activation)  (None, 96, 96, 3)         0         \n",
            "                                                                 \n",
            "=================================================================\n",
            "Total params: 2,043,011\n",
            "Trainable params: 2,041,475\n",
            "Non-trainable params: 1,536\n",
            "_________________________________________________________________\n"
          ]
        }
      ]
    },
    {
      "cell_type": "code",
      "execution_count": null,
      "metadata": {
        "id": "gL5byGhNzOzd",
        "colab": {
          "base_uri": "https://localhost:8080/",
          "height": 320
        },
        "outputId": "2fb70cfb-ada6-4be0-95e0-9807ad63a7a8"
      },
      "outputs": [
        {
          "output_type": "stream",
          "name": "stderr",
          "text": [
            "Clipping input data to the valid range for imshow with RGB data ([0..1] for floats or [0..255] for integers).\n"
          ]
        },
        {
          "output_type": "stream",
          "name": "stdout",
          "text": [
            "Ingresamos a la generador sin entrenar con un array de ruido de (1, 100) y salimos con una imagen de (1, 96, 96, 3)\n"
          ]
        },
        {
          "output_type": "execute_result",
          "data": {
            "text/plain": [
              "<matplotlib.image.AxesImage at 0x7f7323f54f50>"
            ]
          },
          "metadata": {},
          "execution_count": 39
        },
        {
          "output_type": "display_data",
          "data": {
            "text/plain": [
              "<Figure size 432x288 with 1 Axes>"
            ],
            "image/png": "[encoded data removed]"
          },
          "metadata": {
            "needs_background": "light"
          }
        }
      ],
      "source": [
        "\n",
        "noise = tf.random.normal([1, SEED_SIZE])\n",
        "generated_image = ex_generator(noise, training=False)\n",
        "\n",
        "print(f\"Ingresamos a la generador sin entrenar con un array de ruido de {noise.shape} y salimos con una imagen de {generated_image.shape}\")\n",
        "\n",
        "plt.imshow(generated_image[0, :, :, :])"
      ]
    },
    {
      "cell_type": "markdown",
      "source": [
        "# Creacion del discriminador\n",
        "\n",
        "![](https://raw.githubusercontent.com/riverofacundo/Deep-Learning/main/Redes%20adversarias%20generativas/clasificador.png)\n",
        "\n",
        "La red discriminadora es un clasificador de imágenes binario convolucional de toda la vida."
      ],
      "metadata": {
        "id": "_U4AtgRxqf68"
      }
    },
    {
      "cell_type": "code",
      "source": [
        "def build_discriminator(image_shape):\n",
        "    model = Sequential()\n",
        "\n",
        "    model.add(Conv2D(32, kernel_size=3, strides=2, input_shape=image_shape, \n",
        "                     padding=\"same\"))\n",
        "    model.add(LeakyReLU(alpha=0.2))\n",
        "\n",
        "    model.add(Dropout(0.25))\n",
        "    model.add(Conv2D(64, kernel_size=3, strides=2, padding=\"same\"))\n",
        "    model.add(ZeroPadding2D(padding=((0,1),(0,1))))\n",
        "    model.add(BatchNormalization(momentum=0.8))\n",
        "    model.add(LeakyReLU(alpha=0.2))\n",
        "\n",
        "    model.add(Dropout(0.25))\n",
        "    model.add(Conv2D(128, kernel_size=3, strides=2, padding=\"same\"))\n",
        "    model.add(BatchNormalization(momentum=0.8))\n",
        "    model.add(LeakyReLU(alpha=0.2))\n",
        "\n",
        "    model.add(Dropout(0.25))\n",
        "    model.add(Conv2D(256, kernel_size=3, strides=1, padding=\"same\"))\n",
        "    model.add(BatchNormalization(momentum=0.8))\n",
        "    model.add(LeakyReLU(alpha=0.2))\n",
        "\n",
        "    model.add(Dropout(0.25))\n",
        "    model.add(Conv2D(512, kernel_size=3, strides=1, padding=\"same\"))\n",
        "    model.add(BatchNormalization(momentum=0.8))\n",
        "    model.add(LeakyReLU(alpha=0.2))\n",
        "\n",
        "    model.add(Dropout(0.25))\n",
        "    model.add(Flatten())\n",
        "    model.add(Dense(1, activation='sigmoid'))\n",
        "\n",
        "    return model"
      ],
      "metadata": {
        "id": "7ZeA14dJne00"
      },
      "execution_count": null,
      "outputs": []
    },
    {
      "cell_type": "code",
      "execution_count": null,
      "metadata": {
        "id": "LOnTxIXnyeEQ",
        "colab": {
          "base_uri": "https://localhost:8080/"
        },
        "outputId": "24d33f6e-dbf6-42df-dfeb-a3708d9ce479"
      },
      "outputs": [
        {
          "output_type": "stream",
          "name": "stdout",
          "text": [
            "El discriminador sin entrenar nos dice que hay una probabilidad de 0.499839186668396 de que la imagen que le pasamos sea real.\n"
          ]
        }
      ],
      "source": [
        "image_shape = (GENERATE_SQUARE,GENERATE_SQUARE,IMAGE_CHANNELS)\n",
        "ex_discriminator = build_discriminator(image_shape)\n",
        "decision = ex_discriminator(generated_image)\n",
        "print (f\"El discriminador sin entrenar nos dice que hay una probabilidad de {decision[0][0]} de que la imagen que le pasamos sea real.\")"
      ]
    },
    {
      "cell_type": "markdown",
      "source": [
        "# Lo mas importante: la funcion de perdida"
      ],
      "metadata": {
        "id": "e27j9yvur3ap"
      }
    },
    {
      "cell_type": "markdown",
      "metadata": {
        "id": "-ChOo3D1OsVc"
      },
      "source": [
        "![](https://raw.githubusercontent.com/riverofacundo/Deep-Learning/main/Redes%20adversarias%20generativas/cuadro_perdida.png)\n",
        "\n",
        "Se deben desarrollar funciones de pérdida que permitan entrenar al generador y al discriminador de manera adversaria, en un juego de 'suma cero'. lo que quiere decir que lo que una gana la otra lo pierde. \n",
        "\n",
        "Estas dos redes neuronales se entrenan de forma independiente. Esto requiere dos funciones de pérdida separadas y también dos actualizaciones separadas de los gradientes. \n",
        "\n",
        "Se genera un conjunto de entrenamiento con igual número de imágenes reales y falsas. Las imágenes reales se muestrean aleatoriamente a partir de los datos de entrenamiento. Se genera un número igual de imágenes aleatorias a partir de semillas aleatorias. \n",
        "\n",
        "Para el conjunto de entrenamiento del discriminador, $x$ contiene las imágenes de entrada e $y$ **contiene un valor de 1 para las imágenes reales y 0 para las generadas.**\n",
        "\n",
        "![Training the Discriminator](https://raw.githubusercontent.com/jeffheaton/t81_558_deep_learning/master/images/gan_fig_2.png \"Training the Discriminator\")\n",
        "\n",
        "\n"
      ]
    },
    {
      "cell_type": "markdown",
      "source": [
        "Usaremos la función de pérdida **Binary Cross-Entropy**. La función de costo BCE tiene dos partes, una relevante para cada clase.\n",
        "\n",
        "La pérdida del discriminador cuantifica qué tan bien el modelo discriminador puede distinguir imágenes reales y falsas. Compara la predicción del discriminador en imágenes reales con una matriz de 1 y la predicción del discriminador en imágenes falsas con una matriz de 0. \n",
        "\n",
        "La pérdida del generador cuantifica qué tan bien pudo engañar al discriminador. Intuitivamente, si el generador funciona bien, el discriminador clasificará las imágenes falsas como reales (o 1)."
      ],
      "metadata": {
        "id": "BUAD2hjyu6ft"
      }
    },
    {
      "cell_type": "markdown",
      "source": [
        "**PERDIDA DEL DISCRIMINADOR**\n",
        "\n",
        "![](https://raw.githubusercontent.com/riverofacundo/Deep-Learning/main/Redes%20adversarias%20generativas/perdida_discriminador.png)\n",
        "\n",
        "$z$ = Entrada aleatoria del generador\n",
        "\n",
        "$G(z)$ = Salida del generador\n",
        "\n",
        "$D(G(z))$ = Salida del Discriminador cuando ingresa una imagen falsa (Deberia ser cero)\n",
        "\n",
        "$x$ = Entrada de imagen verdadera\n",
        "\n",
        "$D(x)$ = Salida del Discriminador cuando ingresa una imagen verdadera (Deberia ser uno)\n",
        "\n",
        "**A medida de que $D(G(z))$ tiende a 1 y $D(x)$ tienda a 0, la perdida tiende a infinito, el discriminador es muy malo.**\n",
        "\n",
        "**A medida de que $D(G(z))$ tiende a 0 y $D(x)$ tienda a 1, la perdida tiende a cero, el discriminador es muy bueno.**"
      ],
      "metadata": {
        "id": "W4m5DHOOwYvw"
      }
    },
    {
      "cell_type": "code",
      "execution_count": null,
      "metadata": {
        "id": "gBaP98zAySJV"
      },
      "outputs": [],
      "source": [
        "cross_entropy = tf.keras.losses.BinaryCrossentropy()\n",
        "\n",
        "def discriminator_loss(real_output, fake_output):\n",
        "    real_loss = cross_entropy(tf.ones_like(real_output), real_output) #deberia dar 1\n",
        "    fake_loss = cross_entropy(tf.zeros_like(fake_output), fake_output) #deberia dar 0\n",
        "    total_loss = real_loss + fake_loss #se suman ambas perdidas\n",
        "    return total_loss\n",
        "\n"
      ]
    },
    {
      "cell_type": "markdown",
      "source": [
        "**PERDIDA DEL GENERADOR**\n",
        "\n",
        "![](https://raw.githubusercontent.com/riverofacundo/Deep-Learning/main/Redes%20adversarias%20generativas/perdida_generador.png)\n",
        "\n",
        "$z$ = Entrada aleatoria del generador\n",
        "\n",
        "$G(z)$ = Salida del generador\n",
        "\n",
        "$D(G(z))$ = Salida del Discriminador cuando ingresa una imagen falsa (Deberia ser uno)\n",
        "\n",
        "**A medida de que $D(G(z))$ tiende a 1, la perdida tiende a 0, el generador es muy bueno.**\n",
        "\n",
        "**A medida de que $D(G(z))$ tiende a 0, la perdida tiende a infiniro, el generador es muy malo.**\n"
      ],
      "metadata": {
        "id": "HmGQukqmwVRl"
      }
    },
    {
      "cell_type": "code",
      "source": [
        "def generator_loss(fake_output):\n",
        "    return cross_entropy(tf.ones_like(fake_output), fake_output)"
      ],
      "metadata": {
        "id": "Memo5g_cwIe1"
      },
      "execution_count": null,
      "outputs": []
    },
    {
      "cell_type": "markdown",
      "metadata": {
        "id": "gIlZvHGAxbWf"
      },
      "source": [
        "Tanto el modelo Generador como el Discriminador usan el optimizador Adam y la misma tasa de aprendizaje y Momentum. Sus optimizadores son diferentes ya que estamos entrenando dos redes diferentes por separado."
      ]
    },
    {
      "cell_type": "code",
      "execution_count": null,
      "metadata": {
        "id": "79UDhOCa0R4h"
      },
      "outputs": [],
      "source": [
        "generator_optimizer = tf.keras.optimizers.Adam(1.5e-4,0.5)\n",
        "discriminator_optimizer = tf.keras.optimizers.Adam(1.5e-4,0.5)"
      ]
    },
    {
      "cell_type": "markdown",
      "metadata": {
        "id": "frCpCNn8yRcM"
      },
      "source": [
        "# Entrenamiento\n",
        "\n",
        "La siguiente función es donde se lleva a cabo la mayor parte del entrenamiento tanto para el discriminador como para el generador. Esta función se basó en la GAN proporcionada por la documentación de ejemplos de TensorFlow Keras.\n",
        "\n"
      ]
    },
    {
      "cell_type": "code",
      "execution_count": null,
      "metadata": {
        "id": "uzyh-LqU0j5d"
      },
      "outputs": [],
      "source": [
        "# Notice the use of `tf.function`\n",
        "# This annotation causes the function to be \"compiled\".\n",
        "@tf.function\n",
        "def train_step(images):\n",
        "  seed = tf.random.normal([BATCH_SIZE, SEED_SIZE])\n",
        "\n",
        "  with tf.GradientTape() as gen_tape, tf.GradientTape() as disc_tape:\n",
        "    generated_images = generator(seed, training=True)\n",
        "\n",
        "    real_output = discriminator(images, training=True) #salida del discriminador ante una entrada verdadera\n",
        "    fake_output = discriminator(generated_images, training=True) #salida del discriminador ante una entrada falsa\n",
        "\n",
        "    gen_loss = generator_loss(fake_output)\n",
        "    disc_loss = discriminator_loss(real_output, fake_output)\n",
        "    \n",
        "\n",
        "    gradients_of_generator = gen_tape.gradient(\\\n",
        "        gen_loss, generator.trainable_variables)\n",
        "    gradients_of_discriminator = disc_tape.gradient(\\\n",
        "        disc_loss, discriminator.trainable_variables)\n",
        "\n",
        "    generator_optimizer.apply_gradients(zip(\n",
        "        gradients_of_generator, generator.trainable_variables))\n",
        "    discriminator_optimizer.apply_gradients(zip(\n",
        "        gradients_of_discriminator, \n",
        "        discriminator.trainable_variables))\n",
        "  return gen_loss,disc_loss"
      ]
    },
    {
      "cell_type": "markdown",
      "source": [
        "Las dos redes neuronales deben entrenarse de forma independiente en dos pases separados. Por eso hemos definido dos funciones de pérdida separadas y actualizaciones separadas para los gradientes. Durante la retropropagación para el modelo discriminador, es necesario que el gradiente del discriminador solo se aplique para reducir la pérdida del discriminador, y solo se actualicen los pesos para este modelo. "
      ],
      "metadata": {
        "id": "iF_pnhfM-e1r"
      }
    },
    {
      "cell_type": "code",
      "execution_count": null,
      "metadata": {
        "id": "NjrRgDR10lSF"
      },
      "outputs": [],
      "source": [
        "def train(dataset, epochs):\n",
        "  fixed_seed = np.random.normal(0, 1, (PREVIEW_ROWS * PREVIEW_COLS, \n",
        "                                       SEED_SIZE))\n",
        "  start = time.time()\n",
        "\n",
        "  for epoch in range(epochs):\n",
        "    epoch_start = time.time()\n",
        "\n",
        "    gen_loss_list = []\n",
        "    disc_loss_list = []\n",
        "\n",
        "    for image_batch in dataset:\n",
        "      t = train_step(image_batch)\n",
        "      gen_loss_list.append(t[0])\n",
        "      disc_loss_list.append(t[1])\n",
        "\n",
        "    g_loss = sum(gen_loss_list) / len(gen_loss_list)\n",
        "    d_loss = sum(disc_loss_list) / len(disc_loss_list)\n",
        "\n",
        "    epoch_elapsed = time.time()-epoch_start\n",
        "    print (f'Epoch {epoch+1}, gen loss={g_loss},disc loss={d_loss},'\\\n",
        "           f' {hms_string(epoch_elapsed)}')\n",
        "    save_images(epoch,fixed_seed)\n",
        "\n",
        "  elapsed = time.time()-start\n",
        "  print (f'Training time: {hms_string(elapsed)}')\n"
      ]
    },
    {
      "cell_type": "code",
      "execution_count": null,
      "metadata": {
        "id": "vWmEHprD0t1V",
        "colab": {
          "base_uri": "https://localhost:8080/"
        },
        "outputId": "4e77dcef-8b5b-4a08-eb2e-975253c93c09"
      },
      "outputs": [
        {
          "output_type": "stream",
          "name": "stdout",
          "text": [
            "Epoch 1, gen loss=2.7981059551239014,disc loss=0.741186797618866, 0:00:32.98\n",
            "Epoch 2, gen loss=2.8535399436950684,disc loss=0.7206383943557739, 0:00:33.47\n",
            "Epoch 3, gen loss=2.8579185009002686,disc loss=0.715040922164917, 0:00:33.90\n",
            "Epoch 4, gen loss=2.83117938041687,disc loss=0.7177368998527527, 0:00:34.31\n",
            "Epoch 5, gen loss=2.8988234996795654,disc loss=0.6979027986526489, 0:00:34.67\n",
            "Epoch 6, gen loss=2.867332696914673,disc loss=0.7221333980560303, 0:00:34.96\n",
            "Epoch 7, gen loss=2.8726439476013184,disc loss=0.7137240171432495, 0:00:35.19\n",
            "Epoch 8, gen loss=2.8656065464019775,disc loss=0.7061097025871277, 0:00:35.40\n",
            "Epoch 9, gen loss=2.8432493209838867,disc loss=0.7169610261917114, 0:00:35.50\n",
            "Epoch 10, gen loss=2.848984718322754,disc loss=0.7002047300338745, 0:00:35.50\n",
            "Epoch 11, gen loss=2.844694137573242,disc loss=0.7243035435676575, 0:00:35.50\n",
            "Epoch 12, gen loss=2.8690993785858154,disc loss=0.722497820854187, 0:00:35.47\n",
            "Epoch 13, gen loss=2.899561643600464,disc loss=0.700391411781311, 0:00:35.51\n",
            "Epoch 14, gen loss=2.8939878940582275,disc loss=0.6870261430740356, 0:00:35.48\n",
            "Epoch 15, gen loss=2.8874921798706055,disc loss=0.6947681307792664, 0:00:35.52\n",
            "Epoch 16, gen loss=2.8904500007629395,disc loss=0.7246456742286682, 0:00:35.53\n",
            "Epoch 17, gen loss=2.8868913650512695,disc loss=0.7022737264633179, 0:00:35.50\n",
            "Epoch 18, gen loss=2.9136149883270264,disc loss=0.6751571297645569, 0:00:35.49\n",
            "Epoch 19, gen loss=2.897218704223633,disc loss=0.6849850416183472, 0:00:35.53\n",
            "Epoch 20, gen loss=2.859440803527832,disc loss=0.7170040011405945, 0:00:35.50\n",
            "Epoch 21, gen loss=2.8712551593780518,disc loss=0.7285493612289429, 0:00:35.52\n",
            "Epoch 22, gen loss=2.886099338531494,disc loss=0.7069495916366577, 0:00:35.49\n",
            "Epoch 23, gen loss=2.842167854309082,disc loss=0.7322986125946045, 0:00:35.53\n",
            "Epoch 24, gen loss=2.852201461791992,disc loss=0.709137499332428, 0:00:35.48\n",
            "Epoch 25, gen loss=2.851492404937744,disc loss=0.6911218762397766, 0:00:35.51\n",
            "Epoch 26, gen loss=2.903099775314331,disc loss=0.711378276348114, 0:00:35.50\n",
            "Epoch 27, gen loss=2.8840525150299072,disc loss=0.7016782164573669, 0:00:35.50\n",
            "Epoch 28, gen loss=2.919590711593628,disc loss=0.6940469145774841, 0:00:35.49\n",
            "Epoch 29, gen loss=2.9020581245422363,disc loss=0.6950379610061646, 0:00:35.48\n",
            "Epoch 30, gen loss=2.8907089233398438,disc loss=0.6849465370178223, 0:00:35.43\n",
            "Epoch 31, gen loss=2.9110209941864014,disc loss=0.6940243244171143, 0:00:35.48\n",
            "Epoch 32, gen loss=2.9773054122924805,disc loss=0.6808377504348755, 0:00:35.50\n",
            "Epoch 33, gen loss=2.924051284790039,disc loss=0.7017199397087097, 0:00:35.47\n",
            "Epoch 34, gen loss=2.922708511352539,disc loss=0.6985624432563782, 0:00:35.49\n",
            "Epoch 35, gen loss=2.945143938064575,disc loss=0.6891787052154541, 0:00:35.47\n",
            "Epoch 36, gen loss=2.922745943069458,disc loss=0.7115681171417236, 0:00:35.49\n",
            "Epoch 37, gen loss=2.956730604171753,disc loss=0.6842395663261414, 0:00:35.42\n",
            "Epoch 38, gen loss=2.905399799346924,disc loss=0.6985778212547302, 0:00:35.41\n",
            "Epoch 39, gen loss=2.948497772216797,disc loss=0.6931602358818054, 0:00:35.43\n",
            "Epoch 40, gen loss=2.9500932693481445,disc loss=0.6828434467315674, 0:00:35.40\n",
            "Epoch 41, gen loss=2.9843990802764893,disc loss=0.6954879760742188, 0:00:35.48\n",
            "Epoch 42, gen loss=2.9307992458343506,disc loss=0.6966595649719238, 0:00:35.51\n",
            "Epoch 43, gen loss=2.9215426445007324,disc loss=0.6857863068580627, 0:00:35.42\n",
            "Epoch 44, gen loss=2.9297034740448,disc loss=0.6876120567321777, 0:00:35.41\n",
            "Epoch 45, gen loss=2.941871166229248,disc loss=0.6901741027832031, 0:00:35.49\n",
            "Epoch 46, gen loss=2.9443678855895996,disc loss=0.6727287769317627, 0:00:35.42\n",
            "Epoch 47, gen loss=2.913224458694458,disc loss=0.6842859983444214, 0:00:35.47\n",
            "Epoch 48, gen loss=2.957462787628174,disc loss=0.6961875557899475, 0:00:35.45\n",
            "Epoch 49, gen loss=2.9714536666870117,disc loss=0.6991776823997498, 0:00:35.43\n",
            "Epoch 50, gen loss=2.963383674621582,disc loss=0.7034934759140015, 0:00:35.46\n",
            "Epoch 51, gen loss=2.9522557258605957,disc loss=0.671974778175354, 0:00:35.49\n",
            "Epoch 52, gen loss=2.9594032764434814,disc loss=0.6734453439712524, 0:00:35.47\n",
            "Epoch 53, gen loss=2.961121082305908,disc loss=0.6910363435745239, 0:00:35.51\n",
            "Epoch 54, gen loss=3.0158097743988037,disc loss=0.6657702922821045, 0:00:35.49\n",
            "Epoch 55, gen loss=2.9962639808654785,disc loss=0.6752909421920776, 0:00:35.51\n",
            "Epoch 56, gen loss=2.9836740493774414,disc loss=0.6653337478637695, 0:00:35.48\n",
            "Epoch 57, gen loss=2.9918601512908936,disc loss=0.6802294850349426, 0:00:35.45\n",
            "Epoch 58, gen loss=2.974473476409912,disc loss=0.6795169115066528, 0:00:35.46\n",
            "Epoch 59, gen loss=2.965163469314575,disc loss=0.6875454783439636, 0:00:35.39\n",
            "Epoch 60, gen loss=3.034615993499756,disc loss=0.6703596711158752, 0:00:35.46\n",
            "Epoch 61, gen loss=2.9855682849884033,disc loss=0.6669666767120361, 0:00:35.50\n",
            "Epoch 62, gen loss=2.985969066619873,disc loss=0.6811560392379761, 0:00:35.50\n",
            "Epoch 63, gen loss=2.989098310470581,disc loss=0.6820807456970215, 0:00:35.48\n",
            "Epoch 64, gen loss=3.009124279022217,disc loss=0.681283175945282, 0:00:35.51\n",
            "Epoch 65, gen loss=3.0094544887542725,disc loss=0.6754740476608276, 0:00:35.49\n",
            "Epoch 66, gen loss=2.9900565147399902,disc loss=0.6705107688903809, 0:00:35.50\n",
            "Epoch 67, gen loss=2.984081268310547,disc loss=0.6900261044502258, 0:00:35.49\n",
            "Epoch 68, gen loss=2.9792287349700928,disc loss=0.6803770661354065, 0:00:35.42\n",
            "Epoch 69, gen loss=2.957292079925537,disc loss=0.6845463514328003, 0:00:35.45\n",
            "Epoch 70, gen loss=3.030536651611328,disc loss=0.6710000038146973, 0:00:35.54\n",
            "Epoch 71, gen loss=2.990823745727539,disc loss=0.6752568483352661, 0:00:35.35\n",
            "Epoch 72, gen loss=3.0013325214385986,disc loss=0.684308648109436, 0:00:35.37\n",
            "Epoch 73, gen loss=3.0190584659576416,disc loss=0.6605467796325684, 0:00:35.50\n",
            "Epoch 74, gen loss=3.0001320838928223,disc loss=0.676563024520874, 0:00:35.54\n",
            "Epoch 75, gen loss=2.991117477416992,disc loss=0.6759963631629944, 0:00:35.48\n",
            "Epoch 76, gen loss=3.033263683319092,disc loss=0.6686093211174011, 0:00:35.46\n",
            "Epoch 77, gen loss=3.0094106197357178,disc loss=0.6917113661766052, 0:00:35.40\n",
            "Epoch 78, gen loss=3.0285227298736572,disc loss=0.684242844581604, 0:00:35.44\n",
            "Epoch 79, gen loss=3.0149953365325928,disc loss=0.6708671450614929, 0:00:35.49\n",
            "Epoch 80, gen loss=3.025874614715576,disc loss=0.6566775441169739, 0:00:35.37\n",
            "Epoch 81, gen loss=3.0405032634735107,disc loss=0.6617109179496765, 0:00:35.46\n",
            "Epoch 82, gen loss=3.04569411277771,disc loss=0.6635833382606506, 0:00:35.60\n",
            "Epoch 83, gen loss=3.0533154010772705,disc loss=0.6641957759857178, 0:00:35.91\n",
            "Epoch 84, gen loss=3.0418481826782227,disc loss=0.6766312122344971, 0:00:35.49\n",
            "Epoch 85, gen loss=3.089952230453491,disc loss=0.6501742601394653, 0:00:35.45\n",
            "Epoch 86, gen loss=3.074932336807251,disc loss=0.6621001362800598, 0:00:35.39\n",
            "Epoch 87, gen loss=3.032085418701172,disc loss=0.6831812858581543, 0:00:35.41\n",
            "Epoch 88, gen loss=3.0523738861083984,disc loss=0.6768316626548767, 0:00:35.47\n",
            "Epoch 89, gen loss=3.090075731277466,disc loss=0.6579962372779846, 0:00:35.53\n",
            "Epoch 90, gen loss=3.06437087059021,disc loss=0.668437123298645, 0:00:35.45\n",
            "Epoch 91, gen loss=3.059500217437744,disc loss=0.6773868203163147, 0:00:35.38\n",
            "Epoch 92, gen loss=3.035125732421875,disc loss=0.6783412098884583, 0:00:35.37\n",
            "Epoch 93, gen loss=3.0650124549865723,disc loss=0.6740527749061584, 0:00:35.43\n",
            "Epoch 94, gen loss=3.033121109008789,disc loss=0.6731668710708618, 0:00:35.48\n",
            "Epoch 95, gen loss=3.08306884765625,disc loss=0.6618605256080627, 0:00:35.39\n",
            "Epoch 96, gen loss=3.0870296955108643,disc loss=0.6591570377349854, 0:00:35.44\n",
            "Epoch 97, gen loss=3.0827927589416504,disc loss=0.6680107712745667, 0:00:35.46\n",
            "Epoch 98, gen loss=3.107394218444824,disc loss=0.6560958027839661, 0:00:35.49\n",
            "Epoch 99, gen loss=3.1018340587615967,disc loss=0.6499008536338806, 0:00:35.47\n",
            "Epoch 100, gen loss=3.0769059658050537,disc loss=0.663925290107727, 0:00:35.46\n",
            "Training time: 0:59:22.41\n"
          ]
        }
      ],
      "source": [
        "train(train_dataset, 100)"
      ]
    },
    {
      "cell_type": "markdown",
      "metadata": {
        "id": "Mvir4efcLlwi"
      },
      "source": [
        "Guardamos el modelo"
      ]
    },
    {
      "cell_type": "code",
      "execution_count": null,
      "metadata": {
        "id": "15Hia_feD9sm",
        "colab": {
          "base_uri": "https://localhost:8080/"
        },
        "outputId": "132aaac6-4ee2-40a6-9a2c-5874c1bca4c1"
      },
      "outputs": [
        {
          "output_type": "stream",
          "name": "stdout",
          "text": [
            "WARNING:tensorflow:Compiled the loaded model, but the compiled metrics have yet to be built. `model.compile_metrics` will be empty until you train or evaluate the model.\n",
            "WARNING:tensorflow:Compiled the loaded model, but the compiled metrics have yet to be built. `model.compile_metrics` will be empty until you train or evaluate the model.\n"
          ]
        }
      ],
      "source": [
        "generator.save(os.path.join(DATA_PATH,\"face_generator3.h5\"))\n",
        "discriminator.save(os.path.join(DATA_PATH,\"face_discriminator3.h5\"))"
      ]
    },
    {
      "cell_type": "markdown",
      "source": [
        "# Testeo del modelo"
      ],
      "metadata": {
        "id": "XenZ4b4l_oC2"
      }
    },
    {
      "cell_type": "markdown",
      "source": [
        "Se cargan los modelos del generador y discriminador previamente entrenados"
      ],
      "metadata": {
        "id": "aCYtBFrG_rCD"
      }
    },
    {
      "cell_type": "code",
      "source": [
        "generator = build_generator(100,3)\n",
        "generator.load_weights('/content/drive/MyDrive/face_generator3.h5')\n",
        "image_shape = (GENERATE_SQUARE,GENERATE_SQUARE,IMAGE_CHANNELS)\n",
        "discriminator = build_discriminator(image_shape)\n",
        "discriminator.load_weights('/content/drive/MyDrive/face_discriminator3.h5')"
      ],
      "metadata": {
        "id": "4oq1IgPX-lkh"
      },
      "execution_count": null,
      "outputs": []
    },
    {
      "cell_type": "markdown",
      "source": [
        "Creamos un vector de ruido, se lo pasamos al generador y la salida al discriminador.\n",
        "\n",
        "Podemos ver que muchas veces la salida se nota falsa por ciertas deformidades, pero otras veces parece muy real llegando a engañar al discriminador."
      ],
      "metadata": {
        "id": "DWonXhKDA--T"
      }
    },
    {
      "cell_type": "code",
      "source": [
        "noise = tf.random.normal([1, 100])\n",
        "generated_image = generator(noise, training=False)\n",
        "plt.imshow(generated_image[0, :, :, :])\n",
        "decision = discriminator(generated_image)\n",
        "print (f' La imagen tiene una probabilidad de {decision[0][0]} de ser verdadera segun el modelo (la imagen es falsa)')"
      ],
      "metadata": {
        "id": "LL9o5bii8eZJ",
        "colab": {
          "base_uri": "https://localhost:8080/",
          "height": 303
        },
        "outputId": "cfe0ded4-d366-4a68-c90d-807f38c1fda3"
      },
      "execution_count": null,
      "outputs": [
        {
          "output_type": "stream",
          "name": "stderr",
          "text": [
            "Clipping input data to the valid range for imshow with RGB data ([0..1] for floats or [0..255] for integers).\n"
          ]
        },
        {
          "output_type": "stream",
          "name": "stdout",
          "text": [
            " La imagen tiene una probabilidad de 0.7296812534332275 de ser verdadera segun el modelo (la imagen es falsa)\n"
          ]
        },
        {
          "output_type": "display_data",
          "data": {
            "text/plain": [
              "<Figure size 432x288 with 1 Axes>"
            ],
            "image/png": "[encoded data removed]"
          },
          "metadata": {
            "needs_background": "light"
          }
        }
      ]
    },
    {
      "cell_type": "markdown",
      "source": [
        "Le pasamos imagenes verdaderas al discriminador para ver como actua, claramente le asigna una alta probabilidad de ser verdadera."
      ],
      "metadata": {
        "id": "CnTJ40DsBmZV"
      }
    },
    {
      "cell_type": "code",
      "source": [
        "numero = tf.random.uniform([], minval=0, maxval=10000, dtype=tf.dtypes.int32)\n",
        "verdadera = np.squeeze(training_data)[numero][None,:,:,:]\n",
        "plt.imshow(verdadera[0, :, :, :])\n",
        "decision = discriminator(verdadera)\n",
        "print (f' La imagen tiene una probabilidad de {decision[0][0]} de ser verdadera segun el modelo, la imagen es verdadera')"
      ],
      "metadata": {
        "colab": {
          "base_uri": "https://localhost:8080/",
          "height": 303
        },
        "id": "f1YLjgvA4o0P",
        "outputId": "f192977d-30ce-44f4-f287-412ead6c4cbc"
      },
      "execution_count": null,
      "outputs": [
        {
          "output_type": "stream",
          "name": "stderr",
          "text": [
            "Clipping input data to the valid range for imshow with RGB data ([0..1] for floats or [0..255] for integers).\n"
          ]
        },
        {
          "output_type": "stream",
          "name": "stdout",
          "text": [
            " La imagen tiene una probabilidad de 0.9988074898719788 de ser verdadera segun el modelo, la imagen es verdadera\n"
          ]
        },
        {
          "output_type": "display_data",
          "data": {
            "text/plain": [
              "<Figure size 432x288 with 1 Axes>"
            ],
            "image/png": "[encoded data removed]"
          },
          "metadata": {
            "needs_background": "light"
          }
        }
      ]
    },
    {
      "cell_type": "markdown",
      "source": [
        "Salida al inicio del entrenamiento\n",
        "\n",
        "![](https://raw.githubusercontent.com/riverofacundo/Deep-Learning/main/Redes%20adversarias%20generativas/output/1.png)\n",
        "\n",
        "Salida luego de 1000 epocas\n",
        "\n",
        "![](https://raw.githubusercontent.com/riverofacundo/Deep-Learning/main/Redes%20adversarias%20generativas/output/3.png)"
      ],
      "metadata": {
        "id": "Dl0QDTddUit6"
      }
    }
  ],
  "metadata": {
    "anaconda-cloud": {},
    "colab": {
      "collapsed_sections": [],
      "name": "GAN.ipynb",
      "provenance": []
    },
    "kernelspec": {
      "display_name": "Python 3 (ipykernel)",
      "language": "python",
      "name": "python3"
    },
    "language_info": {
      "codemirror_mode": {
        "name": "ipython",
        "version": 3
      },
      "file_extension": ".py",
      "mimetype": "text/x-python",
      "name": "python",
      "nbconvert_exporter": "python",
      "pygments_lexer": "ipython3",
      "version": "3.8.11"
    }
  },
  "nbformat": 4,
  "nbformat_minor": 0
}