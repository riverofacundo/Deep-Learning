{
  "nbformat": 4,
  "nbformat_minor": 0,
  "metadata": {
    "colab": {
      "name": "Copia de FIFA2.ipynb",
      "provenance": [],
      "collapsed_sections": []
    },
    "kernelspec": {
      "name": "python3",
      "display_name": "Python 3"
    },
    "language_info": {
      "name": "python"
    }
  },
  "cells": [
    {
      "cell_type": "markdown",
      "metadata": {
        "id": "5P1H4rM-f2Zi"
      },
      "source": [
        "\n",
        "\n",
        "---\n",
        "\n",
        "\n",
        "\n",
        "\n",
        "\n",
        "<h3 align=\"center\">⚽¿Se puede predecir en qué posición juega un jugador de \n",
        "fútbol?⚽</h3> \n",
        "\n",
        "\n",
        "\n",
        "---\n",
        "\n",
        "\n"
      ]
    },
    {
      "cell_type": "markdown",
      "metadata": {
        "id": "-8bnb0GfmrUa"
      },
      "source": [
        "Dataset\n",
        "Concretamente, el dataset de entrenamiento esta compuesto de datos de alrededor de 20.000 jugadores de FIFA y por cada jugador existen 53 características o features que se describen a continuación.\n",
        "\n",
        "-----Features basadas en datos del jugador-----\n",
        "\n",
        "ID Name Sex Nationality Overal Potential Height Weight PreferredFoot BirthDate Age PlayerWorkRate WeakFoot SkillMoves Value Wage Club Club_KitNumber Club_JoinedClub Club_ContractLength\n",
        "\n",
        "-----Features basadas en habilidades del jugador-----\n",
        "\n",
        "BallControl Dribbling Marking SlideTackle StandTackle Aggression Reactions Interceptions Vision Composure Crossing ShortPass LongPass Acceleration Stamina Strength Balance SprintSpeed Agility Jumping Heading ShotPower Finishing LongShots Curve FKAcc Penalties Volleys GKDiving GKHandling GKKicking GKReflexes\n",
        "\n",
        "En estas estadísticas se basa el juego para determinar las probabilidades de éxito de una acción determinada. Están en una escala del 1 al 100.\n",
        "\n",
        "-----Etiqueta-----\n",
        "\n",
        "Position: Indica si juega como arquero (GK), defensor (DEF), mediocampista (MID) o delantero (FWD). Este es el valor que intentaremos predecir.\n",
        "\n",
        "Separación en 2 archivos\n",
        "El archivo fifa2021_training.csv contiene el 70% de los datos totales incluyendo la etiqueta real.\n",
        "\n",
        "El archivo fifa2021_test.csv contiene el 30% de los datos totales SIN INCLUIR la etiqueta real. Estas etiquetas faltantes están ocultas y se usarán para determinar qué modelo anda mejor al compararlas con las predicciones obtenidas."
      ]
    },
    {
      "cell_type": "markdown",
      "metadata": {
        "id": "aGl_1TJJnB7K"
      },
      "source": [
        "# **Librerias/Frameworks**"
      ]
    },
    {
      "cell_type": "code",
      "metadata": {
        "id": "OqkJCAa0BVZf"
      },
      "source": [
        "#Manejo de datos\n",
        "import pandas as pd\n",
        "import numpy as np\n",
        "from sklearn.model_selection import train_test_split\n",
        "\n",
        "#conexión con google drive\n",
        "from google.colab import drive \n",
        "\n",
        "#visualización\n",
        "import matplotlib.pyplot as plt\n",
        "import plotly.express as px\n",
        "import plotly.graph_objects as go\n",
        "import matplotlib.pyplot as plt\n",
        "import seaborn as sns\n",
        "\n",
        "#Modelo Pytorch\n",
        "import torchvision\n",
        "import torchvision.transforms as transforms\n",
        "import torch\n",
        "\n",
        "#Metricas\n",
        "from sklearn.metrics import accuracy_score\n",
        "from sklearn.metrics import balanced_accuracy_score\n",
        "from sklearn.metrics import confusion_matrix"
      ],
      "execution_count": null,
      "outputs": []
    },
    {
      "cell_type": "markdown",
      "metadata": {
        "id": "8fEDHlR8TOHC"
      },
      "source": [
        "# **Preprocesamiento de los datos**"
      ]
    },
    {
      "cell_type": "code",
      "metadata": {
        "colab": {
          "base_uri": "https://localhost:8080/"
        },
        "id": "yfWhyysLBphR",
        "outputId": "41764bd4-3cdd-41d0-c0ee-ccbe17e03733"
      },
      "source": [
        "drive.mount('/content/gdrive')"
      ],
      "execution_count": null,
      "outputs": [
        {
          "output_type": "stream",
          "text": [
            "Drive already mounted at /content/gdrive; to attempt to forcibly remount, call drive.mount(\"/content/gdrive\", force_remount=True).\n"
          ],
          "name": "stdout"
        }
      ]
    },
    {
      "cell_type": "code",
      "metadata": {
        "id": "OpC5-8s9Buyx"
      },
      "source": [
        "data = pd.read_csv('/content/gdrive/MyDrive/DeepLearning/Tps/Fifa/fifa_training.csv')"
      ],
      "execution_count": null,
      "outputs": []
    },
    {
      "cell_type": "code",
      "metadata": {
        "id": "rzvpwOFaHvrK"
      },
      "source": [
        "#Elimino columnas que no demuestran ser buenas clasificadoras del target\n",
        "data.drop(columns=[\"Release Clause\", \"Loaned From\", \"Joined\", \"Club\", \"Contract Valid Until\", \"DataPoint\", \"International Reputation\", \"Name\", \"Photo\", \"Nationality\", \"Flag\", \"Potential\", \"Club Logo\", \"Real Face\", \"Overall\"], axis = 1, inplace=True)"
      ],
      "execution_count": null,
      "outputs": []
    },
    {
      "cell_type": "code",
      "metadata": {
        "colab": {
          "base_uri": "https://localhost:8080/",
          "height": 182
        },
        "id": "mcXM6QY5B70x",
        "outputId": "0147c494-7cf3-46bd-d2db-ba576c9c3645"
      },
      "source": [
        "data.head(2)"
      ],
      "execution_count": null,
      "outputs": [
        {
          "output_type": "execute_result",
          "data": {
            "text/html": [
              "<div>\n",
              "<style scoped>\n",
              "    .dataframe tbody tr th:only-of-type {\n",
              "        vertical-align: middle;\n",
              "    }\n",
              "\n",
              "    .dataframe tbody tr th {\n",
              "        vertical-align: top;\n",
              "    }\n",
              "\n",
              "    .dataframe thead th {\n",
              "        text-align: right;\n",
              "    }\n",
              "</style>\n",
              "<table border=\"1\" class=\"dataframe\">\n",
              "  <thead>\n",
              "    <tr style=\"text-align: right;\">\n",
              "      <th></th>\n",
              "      <th>ID</th>\n",
              "      <th>Age</th>\n",
              "      <th>Value</th>\n",
              "      <th>Wage</th>\n",
              "      <th>Special</th>\n",
              "      <th>Preferred Foot</th>\n",
              "      <th>Weak Foot</th>\n",
              "      <th>Skill Moves</th>\n",
              "      <th>Work Rate</th>\n",
              "      <th>Body Type</th>\n",
              "      <th>Jersey Number</th>\n",
              "      <th>Height</th>\n",
              "      <th>Weight</th>\n",
              "      <th>Crossing</th>\n",
              "      <th>Finishing</th>\n",
              "      <th>HeadingAccuracy</th>\n",
              "      <th>ShortPassing</th>\n",
              "      <th>Volleys</th>\n",
              "      <th>Dribbling</th>\n",
              "      <th>Curve</th>\n",
              "      <th>FKAccuracy</th>\n",
              "      <th>LongPassing</th>\n",
              "      <th>BallControl</th>\n",
              "      <th>Acceleration</th>\n",
              "      <th>SprintSpeed</th>\n",
              "      <th>Agility</th>\n",
              "      <th>Reactions</th>\n",
              "      <th>Balance</th>\n",
              "      <th>ShotPower</th>\n",
              "      <th>Jumping</th>\n",
              "      <th>Stamina</th>\n",
              "      <th>Strength</th>\n",
              "      <th>LongShots</th>\n",
              "      <th>Aggression</th>\n",
              "      <th>Interceptions</th>\n",
              "      <th>Positioning</th>\n",
              "      <th>Vision</th>\n",
              "      <th>Penalties</th>\n",
              "      <th>Composure</th>\n",
              "      <th>Marking</th>\n",
              "      <th>StandingTackle</th>\n",
              "      <th>SlidingTackle</th>\n",
              "      <th>GKDiving</th>\n",
              "      <th>GKHandling</th>\n",
              "      <th>GKKicking</th>\n",
              "      <th>GKPositioning</th>\n",
              "      <th>GKReflexes</th>\n",
              "      <th>Position</th>\n",
              "    </tr>\n",
              "  </thead>\n",
              "  <tbody>\n",
              "    <tr>\n",
              "      <th>0</th>\n",
              "      <td>244360</td>\n",
              "      <td>22</td>\n",
              "      <td>190K</td>\n",
              "      <td>1K</td>\n",
              "      <td>1261</td>\n",
              "      <td>Right</td>\n",
              "      <td>3</td>\n",
              "      <td>2</td>\n",
              "      <td>Medium/ Medium</td>\n",
              "      <td>Lean</td>\n",
              "      <td>2</td>\n",
              "      <td>6'2</td>\n",
              "      <td>161lbs</td>\n",
              "      <td>26</td>\n",
              "      <td>26</td>\n",
              "      <td>45</td>\n",
              "      <td>30</td>\n",
              "      <td>30</td>\n",
              "      <td>32</td>\n",
              "      <td>22</td>\n",
              "      <td>23</td>\n",
              "      <td>28</td>\n",
              "      <td>43</td>\n",
              "      <td>60</td>\n",
              "      <td>70</td>\n",
              "      <td>41</td>\n",
              "      <td>48</td>\n",
              "      <td>55</td>\n",
              "      <td>35</td>\n",
              "      <td>68</td>\n",
              "      <td>54</td>\n",
              "      <td>77</td>\n",
              "      <td>19</td>\n",
              "      <td>64</td>\n",
              "      <td>52</td>\n",
              "      <td>21</td>\n",
              "      <td>35</td>\n",
              "      <td>37</td>\n",
              "      <td>46</td>\n",
              "      <td>59</td>\n",
              "      <td>62</td>\n",
              "      <td>58</td>\n",
              "      <td>9</td>\n",
              "      <td>7</td>\n",
              "      <td>8</td>\n",
              "      <td>7</td>\n",
              "      <td>10</td>\n",
              "      <td>DEF</td>\n",
              "    </tr>\n",
              "    <tr>\n",
              "      <th>1</th>\n",
              "      <td>219577</td>\n",
              "      <td>26</td>\n",
              "      <td>500K</td>\n",
              "      <td>1K</td>\n",
              "      <td>1449</td>\n",
              "      <td>Right</td>\n",
              "      <td>2</td>\n",
              "      <td>2</td>\n",
              "      <td>Medium/ Medium</td>\n",
              "      <td>Lean</td>\n",
              "      <td>13</td>\n",
              "      <td>6'1</td>\n",
              "      <td>172lbs</td>\n",
              "      <td>39</td>\n",
              "      <td>21</td>\n",
              "      <td>61</td>\n",
              "      <td>49</td>\n",
              "      <td>37</td>\n",
              "      <td>30</td>\n",
              "      <td>38</td>\n",
              "      <td>29</td>\n",
              "      <td>40</td>\n",
              "      <td>44</td>\n",
              "      <td>59</td>\n",
              "      <td>65</td>\n",
              "      <td>57</td>\n",
              "      <td>59</td>\n",
              "      <td>71</td>\n",
              "      <td>51</td>\n",
              "      <td>71</td>\n",
              "      <td>62</td>\n",
              "      <td>66</td>\n",
              "      <td>25</td>\n",
              "      <td>65</td>\n",
              "      <td>61</td>\n",
              "      <td>26</td>\n",
              "      <td>33</td>\n",
              "      <td>41</td>\n",
              "      <td>60</td>\n",
              "      <td>67</td>\n",
              "      <td>68</td>\n",
              "      <td>66</td>\n",
              "      <td>10</td>\n",
              "      <td>13</td>\n",
              "      <td>10</td>\n",
              "      <td>7</td>\n",
              "      <td>8</td>\n",
              "      <td>DEF</td>\n",
              "    </tr>\n",
              "  </tbody>\n",
              "</table>\n",
              "</div>"
            ],
            "text/plain": [
              "       ID  Age Value Wage  ...  GKKicking GKPositioning  GKReflexes  Position\n",
              "0  244360   22  190K   1K  ...          8             7          10       DEF\n",
              "1  219577   26  500K   1K  ...         10             7           8       DEF\n",
              "\n",
              "[2 rows x 48 columns]"
            ]
          },
          "metadata": {
            "tags": []
          },
          "execution_count": 2844
        }
      ]
    },
    {
      "cell_type": "code",
      "metadata": {
        "colab": {
          "base_uri": "https://localhost:8080/"
        },
        "id": "uXtcSHL6CFAR",
        "outputId": "d6e22fec-c83c-4571-9ab3-0e342f1d1c53"
      },
      "source": [
        "print(f\"En base al dataframe analizado hay: {data.shape[0]} observaciones.\")"
      ],
      "execution_count": null,
      "outputs": [
        {
          "output_type": "stream",
          "text": [
            "En base al dataframe analizado hay: 12702 observaciones.\n"
          ],
          "name": "stdout"
        }
      ]
    },
    {
      "cell_type": "code",
      "metadata": {
        "colab": {
          "base_uri": "https://localhost:8080/"
        },
        "id": "KP0lKEbXH1bZ",
        "outputId": "efd0483c-a6b1-4231-8b5c-44164ed4f1d4"
      },
      "source": [
        "print(f\"En base al dataframe analizado hay: {data.shape[1]} columnas.\")"
      ],
      "execution_count": null,
      "outputs": [
        {
          "output_type": "stream",
          "text": [
            "En base al dataframe analizado hay: 48 columnas.\n"
          ],
          "name": "stdout"
        }
      ]
    },
    {
      "cell_type": "code",
      "metadata": {
        "colab": {
          "base_uri": "https://localhost:8080/"
        },
        "id": "XopVJefUCaBK",
        "outputId": "4ccf28e2-1c8f-4925-9dce-3d59bc1add1b"
      },
      "source": [
        "print(f\"Valores nulos = {data.isna().sum().sum()}\")"
      ],
      "execution_count": null,
      "outputs": [
        {
          "output_type": "stream",
          "text": [
            "Valores nulos = 0\n"
          ],
          "name": "stdout"
        }
      ]
    },
    {
      "cell_type": "code",
      "metadata": {
        "id": "vGg1MUPKC4NJ"
      },
      "source": [
        "def analizar(data2):\n",
        "  var = data2.columns\n",
        "  tab_control = pd.DataFrame({\"variable\":var})\n",
        "  tab_control[\"valores_unicos\"] = \"\"\n",
        "  for i in range(tab_control.shape[0]):\n",
        "    v = tab_control.loc[i,\"variable\"]\n",
        "    tab_control.loc[i, \"valores_unicos\"] = data2[v].unique()\n",
        "  tab_control[\"cantidad\"] = \"\"\n",
        "  for i in range(tab_control.shape[0]):\n",
        "    long = len(tab_control.loc[i,\"valores_unicos\"])\n",
        "    tab_control.loc[i,\"cantidad\"] = long\n",
        "  tab_control[\"tiene_nulos\"] = \"\"\n",
        "  for i in range(tab_control.shape[0]):\n",
        "    x = pd.isnull(tab_control.loc[i,\"valores_unicos\"]).sum()\n",
        "    tab_control.loc[i,\"tiene_nulos\"] = x\n",
        "  tab_control[\"cant_nulos\"] = \"\"\n",
        "  for i in range(tab_control.shape[0]):\n",
        "    if tab_control.loc[i,\"tiene_nulos\"] == 1:\n",
        "      cat = tab_control.loc[i,\"variable\"]\n",
        "      cant = data2[cat].isnull().sum()\n",
        "      tab_control.loc[i, \"cant_nulos\"] = cant\n",
        "    else:\n",
        "      tab_control.loc[i, \"cant_nulos\"] = 0\n",
        "  return tab_control"
      ],
      "execution_count": null,
      "outputs": []
    },
    {
      "cell_type": "code",
      "metadata": {
        "colab": {
          "base_uri": "https://localhost:8080/"
        },
        "id": "DACwsq7Wa1jB",
        "outputId": "af0e3c8b-3751-44f3-bda1-984fff5e7c65"
      },
      "source": [
        "data.Value.isna().sum()"
      ],
      "execution_count": null,
      "outputs": [
        {
          "output_type": "execute_result",
          "data": {
            "text/plain": [
              "0"
            ]
          },
          "metadata": {
            "tags": []
          },
          "execution_count": 2849
        }
      ]
    },
    {
      "cell_type": "code",
      "metadata": {
        "colab": {
          "base_uri": "https://localhost:8080/",
          "height": 1000
        },
        "id": "zDF7mc5aC5Xa",
        "outputId": "bf9e42c2-9efd-4c0b-f691-7dc9b05618a3"
      },
      "source": [
        "#Analisis general\n",
        "\n",
        "pd.set_option('display.max_rows', None)\n",
        "control = analizar(data).sort_values(\"cant_nulos\", ascending = False)\n",
        "control"
      ],
      "execution_count": null,
      "outputs": [
        {
          "output_type": "execute_result",
          "data": {
            "text/html": [
              "<div>\n",
              "<style scoped>\n",
              "    .dataframe tbody tr th:only-of-type {\n",
              "        vertical-align: middle;\n",
              "    }\n",
              "\n",
              "    .dataframe tbody tr th {\n",
              "        vertical-align: top;\n",
              "    }\n",
              "\n",
              "    .dataframe thead th {\n",
              "        text-align: right;\n",
              "    }\n",
              "</style>\n",
              "<table border=\"1\" class=\"dataframe\">\n",
              "  <thead>\n",
              "    <tr style=\"text-align: right;\">\n",
              "      <th></th>\n",
              "      <th>variable</th>\n",
              "      <th>valores_unicos</th>\n",
              "      <th>cantidad</th>\n",
              "      <th>tiene_nulos</th>\n",
              "      <th>cant_nulos</th>\n",
              "    </tr>\n",
              "  </thead>\n",
              "  <tbody>\n",
              "    <tr>\n",
              "      <th>0</th>\n",
              "      <td>ID</td>\n",
              "      <td>[244360, 219577, 232603, 236522, 241670, 22678...</td>\n",
              "      <td>12702</td>\n",
              "      <td>0</td>\n",
              "      <td>0</td>\n",
              "    </tr>\n",
              "    <tr>\n",
              "      <th>1</th>\n",
              "      <td>Age</td>\n",
              "      <td>[22, 26, 23, 18, 21, 24, 31, 30, 19, 34, 27, 3...</td>\n",
              "      <td>28</td>\n",
              "      <td>0</td>\n",
              "      <td>0</td>\n",
              "    </tr>\n",
              "    <tr>\n",
              "      <th>26</th>\n",
              "      <td>Reactions</td>\n",
              "      <td>[48, 59, 62, 67, 54, 66, 55, 76, 45, 63, 82, 5...</td>\n",
              "      <td>67</td>\n",
              "      <td>0</td>\n",
              "      <td>0</td>\n",
              "    </tr>\n",
              "    <tr>\n",
              "      <th>27</th>\n",
              "      <td>Balance</td>\n",
              "      <td>[55, 71, 61, 74, 67, 66, 38, 79, 80, 78, 81, 5...</td>\n",
              "      <td>81</td>\n",
              "      <td>0</td>\n",
              "      <td>0</td>\n",
              "    </tr>\n",
              "    <tr>\n",
              "      <th>28</th>\n",
              "      <td>ShotPower</td>\n",
              "      <td>[35, 51, 64, 62, 61, 48, 65, 60, 80, 43, 68, 5...</td>\n",
              "      <td>91</td>\n",
              "      <td>0</td>\n",
              "      <td>0</td>\n",
              "    </tr>\n",
              "    <tr>\n",
              "      <th>29</th>\n",
              "      <td>Jumping</td>\n",
              "      <td>[68, 71, 75, 62, 65, 61, 81, 51, 64, 72, 55, 5...</td>\n",
              "      <td>71</td>\n",
              "      <td>0</td>\n",
              "      <td>0</td>\n",
              "    </tr>\n",
              "    <tr>\n",
              "      <th>30</th>\n",
              "      <td>Stamina</td>\n",
              "      <td>[54, 62, 53, 67, 66, 76, 64, 69, 56, 72, 78, 4...</td>\n",
              "      <td>84</td>\n",
              "      <td>0</td>\n",
              "      <td>0</td>\n",
              "    </tr>\n",
              "    <tr>\n",
              "      <th>31</th>\n",
              "      <td>Strength</td>\n",
              "      <td>[77, 66, 76, 60, 67, 70, 59, 57, 72, 47, 63, 4...</td>\n",
              "      <td>74</td>\n",
              "      <td>0</td>\n",
              "      <td>0</td>\n",
              "    </tr>\n",
              "    <tr>\n",
              "      <th>32</th>\n",
              "      <td>LongShots</td>\n",
              "      <td>[19, 25, 15, 63, 52, 28, 59, 69, 56, 35, 70, 4...</td>\n",
              "      <td>91</td>\n",
              "      <td>0</td>\n",
              "      <td>0</td>\n",
              "    </tr>\n",
              "    <tr>\n",
              "      <th>33</th>\n",
              "      <td>Aggression</td>\n",
              "      <td>[64, 65, 40, 68, 60, 52, 48, 57, 63, 35, 58, 7...</td>\n",
              "      <td>84</td>\n",
              "      <td>0</td>\n",
              "      <td>0</td>\n",
              "    </tr>\n",
              "    <tr>\n",
              "      <th>34</th>\n",
              "      <td>Interceptions</td>\n",
              "      <td>[52, 61, 57, 20, 64, 68, 53, 29, 42, 47, 66, 2...</td>\n",
              "      <td>88</td>\n",
              "      <td>0</td>\n",
              "      <td>0</td>\n",
              "    </tr>\n",
              "    <tr>\n",
              "      <th>35</th>\n",
              "      <td>Positioning</td>\n",
              "      <td>[21, 26, 29, 73, 43, 64, 34, 65, 53, 79, 71, 3...</td>\n",
              "      <td>94</td>\n",
              "      <td>0</td>\n",
              "      <td>0</td>\n",
              "    </tr>\n",
              "    <tr>\n",
              "      <th>36</th>\n",
              "      <td>Vision</td>\n",
              "      <td>[35, 33, 30, 65, 64, 72, 29, 66, 51, 69, 75, 4...</td>\n",
              "      <td>85</td>\n",
              "      <td>0</td>\n",
              "      <td>0</td>\n",
              "    </tr>\n",
              "    <tr>\n",
              "      <th>37</th>\n",
              "      <td>Penalties</td>\n",
              "      <td>[37, 41, 32, 60, 44, 53, 48, 62, 51, 75, 74, 4...</td>\n",
              "      <td>87</td>\n",
              "      <td>0</td>\n",
              "      <td>0</td>\n",
              "    </tr>\n",
              "    <tr>\n",
              "      <th>38</th>\n",
              "      <td>Composure</td>\n",
              "      <td>[46, 60, 52, 50, 63, 65, 53, 64, 49, 70, 81, 3...</td>\n",
              "      <td>84</td>\n",
              "      <td>0</td>\n",
              "      <td>0</td>\n",
              "    </tr>\n",
              "    <tr>\n",
              "      <th>39</th>\n",
              "      <td>Marking</td>\n",
              "      <td>[59, 67, 23, 65, 55, 48, 63, 32, 14, 50, 54, 1...</td>\n",
              "      <td>91</td>\n",
              "      <td>0</td>\n",
              "      <td>0</td>\n",
              "    </tr>\n",
              "    <tr>\n",
              "      <th>40</th>\n",
              "      <td>StandingTackle</td>\n",
              "      <td>[62, 68, 63, 12, 73, 67, 33, 37, 32, 46, 55, 1...</td>\n",
              "      <td>88</td>\n",
              "      <td>0</td>\n",
              "      <td>0</td>\n",
              "    </tr>\n",
              "    <tr>\n",
              "      <th>41</th>\n",
              "      <td>SlidingTackle</td>\n",
              "      <td>[58, 66, 62, 13, 70, 69, 64, 21, 33, 28, 35, 5...</td>\n",
              "      <td>87</td>\n",
              "      <td>0</td>\n",
              "      <td>0</td>\n",
              "    </tr>\n",
              "    <tr>\n",
              "      <th>42</th>\n",
              "      <td>GKDiving</td>\n",
              "      <td>[9, 10, 13, 14, 7, 12, 16, 58, 6, 59, 15, 63, ...</td>\n",
              "      <td>69</td>\n",
              "      <td>0</td>\n",
              "      <td>0</td>\n",
              "    </tr>\n",
              "    <tr>\n",
              "      <th>43</th>\n",
              "      <td>GKHandling</td>\n",
              "      <td>[7, 13, 6, 8, 14, 10, 9, 15, 4, 60, 62, 11, 67...</td>\n",
              "      <td>67</td>\n",
              "      <td>0</td>\n",
              "      <td>0</td>\n",
              "    </tr>\n",
              "    <tr>\n",
              "      <th>44</th>\n",
              "      <td>GKKicking</td>\n",
              "      <td>[8, 10, 11, 7, 9, 14, 12, 15, 55, 5, 60, 58, 1...</td>\n",
              "      <td>74</td>\n",
              "      <td>0</td>\n",
              "      <td>0</td>\n",
              "    </tr>\n",
              "    <tr>\n",
              "      <th>45</th>\n",
              "      <td>GKPositioning</td>\n",
              "      <td>[7, 12, 8, 11, 15, 10, 6, 52, 62, 14, 56, 73, ...</td>\n",
              "      <td>75</td>\n",
              "      <td>0</td>\n",
              "      <td>0</td>\n",
              "    </tr>\n",
              "    <tr>\n",
              "      <th>46</th>\n",
              "      <td>GKReflexes</td>\n",
              "      <td>[10, 8, 6, 5, 9, 14, 12, 11, 13, 63, 60, 58, 7...</td>\n",
              "      <td>73</td>\n",
              "      <td>0</td>\n",
              "      <td>0</td>\n",
              "    </tr>\n",
              "    <tr>\n",
              "      <th>25</th>\n",
              "      <td>Agility</td>\n",
              "      <td>[41, 57, 38, 77, 62, 76, 32, 83, 69, 59, 65, 5...</td>\n",
              "      <td>79</td>\n",
              "      <td>0</td>\n",
              "      <td>0</td>\n",
              "    </tr>\n",
              "    <tr>\n",
              "      <th>24</th>\n",
              "      <td>SprintSpeed</td>\n",
              "      <td>[70, 65, 69, 76, 64, 77, 36, 88, 80, 71, 61, 7...</td>\n",
              "      <td>84</td>\n",
              "      <td>0</td>\n",
              "      <td>0</td>\n",
              "    </tr>\n",
              "    <tr>\n",
              "      <th>23</th>\n",
              "      <td>Acceleration</td>\n",
              "      <td>[60, 59, 65, 74, 66, 73, 50, 85, 80, 67, 58, 7...</td>\n",
              "      <td>85</td>\n",
              "      <td>0</td>\n",
              "      <td>0</td>\n",
              "    </tr>\n",
              "    <tr>\n",
              "      <th>11</th>\n",
              "      <td>Height</td>\n",
              "      <td>[6'2, 6'1, 6'0, 5'6, 6'4, 5'7, 5'9, 5'10, 5'8,...</td>\n",
              "      <td>21</td>\n",
              "      <td>0</td>\n",
              "      <td>0</td>\n",
              "    </tr>\n",
              "    <tr>\n",
              "      <th>2</th>\n",
              "      <td>Value</td>\n",
              "      <td>[190K, 500K, 290K, 3.7M, 1.9M, 8.5M, 375K, 2.4...</td>\n",
              "      <td>204</td>\n",
              "      <td>0</td>\n",
              "      <td>0</td>\n",
              "    </tr>\n",
              "    <tr>\n",
              "      <th>3</th>\n",
              "      <td>Wage</td>\n",
              "      <td>[1K, 2K, 12K, 15K, 5K, 0, 20K, 13K, 160K, 11K,...</td>\n",
              "      <td>138</td>\n",
              "      <td>0</td>\n",
              "      <td>0</td>\n",
              "    </tr>\n",
              "    <tr>\n",
              "      <th>4</th>\n",
              "      <td>Special</td>\n",
              "      <td>[1261, 1449, 1282, 1627, 1785, 1955, 1356, 181...</td>\n",
              "      <td>1382</td>\n",
              "      <td>0</td>\n",
              "      <td>0</td>\n",
              "    </tr>\n",
              "    <tr>\n",
              "      <th>5</th>\n",
              "      <td>Preferred Foot</td>\n",
              "      <td>[Right, Left]</td>\n",
              "      <td>2</td>\n",
              "      <td>0</td>\n",
              "      <td>0</td>\n",
              "    </tr>\n",
              "    <tr>\n",
              "      <th>6</th>\n",
              "      <td>Weak Foot</td>\n",
              "      <td>[3, 2, 4, 5, 1]</td>\n",
              "      <td>5</td>\n",
              "      <td>0</td>\n",
              "      <td>0</td>\n",
              "    </tr>\n",
              "    <tr>\n",
              "      <th>7</th>\n",
              "      <td>Skill Moves</td>\n",
              "      <td>[2, 3, 4, 1, 5]</td>\n",
              "      <td>5</td>\n",
              "      <td>0</td>\n",
              "      <td>0</td>\n",
              "    </tr>\n",
              "    <tr>\n",
              "      <th>8</th>\n",
              "      <td>Work Rate</td>\n",
              "      <td>[Medium/ Medium, Medium/ High, Low/ High, High...</td>\n",
              "      <td>9</td>\n",
              "      <td>0</td>\n",
              "      <td>0</td>\n",
              "    </tr>\n",
              "    <tr>\n",
              "      <th>9</th>\n",
              "      <td>Body Type</td>\n",
              "      <td>[Lean, Normal, Stocky, Shaqiri, Messi, Courtoi...</td>\n",
              "      <td>10</td>\n",
              "      <td>0</td>\n",
              "      <td>0</td>\n",
              "    </tr>\n",
              "    <tr>\n",
              "      <th>10</th>\n",
              "      <td>Jersey Number</td>\n",
              "      <td>[2, 13, 23, 99, 6, 10, 31, 9, 38, 8, 35, 22, 4...</td>\n",
              "      <td>99</td>\n",
              "      <td>0</td>\n",
              "      <td>0</td>\n",
              "    </tr>\n",
              "    <tr>\n",
              "      <th>12</th>\n",
              "      <td>Weight</td>\n",
              "      <td>[161lbs, 172lbs, 165lbs, 159lbs, 170lbs, 157lb...</td>\n",
              "      <td>56</td>\n",
              "      <td>0</td>\n",
              "      <td>0</td>\n",
              "    </tr>\n",
              "    <tr>\n",
              "      <th>22</th>\n",
              "      <td>BallControl</td>\n",
              "      <td>[43, 44, 31, 72, 73, 76, 45, 74, 64, 66, 48, 6...</td>\n",
              "      <td>90</td>\n",
              "      <td>0</td>\n",
              "      <td>0</td>\n",
              "    </tr>\n",
              "    <tr>\n",
              "      <th>13</th>\n",
              "      <td>Crossing</td>\n",
              "      <td>[26, 39, 28, 65, 57, 73, 31, 52, 55, 67, 72, 3...</td>\n",
              "      <td>88</td>\n",
              "      <td>0</td>\n",
              "      <td>0</td>\n",
              "    </tr>\n",
              "    <tr>\n",
              "      <th>14</th>\n",
              "      <td>Finishing</td>\n",
              "      <td>[26, 21, 20, 66, 45, 61, 27, 67, 60, 76, 64, 3...</td>\n",
              "      <td>93</td>\n",
              "      <td>0</td>\n",
              "      <td>0</td>\n",
              "    </tr>\n",
              "    <tr>\n",
              "      <th>15</th>\n",
              "      <td>HeadingAccuracy</td>\n",
              "      <td>[45, 61, 56, 53, 64, 67, 62, 42, 69, 46, 48, 5...</td>\n",
              "      <td>89</td>\n",
              "      <td>0</td>\n",
              "      <td>0</td>\n",
              "    </tr>\n",
              "    <tr>\n",
              "      <th>16</th>\n",
              "      <td>ShortPassing</td>\n",
              "      <td>[30, 49, 42, 69, 77, 63, 66, 73, 56, 67, 59, 6...</td>\n",
              "      <td>85</td>\n",
              "      <td>0</td>\n",
              "      <td>0</td>\n",
              "    </tr>\n",
              "    <tr>\n",
              "      <th>17</th>\n",
              "      <td>Volleys</td>\n",
              "      <td>[30, 37, 23, 45, 59, 52, 32, 64, 48, 70, 68, 2...</td>\n",
              "      <td>87</td>\n",
              "      <td>0</td>\n",
              "      <td>0</td>\n",
              "    </tr>\n",
              "    <tr>\n",
              "      <th>18</th>\n",
              "      <td>Dribbling</td>\n",
              "      <td>[32, 30, 25, 73, 61, 78, 35, 74, 63, 62, 71, 4...</td>\n",
              "      <td>92</td>\n",
              "      <td>0</td>\n",
              "      <td>0</td>\n",
              "    </tr>\n",
              "    <tr>\n",
              "      <th>19</th>\n",
              "      <td>Curve</td>\n",
              "      <td>[22, 38, 29, 48, 58, 64, 69, 46, 68, 73, 31, 6...</td>\n",
              "      <td>88</td>\n",
              "      <td>0</td>\n",
              "      <td>0</td>\n",
              "    </tr>\n",
              "    <tr>\n",
              "      <th>20</th>\n",
              "      <td>FKAccuracy</td>\n",
              "      <td>[23, 29, 45, 40, 66, 34, 60, 63, 71, 36, 57, 6...</td>\n",
              "      <td>88</td>\n",
              "      <td>0</td>\n",
              "      <td>0</td>\n",
              "    </tr>\n",
              "    <tr>\n",
              "      <th>21</th>\n",
              "      <td>LongPassing</td>\n",
              "      <td>[28, 40, 29, 63, 75, 38, 57, 58, 52, 61, 47, 6...</td>\n",
              "      <td>84</td>\n",
              "      <td>0</td>\n",
              "      <td>0</td>\n",
              "    </tr>\n",
              "    <tr>\n",
              "      <th>47</th>\n",
              "      <td>Position</td>\n",
              "      <td>[DEF, MID, FWD, GK]</td>\n",
              "      <td>4</td>\n",
              "      <td>0</td>\n",
              "      <td>0</td>\n",
              "    </tr>\n",
              "  </tbody>\n",
              "</table>\n",
              "</div>"
            ],
            "text/plain": [
              "           variable  ... cant_nulos\n",
              "0                ID  ...          0\n",
              "1               Age  ...          0\n",
              "26        Reactions  ...          0\n",
              "27          Balance  ...          0\n",
              "28        ShotPower  ...          0\n",
              "29          Jumping  ...          0\n",
              "30          Stamina  ...          0\n",
              "31         Strength  ...          0\n",
              "32        LongShots  ...          0\n",
              "33       Aggression  ...          0\n",
              "34    Interceptions  ...          0\n",
              "35      Positioning  ...          0\n",
              "36           Vision  ...          0\n",
              "37        Penalties  ...          0\n",
              "38        Composure  ...          0\n",
              "39          Marking  ...          0\n",
              "40   StandingTackle  ...          0\n",
              "41    SlidingTackle  ...          0\n",
              "42         GKDiving  ...          0\n",
              "43       GKHandling  ...          0\n",
              "44        GKKicking  ...          0\n",
              "45    GKPositioning  ...          0\n",
              "46       GKReflexes  ...          0\n",
              "25          Agility  ...          0\n",
              "24      SprintSpeed  ...          0\n",
              "23     Acceleration  ...          0\n",
              "11           Height  ...          0\n",
              "2             Value  ...          0\n",
              "3              Wage  ...          0\n",
              "4           Special  ...          0\n",
              "5    Preferred Foot  ...          0\n",
              "6         Weak Foot  ...          0\n",
              "7       Skill Moves  ...          0\n",
              "8         Work Rate  ...          0\n",
              "9         Body Type  ...          0\n",
              "10    Jersey Number  ...          0\n",
              "12           Weight  ...          0\n",
              "22      BallControl  ...          0\n",
              "13         Crossing  ...          0\n",
              "14        Finishing  ...          0\n",
              "15  HeadingAccuracy  ...          0\n",
              "16     ShortPassing  ...          0\n",
              "17          Volleys  ...          0\n",
              "18        Dribbling  ...          0\n",
              "19            Curve  ...          0\n",
              "20       FKAccuracy  ...          0\n",
              "21      LongPassing  ...          0\n",
              "47         Position  ...          0\n",
              "\n",
              "[48 rows x 5 columns]"
            ]
          },
          "metadata": {
            "tags": []
          },
          "execution_count": 2850
        }
      ]
    },
    {
      "cell_type": "code",
      "metadata": {
        "colab": {
          "base_uri": "https://localhost:8080/"
        },
        "id": "tkudFP3vJCM6",
        "outputId": "fc6c49f6-35e2-4b8b-affc-1bfa639ab6b8"
      },
      "source": [
        "#Tipos de datos, los objetos deberan pasarse a float o int.\n",
        "data.dtypes"
      ],
      "execution_count": null,
      "outputs": [
        {
          "output_type": "execute_result",
          "data": {
            "text/plain": [
              "ID                  int64\n",
              "Age                 int64\n",
              "Value              object\n",
              "Wage               object\n",
              "Special             int64\n",
              "Preferred Foot     object\n",
              "Weak Foot           int64\n",
              "Skill Moves         int64\n",
              "Work Rate          object\n",
              "Body Type          object\n",
              "Jersey Number       int64\n",
              "Height             object\n",
              "Weight             object\n",
              "Crossing            int64\n",
              "Finishing           int64\n",
              "HeadingAccuracy     int64\n",
              "ShortPassing        int64\n",
              "Volleys             int64\n",
              "Dribbling           int64\n",
              "Curve               int64\n",
              "FKAccuracy          int64\n",
              "LongPassing         int64\n",
              "BallControl         int64\n",
              "Acceleration        int64\n",
              "SprintSpeed         int64\n",
              "Agility             int64\n",
              "Reactions           int64\n",
              "Balance             int64\n",
              "ShotPower           int64\n",
              "Jumping             int64\n",
              "Stamina             int64\n",
              "Strength            int64\n",
              "LongShots           int64\n",
              "Aggression          int64\n",
              "Interceptions       int64\n",
              "Positioning         int64\n",
              "Vision              int64\n",
              "Penalties           int64\n",
              "Composure           int64\n",
              "Marking             int64\n",
              "StandingTackle      int64\n",
              "SlidingTackle       int64\n",
              "GKDiving            int64\n",
              "GKHandling          int64\n",
              "GKKicking           int64\n",
              "GKPositioning       int64\n",
              "GKReflexes          int64\n",
              "Position           object\n",
              "dtype: object"
            ]
          },
          "metadata": {
            "tags": []
          },
          "execution_count": 2851
        }
      ]
    },
    {
      "cell_type": "code",
      "metadata": {
        "id": "ZWOtyBQNGD3S"
      },
      "source": [
        "pd.reset_option(\"display.max_rows\")"
      ],
      "execution_count": null,
      "outputs": []
    },
    {
      "cell_type": "code",
      "metadata": {
        "id": "Y0ZgWhqzJ_Sa"
      },
      "source": [
        "def value_to_float(x):\n",
        "    if 'K' in x:\n",
        "        if len(x) > 1:\n",
        "            return float(x.replace('K', '')) * 1000\n",
        "        return 1000.0\n",
        "    if 'M' in x:\n",
        "        if len(x) > 1:\n",
        "            return float(x.replace('M', '')) * 1000000\n",
        "        return 1000000.0\n",
        "\n",
        "def weight_to_float(x):\n",
        "  return float(x.replace('lbs', ''))\n",
        "\n",
        "\n",
        "def height_to_float(x):\n",
        "  return float(x.replace(\"'\", '.'))"
      ],
      "execution_count": null,
      "outputs": []
    },
    {
      "cell_type": "code",
      "metadata": {
        "id": "8OtAHfjuKgYq",
        "colab": {
          "base_uri": "https://localhost:8080/",
          "height": 204
        },
        "outputId": "4f8ddd4f-be10-447d-deb4-24fead184bfe"
      },
      "source": [
        "#Transformar a float las columnas Value y Wage que tenian abreviacion con K y M (strings)\n",
        "data['Value'] = data['Value'].apply(value_to_float)\n",
        "data['Wage'] = data['Wage'].apply(value_to_float)\n",
        "\n",
        "#Transformar Wight y Height a float (eran strings)\n",
        "data['Weight'] = data['Weight'].apply(weight_to_float)\n",
        "data['Height'] = data['Height'].apply(height_to_float)\n",
        "\n",
        "#Divido la columna Work Rate en AttackRate y DefenseRate, asigno numeros a las categorias.\n",
        "data[['AttackRate', 'DefenseRate']] = data['Work Rate'].str.split('/', 1, expand=True)\n",
        "data.DefenseRate = data.DefenseRate.str.strip()\n",
        "data.AttackRate.replace({\"Low\":1, \"Medium\":2, \"High\":3}, inplace = True)\n",
        "data.DefenseRate.replace({\"Low\":1, \"Medium\":2, \"High\":3}, inplace = True)\n",
        "data.DefenseRate = data.DefenseRate.apply(lambda x: int(x))\n",
        "data.AttackRate = data.AttackRate.apply(lambda x: int(x))\n",
        "data.loc[:,[\"Work Rate\", \"AttackRate\", \"DefenseRate\"]].head(5)"
      ],
      "execution_count": null,
      "outputs": [
        {
          "output_type": "execute_result",
          "data": {
            "text/html": [
              "<div>\n",
              "<style scoped>\n",
              "    .dataframe tbody tr th:only-of-type {\n",
              "        vertical-align: middle;\n",
              "    }\n",
              "\n",
              "    .dataframe tbody tr th {\n",
              "        vertical-align: top;\n",
              "    }\n",
              "\n",
              "    .dataframe thead th {\n",
              "        text-align: right;\n",
              "    }\n",
              "</style>\n",
              "<table border=\"1\" class=\"dataframe\">\n",
              "  <thead>\n",
              "    <tr style=\"text-align: right;\">\n",
              "      <th></th>\n",
              "      <th>Work Rate</th>\n",
              "      <th>AttackRate</th>\n",
              "      <th>DefenseRate</th>\n",
              "    </tr>\n",
              "  </thead>\n",
              "  <tbody>\n",
              "    <tr>\n",
              "      <th>0</th>\n",
              "      <td>Medium/ Medium</td>\n",
              "      <td>2</td>\n",
              "      <td>2</td>\n",
              "    </tr>\n",
              "    <tr>\n",
              "      <th>1</th>\n",
              "      <td>Medium/ Medium</td>\n",
              "      <td>2</td>\n",
              "      <td>2</td>\n",
              "    </tr>\n",
              "    <tr>\n",
              "      <th>2</th>\n",
              "      <td>Medium/ High</td>\n",
              "      <td>2</td>\n",
              "      <td>3</td>\n",
              "    </tr>\n",
              "    <tr>\n",
              "      <th>3</th>\n",
              "      <td>Medium/ Medium</td>\n",
              "      <td>2</td>\n",
              "      <td>2</td>\n",
              "    </tr>\n",
              "    <tr>\n",
              "      <th>4</th>\n",
              "      <td>Low/ High</td>\n",
              "      <td>1</td>\n",
              "      <td>3</td>\n",
              "    </tr>\n",
              "  </tbody>\n",
              "</table>\n",
              "</div>"
            ],
            "text/plain": [
              "        Work Rate  AttackRate  DefenseRate\n",
              "0  Medium/ Medium           2            2\n",
              "1  Medium/ Medium           2            2\n",
              "2    Medium/ High           2            3\n",
              "3  Medium/ Medium           2            2\n",
              "4       Low/ High           1            3"
            ]
          },
          "metadata": {
            "tags": []
          },
          "execution_count": 2854
        }
      ]
    },
    {
      "cell_type": "code",
      "metadata": {
        "id": "CLVDLy4Mc-TT"
      },
      "source": [
        "data.drop(\"Work Rate\", axis = 1, inplace = True) #Ahora sí, elimino la columna Work Rate"
      ],
      "execution_count": null,
      "outputs": []
    },
    {
      "cell_type": "code",
      "metadata": {
        "id": "rhx0I7XfhQqD"
      },
      "source": [
        "#Ciertos jugadores tienen un Body Type su propio valor (igual a su nombre), estos casos se reemplaza por la moda.\n",
        "lista = ['Shaqiri', 'Messi', 'Courtois','Akinfenwa', 'PLAYER_BODY_TYPE_25', 'C. Ronaldo', 'Neymar']\n",
        "data[\"Body Type\"] = np.where(data[\"Body Type\"].isin(lista), data[\"Body Type\"].mode()[0], data[\"Body Type\"])\n",
        "#Paso a variable dummie\n",
        "data = pd.get_dummies(data, columns = ['Body Type', 'Preferred Foot'])"
      ],
      "execution_count": null,
      "outputs": []
    },
    {
      "cell_type": "code",
      "metadata": {
        "colab": {
          "base_uri": "https://localhost:8080/",
          "height": 241
        },
        "id": "WevRdhvZjDFz",
        "outputId": "f375c5a5-be38-4749-d471-8a04c4bc3e68"
      },
      "source": [
        "data.head(5)"
      ],
      "execution_count": null,
      "outputs": [
        {
          "output_type": "execute_result",
          "data": {
            "text/html": [
              "<div>\n",
              "<style scoped>\n",
              "    .dataframe tbody tr th:only-of-type {\n",
              "        vertical-align: middle;\n",
              "    }\n",
              "\n",
              "    .dataframe tbody tr th {\n",
              "        vertical-align: top;\n",
              "    }\n",
              "\n",
              "    .dataframe thead th {\n",
              "        text-align: right;\n",
              "    }\n",
              "</style>\n",
              "<table border=\"1\" class=\"dataframe\">\n",
              "  <thead>\n",
              "    <tr style=\"text-align: right;\">\n",
              "      <th></th>\n",
              "      <th>ID</th>\n",
              "      <th>Age</th>\n",
              "      <th>Value</th>\n",
              "      <th>Wage</th>\n",
              "      <th>Special</th>\n",
              "      <th>Weak Foot</th>\n",
              "      <th>Skill Moves</th>\n",
              "      <th>Jersey Number</th>\n",
              "      <th>Height</th>\n",
              "      <th>Weight</th>\n",
              "      <th>Crossing</th>\n",
              "      <th>Finishing</th>\n",
              "      <th>HeadingAccuracy</th>\n",
              "      <th>ShortPassing</th>\n",
              "      <th>Volleys</th>\n",
              "      <th>Dribbling</th>\n",
              "      <th>Curve</th>\n",
              "      <th>FKAccuracy</th>\n",
              "      <th>LongPassing</th>\n",
              "      <th>BallControl</th>\n",
              "      <th>Acceleration</th>\n",
              "      <th>SprintSpeed</th>\n",
              "      <th>Agility</th>\n",
              "      <th>Reactions</th>\n",
              "      <th>Balance</th>\n",
              "      <th>ShotPower</th>\n",
              "      <th>Jumping</th>\n",
              "      <th>Stamina</th>\n",
              "      <th>Strength</th>\n",
              "      <th>LongShots</th>\n",
              "      <th>Aggression</th>\n",
              "      <th>Interceptions</th>\n",
              "      <th>Positioning</th>\n",
              "      <th>Vision</th>\n",
              "      <th>Penalties</th>\n",
              "      <th>Composure</th>\n",
              "      <th>Marking</th>\n",
              "      <th>StandingTackle</th>\n",
              "      <th>SlidingTackle</th>\n",
              "      <th>GKDiving</th>\n",
              "      <th>GKHandling</th>\n",
              "      <th>GKKicking</th>\n",
              "      <th>GKPositioning</th>\n",
              "      <th>GKReflexes</th>\n",
              "      <th>Position</th>\n",
              "      <th>AttackRate</th>\n",
              "      <th>DefenseRate</th>\n",
              "      <th>Body Type_Lean</th>\n",
              "      <th>Body Type_Normal</th>\n",
              "      <th>Body Type_Stocky</th>\n",
              "      <th>Preferred Foot_Left</th>\n",
              "      <th>Preferred Foot_Right</th>\n",
              "    </tr>\n",
              "  </thead>\n",
              "  <tbody>\n",
              "    <tr>\n",
              "      <th>0</th>\n",
              "      <td>244360</td>\n",
              "      <td>22</td>\n",
              "      <td>190000.0</td>\n",
              "      <td>1000.0</td>\n",
              "      <td>1261</td>\n",
              "      <td>3</td>\n",
              "      <td>2</td>\n",
              "      <td>2</td>\n",
              "      <td>6.2</td>\n",
              "      <td>161.0</td>\n",
              "      <td>26</td>\n",
              "      <td>26</td>\n",
              "      <td>45</td>\n",
              "      <td>30</td>\n",
              "      <td>30</td>\n",
              "      <td>32</td>\n",
              "      <td>22</td>\n",
              "      <td>23</td>\n",
              "      <td>28</td>\n",
              "      <td>43</td>\n",
              "      <td>60</td>\n",
              "      <td>70</td>\n",
              "      <td>41</td>\n",
              "      <td>48</td>\n",
              "      <td>55</td>\n",
              "      <td>35</td>\n",
              "      <td>68</td>\n",
              "      <td>54</td>\n",
              "      <td>77</td>\n",
              "      <td>19</td>\n",
              "      <td>64</td>\n",
              "      <td>52</td>\n",
              "      <td>21</td>\n",
              "      <td>35</td>\n",
              "      <td>37</td>\n",
              "      <td>46</td>\n",
              "      <td>59</td>\n",
              "      <td>62</td>\n",
              "      <td>58</td>\n",
              "      <td>9</td>\n",
              "      <td>7</td>\n",
              "      <td>8</td>\n",
              "      <td>7</td>\n",
              "      <td>10</td>\n",
              "      <td>DEF</td>\n",
              "      <td>2</td>\n",
              "      <td>2</td>\n",
              "      <td>1</td>\n",
              "      <td>0</td>\n",
              "      <td>0</td>\n",
              "      <td>0</td>\n",
              "      <td>1</td>\n",
              "    </tr>\n",
              "    <tr>\n",
              "      <th>1</th>\n",
              "      <td>219577</td>\n",
              "      <td>26</td>\n",
              "      <td>500000.0</td>\n",
              "      <td>1000.0</td>\n",
              "      <td>1449</td>\n",
              "      <td>2</td>\n",
              "      <td>2</td>\n",
              "      <td>13</td>\n",
              "      <td>6.1</td>\n",
              "      <td>172.0</td>\n",
              "      <td>39</td>\n",
              "      <td>21</td>\n",
              "      <td>61</td>\n",
              "      <td>49</td>\n",
              "      <td>37</td>\n",
              "      <td>30</td>\n",
              "      <td>38</td>\n",
              "      <td>29</td>\n",
              "      <td>40</td>\n",
              "      <td>44</td>\n",
              "      <td>59</td>\n",
              "      <td>65</td>\n",
              "      <td>57</td>\n",
              "      <td>59</td>\n",
              "      <td>71</td>\n",
              "      <td>51</td>\n",
              "      <td>71</td>\n",
              "      <td>62</td>\n",
              "      <td>66</td>\n",
              "      <td>25</td>\n",
              "      <td>65</td>\n",
              "      <td>61</td>\n",
              "      <td>26</td>\n",
              "      <td>33</td>\n",
              "      <td>41</td>\n",
              "      <td>60</td>\n",
              "      <td>67</td>\n",
              "      <td>68</td>\n",
              "      <td>66</td>\n",
              "      <td>10</td>\n",
              "      <td>13</td>\n",
              "      <td>10</td>\n",
              "      <td>7</td>\n",
              "      <td>8</td>\n",
              "      <td>DEF</td>\n",
              "      <td>2</td>\n",
              "      <td>2</td>\n",
              "      <td>1</td>\n",
              "      <td>0</td>\n",
              "      <td>0</td>\n",
              "      <td>0</td>\n",
              "      <td>1</td>\n",
              "    </tr>\n",
              "    <tr>\n",
              "      <th>2</th>\n",
              "      <td>232603</td>\n",
              "      <td>23</td>\n",
              "      <td>290000.0</td>\n",
              "      <td>2000.0</td>\n",
              "      <td>1282</td>\n",
              "      <td>2</td>\n",
              "      <td>2</td>\n",
              "      <td>23</td>\n",
              "      <td>6.0</td>\n",
              "      <td>165.0</td>\n",
              "      <td>28</td>\n",
              "      <td>20</td>\n",
              "      <td>56</td>\n",
              "      <td>42</td>\n",
              "      <td>23</td>\n",
              "      <td>25</td>\n",
              "      <td>29</td>\n",
              "      <td>23</td>\n",
              "      <td>29</td>\n",
              "      <td>31</td>\n",
              "      <td>65</td>\n",
              "      <td>69</td>\n",
              "      <td>38</td>\n",
              "      <td>48</td>\n",
              "      <td>61</td>\n",
              "      <td>35</td>\n",
              "      <td>75</td>\n",
              "      <td>53</td>\n",
              "      <td>76</td>\n",
              "      <td>15</td>\n",
              "      <td>64</td>\n",
              "      <td>57</td>\n",
              "      <td>29</td>\n",
              "      <td>30</td>\n",
              "      <td>32</td>\n",
              "      <td>52</td>\n",
              "      <td>59</td>\n",
              "      <td>63</td>\n",
              "      <td>62</td>\n",
              "      <td>13</td>\n",
              "      <td>6</td>\n",
              "      <td>8</td>\n",
              "      <td>12</td>\n",
              "      <td>6</td>\n",
              "      <td>DEF</td>\n",
              "      <td>2</td>\n",
              "      <td>3</td>\n",
              "      <td>0</td>\n",
              "      <td>1</td>\n",
              "      <td>0</td>\n",
              "      <td>0</td>\n",
              "      <td>1</td>\n",
              "    </tr>\n",
              "    <tr>\n",
              "      <th>3</th>\n",
              "      <td>236522</td>\n",
              "      <td>18</td>\n",
              "      <td>3700000.0</td>\n",
              "      <td>12000.0</td>\n",
              "      <td>1627</td>\n",
              "      <td>3</td>\n",
              "      <td>3</td>\n",
              "      <td>99</td>\n",
              "      <td>5.6</td>\n",
              "      <td>159.0</td>\n",
              "      <td>65</td>\n",
              "      <td>66</td>\n",
              "      <td>53</td>\n",
              "      <td>69</td>\n",
              "      <td>45</td>\n",
              "      <td>73</td>\n",
              "      <td>48</td>\n",
              "      <td>45</td>\n",
              "      <td>63</td>\n",
              "      <td>72</td>\n",
              "      <td>74</td>\n",
              "      <td>76</td>\n",
              "      <td>77</td>\n",
              "      <td>62</td>\n",
              "      <td>74</td>\n",
              "      <td>64</td>\n",
              "      <td>62</td>\n",
              "      <td>67</td>\n",
              "      <td>60</td>\n",
              "      <td>63</td>\n",
              "      <td>40</td>\n",
              "      <td>20</td>\n",
              "      <td>73</td>\n",
              "      <td>65</td>\n",
              "      <td>60</td>\n",
              "      <td>50</td>\n",
              "      <td>23</td>\n",
              "      <td>12</td>\n",
              "      <td>13</td>\n",
              "      <td>14</td>\n",
              "      <td>6</td>\n",
              "      <td>10</td>\n",
              "      <td>8</td>\n",
              "      <td>5</td>\n",
              "      <td>MID</td>\n",
              "      <td>2</td>\n",
              "      <td>2</td>\n",
              "      <td>0</td>\n",
              "      <td>1</td>\n",
              "      <td>0</td>\n",
              "      <td>1</td>\n",
              "      <td>0</td>\n",
              "    </tr>\n",
              "    <tr>\n",
              "      <th>4</th>\n",
              "      <td>241670</td>\n",
              "      <td>26</td>\n",
              "      <td>1900000.0</td>\n",
              "      <td>15000.0</td>\n",
              "      <td>1785</td>\n",
              "      <td>3</td>\n",
              "      <td>2</td>\n",
              "      <td>6</td>\n",
              "      <td>6.1</td>\n",
              "      <td>170.0</td>\n",
              "      <td>57</td>\n",
              "      <td>45</td>\n",
              "      <td>64</td>\n",
              "      <td>77</td>\n",
              "      <td>59</td>\n",
              "      <td>61</td>\n",
              "      <td>58</td>\n",
              "      <td>40</td>\n",
              "      <td>75</td>\n",
              "      <td>73</td>\n",
              "      <td>66</td>\n",
              "      <td>64</td>\n",
              "      <td>62</td>\n",
              "      <td>62</td>\n",
              "      <td>67</td>\n",
              "      <td>62</td>\n",
              "      <td>65</td>\n",
              "      <td>66</td>\n",
              "      <td>67</td>\n",
              "      <td>63</td>\n",
              "      <td>64</td>\n",
              "      <td>64</td>\n",
              "      <td>43</td>\n",
              "      <td>64</td>\n",
              "      <td>44</td>\n",
              "      <td>63</td>\n",
              "      <td>65</td>\n",
              "      <td>73</td>\n",
              "      <td>70</td>\n",
              "      <td>7</td>\n",
              "      <td>8</td>\n",
              "      <td>10</td>\n",
              "      <td>11</td>\n",
              "      <td>9</td>\n",
              "      <td>MID</td>\n",
              "      <td>1</td>\n",
              "      <td>3</td>\n",
              "      <td>1</td>\n",
              "      <td>0</td>\n",
              "      <td>0</td>\n",
              "      <td>0</td>\n",
              "      <td>1</td>\n",
              "    </tr>\n",
              "  </tbody>\n",
              "</table>\n",
              "</div>"
            ],
            "text/plain": [
              "       ID  Age  ...  Preferred Foot_Left  Preferred Foot_Right\n",
              "0  244360   22  ...                    0                     1\n",
              "1  219577   26  ...                    0                     1\n",
              "2  232603   23  ...                    0                     1\n",
              "3  236522   18  ...                    1                     0\n",
              "4  241670   26  ...                    0                     1\n",
              "\n",
              "[5 rows x 52 columns]"
            ]
          },
          "metadata": {
            "tags": []
          },
          "execution_count": 2857
        }
      ]
    },
    {
      "cell_type": "code",
      "metadata": {
        "colab": {
          "base_uri": "https://localhost:8080/"
        },
        "id": "UV_k4mepakOS",
        "outputId": "51115894-b1d2-4872-dec5-18a1cb0b6f3d"
      },
      "source": [
        "data.Value.isna().sum() #Habia valores igual a cero en Value y Wage"
      ],
      "execution_count": null,
      "outputs": [
        {
          "output_type": "execute_result",
          "data": {
            "text/plain": [
              "164"
            ]
          },
          "metadata": {
            "tags": []
          },
          "execution_count": 2858
        }
      ]
    },
    {
      "cell_type": "code",
      "metadata": {
        "colab": {
          "base_uri": "https://localhost:8080/"
        },
        "id": "Berlr1Bjdj30",
        "outputId": "2de29b08-f47d-46a1-b300-b0f6e91129ab"
      },
      "source": [
        "data.Wage.isna().sum()"
      ],
      "execution_count": null,
      "outputs": [
        {
          "output_type": "execute_result",
          "data": {
            "text/plain": [
              "158"
            ]
          },
          "metadata": {
            "tags": []
          },
          "execution_count": 2859
        }
      ]
    },
    {
      "cell_type": "code",
      "metadata": {
        "id": "7pE2wrktl1-3",
        "colab": {
          "base_uri": "https://localhost:8080/"
        },
        "outputId": "28b920cc-18d6-46de-8667-d05c44418cb1"
      },
      "source": [
        "data.fillna(data.loc[:,[\"Value\", \"Wage\"]].mean(), inplace= True) #Remplazo nulos por la media\n",
        "data.columns"
      ],
      "execution_count": null,
      "outputs": [
        {
          "output_type": "execute_result",
          "data": {
            "text/plain": [
              "Index(['ID', 'Age', 'Value', 'Wage', 'Special', 'Weak Foot', 'Skill Moves',\n",
              "       'Jersey Number', 'Height', 'Weight', 'Crossing', 'Finishing',\n",
              "       'HeadingAccuracy', 'ShortPassing', 'Volleys', 'Dribbling', 'Curve',\n",
              "       'FKAccuracy', 'LongPassing', 'BallControl', 'Acceleration',\n",
              "       'SprintSpeed', 'Agility', 'Reactions', 'Balance', 'ShotPower',\n",
              "       'Jumping', 'Stamina', 'Strength', 'LongShots', 'Aggression',\n",
              "       'Interceptions', 'Positioning', 'Vision', 'Penalties', 'Composure',\n",
              "       'Marking', 'StandingTackle', 'SlidingTackle', 'GKDiving', 'GKHandling',\n",
              "       'GKKicking', 'GKPositioning', 'GKReflexes', 'Position', 'AttackRate',\n",
              "       'DefenseRate', 'Body Type_Lean', 'Body Type_Normal', 'Body Type_Stocky',\n",
              "       'Preferred Foot_Left', 'Preferred Foot_Right'],\n",
              "      dtype='object')"
            ]
          },
          "metadata": {
            "tags": []
          },
          "execution_count": 2860
        }
      ]
    },
    {
      "cell_type": "markdown",
      "metadata": {
        "id": "ug7GYxcmkHd8"
      },
      "source": [
        "# **Visualizacion de datos**"
      ]
    },
    {
      "cell_type": "code",
      "metadata": {
        "colab": {
          "base_uri": "https://localhost:8080/",
          "height": 995
        },
        "id": "m39Gp8IlriXS",
        "outputId": "bf5a9fc3-c198-4991-ade8-0a1cbdb9af53"
      },
      "source": [
        "df = data\n",
        "f = plt.figure(figsize=(19, 15))\n",
        "plt.matshow(df.corr(), fignum=f.number)\n",
        "plt.xticks(range(df.select_dtypes(['number']).shape[1]), df.select_dtypes(['number']).columns, fontsize=14, rotation=45)\n",
        "plt.yticks(range(df.select_dtypes(['number']).shape[1]), df.select_dtypes(['number']).columns, fontsize=14)\n",
        "cb = plt.colorbar()\n",
        "cb.ax.tick_params(labelsize=14)\n",
        "plt.title('Correlation Matrix', fontsize=16);"
      ],
      "execution_count": null,
      "outputs": [
        {
          "output_type": "display_data",
          "data": {
            "image/png": "[encoded data removed]",
            "text/plain": [
              "<Figure size 1368x1080 with 2 Axes>"
            ]
          },
          "metadata": {
            "tags": [],
            "needs_background": "light"
          }
        }
      ]
    },
    {
      "cell_type": "code",
      "metadata": {
        "id": "Atz-BfvWBHUr"
      },
      "source": [
        "variable = \"Crossing\""
      ],
      "execution_count": null,
      "outputs": []
    },
    {
      "cell_type": "code",
      "metadata": {
        "colab": {
          "base_uri": "https://localhost:8080/",
          "height": 542
        },
        "id": "CeyZCFQKgmlr",
        "outputId": "85122dae-5abb-493b-c34b-23f8cbd550a1"
      },
      "source": [
        "px.histogram(data_frame = data, x = variable, facet_col = \"Position\", histnorm='probability density' )"
      ],
      "execution_count": null,
      "outputs": [
        {
          "output_type": "display_data",
          "data": {
            "text/html": [
              "<html>\n",
              "<head><meta charset=\"utf-8\" /></head>\n",
              "<body>\n",
              "    <div>\n",
              "            <script src=\"https://cdnjs.cloudflare.com/ajax/libs/mathjax/2.7.5/MathJax.js?config=TeX-AMS-MML_SVG\"></script><script type=\"text/javascript\">if (window.MathJax) {MathJax.Hub.Config({SVG: {font: \"STIX-Web\"}});}</script>\n",
              "                <script type=\"text/javascript\">window.PlotlyConfig = {MathJaxConfig: 'local'};</script>\n",
              "        <script src=\"https://cdn.plot.ly/plotly-latest.min.js\"></script>    \n",
              "            <div id=\"a731f8ee-4267-4369-9a2d-6234cb81e976\" class=\"plotly-graph-div\" style=\"height:525px; width:100%;\"></div>\n",
              "            <script type=\"text/javascript\">\n",
              "                \n",
              "                    window.PLOTLYENV=window.PLOTLYENV || {};\n",
              "                    \n",
              "                if (document.getElementById(\"a731f8ee-4267-4369-9a2d-6234cb81e976\")) {\n",
              "                    Plotly.newPlot(\n",
              "                        'a731f8ee-4267-4369-9a2d-6234cb81e976',\n",
              "                        [{\"alignmentgroup\": \"True\", \"bingroup\": \"x\", \"histnorm\": \"probability density\", \"hoverlabel\": {\"namelength\": 0}, \"hovertemplate\": \"Position=DEF<br>Crossing=%{x}<br>count=%{y}\", \"legendgroup\": \"\", \"marker\": {\"color\": \"#636efa\"}, \"name\": \"\", \"offsetgroup\": \"\", \"orientation\": \"v\", \"showlegend\": false, \"type\": \"histogram\", \"x\": [26, 39, 28, 31, 35, 72, 45, 54, 22, 61, 47, 54, 35, 47, 29, 22, 33, 29, 67, 25, 39, 43, 57, 44, 39, 30, 60, 42, 27, 71, 42, 24, 58, 66, 51, 48, 47, 53, 77, 36, 53, 29, 33, 27, 71, 59, 52, 48, 72, 67, 59, 59, 63, 59, 27, 18, 29, 71, 73, 36, 29, 65, 55, 38, 66, 33, 36, 47, 32, 43, 35, 43, 50, 83, 68, 65, 56, 79, 70, 67, 70, 30, 60, 58, 25, 37, 69, 58, 59, 40, 46, 44, 74, 59, 65, 44, 52, 63, 22, 70, 60, 48, 56, 60, 64, 75, 61, 61, 69, 56, 33, 68, 60, 24, 80, 27, 61, 32, 63, 65, 67, 65, 24, 32, 41, 64, 60, 56, 31, 32, 39, 58, 41, 20, 36, 43, 67, 37, 22, 76, 68, 65, 55, 46, 36, 60, 26, 37, 68, 30, 27, 72, 23, 29, 22, 58, 74, 84, 38, 70, 70, 57, 62, 67, 48, 45, 74, 35, 70, 20, 20, 22, 64, 53, 46, 56, 57, 24, 55, 18, 41, 17, 25, 58, 28, 48, 87, 39, 48, 68, 29, 41, 28, 46, 29, 33, 56, 73, 61, 47, 66, 64, 25, 68, 57, 55, 80, 56, 35, 32, 26, 24, 55, 39, 21, 36, 71, 35, 43, 60, 41, 58, 23, 61, 31, 31, 53, 62, 43, 31, 25, 58, 46, 49, 65, 38, 32, 35, 67, 56, 47, 49, 58, 57, 30, 41, 28, 55, 53, 75, 45, 63, 47, 78, 58, 57, 19, 54, 39, 52, 52, 36, 62, 38, 77, 58, 72, 54, 31, 18, 76, 49, 40, 27, 54, 67, 68, 40, 60, 64, 54, 63, 56, 27, 68, 76, 58, 70, 70, 37, 54, 45, 24, 60, 28, 64, 82, 67, 39, 66, 52, 23, 30, 59, 67, 46, 47, 24, 63, 49, 11, 68, 43, 27, 53, 69, 68, 53, 28, 53, 52, 30, 59, 44, 67, 66, 75, 41, 48, 50, 59, 44, 55, 66, 38, 72, 64, 47, 64, 20, 69, 21, 59, 20, 43, 50, 75, 40, 28, 63, 23, 63, 59, 42, 41, 45, 61, 49, 78, 39, 57, 34, 46, 29, 30, 63, 67, 42, 62, 60, 49, 22, 64, 47, 37, 66, 56, 71, 17, 51, 53, 58, 62, 55, 85, 23, 68, 51, 54, 74, 40, 59, 22, 48, 47, 56, 60, 40, 73, 70, 52, 78, 33, 49, 31, 46, 69, 79, 77, 64, 62, 70, 49, 42, 78, 45, 50, 43, 41, 60, 81, 56, 67, 56, 58, 61, 55, 36, 55, 63, 22, 46, 29, 38, 67, 57, 30, 35, 62, 34, 33, 26, 72, 61, 54, 51, 41, 28, 67, 21, 25, 54, 43, 51, 59, 26, 81, 37, 64, 49, 59, 49, 74, 68, 68, 42, 67, 32, 69, 74, 66, 32, 70, 76, 28, 60, 74, 50, 70, 44, 62, 57, 23, 44, 72, 73, 48, 61, 62, 33, 48, 67, 57, 76, 33, 68, 40, 64, 40, 70, 26, 45, 72, 61, 63, 57, 69, 78, 58, 33, 25, 27, 78, 72, 63, 70, 56, 65, 72, 27, 41, 30, 63, 60, 28, 74, 50, 18, 40, 72, 70, 62, 49, 23, 66, 11, 43, 67, 28, 80, 31, 24, 58, 52, 62, 20, 20, 32, 25, 69, 79, 54, 73, 58, 57, 56, 56, 67, 44, 34, 65, 58, 63, 38, 59, 60, 69, 61, 82, 54, 23, 44, 58, 66, 75, 38, 45, 53, 39, 28, 32, 71, 22, 71, 62, 34, 63, 26, 32, 47, 22, 32, 53, 40, 53, 64, 37, 59, 27, 27, 66, 61, 58, 47, 62, 49, 67, 31, 50, 34, 22, 65, 77, 68, 28, 68, 37, 35, 53, 70, 43, 73, 62, 51, 57, 44, 25, 61, 52, 53, 65, 30, 65, 61, 42, 34, 56, 69, 36, 48, 77, 22, 69, 36, 29, 58, 54, 28, 59, 49, 74, 63, 75, 71, 31, 63, 38, 45, 70, 72, 59, 60, 63, 82, 25, 53, 36, 60, 37, 32, 57, 71, 59, 24, 29, 22, 62, 34, 35, 26, 53, 25, 69, 56, 65, 73, 33, 72, 31, 73, 24, 22, 59, 53, 54, 45, 23, 22, 55, 29, 71, 64, 19, 42, 61, 25, 31, 73, 47, 52, 46, 66, 64, 62, 52, 54, 41, 52, 32, 26, 74, 31, 34, 67, 65, 66, 57, 42, 55, 29, 55, 48, 53, 78, 31, 56, 44, 31, 43, 68, 52, 55, 47, 79, 56, 43, 69, 63, 81, 28, 26, 54, 60, 69, 78, 46, 45, 53, 40, 46, 60, 33, 24, 39, 69, 62, 42, 44, 40, 43, 34, 28, 55, 63, 55, 67, 67, 40, 35, 55, 31, 56, 25, 57, 68, 28, 68, 60, 25, 69, 49, 45, 32, 66, 29, 50, 60, 50, 40, 57, 65, 22, 29, 43, 64, 75, 65, 32, 64, 20, 36, 20, 68, 76, 64, 49, 38, 76, 57, 36, 70, 42, 18, 23, 58, 79, 39, 26, 43, 23, 62, 46, 67, 37, 46, 50, 33, 58, 69, 62, 42, 59, 26, 71, 18, 67, 69, 59, 31, 61, 59, 51, 34, 78, 68, 73, 60, 31, 75, 67, 22, 58, 28, 70, 38, 59, 27, 61, 61, 53, 69, 34, 49, 73, 44, 49, 29, 54, 25, 25, 60, 53, 30, 47, 63, 64, 26, 30, 41, 65, 64, 54, 60, 70, 61, 25, 21, 42, 27, 22, 56, 70, 39, 54, 32, 50, 51, 37, 49, 29, 23, 61, 28, 57, 33, 29, 56, 30, 35, 34, 57, 48, 56, 70, 40, 64, 78, 70, 67, 28, 62, 63, 74, 63, 34, 28, 30, 70, 83, 52, 55, 53, 37, 68, 46, 44, 75, 65, 61, 62, 53, 45, 60, 15, 34, 28, 68, 64, 32, 44, 46, 43, 71, 61, 36, 58, 63, 55, 24, 62, 36, 25, 68, 70, 25, 49, 22, 30, 42, 32, 49, 31, 60, 66, 59, 48, 54, 66, 68, 65, 78, 55, 43, 52, 17, 58, 24, 46, 47, 63, 24, 60, 69, 43, 75, 22, 40, 23, 46, 42, 58, 71, 26, 28, 64, 23, 34, 20, 38, 66, 66, 67, 62, 69, 56, 32, 59, 51, 75, 68, 61, 63, 57, 61, 59, 81, 35, 81, 26, 39, 51, 74, 39, 63, 44, 56, 54, 29, 61, 55, 60, 73, 46, 69, 55, 74, 25, 74, 54, 23, 30, 12, 37, 54, 65, 63, 35, 28, 61, 38, 75, 36, 21, 32, 27, 42, 56, 65, 67, 74, 59, 66, 75, 68, 72, 83, 40, 60, 62, 27, 56, 55, 40, 59, 75, 60, 20, 23, 30, 61, 26, 48, 62, 57, 59, 70, 46, 55, 21, 74, 41, 24, 50, 64, 78, 64, 69, 34, 34, 26, 61, 67, 55, 71, 70, 38, 51, 33, 28, 77, 61, 62, 50, 41, 50, 40, 28, 14, 69, 32, 57, 57, 66, 60, 49, 27, 30, 58, 41, 75, 59, 56, 70, 47, 69, 40, 54, 53, 55, 43, 52, 50, 56, 62, 56, 50, 65, 25, 66, 48, 25, 51, 67, 35, 30, 77, 31, 52, 34, 52, 69, 52, 69, 42, 36, 44, 45, 31, 80, 59, 28, 60, 78, 39, 61, 28, 31, 22, 52, 33, 47, 40, 52, 64, 62, 83, 33, 41, 25, 61, 58, 28, 63, 60, 24, 60, 58, 44, 53, 32, 46, 35, 56, 20, 56, 26, 70, 21, 35, 78, 38, 56, 71, 25, 54, 56, 29, 21, 58, 50, 58, 25, 67, 51, 28, 61, 56, 60, 68, 68, 62, 29, 48, 59, 45, 38, 46, 42, 81, 58, 63, 54, 39, 47, 45, 29, 58, 40, 35, 28, 33, 38, 17, 65, 77, 71, 39, 38, 55, 69, 57, 55, 24, 62, 56, 34, 46, 59, 67, 21, 47, 70, 68, 58, 47, 52, 34, 65, 64, 57, 32, 51, 64, 57, 49, 65, 66, 72, 54, 39, 31, 56, 74, 58, 55, 28, 54, 40, 67, 59, 30, 35, 49, 32, 61, 78, 32, 50, 62, 34, 28, 58, 28, 63, 65, 59, 56, 91, 58, 50, 64, 29, 50, 43, 52, 36, 40, 30, 54, 71, 71, 62, 35, 65, 73, 66, 39, 54, 57, 67, 61, 52, 64, 65, 71, 36, 58, 76, 34, 65, 69, 56, 63, 46, 71, 27, 67, 21, 63, 52, 62, 34, 57, 55, 58, 57, 79, 55, 59, 78, 29, 35, 59, 57, 45, 61, 61, 45, 61, 75, 51, 54, 34, 66, 47, 62, 29, 65, 73, 41, 43, 56, 29, 70, 74, 27, 38, 70, 44, 68, 60, 53, 28, 42, 52, 54, 71, 79, 40, 42, 68, 67, 34, 35, 55, 41, 53, 42, 57, 65, 68, 64, 32, 37, 67, 78, 43, 41, 65, 36, 68, 44, 37, 48, 66, 66, 72, 59, 53, 56, 55, 57, 35, 35, 37, 33, 35, 68, 42, 48, 63, 57, 46, 41, 57, 28, 62, 46, 45, 55, 34, 59, 85, 45, 49, 30, 68, 32, 62, 64, 32, 67, 30, 41, 76, 59, 56, 56, 60, 77, 73, 80, 51, 33, 55, 57, 83, 21, 31, 40, 53, 22, 27, 78, 32, 61, 60, 63, 24, 73, 47, 76, 49, 57, 45, 66, 57, 48, 69, 73, 53, 76, 28, 75, 32, 30, 61, 50, 50, 58, 34, 29, 68, 76, 54, 32, 67, 32, 48, 65, 37, 25, 68, 56, 67, 68, 69, 67, 75, 27, 29, 60, 66, 69, 48, 36, 46, 60, 54, 37, 29, 66, 57, 61, 55, 38, 48, 42, 41, 71, 36, 41, 26, 64, 54, 32, 58, 60, 30, 52, 51, 66, 66, 74, 70, 34, 30, 73, 29, 54, 56, 39, 53, 60, 77, 71, 51, 60, 48, 58, 32, 66, 30, 46, 69, 54, 37, 50, 58, 38, 27, 69, 35, 52, 36, 69, 32, 59, 49, 29, 68, 65, 69, 30, 31, 70, 46, 21, 55, 65, 36, 48, 55, 62, 40, 38, 30, 65, 64, 60, 51, 55, 28, 23, 61, 47, 24, 56, 27, 55, 87, 56, 63, 70, 65, 55, 68, 32, 69, 22, 91, 64, 29, 75, 58, 55, 58, 24, 70, 27, 36, 61, 50, 43, 57, 34, 71, 65, 59, 58, 63, 62, 55, 73, 73, 18, 60, 72, 29, 31, 49, 64, 38, 27, 68, 49, 59, 30, 62, 64, 64, 70, 39, 60, 32, 72, 38, 66, 23, 49, 78, 31, 64, 50, 35, 52, 36, 45, 64, 45, 67, 76, 26, 25, 64, 66, 43, 50, 74, 35, 70, 28, 76, 60, 36, 41, 74, 60, 61, 52, 48, 64, 70, 65, 68, 54, 39, 27, 63, 64, 61, 26, 75, 34, 54, 34, 58, 54, 74, 61, 77, 45, 67, 53, 54, 44, 38, 30, 27, 41, 66, 59, 69, 45, 60, 60, 31, 75, 50, 70, 69, 53, 62, 70, 44, 30, 58, 70, 28, 69, 58, 65, 44, 41, 25, 72, 73, 68, 69, 28, 71, 66, 48, 23, 45, 28, 20, 41, 76, 20, 58, 61, 58, 46, 57, 38, 57, 64, 53, 30, 51, 62, 53, 29, 68, 58, 68, 20, 24, 50, 65, 65, 42, 41, 65, 51, 29, 63, 47, 76, 54, 29, 60, 63, 39, 59, 35, 55, 33, 50, 45, 37, 67, 46, 73, 66, 25, 38, 24, 30, 29, 48, 61, 74, 75, 46, 60, 70, 28, 48, 68, 46, 45, 83, 42, 51, 44, 65, 69, 57, 65, 42, 57, 55, 80, 69, 64, 21, 67, 57, 50, 40, 29, 35, 38, 66, 40, 60, 76, 53, 62, 63, 40, 57, 61, 55, 61, 42, 44, 50, 72, 74, 55, 30, 30, 45, 27, 26, 62, 68, 38, 50, 49, 52, 63, 32, 46, 67, 22, 77, 22, 56, 36, 62, 73, 37, 42, 32, 34, 51, 49, 86, 34, 28, 40, 57, 35, 28, 57, 30, 28, 39, 59, 79, 29, 41, 26, 42, 63, 29, 39, 55, 62, 28, 48, 71, 75, 60, 53, 56, 68, 35, 75, 58, 60, 54, 49, 73, 73, 23, 65, 66, 25, 44, 65, 57, 57, 75, 69, 53, 65, 30, 42, 49, 33, 28, 41, 76, 33, 63, 44, 64, 78, 68, 55, 31, 40, 64, 64, 44, 45, 65, 42, 23, 35, 55, 55, 70, 27, 62, 61, 56, 32, 29, 71, 30, 27, 39, 41, 47, 61, 71, 49, 33, 41, 36, 55, 31, 55, 33, 59, 52, 55, 64, 56, 70, 67, 59, 32, 57, 22, 67, 62, 61, 75, 66, 53, 29, 65, 22, 60, 48, 46, 58, 54, 42, 34, 24, 43, 30, 65, 68, 46, 60, 71, 56, 26, 58, 43, 61, 75, 86, 69, 48, 30, 72, 54, 57, 26, 48, 57, 74, 68, 70, 44, 78, 71, 47, 27, 61, 62, 69, 31, 61, 33, 71, 32, 34, 41, 52, 34, 74, 52, 73, 50, 43, 63, 56, 64, 51, 38, 59, 45, 73, 34, 55, 46, 72, 30, 49, 65, 75, 56, 65, 51, 76, 71, 66, 57, 23, 44, 75, 28, 68, 62, 30, 64, 60, 58, 49, 60, 59, 54, 33, 57, 19, 69, 46, 28, 64, 47, 50, 68, 33, 52, 51, 71, 57, 77, 67, 49, 79, 61, 57, 57, 78, 25, 51, 24, 71, 48, 61, 49, 57, 63, 60, 76, 39, 34, 67, 21, 40, 61, 22, 34, 43, 33, 33, 66, 77, 27, 59, 38, 38, 26, 42, 47, 43, 44, 43, 24, 47, 56, 38, 43, 29, 53, 30, 31, 74, 22, 60, 65, 40, 31, 45, 32, 54, 38, 42, 62, 34, 64, 75, 69, 41, 71, 50, 23, 32, 65, 59, 43, 61, 67, 51, 49, 76, 56, 44, 75, 65, 46, 46, 63, 40, 66, 52, 64, 68, 71, 72, 53, 65, 30, 69, 59, 73, 56, 53, 72, 62, 24, 74, 62, 71, 60, 59, 77, 46, 51, 52, 48, 68, 57, 55, 64, 69, 25, 25, 31, 60, 83, 55, 66, 77, 38, 24, 41, 70, 67, 22, 30, 28, 64, 60, 70, 22, 71, 63, 73, 52, 61, 68, 53, 65, 67, 73, 44, 73, 64, 57, 73, 24, 30, 79, 63, 54, 53, 68, 75, 58, 70, 74, 29, 60, 61, 62, 71, 69, 55, 53, 39, 26, 53, 26, 22, 70, 68, 65, 55, 51, 45, 29, 20, 37, 81, 68, 33, 49, 46, 27, 42, 58, 73, 69, 84, 69, 33, 60, 66, 33, 64, 48, 67, 39, 49, 61, 55, 68, 75, 62, 68, 67, 70, 62, 36, 40, 67, 37, 27, 62, 65, 57, 64, 26, 32, 60, 42, 38, 51, 54, 26, 56, 35, 31, 50, 53, 28, 28, 44, 62, 72, 51, 79, 60, 78, 47, 60, 30, 28, 61, 57, 43, 32, 67, 53, 34, 54, 63, 28, 64, 66, 61, 22, 64, 31, 66, 40, 20, 44, 71, 68, 23, 53, 36, 37, 77, 53, 57, 62, 51, 83, 59, 25, 39, 34, 25, 65, 55, 70, 26, 63, 57, 69, 30, 29, 39, 41, 75, 28, 27, 39, 53, 63, 25, 62, 37, 68, 20, 69, 52, 33, 32, 40, 63, 27, 77, 77, 62, 47, 58, 73, 56, 66, 53, 55, 67, 59, 72, 53, 63, 55, 67, 69, 71, 40, 37, 41, 65, 66, 49, 20, 55, 70, 30, 76, 57, 27, 49, 59, 75, 62, 62, 65, 61, 39, 59, 52, 58, 68, 37, 70, 55, 61, 31, 49, 40, 26, 19, 48, 45, 45, 79, 67, 40, 63, 47, 62, 63, 59, 30, 35, 39, 30, 70, 41, 58, 66, 60, 38, 55, 47, 65, 46, 65, 70, 43, 59, 49, 69, 63, 33, 66, 26, 27, 68, 36, 37, 25, 55, 40, 71, 33, 56, 90, 64, 54, 51, 69, 67, 67, 44, 69, 56, 65, 62, 69, 46, 56, 47, 29, 31, 77, 69, 43, 30, 37, 84, 30, 64, 77, 45, 43, 69, 57, 22, 66, 37, 68, 61, 64, 36, 53, 48, 57, 30, 54, 41, 39, 35, 49, 64, 62, 41, 27, 77, 24, 64, 51, 68, 32, 55, 65, 39, 76, 73, 34, 76, 25, 42, 64, 30, 57, 70, 61, 28, 48, 32, 29, 25, 62, 68, 53, 68, 33, 40, 65, 65, 56, 57, 54, 58, 31, 76, 77, 28, 60, 70, 73, 64, 66, 49, 33, 46, 57, 47, 62, 45, 68, 47, 46, 33, 65, 32, 63, 28, 46, 44, 34, 61, 62, 38, 77, 54, 19, 34, 30, 43, 38, 51, 74, 51, 69, 55, 29, 63, 75, 78, 65, 60, 28, 31, 39, 61, 56, 23, 63, 73, 29, 64, 23, 60, 41, 40, 76, 45, 64, 38, 64, 37, 32, 75, 41, 67, 24, 62, 63, 67, 35, 29, 24, 52, 63, 29, 33, 70, 58, 31, 56, 26, 55, 53, 23, 63, 21, 63, 65, 37, 54, 51, 55, 71, 32, 69, 58, 59, 60, 62, 62, 29, 31, 65, 31, 49, 76, 61, 41, 62, 60, 36, 56, 68, 40, 26, 34, 53, 27, 26, 21, 75, 78, 68, 64, 54, 58, 72, 65, 60, 32, 46, 60, 22, 55, 71, 20, 48, 53, 54, 69, 77, 69, 61, 28, 64, 47, 28, 36, 28, 62, 65, 30, 40, 65, 35, 21, 39, 49, 58, 72, 51, 72, 28, 23, 51, 51, 38, 61, 34, 34, 62, 30, 76, 60, 42, 58, 60, 77, 82, 43, 33, 65, 51, 65, 54, 61, 73, 67, 75, 52, 25, 51, 51, 34, 57, 62, 76, 57, 40, 25, 70, 49, 25, 43, 54, 43, 59, 74, 25, 52, 41, 71, 41, 56, 74, 23, 62, 72, 26, 31, 66, 41, 80, 76, 80, 61, 70, 32, 40, 36, 32, 21, 60, 31, 47, 65, 64, 63, 61, 46, 56, 33, 83, 60, 60, 54, 63, 64, 67, 44, 55, 46, 72, 55, 72, 52, 62, 31, 45, 58, 67, 27, 49, 33, 28, 58, 59, 22, 64, 61, 67, 85, 63, 38, 43, 73, 48, 19, 28, 56, 66, 62, 71, 28, 52, 57, 60, 74, 64, 49, 35, 62, 30, 63, 67, 70, 69, 32, 64, 53, 40, 55, 76, 35, 23, 63, 36, 17, 29, 60, 60, 24, 67, 71, 60, 22, 57, 62, 79, 34, 68, 26, 34, 60, 21, 52, 51, 68, 50, 66, 58, 62, 55, 55, 28, 37, 41, 79, 44, 73, 46, 74, 60, 60, 55, 30, 52, 67, 39, 58, 66, 45, 62, 73, 81, 37, 63, 50, 23, 30, 52, 77, 68, 74, 48, 39, 71, 65, 49, 47, 26, 56, 71, 33, 70, 38, 29, 42, 24, 22, 72, 53, 28, 24, 36, 56, 81, 35, 28, 48, 45, 75, 21, 47, 61, 86, 22, 35, 41, 60, 50, 79, 47, 58, 60, 68, 46, 74, 55, 63, 75, 34, 61, 40, 72, 49, 60, 49, 58, 48, 40, 23, 67, 65, 39, 64, 68, 43, 57, 41, 47, 46, 29, 49, 59, 41, 69, 67, 47, 51, 60, 43, 25, 28, 87, 65, 24, 74, 38, 73, 76, 83, 29, 74, 33, 61, 25, 55, 44, 70, 37, 40, 40, 32, 62, 51, 58, 29, 21, 33, 30, 23, 32, 15, 51, 70, 29, 59, 26, 60, 38, 55, 31, 29, 55, 29, 57, 60, 62, 57, 47, 75, 49, 47, 75, 52, 62, 56, 50, 76, 60, 72, 64, 28, 58, 46, 74, 32, 91, 23, 39, 38, 48, 75, 35, 63, 36, 20, 70, 46, 25, 46, 75, 60, 32, 32, 49, 38, 65, 57, 29, 59, 29, 71, 53, 33, 31, 51, 31, 37, 35, 74, 68, 63, 28, 70, 57, 34, 27, 38, 50, 63, 62, 45, 32, 60, 60, 50, 27, 66, 52, 62, 52, 39, 59, 25, 73, 54, 41, 35, 39, 45, 28, 64, 54, 47, 30, 54, 41, 48, 69, 67, 32, 59, 52, 40, 24, 34, 35, 36, 44, 62, 39, 70, 43, 53, 34, 27, 64, 32, 33, 55, 36, 56, 43, 69, 60, 69, 32, 68, 66, 34, 54, 54, 54, 58, 31, 60, 73, 58, 23, 29, 70, 27, 40, 60, 36, 43, 45, 65, 72, 45, 73, 65, 60, 54, 61, 55, 68, 58, 60, 72, 65, 73, 24, 48, 22, 48, 64, 27, 56, 50, 59, 62, 47, 68, 35, 65, 65, 52, 44, 75, 78, 42, 25, 75, 26, 30, 55, 58, 31, 53, 26, 26, 70, 56, 58, 64, 49, 31, 27, 61, 30, 61, 77, 32, 63, 76, 70, 31, 66, 58, 68, 50, 51, 24, 40, 28, 36, 45, 66, 62, 58, 44, 74, 38, 65, 34, 30, 60, 42, 66, 57, 42, 68, 56, 57, 53, 59, 38, 55, 20, 72, 64, 67, 67, 34, 45, 52, 68, 55, 66, 30, 72, 46, 54, 68, 69, 63, 64, 60, 33, 46, 48, 62, 20, 38, 32, 55, 35, 66, 32, 68, 77, 32, 64, 54, 42, 66, 66, 65, 82, 40, 38, 68, 56, 70, 30, 26, 40, 24, 65, 29, 34, 44, 40, 30, 53, 65, 56, 29, 69, 47, 25, 63, 54, 44, 46, 42, 50, 72, 24, 63, 26, 40, 66, 67, 63, 65, 44, 23, 43, 76, 26, 47, 24, 64, 54, 34, 58, 37, 72, 30, 41, 26, 43, 35, 59, 33, 63, 66, 70, 70, 28, 54, 27, 71, 66, 69, 37, 22, 36, 53, 36, 35, 34, 27, 27, 72, 36, 53, 69, 66, 62, 53, 42, 63, 27, 70, 50, 70, 62, 28, 26, 26, 37, 62, 42, 44, 37, 62, 40, 58, 44, 63, 67, 42, 80, 68, 31, 65, 56, 41, 79, 72, 36, 75, 63, 64, 41, 55, 78, 48, 51, 49, 61, 25, 59, 41, 40, 22, 52, 28, 62, 61, 58, 75, 33, 64, 29, 61, 30, 52, 35, 69, 51, 46, 62, 31, 55, 62, 31, 58, 65, 32, 55, 48, 46, 60, 61, 68, 41, 54, 41, 70, 41, 62, 50, 36, 25, 70, 35, 64, 65, 61, 21, 39, 33, 36, 73, 23, 38, 67, 28, 38, 52, 30, 76, 61, 44, 47, 59, 27, 27, 55, 25, 46, 33, 53, 60, 51, 67, 62, 56, 33, 57, 55, 67, 54, 58, 52, 69, 30, 84, 54, 36, 50, 26, 46, 59, 48, 71, 37, 34, 68, 51, 55, 49, 76, 62, 68, 62, 64, 47, 54, 66, 68, 60, 66, 69, 41, 43, 60, 40, 40, 53, 69, 30, 31, 61, 56, 78, 65, 74, 33, 38, 67, 63, 60, 79, 28, 70, 29, 77, 55, 26, 33, 75, 33, 61, 39, 25, 56, 62, 44, 57, 24, 58, 30, 54, 48, 52, 68, 58, 40, 57, 66, 40, 30, 63, 71, 71, 68, 59, 21, 32, 38, 57, 62, 44, 25, 36, 59, 55, 67, 38, 31, 44, 56, 21, 42, 67, 49, 64, 30, 21, 44, 60, 56, 38, 43, 62, 53, 70, 36, 34, 58, 55, 76, 36, 68, 63, 65, 21, 61, 52, 16, 29, 62, 41, 55, 37, 33, 62, 39, 72, 55, 57, 33, 74, 59, 70, 29, 22, 26, 38, 39, 42, 58, 41, 82, 30, 34, 48, 52, 46, 62, 58, 65, 66, 61, 68, 63, 69, 59, 63, 57, 34, 41, 51, 43, 68, 65, 30, 75, 75, 41, 64, 60, 28, 64, 58, 70, 38, 38, 29, 54, 67, 70, 55, 64, 36, 27, 64, 55, 39, 68, 52, 45, 73, 62, 53, 33, 35, 28, 59, 27, 36, 27, 78, 51, 36, 55, 81, 60, 77, 82, 70, 69, 54, 40, 72, 40, 52, 42, 71, 63, 32, 34, 58, 44, 62, 57, 49, 46, 37, 41, 57, 46, 51, 51, 22, 24, 46, 59, 63, 57, 74, 59, 68, 35, 64, 47, 60, 32, 63, 68, 65, 58, 25, 63, 38, 28, 54, 58, 78, 62, 44, 85, 70, 72, 40, 43, 35, 74, 29, 47, 24, 60, 75, 39, 44, 78, 45, 75, 36, 78, 64, 62, 20, 65, 77, 65, 27, 74, 71, 69, 28, 33, 65, 51, 50, 34, 27, 33, 57, 33, 43, 36, 25, 54, 56, 42, 29, 82, 28, 38, 65, 64, 23, 79, 25, 52, 59, 34, 57, 64, 57, 71, 68, 67, 65, 72, 39, 25, 65, 43, 38, 32, 27, 68, 60, 72, 69, 57, 57, 29, 67, 57, 60, 35, 65, 43, 29, 53, 28, 56, 51, 70, 27, 32, 62, 43, 46, 63, 55, 72, 30, 64, 76, 29, 74, 74, 67, 15, 60, 32, 51, 59, 67, 40, 61, 43, 54, 29, 56, 33, 65, 62, 52, 76, 34, 58, 57, 67, 40, 39, 61, 52, 34, 59, 49, 38, 75, 28, 53, 54, 22, 47, 49, 45, 55, 36, 53, 25, 79, 65, 31, 71, 20, 75, 73], \"xaxis\": \"x\", \"yaxis\": \"y\"}, {\"alignmentgroup\": \"True\", \"bingroup\": \"x\", \"histnorm\": \"probability density\", \"hoverlabel\": {\"namelength\": 0}, \"hovertemplate\": \"Position=MID<br>Crossing=%{x}<br>count=%{y}\", \"legendgroup\": \"\", \"marker\": {\"color\": \"#636efa\"}, \"name\": \"\", \"offsetgroup\": \"\", \"orientation\": \"v\", \"showlegend\": false, \"type\": \"histogram\", \"x\": [65, 57, 73, 55, 67, 72, 66, 50, 53, 62, 66, 66, 54, 70, 69, 58, 68, 66, 77, 76, 53, 74, 56, 60, 47, 43, 68, 39, 65, 77, 56, 47, 66, 56, 73, 59, 78, 62, 48, 55, 36, 72, 54, 79, 63, 56, 57, 53, 28, 59, 41, 68, 46, 60, 68, 72, 75, 49, 65, 63, 74, 55, 64, 56, 58, 66, 46, 58, 56, 53, 59, 46, 54, 60, 62, 56, 49, 53, 65, 59, 48, 56, 55, 69, 45, 56, 68, 38, 39, 44, 51, 49, 64, 60, 60, 50, 68, 65, 55, 52, 61, 60, 39, 59, 60, 59, 56, 68, 53, 42, 55, 59, 58, 65, 59, 59, 62, 60, 71, 60, 44, 51, 63, 64, 46, 45, 75, 59, 62, 66, 67, 69, 67, 59, 58, 62, 55, 53, 52, 66, 63, 62, 34, 52, 62, 63, 66, 42, 61, 52, 49, 57, 47, 61, 62, 68, 72, 65, 70, 66, 68, 64, 55, 65, 33, 60, 57, 74, 67, 50, 64, 46, 69, 80, 63, 56, 60, 66, 70, 63, 71, 70, 60, 53, 77, 40, 75, 71, 81, 57, 43, 52, 64, 53, 51, 34, 45, 75, 46, 78, 60, 51, 54, 38, 70, 62, 47, 57, 43, 46, 49, 70, 69, 57, 62, 42, 62, 76, 59, 76, 71, 62, 52, 64, 55, 74, 74, 56, 62, 32, 55, 53, 58, 49, 73, 53, 60, 51, 53, 38, 47, 64, 56, 68, 54, 39, 52, 65, 78, 48, 50, 45, 61, 73, 36, 46, 93, 50, 41, 54, 57, 68, 70, 56, 53, 38, 48, 60, 54, 63, 58, 71, 38, 65, 70, 61, 50, 39, 57, 51, 74, 40, 40, 63, 65, 45, 44, 51, 56, 64, 58, 66, 51, 44, 56, 70, 30, 59, 62, 39, 63, 57, 58, 59, 59, 60, 78, 61, 65, 74, 63, 66, 69, 42, 64, 49, 65, 66, 62, 58, 79, 76, 59, 69, 58, 76, 72, 44, 77, 57, 44, 68, 62, 56, 61, 41, 64, 69, 50, 64, 59, 63, 47, 78, 69, 33, 60, 43, 55, 42, 40, 57, 39, 45, 55, 66, 64, 36, 57, 47, 65, 67, 31, 63, 73, 61, 58, 78, 70, 63, 49, 80, 60, 65, 63, 70, 53, 46, 45, 68, 61, 59, 66, 45, 66, 68, 71, 74, 55, 67, 61, 52, 77, 67, 71, 30, 44, 57, 63, 36, 66, 67, 50, 75, 62, 56, 61, 54, 62, 65, 68, 52, 67, 55, 56, 76, 54, 72, 57, 67, 75, 67, 57, 52, 50, 64, 57, 69, 64, 49, 71, 66, 66, 63, 57, 69, 59, 58, 70, 63, 45, 54, 79, 61, 31, 72, 67, 39, 52, 54, 58, 62, 67, 50, 56, 69, 56, 57, 61, 50, 82, 46, 48, 72, 56, 64, 75, 65, 68, 51, 38, 59, 68, 65, 60, 52, 55, 59, 74, 41, 59, 55, 40, 52, 64, 59, 63, 71, 38, 70, 38, 72, 60, 47, 63, 70, 75, 57, 60, 70, 77, 49, 67, 61, 48, 62, 56, 66, 54, 52, 62, 45, 62, 68, 59, 47, 71, 69, 70, 60, 61, 67, 50, 59, 50, 58, 62, 60, 66, 54, 84, 75, 73, 77, 48, 43, 63, 70, 67, 62, 61, 75, 59, 58, 68, 71, 56, 57, 55, 68, 65, 52, 52, 61, 57, 36, 44, 40, 66, 63, 52, 80, 53, 61, 64, 36, 55, 51, 66, 70, 55, 91, 49, 69, 71, 68, 68, 53, 52, 38, 44, 42, 61, 63, 56, 55, 65, 66, 65, 71, 66, 61, 73, 75, 55, 61, 55, 32, 72, 54, 47, 77, 54, 65, 50, 61, 54, 52, 64, 43, 67, 45, 57, 58, 34, 46, 59, 67, 47, 62, 40, 62, 46, 68, 58, 46, 69, 56, 61, 74, 61, 63, 37, 53, 80, 49, 49, 63, 60, 54, 58, 54, 48, 56, 62, 39, 81, 72, 67, 57, 67, 72, 51, 63, 62, 65, 59, 60, 40, 71, 52, 58, 59, 61, 59, 72, 48, 62, 42, 57, 67, 62, 50, 60, 53, 66, 54, 61, 54, 53, 71, 55, 35, 47, 61, 61, 43, 39, 70, 59, 52, 59, 70, 43, 53, 74, 42, 65, 77, 54, 69, 51, 50, 42, 44, 55, 68, 75, 58, 52, 75, 57, 75, 50, 75, 60, 53, 48, 65, 79, 48, 59, 77, 48, 72, 46, 67, 78, 69, 78, 66, 66, 49, 55, 46, 43, 55, 52, 49, 69, 50, 58, 72, 64, 58, 62, 52, 46, 43, 60, 60, 73, 62, 67, 74, 43, 65, 36, 46, 87, 53, 57, 77, 61, 41, 71, 63, 54, 61, 41, 74, 55, 69, 69, 64, 66, 74, 35, 59, 51, 38, 60, 67, 71, 34, 44, 46, 55, 52, 56, 36, 64, 70, 46, 60, 44, 51, 83, 72, 55, 67, 62, 52, 54, 54, 65, 53, 50, 63, 41, 64, 61, 67, 66, 72, 45, 48, 46, 61, 60, 38, 61, 26, 58, 48, 48, 75, 55, 75, 43, 66, 65, 58, 59, 67, 65, 71, 71, 64, 65, 48, 57, 57, 49, 57, 49, 45, 64, 62, 68, 82, 45, 77, 61, 63, 58, 82, 64, 69, 77, 57, 70, 56, 72, 64, 69, 51, 57, 59, 66, 73, 64, 66, 57, 60, 67, 65, 48, 57, 80, 67, 74, 51, 61, 46, 52, 66, 55, 71, 49, 49, 78, 65, 71, 51, 67, 74, 63, 66, 70, 56, 56, 68, 66, 54, 63, 77, 48, 66, 69, 72, 51, 68, 59, 41, 57, 63, 39, 59, 63, 55, 56, 65, 62, 47, 56, 76, 54, 53, 45, 55, 55, 64, 57, 45, 70, 54, 69, 75, 69, 44, 64, 54, 52, 56, 72, 61, 82, 68, 60, 58, 42, 75, 64, 55, 57, 35, 70, 42, 61, 60, 63, 50, 79, 72, 52, 62, 47, 59, 49, 54, 77, 53, 56, 72, 53, 61, 66, 61, 75, 61, 71, 48, 39, 62, 64, 60, 57, 80, 37, 72, 69, 47, 48, 68, 50, 44, 65, 51, 62, 75, 69, 78, 60, 63, 42, 54, 63, 48, 61, 63, 51, 43, 70, 50, 61, 56, 42, 55, 75, 38, 67, 61, 82, 62, 39, 72, 44, 59, 77, 51, 52, 43, 60, 56, 53, 64, 66, 56, 48, 54, 38, 45, 42, 59, 67, 52, 52, 72, 78, 40, 73, 65, 57, 56, 75, 78, 69, 56, 70, 66, 65, 54, 62, 63, 51, 48, 46, 55, 58, 43, 67, 30, 59, 35, 48, 64, 67, 60, 41, 70, 73, 35, 67, 59, 52, 64, 64, 60, 65, 67, 61, 40, 67, 59, 62, 40, 54, 55, 62, 57, 62, 57, 73, 68, 64, 37, 79, 76, 57, 56, 36, 74, 73, 42, 68, 68, 70, 59, 58, 58, 59, 55, 39, 37, 71, 78, 66, 68, 48, 59, 51, 36, 42, 62, 46, 56, 43, 59, 60, 74, 60, 62, 51, 62, 56, 70, 54, 49, 42, 64, 50, 62, 72, 47, 63, 51, 43, 52, 64, 64, 71, 58, 65, 38, 50, 39, 69, 48, 64, 67, 63, 47, 37, 25, 77, 61, 60, 54, 52, 58, 62, 67, 48, 46, 63, 59, 67, 63, 76, 49, 65, 61, 64, 90, 74, 45, 45, 42, 62, 71, 37, 62, 62, 53, 40, 64, 52, 37, 43, 44, 52, 53, 62, 74, 62, 52, 52, 52, 82, 54, 41, 54, 61, 64, 54, 60, 41, 63, 43, 55, 75, 65, 69, 65, 71, 63, 41, 42, 56, 71, 62, 63, 57, 53, 61, 62, 43, 62, 64, 68, 34, 59, 69, 64, 65, 39, 66, 71, 55, 52, 50, 42, 67, 47, 55, 77, 67, 40, 75, 70, 54, 53, 65, 60, 51, 71, 73, 52, 65, 75, 42, 64, 64, 54, 64, 65, 62, 70, 43, 35, 63, 38, 60, 50, 42, 46, 47, 36, 57, 54, 52, 55, 75, 40, 63, 68, 69, 61, 60, 65, 34, 61, 73, 59, 51, 64, 84, 56, 79, 43, 67, 55, 50, 61, 60, 56, 44, 63, 55, 62, 43, 51, 63, 34, 68, 64, 59, 70, 58, 74, 51, 58, 52, 55, 44, 52, 67, 62, 71, 68, 60, 60, 61, 56, 55, 37, 42, 61, 58, 65, 75, 61, 64, 83, 51, 59, 45, 75, 45, 63, 73, 60, 45, 63, 78, 52, 62, 46, 65, 84, 59, 63, 48, 58, 88, 62, 59, 54, 69, 47, 55, 58, 70, 65, 70, 53, 58, 54, 73, 72, 43, 63, 69, 60, 38, 44, 22, 42, 62, 64, 51, 65, 67, 65, 46, 42, 59, 55, 38, 48, 55, 51, 75, 76, 62, 38, 40, 42, 41, 70, 44, 73, 54, 68, 74, 59, 64, 73, 64, 75, 65, 74, 59, 66, 67, 48, 46, 50, 65, 43, 38, 59, 65, 52, 72, 45, 54, 60, 60, 50, 60, 57, 54, 74, 54, 74, 79, 54, 56, 55, 47, 61, 50, 34, 67, 64, 45, 74, 75, 69, 82, 56, 64, 64, 60, 66, 72, 64, 45, 58, 75, 58, 37, 71, 58, 46, 60, 63, 70, 66, 69, 59, 78, 67, 58, 45, 47, 73, 65, 40, 47, 68, 54, 65, 70, 64, 66, 56, 46, 70, 65, 70, 56, 50, 66, 60, 45, 48, 61, 47, 57, 52, 62, 40, 39, 65, 68, 64, 52, 62, 51, 44, 58, 43, 69, 57, 52, 50, 38, 62, 68, 48, 59, 66, 70, 63, 56, 51, 45, 50, 58, 64, 60, 45, 61, 51, 57, 77, 44, 71, 72, 57, 49, 46, 72, 71, 67, 53, 47, 42, 68, 74, 48, 65, 44, 62, 52, 68, 64, 59, 55, 66, 64, 67, 56, 44, 51, 63, 64, 66, 56, 60, 59, 50, 70, 56, 30, 59, 53, 63, 56, 65, 45, 56, 39, 46, 63, 51, 63, 45, 53, 62, 52, 40, 53, 53, 80, 59, 67, 50, 61, 49, 46, 71, 52, 45, 35, 61, 58, 64, 70, 67, 62, 47, 56, 58, 73, 63, 59, 50, 66, 49, 46, 50, 62, 63, 57, 50, 42, 38, 46, 48, 66, 47, 60, 75, 56, 74, 71, 76, 56, 68, 57, 65, 72, 47, 61, 58, 59, 55, 64, 73, 67, 58, 58, 66, 63, 73, 60, 53, 65, 66, 57, 66, 52, 70, 54, 46, 63, 55, 49, 65, 50, 59, 47, 73, 46, 54, 74, 56, 62, 54, 46, 67, 70, 60, 67, 55, 51, 42, 38, 69, 63, 53, 71, 42, 69, 55, 58, 52, 62, 67, 59, 47, 69, 43, 66, 56, 49, 63, 54, 52, 62, 45, 67, 67, 61, 67, 62, 64, 44, 71, 65, 58, 55, 43, 73, 63, 70, 68, 42, 65, 45, 57, 58, 63, 63, 66, 42, 52, 61, 74, 42, 50, 61, 59, 70, 47, 64, 49, 58, 52, 63, 52, 48, 61, 47, 55, 47, 68, 63, 55, 72, 40, 51, 36, 58, 67, 59, 71, 64, 76, 76, 38, 72, 63, 73, 65, 58, 40, 65, 48, 48, 65, 66, 68, 58, 46, 76, 58, 73, 64, 51, 72, 70, 72, 39, 54, 72, 38, 39, 39, 69, 60, 44, 76, 71, 68, 39, 51, 39, 66, 61, 68, 53, 73, 56, 36, 37, 76, 55, 71, 55, 45, 56, 65, 36, 60, 41, 71, 51, 50, 55, 46, 48, 56, 81, 37, 90, 58, 66, 53, 53, 66, 86, 71, 55, 62, 58, 69, 64, 30, 53, 60, 68, 71, 43, 41, 51, 55, 53, 52, 58, 49, 58, 57, 59, 66, 66, 48, 67, 62, 45, 67, 62, 58, 37, 78, 72, 68, 63, 67, 63, 64, 52, 67, 69, 72, 67, 64, 54, 65, 49, 54, 63, 52, 57, 56, 42, 53, 71, 43, 42, 57, 73, 62, 57, 48, 46, 67, 53, 45, 56, 75, 75, 54, 58, 42, 64, 60, 69, 54, 56, 70, 64, 76, 58, 47, 53, 67, 46, 61, 54, 64, 60, 76, 68, 66, 59, 48, 64, 62, 44, 77, 68, 55, 60, 46, 56, 39, 65, 84, 70, 61, 59, 49, 70, 63, 59, 60, 67, 35, 35, 75, 69, 58, 36, 73, 56, 67, 38, 55, 66, 67, 54, 68, 48, 80, 57, 68, 40, 69, 45, 60, 52, 67, 67, 59, 56, 76, 42, 37, 53, 49, 62, 69, 62, 57, 65, 61, 53, 49, 65, 82, 68, 45, 62, 58, 38, 50, 65, 57, 57, 62, 61, 69, 66, 59, 68, 41, 57, 66, 52, 58, 60, 61, 42, 49, 53, 65, 67, 69, 62, 70, 51, 61, 65, 51, 72, 45, 64, 45, 56, 78, 53, 58, 55, 72, 66, 43, 76, 69, 53, 58, 71, 63, 44, 68, 74, 72, 64, 77, 69, 70, 49, 75, 70, 76, 60, 63, 58, 70, 58, 39, 62, 45, 57, 66, 59, 45, 67, 55, 51, 60, 72, 55, 56, 71, 52, 49, 58, 59, 67, 41, 50, 52, 63, 39, 58, 67, 80, 62, 33, 71, 74, 58, 41, 63, 64, 43, 68, 73, 59, 75, 56, 65, 66, 66, 52, 40, 56, 43, 53, 51, 68, 50, 57, 66, 36, 69, 61, 61, 64, 61, 50, 63, 67, 64, 44, 48, 49, 61, 53, 46, 50, 58, 53, 73, 56, 65, 66, 61, 68, 67, 66, 50, 74, 64, 63, 61, 65, 65, 42, 64, 64, 53, 72, 61, 50, 48, 71, 51, 59, 63, 68, 65, 38, 65, 68, 66, 60, 54, 53, 63, 83, 44, 56, 52, 52, 33, 75, 77, 39, 66, 79, 46, 56, 83, 58, 53, 49, 40, 47, 58, 30, 78, 52, 73, 41, 46, 57, 51, 48, 54, 37, 57, 74, 68, 66, 53, 61, 51, 64, 81, 48, 46, 74, 62, 53, 71, 68, 41, 48, 66, 64, 39, 61, 55, 68, 53, 78, 68, 63, 41, 64, 52, 63, 45, 50, 61, 36, 76, 41, 65, 58, 62, 68, 63, 72, 52, 43, 76, 64, 48, 70, 45, 52, 61, 48, 42, 68, 61, 67, 42, 61, 65, 56, 57, 69, 63, 65, 65, 68, 47, 71, 64, 62, 50, 62, 62, 64, 64, 76, 75, 68, 41, 61, 39, 70, 49, 47, 32, 62, 71, 50, 78, 68, 75, 35, 67, 45, 54, 75, 41, 54, 78, 50, 79, 51, 68, 21, 49, 64, 70, 66, 65, 60, 42, 53, 70, 54, 70, 54, 56, 57, 67, 65, 72, 85, 59, 64, 35, 70, 74, 63, 60, 60, 54, 65, 60, 64, 53, 71, 55, 68, 69, 59, 58, 41, 68, 61, 49, 74, 62, 46, 67, 66, 62, 45, 59, 49, 48, 44, 61, 59, 70, 80, 49, 46, 72, 61, 73, 68, 78, 75, 61, 65, 71, 79, 61, 69, 44, 70, 74, 50, 69, 53, 57, 73, 70, 70, 76, 74, 39, 62, 30, 67, 54, 67, 47, 70, 58, 65, 71, 39, 63, 66, 49, 54, 72, 64, 58, 62, 24, 71, 57, 59, 56, 55, 60, 68, 73, 65, 64, 43, 50, 68, 63, 71, 67, 52, 57, 79, 65, 54, 46, 75, 59, 58, 66, 60, 65, 59, 64, 69, 50, 74, 65, 52, 54, 51, 46, 64, 59, 55, 47, 55, 61, 66, 38, 52, 52, 46, 56, 38, 58, 61, 56, 62, 41, 50, 60, 50, 39, 60, 68, 65, 56, 55, 50, 62, 40, 68, 70, 77, 37, 59, 44, 60, 65, 48, 67, 48, 53, 52, 68, 68, 30, 69, 56, 66, 44, 65, 61, 63, 52, 66, 70, 56, 40, 75, 67, 72, 65, 58, 40, 72, 45, 49, 66, 69, 53, 56, 49, 48, 50, 46, 48, 60, 41, 58, 57, 55, 64, 68, 55, 38, 56, 54, 64, 45, 63, 61, 42, 65, 72, 71, 69, 67, 71, 68, 65, 64, 74, 54, 64, 60, 58, 55, 65, 66, 52, 48, 78, 58, 65, 66, 60, 62, 44, 42, 73, 56, 76, 57, 59, 74, 60, 66, 41, 63, 37, 63, 59, 56, 62, 65, 57, 56, 66, 43, 77, 29, 71, 69, 56, 78, 41, 55, 39, 63, 46, 55, 70, 69, 53, 68, 30, 36, 69, 57, 33, 72, 69, 62, 41, 49, 79, 61, 70, 38, 50, 55, 46, 58, 77, 45, 68, 44, 48, 61, 66, 75, 74, 59, 88, 47, 70, 68, 70, 75, 74, 61, 54, 75, 69, 56, 75, 63, 47, 65, 83, 33, 50, 50, 69, 54, 79, 53, 63, 52, 57, 65, 63, 45, 62, 73, 58, 69, 64, 60, 43, 43, 64, 71, 58, 41, 78, 63, 69, 58, 59, 66, 65, 51, 66, 52, 63, 58, 54, 53, 63, 60, 60, 68, 66, 69, 60, 66, 68, 69, 59, 52, 47, 41, 51, 64, 52, 55, 59, 66, 64, 59, 48, 65, 66, 38, 63, 54, 53, 43, 63, 55, 70, 58, 54, 75, 65, 51, 66, 61, 35, 34, 50, 71, 54, 50, 55, 47, 57, 68, 56, 44, 67, 45, 35, 57, 68, 74, 54, 65, 56, 39, 69, 64, 48, 43, 58, 69, 76, 43, 54, 57, 35, 63, 67, 53, 76, 71, 64, 49, 65, 45, 52, 68, 67, 58, 46, 65, 50, 49, 60, 63, 74, 52, 71, 79, 62, 58, 73, 86, 62, 38, 61, 74, 52, 70, 68, 74, 56, 49, 52, 54, 69, 69, 64, 59, 47, 60, 56, 74, 66, 70, 60, 63, 61, 54, 50, 57, 52, 50, 59, 66, 61, 68, 58, 48, 74, 62, 55, 64, 60, 42, 54, 43, 54, 67, 61, 61, 41, 58, 65, 61, 51, 72, 49, 70, 68, 75, 49, 68, 62, 41, 43, 58, 72, 55, 62, 55, 53, 46, 63, 67, 72, 64, 71, 68, 42, 54, 64, 43, 66, 53, 55, 45, 62, 59, 59, 57, 62, 47, 59, 47, 65, 62, 74, 54, 53, 65, 57, 39, 47, 72, 58, 74, 57, 65, 43, 55, 41, 54, 65, 44, 44, 66, 69, 63, 63, 69, 70, 45, 30, 38, 67, 35, 69, 36, 61, 46, 37, 71, 58, 62, 60, 47, 56, 72, 78, 76, 47, 50, 63, 69, 66, 69, 58, 66, 56, 58, 64, 72, 39, 45, 44, 64, 51, 58, 60, 67, 75, 57, 43, 75, 67, 51, 70, 66, 73, 40, 66, 44, 63, 52, 65, 63, 59, 67, 40, 67, 61, 49, 65, 65, 55, 69, 60, 72, 68, 54, 59, 48, 67, 49, 83, 70, 77, 41, 51, 61, 58, 54, 57, 78, 57, 45, 58, 43, 61, 54, 51, 60, 70, 66, 48, 52, 67, 43, 67, 48, 92, 54, 63, 41, 60, 61, 46, 62, 58, 48, 44, 67, 64, 65, 53, 62, 49, 46, 66, 66, 73, 57, 71, 50, 68, 65, 72, 62, 49, 76, 59, 65, 57, 56, 72, 64, 59, 43, 63, 35, 63, 83, 69, 49, 67, 37, 63, 49, 63, 47, 59, 42, 68, 75, 61, 67, 63, 51, 60, 67, 70, 54, 65, 51, 51, 46, 59, 73, 54, 53, 55, 46, 43, 66, 53, 75, 74, 57, 59, 53, 54, 60, 40, 75, 28, 62, 45, 52, 62, 70, 74, 44, 61, 61, 52, 33, 30, 50, 58, 42, 67, 58, 68, 49, 76, 58, 62, 71, 64, 40, 55, 64, 66, 45, 68, 44, 56, 65, 63, 60, 66, 65, 35, 70, 65, 76, 74, 79, 38, 38, 28, 63, 33, 68, 58, 58, 53, 63, 55, 68, 68, 66, 62, 58, 46, 58, 45, 68, 69, 43, 63, 66, 65, 67, 44, 67, 62, 65, 50, 46, 58, 51, 64, 48, 66, 74, 56, 51, 71, 57, 57, 55, 60, 60, 61, 70, 34, 56, 43, 67, 72, 60, 63, 58, 72, 36, 43, 55, 70, 27, 64, 50, 60, 73, 34, 79, 55, 41, 70, 67, 83, 69, 54, 39, 71, 44, 57, 64, 50, 57, 50, 44, 55, 78, 26, 60, 67, 55, 51, 70, 59, 50, 50, 79, 67, 52, 74, 42, 50, 52, 56, 66, 75, 52, 41, 74, 40, 52, 63, 74, 69, 77, 70, 60, 71, 59, 36, 52, 54, 54, 78, 44, 65, 59, 69, 50, 64, 77, 39, 57, 47, 56, 61, 69, 51, 70, 58, 78, 51, 56, 71, 68, 68, 49, 59, 46, 55, 79, 65, 59, 65, 47, 54, 53, 64, 80, 62, 53, 65, 63, 44, 69, 62, 59, 40, 69, 61, 63, 39, 55, 63, 73, 70, 58, 59, 50, 68, 76, 61, 72, 64, 61, 61, 73, 58, 45, 51, 73, 83, 57, 74, 61, 50, 58, 72, 61, 63, 56, 46, 35, 58, 48, 59, 65, 70, 46, 49, 64, 47, 36, 62, 24, 68, 57, 51, 58, 52, 54, 65, 58, 50, 72, 59, 65, 58, 42, 46, 53, 51, 67, 39, 49, 64, 48, 60, 42, 65, 66, 53, 37, 45, 64, 63, 52, 62, 58, 44, 59, 61, 77, 61, 70, 57, 59, 72, 45, 63, 65, 60, 61, 48, 61, 44, 63, 68, 67, 54, 43, 72, 64, 64, 63, 66, 56, 50, 59, 55, 55, 58, 45, 59, 67, 57, 56, 49, 42, 63, 61, 78, 67, 62, 68, 66, 68, 51, 59, 51, 37, 65, 46, 66, 34, 58, 59, 51, 48, 40, 59, 49, 48, 52, 69, 50, 64, 56, 79, 66, 52, 59, 52, 60, 54, 58, 73, 65, 77, 62, 60, 59, 64, 51, 52, 49, 56, 36, 62, 42, 54, 78, 47, 73, 60, 71, 59, 67, 52, 68, 63, 62, 47, 59, 45, 85, 70, 46, 69, 59, 63, 40, 48, 68, 46, 63, 66, 53, 68, 62, 47, 53, 57, 72, 46, 25, 60, 36, 67, 64, 72, 58, 68, 61, 62, 76, 39, 69, 33, 61, 64, 57, 63, 52, 56, 67, 72, 36, 50, 61, 62, 57, 41, 65, 69, 45, 52, 57, 63, 69, 50, 55, 39, 63, 71, 69, 67, 51, 59, 60, 68, 62, 67, 59, 41, 47, 59, 47, 59, 63, 75, 66, 55, 74, 66, 58, 62, 48, 58, 43, 74, 39, 55, 58, 74, 61, 50, 42, 57, 48, 59, 32, 46, 41, 54, 49, 38, 71, 38, 61, 70, 70, 59, 76, 64, 50, 63, 58, 38, 86, 55, 68, 38, 64, 52, 49, 79, 74, 57, 43, 46, 46, 45, 60, 45, 45, 72, 66, 72, 61, 43, 59, 60, 57, 59, 57, 55, 56, 46, 46, 56, 50, 56, 57, 47, 52, 75, 64, 55, 42, 70, 73, 57, 58, 57, 53, 60, 69, 65, 52, 67, 64, 68, 69, 39, 56, 51, 39, 54, 68, 58, 49, 64, 68, 74, 54, 56, 72, 53, 52, 71, 50, 64, 41, 31, 62, 56, 67, 70, 59, 65, 61, 59, 64, 61, 42, 66, 45, 81, 76, 50, 67, 80, 47, 62, 46, 55, 55, 67, 52, 80, 76, 61, 40, 60, 66, 60, 60, 72, 43, 39, 51, 71, 45, 64, 64, 51, 70, 56, 78, 62, 60, 65, 62, 50, 74, 59, 62, 62, 77, 39, 42, 74, 53, 55, 72, 42, 66, 43, 39, 70, 60, 32, 68, 71, 55, 49, 60, 52, 65, 63, 72, 74, 57, 59, 61, 74, 44, 35, 65, 60, 72, 66, 72, 75, 65, 61, 41, 50, 54, 41, 39, 61, 53, 63, 62, 57, 80, 67, 39, 52, 80, 41, 81, 54, 58, 63, 56, 59, 71, 66, 56, 39, 43, 65, 60, 44, 59, 59, 67, 47, 59, 58, 67, 42, 63, 63, 63, 56, 46, 57, 63, 74, 54, 64, 52, 46, 48, 66, 59, 42, 61, 56, 68, 54, 64, 79, 45, 58, 64, 40, 57, 59, 65, 43, 67, 66, 53, 54, 53, 72, 52, 45, 61, 58, 73, 54, 56, 67, 42, 69, 38, 63, 84, 62, 63, 54, 50, 67, 73, 58, 42, 58, 53, 61, 45, 64, 45, 69, 48, 41, 58, 55, 56, 69, 44, 55, 62, 50, 61, 77, 67, 44, 54, 53, 63, 56, 73, 34, 65, 64, 62, 60, 48, 55, 69, 57, 80, 70, 55, 38, 68, 50, 65, 42, 59, 47, 42, 79, 66, 42, 50, 42, 76, 59, 53, 60, 60, 44, 70, 62, 74, 52, 54, 66, 47, 60, 37, 64, 66, 70, 63, 70, 62, 50, 63, 69, 35, 39, 83, 54, 55, 51, 64, 43, 61, 62, 80, 50, 42, 62, 64, 68, 77, 57, 42, 44, 65, 69, 56, 56, 60, 71, 50, 77, 41, 60, 51, 64, 66, 67, 65, 55, 77, 65, 67, 63, 60, 69, 40, 64, 68, 49, 55, 40, 43, 66, 38, 63, 73, 73, 50, 57, 71, 72, 64, 51, 59, 57, 45, 68, 59, 36, 51, 62, 56, 53, 65, 50, 65, 67, 54, 47, 41, 61, 45, 66, 62, 62, 63, 58, 59, 71, 58, 43, 52, 58, 53, 64, 31, 70, 50, 58, 37, 82, 67, 63, 67, 59, 62, 64, 51, 75, 76, 49, 54, 51, 49, 54, 48, 60, 59, 65, 74, 45, 67, 64, 67, 65, 52, 66, 71, 67, 62, 59, 66, 65, 33, 59, 85, 44, 51, 47, 73, 51, 77, 70, 71, 46, 52, 64, 59, 38, 59, 55, 34, 62, 55, 65, 42, 59, 59, 53, 58, 33, 60, 59, 46, 68, 52, 66, 57, 62, 58, 69, 72, 61, 57, 55, 45, 65, 48, 69, 76, 57, 61, 56, 46, 55, 40, 64, 44, 51, 65, 56, 43, 67, 80, 46, 61, 60, 63, 69, 50, 65, 55, 72, 52, 63, 83, 45, 62, 52, 61, 54, 58, 63, 65, 60, 65, 54, 56, 64, 68, 59, 60, 60, 74, 70, 54, 49, 65, 60, 62, 59, 57, 54, 59, 43, 47, 39, 68, 65, 66, 69, 61, 72, 63, 61, 75, 76, 62, 63, 60, 57, 65, 66, 75, 32, 51, 63, 47, 66, 63, 43, 65, 64, 58, 78, 59, 64, 60, 65, 56, 52, 65, 63, 67, 57, 43, 43, 50, 71, 60, 45, 69, 50, 68, 61, 78, 64, 59, 68, 79, 49, 54, 62, 64, 51, 66, 55, 56, 38, 63, 53, 69, 37, 59, 57, 65, 55, 41, 52, 61, 48, 70, 66, 54, 64, 64, 53, 53, 71, 63, 35, 41, 60, 53, 58, 69, 53, 59, 54, 31, 37, 60, 64, 66, 49, 38, 54, 59, 73, 44, 68, 49, 48, 60, 57, 69, 64, 57, 51, 60, 73, 54, 52, 64, 68, 69, 68, 53, 78, 61, 72, 56, 63, 71, 65, 48, 65, 74, 52, 73, 53, 84, 80, 69, 47, 26, 48, 33, 62, 62, 59, 41, 65, 46, 76, 59, 57, 77, 62, 56, 61, 55, 78, 64, 34, 46, 47, 40, 60, 63, 44, 40, 40, 47, 56, 77, 58, 57, 62, 62, 36, 80, 56, 58, 53, 57, 60, 78, 36, 52, 72, 37, 64, 68, 82, 67, 53, 58, 59, 57, 51, 54, 62, 49, 59, 50, 66, 54, 67, 51, 49, 71, 66, 64, 50, 55, 60, 58, 53, 66, 59, 43, 58, 51, 46, 53, 44, 56, 39, 62, 64, 65, 50, 63, 38, 37, 52, 70, 68, 52, 56, 51, 67, 65, 54, 54, 36, 50, 52, 61, 62, 59, 44, 46, 66, 61, 61, 53, 63, 61, 45, 72, 65, 74, 75, 64, 52, 66, 84, 56, 62, 49, 50, 36, 52, 71, 59, 41, 38, 64, 47, 55, 86, 70, 63, 49, 65, 62, 64, 67, 50, 58, 52, 49, 54, 43, 47, 41, 64, 66, 60, 57, 78, 58, 86, 78, 47, 67, 62, 61, 68, 62, 65, 72, 35, 45, 63, 48, 69, 63, 41, 73, 66, 57, 67, 71, 58, 70, 65, 61, 49, 72, 66, 54, 46, 76, 78, 39, 60, 64, 68, 63, 66, 54, 38, 63, 50, 57, 66, 76, 56, 45, 36, 64, 82, 55, 62, 58, 61, 53, 68, 43, 46, 69, 61, 65, 43, 64, 66, 61, 62, 51, 64, 65, 50, 68, 47, 68, 45, 30, 59, 59, 74, 52, 79, 67, 49, 48, 66, 58, 62, 59, 51, 32, 67, 53, 40, 63, 71, 62, 51, 81, 57, 69, 66, 39, 46, 57, 43, 64, 71, 39, 55, 45, 63, 47, 54, 81, 52, 77, 55, 53, 71, 74, 70, 51, 63, 48, 66, 61, 79, 70, 72, 52, 39, 50, 63, 60, 52, 42, 78, 63, 54, 69, 72, 71, 48, 78, 49, 75, 64, 40, 60, 70, 53, 74, 51, 60, 48, 68, 68, 37, 75, 58, 75, 50, 50, 59, 67, 45, 61, 62, 56, 13, 49, 70, 50, 66, 46, 80, 65, 47, 74, 45, 72, 45, 70, 62, 68, 73, 34, 55, 52, 62, 59, 46, 67, 55, 11, 65, 76, 54, 59, 60, 31, 62, 74, 60, 36, 74, 60, 37, 76, 48, 73, 72, 61, 49, 72, 72, 42, 58, 48, 66, 66, 46, 59, 49, 63, 62, 69, 59, 64, 62, 73, 62, 49, 68, 66, 50, 61, 64, 69, 56, 67, 72, 53, 54, 66, 67, 52, 39, 82, 37, 54, 57, 61, 67, 69, 65, 31, 69, 67], \"xaxis\": \"x2\", \"yaxis\": \"y2\"}, {\"alignmentgroup\": \"True\", \"bingroup\": \"x\", \"histnorm\": \"probability density\", \"hoverlabel\": {\"namelength\": 0}, \"hovertemplate\": \"Position=FWD<br>Crossing=%{x}<br>count=%{y}\", \"legendgroup\": \"\", \"marker\": {\"color\": \"#636efa\"}, \"name\": \"\", \"offsetgroup\": \"\", \"orientation\": \"v\", \"showlegend\": false, \"type\": \"histogram\", \"x\": [52, 46, 53, 42, 78, 35, 49, 48, 58, 63, 34, 55, 45, 67, 61, 31, 36, 49, 68, 68, 55, 74, 44, 49, 45, 25, 63, 66, 64, 30, 45, 58, 43, 41, 40, 39, 41, 65, 68, 59, 59, 36, 52, 27, 65, 46, 52, 48, 51, 30, 56, 45, 43, 45, 77, 42, 56, 69, 55, 45, 63, 64, 55, 61, 78, 79, 39, 63, 31, 50, 38, 45, 36, 62, 30, 42, 52, 72, 47, 45, 51, 35, 67, 52, 30, 35, 64, 62, 43, 58, 67, 66, 66, 31, 56, 40, 38, 65, 44, 31, 37, 60, 39, 43, 49, 60, 50, 54, 82, 42, 56, 68, 66, 41, 48, 28, 52, 49, 74, 49, 32, 38, 49, 38, 68, 54, 59, 55, 64, 35, 65, 25, 25, 25, 51, 71, 68, 40, 48, 28, 34, 31, 78, 66, 46, 65, 33, 51, 29, 32, 28, 38, 34, 30, 65, 50, 69, 56, 38, 41, 65, 34, 77, 37, 50, 79, 54, 65, 44, 63, 52, 33, 36, 67, 55, 51, 45, 56, 66, 65, 61, 70, 62, 73, 68, 44, 51, 59, 53, 60, 62, 27, 65, 53, 59, 50, 64, 60, 55, 47, 63, 29, 62, 43, 56, 58, 56, 55, 59, 32, 55, 63, 50, 40, 31, 61, 51, 38, 58, 60, 62, 42, 62, 72, 59, 54, 65, 38, 28, 37, 52, 42, 43, 58, 45, 65, 39, 61, 57, 64, 54, 34, 54, 58, 39, 58, 58, 70, 43, 34, 31, 34, 63, 77, 35, 61, 37, 33, 49, 68, 60, 57, 61, 45, 60, 65, 52, 71, 38, 44, 54, 80, 53, 52, 66, 47, 56, 39, 41, 26, 55, 40, 58, 74, 33, 55, 30, 61, 48, 56, 56, 63, 41, 35, 46, 26, 28, 70, 32, 55, 80, 65, 59, 60, 66, 55, 52, 31, 38, 28, 69, 69, 72, 52, 55, 58, 59, 62, 38, 62, 63, 58, 56, 57, 51, 36, 70, 28, 62, 66, 64, 67, 67, 43, 64, 49, 53, 42, 33, 53, 50, 28, 50, 59, 66, 62, 78, 64, 44, 54, 46, 52, 30, 65, 58, 36, 28, 43, 42, 55, 44, 59, 54, 72, 35, 32, 32, 64, 39, 37, 52, 67, 44, 58, 57, 28, 60, 64, 31, 41, 56, 29, 58, 68, 45, 37, 50, 49, 48, 51, 64, 69, 42, 53, 37, 60, 35, 48, 48, 62, 44, 66, 51, 65, 27, 47, 62, 26, 49, 41, 54, 57, 33, 51, 68, 62, 67, 61, 72, 25, 61, 56, 64, 47, 53, 66, 58, 66, 60, 63, 43, 36, 61, 30, 59, 62, 50, 54, 26, 72, 66, 63, 52, 40, 42, 86, 32, 35, 47, 54, 45, 75, 63, 53, 31, 69, 72, 75, 54, 65, 48, 60, 63, 56, 71, 27, 54, 59, 32, 64, 58, 28, 59, 24, 68, 68, 55, 22, 32, 49, 33, 71, 39, 26, 49, 63, 56, 42, 63, 69, 30, 51, 64, 56, 53, 33, 36, 47, 54, 22, 48, 57, 47, 56, 48, 49, 42, 61, 54, 62, 36, 58, 43, 62, 47, 62, 52, 51, 60, 60, 64, 51, 23, 68, 58, 39, 35, 60, 63, 61, 65, 48, 48, 65, 57, 36, 45, 72, 59, 49, 31, 27, 34, 42, 67, 39, 61, 45, 70, 76, 39, 45, 52, 38, 51, 60, 58, 54, 34, 52, 70, 65, 32, 57, 51, 42, 39, 56, 51, 45, 47, 56, 68, 61, 40, 47, 42, 50, 64, 43, 61, 68, 66, 60, 60, 59, 68, 76, 76, 48, 59, 69, 66, 52, 56, 61, 69, 75, 61, 61, 67, 76, 48, 45, 25, 36, 42, 51, 63, 57, 66, 26, 75, 46, 39, 62, 49, 43, 56, 65, 40, 59, 31, 46, 53, 58, 63, 54, 57, 22, 60, 46, 28, 33, 51, 37, 40, 64, 39, 63, 48, 77, 29, 39, 39, 67, 39, 53, 46, 52, 68, 30, 47, 34, 44, 46, 39, 72, 32, 42, 54, 62, 49, 78, 52, 40, 55, 66, 29, 49, 57, 57, 65, 49, 34, 43, 56, 49, 28, 40, 40, 60, 33, 34, 75, 60, 65, 50, 34, 69, 30, 39, 39, 39, 63, 46, 55, 56, 41, 39, 64, 27, 60, 64, 68, 35, 38, 56, 56, 79, 60, 48, 43, 54, 47, 43, 74, 30, 55, 57, 31, 72, 60, 39, 31, 49, 68, 77, 51, 47, 59, 66, 43, 48, 28, 30, 60, 38, 60, 63, 55, 32, 52, 32, 71, 35, 36, 32, 30, 29, 50, 49, 62, 60, 51, 45, 42, 66, 46, 62, 39, 42, 58, 54, 66, 32, 62, 50, 55, 60, 54, 32, 54, 57, 34, 35, 39, 51, 45, 33, 31, 74, 72, 45, 41, 43, 44, 58, 42, 36, 44, 34, 45, 65, 58, 56, 29, 63, 31, 48, 55, 61, 41, 76, 24, 62, 35, 43, 45, 36, 54, 31, 65, 50, 82, 39, 51, 30, 34, 46, 32, 48, 31, 69, 58, 46, 42, 27, 42, 34, 34, 32, 29, 67, 31, 33, 69, 52, 58, 50, 58, 66, 54, 63, 40, 59, 31, 66, 52, 45, 58, 69, 30, 60, 52, 40, 48, 40, 28, 53, 68, 38, 59, 52, 32, 42, 50, 70, 50, 36, 52, 59, 72, 64, 57, 54, 27, 49, 51, 49, 52, 31, 51, 62, 53, 31, 29, 40, 43, 58, 64, 35, 39, 30, 64, 76, 34, 78, 56, 57, 69, 38, 37, 32, 58, 30, 45, 56, 65, 40, 50, 50, 26, 36, 33, 66, 62, 44, 63, 30, 36, 29, 45, 58, 62, 58, 53, 55, 84, 65, 54, 54, 50, 55, 87, 65, 39, 36, 30, 59, 58, 49, 42, 39, 57, 58, 44, 36, 43, 58, 70, 33, 40, 63, 26, 69, 36, 49, 70, 60, 33, 38, 63, 42, 26, 38, 74, 29, 74, 64, 60, 30, 70, 31, 41, 32, 40, 65, 68, 45, 66, 48, 52, 52, 28, 67, 39, 29, 42, 32, 43, 32, 48, 62, 50, 45, 62, 31, 36, 69, 64, 51, 70, 40, 50, 62, 39, 49, 31, 70, 28, 58, 33, 64, 51, 62, 62, 35, 49, 63, 45, 57, 68, 56, 45, 63, 57, 61, 56, 65, 49, 44, 60, 42, 43, 61, 23, 35, 70, 65, 32, 73, 57, 67, 57, 55, 59, 33, 52, 62, 41, 52, 66, 47, 54, 62, 59, 47, 73, 59, 58, 68, 60, 60, 54, 61, 59, 56, 64, 68, 44, 36, 63, 60, 58, 53, 26, 46, 51, 31, 73, 40, 49, 54, 53, 54, 30, 18, 41, 28, 36, 44, 41, 37, 59, 58, 56, 35, 66, 58, 38, 69, 32, 61, 29, 30, 67, 79, 62, 43, 39, 30, 58, 60, 59, 29, 70, 58, 49, 20, 42, 45, 43, 36, 62, 68, 56, 81, 67, 86, 51, 40, 66, 65, 45, 64, 45, 39, 43, 28, 57, 69, 65, 81, 71, 46, 40, 58, 34, 65, 54, 63, 37, 71, 61, 52, 51, 35, 28, 49, 53, 66, 62, 32, 31, 33, 41, 49, 38, 56, 54, 55, 74, 56, 62, 34, 62, 43, 63, 32, 51, 56, 31, 45, 41, 66, 48, 75, 72, 33, 67, 36, 28, 57, 40, 75, 42, 59, 28, 56, 27, 34, 32, 55, 34, 35, 43, 60, 31, 57, 52, 46, 45, 47, 58, 56, 57, 68, 32, 38, 68, 37, 33, 45, 30, 36, 61, 62, 51, 34, 62, 47, 55, 36, 35, 58, 56, 27, 42, 58, 27, 36, 42, 46, 45, 53, 52, 42, 44, 67, 32, 26, 60, 25, 67, 60, 45, 65, 33, 60, 67, 68, 42, 61, 29, 34, 48, 75, 36, 51, 41, 75, 30, 56, 57, 63, 50, 68, 46, 56, 51, 37, 60, 26, 62, 43, 75, 48, 58, 59, 68, 45, 61, 57, 79, 44, 65, 43, 46, 33, 47, 32, 47, 69, 51, 59, 32, 50, 57, 37, 66, 22, 62, 34, 32, 59, 37, 41, 25, 52, 58, 38, 52, 54, 36, 60, 29, 62, 55, 66, 58, 47, 69, 57, 48, 48, 69, 47, 60, 45, 52, 49, 62, 54, 32, 44, 60, 41, 20, 39, 36, 46, 49, 32, 60, 41, 37, 33, 48, 57, 64, 29, 54, 41, 58, 57, 55, 65, 34, 64, 40, 35, 35, 55, 38, 58, 48, 56, 66, 83, 45, 68, 32, 41, 59, 65, 56, 53, 34, 70, 54, 68, 58, 49, 33, 30, 30, 66, 34, 54, 49, 41, 72, 30, 32, 39, 26, 47, 27, 59, 48, 77, 36, 54, 55, 53, 57, 61, 32, 58, 55, 57, 53, 62, 38, 31, 48, 36, 30, 33, 61, 39, 46, 48, 52, 44, 53, 56, 25, 45, 71, 50, 49, 22, 58, 38, 30, 31, 41, 65, 54, 72, 43, 73, 35, 34, 37, 53, 46, 33, 56, 59, 53, 34, 61, 64, 28, 28, 28, 51, 39, 31, 63, 37, 41, 43, 27, 57, 50, 66, 54, 63, 62, 46, 45, 32, 75, 45, 62, 33, 46, 65, 58, 40, 58, 29, 63, 48, 34, 56, 68, 55, 62, 24, 45, 74, 51, 59, 51, 25, 63, 48, 38, 64, 30, 45, 31, 44, 34, 65, 31, 64, 56, 70, 37, 56, 54, 57, 48, 66, 52, 67, 32, 60, 57, 51, 41, 65, 78, 42, 49, 48, 74, 64, 41, 30, 63, 44, 32, 50, 67, 49, 55, 68, 47, 74, 46, 45, 60, 61, 72, 64, 40, 65, 50, 61, 40, 50, 34, 72, 36, 44, 31, 49, 61, 38, 66, 30, 33, 68, 31, 51, 62, 51, 83, 62, 57, 47, 36, 33, 31, 44, 37, 61, 49, 66, 34, 34, 31, 63, 39, 75, 67, 36, 62, 29, 47, 63, 46, 50, 50, 70, 27, 68, 60, 65, 42, 29, 62, 62, 80, 39, 64, 28, 59, 69, 58, 53, 39, 63, 60, 61, 48, 28, 75, 28, 29, 29, 38, 38, 61, 48, 65, 41, 70, 36, 68, 63, 70, 55, 59, 39, 38, 34, 32, 75, 47, 30, 33, 28, 35, 60, 41, 30, 29, 73, 44, 58, 28, 48, 40, 60, 38, 47, 62, 63, 40, 71, 31, 36, 86, 36, 37, 46, 32, 71, 28, 70, 53, 24, 30, 60, 70, 33, 44, 31, 53, 24, 37, 66, 36, 39, 36, 39, 43, 49, 56, 44, 70, 40, 53, 75, 50, 69, 37, 51, 40, 56, 57, 50, 51, 61, 64, 67, 65, 64, 69, 64, 53, 75, 55, 50, 52, 60, 62, 42, 27, 58, 44, 73, 75, 52, 50, 48, 62, 34, 67, 48, 53, 76, 62, 53, 56, 32, 42, 59, 35, 52, 59, 32, 71, 70, 34, 27, 66, 62, 32, 57, 55, 28, 31, 74, 58, 62, 53, 46, 45, 38, 53, 55, 29, 59, 37, 43, 60, 62, 56, 30, 71, 70, 36, 66, 54, 54, 31, 62, 61, 32, 61, 65, 65, 38, 64, 67, 34, 54, 65, 48, 69, 39, 52, 65, 30, 47, 69, 31, 35, 64, 41, 78, 31, 52, 68, 66, 44, 49, 40, 61, 50, 25, 42, 34, 35, 72, 42, 46, 34, 60, 54, 50, 41, 69, 66, 55, 39, 64, 58, 31, 30, 60, 70, 41, 61, 59, 58, 62, 60, 65, 58, 55, 67, 36, 66, 36, 52, 36, 25, 56, 43, 59, 70, 40, 68, 28, 61, 56, 50, 65, 68, 70, 63, 68, 74, 65, 50, 30, 53, 67, 62, 68, 62, 33, 28, 71, 61, 67, 36, 67, 72, 59, 72, 39, 62, 47, 62, 42, 52, 51, 59, 62, 46, 38, 33, 38, 68, 45, 30, 53, 55, 65, 50, 55, 46, 68, 47, 40, 62, 34, 60, 31, 28, 57, 44, 33, 51, 66, 39, 51, 38, 84, 44, 68, 62, 36, 58, 54, 48, 35, 55, 46, 27, 59, 58, 57, 64, 72, 31, 45, 38, 57, 59, 74, 36, 67, 33, 49, 22, 72, 57, 41, 37, 45, 40, 66, 37, 62, 67, 70, 40, 65, 70, 69, 69, 28, 63, 55, 35, 58, 27, 56, 43, 62, 44, 69, 46, 77, 39, 67, 52, 54, 61, 54, 48, 51, 55, 50, 65, 60, 57, 60, 47, 49, 55, 58, 25, 63, 35, 61, 61, 67, 27, 73, 36, 40, 43, 45, 35, 46, 50, 54, 70, 42, 30, 64, 53, 60, 52, 65, 45, 40, 78, 35, 51, 39, 81, 58, 61, 67, 42, 68, 30, 55, 61, 63, 61, 52, 55, 38, 45, 62, 48, 34, 29, 60, 62, 69, 44, 59, 64, 60, 75, 63, 46, 30, 28, 64, 46, 32, 59, 72, 62, 53, 40, 50, 44, 71, 28, 38, 63, 49, 48, 65, 42, 49, 46, 41, 35, 47, 63, 36, 32, 35, 62, 39, 47, 42, 31, 41, 35, 66, 59, 63, 22, 63, 56, 71, 47, 64, 57, 49, 32, 64, 57, 55, 72, 67, 48, 56, 62, 60, 66, 51, 42, 50, 55, 39, 31, 38, 50, 33, 71, 45, 35, 69, 66, 51, 57, 29, 33, 35, 63, 35, 40, 74, 37, 60, 65, 63, 53, 33, 45, 29, 53, 68, 34, 49, 57, 66, 34, 38, 61, 50, 64, 65, 58, 33, 39, 54, 52, 22, 62, 46, 52, 57, 40, 46, 25, 33, 47, 64, 40, 53, 66, 55, 30, 55, 40, 59, 36, 53, 66, 39, 62, 62, 83, 56, 75, 29, 66, 28, 55, 37, 58, 42, 59, 39, 41, 35, 43, 28, 63, 53, 27, 48, 47, 39, 42, 71, 62, 64, 36, 76, 33, 31, 54, 31, 66, 88, 82, 54, 63, 50, 61, 58, 49, 35, 45, 39, 70, 39, 66, 70, 49, 63, 69, 45, 60, 68, 65, 32, 34, 28, 29, 41, 59, 59, 40, 64, 29, 32, 38, 44, 35, 45, 60, 31, 56, 60, 51, 47, 58, 34, 38, 51, 61, 26, 39, 41, 75, 38, 59, 56, 44, 67, 79, 65, 34, 22, 65, 57, 56, 58, 47, 67, 66, 48, 42, 47, 53, 22, 31, 66, 32, 68, 39, 74, 58, 46, 42, 69, 70, 71, 63, 68, 64, 79, 53, 64, 40, 26, 32, 46, 49, 44, 49, 32, 68, 52, 37, 64, 59, 33, 35, 33, 32, 25, 41, 29, 59, 43, 62, 63, 69, 33, 61, 63, 30, 34, 65, 67, 67, 64, 66, 49, 27, 60, 29, 31, 25, 42, 59, 45, 42, 52, 57, 29, 32, 56, 64, 52, 75, 49, 47, 66, 58, 69, 36, 29, 64, 36, 36, 44, 63, 39, 32, 60, 73, 47, 63, 38, 39, 49, 66, 35, 61, 59, 53, 61, 30, 40, 69, 49, 29, 45, 50, 42, 39, 56, 49, 46, 58, 29, 46, 55, 71, 29, 45, 39, 33, 25, 57, 59, 59, 56, 52, 52, 58, 29, 66, 78, 77, 48, 62, 48, 53, 64, 39, 28, 23, 75, 55, 64, 23, 59, 62, 68, 67, 25, 54, 61, 76, 39, 60], \"xaxis\": \"x3\", \"yaxis\": \"y3\"}, {\"alignmentgroup\": \"True\", \"bingroup\": \"x\", \"histnorm\": \"probability density\", \"hoverlabel\": {\"namelength\": 0}, \"hovertemplate\": \"Position=GK<br>Crossing=%{x}<br>count=%{y}\", \"legendgroup\": \"\", \"marker\": {\"color\": \"#636efa\"}, \"name\": \"\", \"offsetgroup\": \"\", \"orientation\": \"v\", \"showlegend\": false, \"type\": \"histogram\", \"x\": [13, 11, 14, 11, 18, 21, 10, 14, 13, 15, 20, 11, 12, 12, 20, 11, 13, 11, 20, 17, 9, 10, 11, 10, 15, 16, 14, 10, 14, 20, 9, 12, 13, 12, 12, 14, 10, 19, 15, 13, 11, 18, 21, 12, 13, 15, 15, 10, 12, 15, 12, 23, 13, 19, 15, 18, 18, 13, 11, 16, 13, 11, 14, 14, 11, 20, 14, 11, 13, 19, 14, 13, 10, 15, 12, 16, 11, 14, 13, 20, 13, 11, 12, 17, 18, 17, 18, 25, 14, 9, 13, 19, 20, 12, 14, 18, 12, 19, 12, 11, 11, 19, 19, 15, 18, 15, 15, 16, 14, 11, 12, 18, 12, 12, 8, 18, 25, 15, 15, 11, 19, 17, 14, 8, 14, 11, 17, 8, 14, 13, 12, 9, 15, 18, 16, 13, 10, 19, 19, 12, 10, 13, 10, 19, 15, 21, 17, 10, 12, 14, 13, 18, 13, 13, 19, 12, 8, 11, 15, 33, 13, 16, 11, 9, 17, 11, 10, 12, 12, 13, 12, 13, 15, 14, 21, 20, 14, 14, 12, 18, 11, 10, 18, 13, 11, 9, 11, 9, 14, 12, 19, 12, 10, 10, 19, 15, 16, 11, 16, 12, 17, 18, 12, 13, 16, 20, 12, 11, 14, 18, 14, 14, 21, 12, 10, 16, 17, 18, 11, 25, 16, 15, 14, 11, 12, 12, 15, 10, 10, 10, 14, 14, 20, 13, 15, 10, 13, 10, 11, 20, 12, 8, 19, 11, 13, 15, 15, 12, 10, 12, 14, 15, 9, 13, 17, 16, 15, 21, 19, 19, 13, 13, 11, 11, 18, 17, 10, 11, 14, 18, 10, 18, 19, 11, 12, 16, 11, 16, 12, 11, 14, 14, 14, 11, 19, 19, 20, 23, 15, 14, 13, 17, 15, 13, 11, 14, 14, 14, 14, 14, 14, 14, 10, 10, 14, 15, 23, 13, 12, 14, 10, 13, 20, 12, 19, 30, 20, 14, 13, 10, 13, 13, 12, 11, 15, 12, 20, 18, 17, 11, 11, 22, 13, 11, 15, 15, 20, 14, 19, 15, 17, 12, 19, 17, 15, 13, 11, 12, 11, 13, 12, 11, 14, 17, 12, 13, 14, 16, 15, 18, 13, 15, 13, 16, 14, 13, 14, 10, 13, 14, 11, 13, 12, 15, 9, 17, 13, 12, 14, 21, 10, 15, 12, 12, 15, 22, 13, 10, 13, 11, 11, 21, 24, 11, 12, 14, 10, 12, 17, 16, 22, 11, 20, 14, 11, 11, 19, 15, 13, 11, 13, 11, 10, 21, 21, 11, 18, 17, 14, 14, 30, 21, 12, 19, 22, 14, 13, 11, 12, 15, 15, 13, 14, 15, 16, 11, 12, 10, 17, 18, 12, 16, 21, 15, 10, 14, 17, 13, 12, 18, 11, 10, 11, 13, 13, 10, 15, 11, 5, 11, 15, 13, 11, 16, 20, 13, 11, 14, 11, 17, 15, 12, 14, 14, 14, 11, 12, 14, 12, 11, 13, 13, 13, 12, 24, 11, 11, 12, 15, 12, 11, 9, 13, 14, 18, 15, 13, 16, 17, 11, 23, 16, 12, 10, 20, 12, 11, 10, 20, 13, 20, 8, 15, 14, 14, 15, 18, 12, 23, 16, 14, 14, 21, 11, 12, 14, 12, 19, 15, 13, 13, 16, 12, 13, 18, 15, 11, 15, 13, 12, 28, 19, 18, 14, 16, 14, 14, 18, 15, 11, 8, 20, 11, 8, 14, 16, 21, 15, 14, 13, 11, 13, 18, 12, 12, 20, 10, 10, 18, 10, 10, 15, 13, 15, 35, 12, 14, 12, 11, 11, 16, 13, 11, 14, 12, 10, 12, 10, 15, 12, 21, 14, 18, 14, 20, 14, 15, 16, 12, 27, 12, 15, 15, 13, 10, 8, 20, 13, 23, 12, 12, 12, 10, 12, 10, 12, 10, 11, 14, 18, 10, 14, 11, 13, 15, 13, 10, 13, 13, 13, 19, 18, 14, 7, 18, 19, 10, 12, 15, 12, 11, 10, 18, 18, 20, 17, 11, 14, 28, 14, 15, 14, 22, 20, 13, 16, 13, 13, 14, 10, 11, 11, 11, 11, 35, 14, 11, 12, 11, 13, 12, 12, 13, 12, 12, 12, 12, 10, 13, 16, 12, 17, 17, 13, 16, 18, 17, 11, 6, 19, 22, 20, 18, 12, 10, 15, 12, 14, 20, 11, 15, 23, 11, 15, 21, 11, 16, 20, 14, 12, 14, 11, 20, 11, 23, 14, 18, 12, 14, 19, 20, 12, 13, 14, 11, 12, 24, 14, 14, 13, 10, 10, 30, 10, 11, 9, 13, 13, 13, 12, 18, 14, 15, 12, 14, 8, 12, 16, 25, 13, 10, 14, 11, 10, 12, 15, 12, 13, 14, 22, 22, 11, 19, 13, 15, 11, 13, 15, 22, 12, 16, 10, 15, 11, 15, 12, 10, 12, 15, 13, 11, 12, 12, 11, 8, 14, 12, 12, 17, 10, 16, 19, 13, 10, 15, 25, 20, 10, 12, 11, 14, 18, 17, 13, 12, 13, 17, 13, 11, 14, 14, 7, 12, 14, 13, 16, 13, 9, 13, 17, 11, 12, 13, 14, 14, 14, 17, 13, 24, 14, 11, 18, 13, 11, 19, 20, 14, 14, 17, 9, 15, 15, 12, 10, 19, 9, 13, 15, 6, 11, 9, 20, 11, 15, 14, 18, 12, 6, 11, 11, 13, 13, 14, 19, 13, 9, 13, 19, 14, 18, 20, 18, 12, 12, 15, 18, 13, 15, 14, 12, 14, 19, 16, 19, 16, 9, 10, 17, 18, 16, 13, 19, 13, 11, 18, 14, 10, 20, 9, 12, 18, 9, 13, 14, 12, 11, 13, 13, 10, 22, 16, 15, 14, 11, 15, 18, 14, 13, 12, 13, 12, 12, 15, 9, 12, 14, 15, 12, 10, 12, 11, 13, 12, 10, 10, 13, 24, 17, 17, 12, 12, 17, 14, 19, 13, 8, 11, 13, 19, 15, 9, 18, 12, 16, 11, 21, 24, 17, 14, 15, 14, 10, 15, 14, 12, 11, 10, 12, 12, 14, 15, 18, 9, 11, 9, 13, 11, 9, 30, 17, 20, 11, 11, 11, 17, 9, 10, 19, 15, 18, 19, 19, 10, 15, 14, 17, 20, 15, 10, 14, 13, 13, 16, 11, 10, 22, 14, 11, 11, 14, 19, 19, 20, 10, 18, 11, 11, 20, 19, 10, 14, 19, 9, 22, 11, 14, 14, 17, 14, 11, 12, 14, 14, 15, 16, 15, 18, 13, 12, 14, 14, 16, 11, 10, 18, 11, 13, 15, 14, 10, 14, 14, 20, 10, 13, 11, 32, 13, 15, 24, 17, 19, 11, 18, 18, 14, 11, 21, 13, 15, 18, 11, 12, 20, 11, 13, 8, 17, 16, 12, 20, 16, 16, 13, 12, 19, 29, 11, 17, 18, 10, 12, 9, 10, 17, 14, 14, 20, 18, 15, 10, 13, 14, 17, 9, 14, 13, 13, 10, 26, 14, 13, 14, 11, 15, 14, 19, 12, 14, 17, 13, 9, 14, 24, 16, 15, 10, 18, 11, 12, 12, 9, 20, 18, 14, 14, 14, 14, 21, 12, 17, 13, 12, 15, 33, 15, 16, 11, 12, 13, 12, 11, 13, 12, 16, 13, 22, 11, 16, 12, 14, 20, 12, 12, 12, 17, 13, 13, 15, 15, 17, 18, 12, 18, 13, 12, 14, 12, 13, 15, 14, 12, 14, 17, 11, 11, 14, 12, 13, 18, 13, 13, 18, 13, 23, 10, 14, 17, 11, 13, 17, 14, 12, 20, 10, 13, 14, 11, 27, 12, 11, 15, 8, 11, 21, 16, 12, 13, 13, 14, 13, 15, 15, 14, 11, 8, 17, 12, 12, 12, 13, 10, 14, 13, 13, 14, 14, 13, 10, 19, 16, 13, 15, 9, 14, 12, 16, 10, 13, 12, 10, 21, 14, 10, 19, 11, 18, 18, 11, 13, 15, 20, 10, 23, 12, 12, 18, 14, 12, 16, 10, 10, 10, 21, 15, 20, 14, 15, 11, 14, 15, 14, 12, 11, 14, 13, 14, 8, 14, 31, 13, 8, 19, 14, 10, 15, 11, 17, 15, 12, 12, 17, 8, 13, 13, 10, 15, 14, 14, 11, 12, 11, 11, 14, 12, 17, 19, 17, 33, 14, 10, 23, 13, 17, 16, 13, 20, 13, 12, 11, 17, 15, 13, 18, 21, 12, 11, 17, 16, 12, 14, 13, 25, 11, 18, 11, 10, 12, 10, 14, 11, 7, 9, 13, 18, 11, 13, 9, 11, 11, 13, 17, 13, 17, 12, 11, 18, 13, 16, 13, 21, 12, 12, 11, 11, 16, 7, 15, 10, 10, 14, 15, 14], \"xaxis\": \"x4\", \"yaxis\": \"y4\"}],\n",
              "                        {\"annotations\": [{\"font\": {}, \"showarrow\": false, \"text\": \"Position=DEF\", \"x\": 0.1175, \"xanchor\": \"center\", \"xref\": \"paper\", \"y\": 1.0, \"yanchor\": \"bottom\", \"yref\": \"paper\"}, {\"font\": {}, \"showarrow\": false, \"text\": \"Position=MID\", \"x\": 0.3725, \"xanchor\": \"center\", \"xref\": \"paper\", \"y\": 1.0, \"yanchor\": \"bottom\", \"yref\": \"paper\"}, {\"font\": {}, \"showarrow\": false, \"text\": \"Position=FWD\", \"x\": 0.6275, \"xanchor\": \"center\", \"xref\": \"paper\", \"y\": 1.0, \"yanchor\": \"bottom\", \"yref\": \"paper\"}, {\"font\": {}, \"showarrow\": false, \"text\": \"Position=GK\", \"x\": 0.8824999999999998, \"xanchor\": \"center\", \"xref\": \"paper\", \"y\": 1.0, \"yanchor\": \"bottom\", \"yref\": \"paper\"}], \"barmode\": \"relative\", \"legend\": {\"tracegroupgap\": 0}, \"margin\": {\"t\": 60}, \"template\": {\"data\": {\"bar\": [{\"error_x\": {\"color\": \"#2a3f5f\"}, \"error_y\": {\"color\": \"#2a3f5f\"}, \"marker\": {\"line\": {\"color\": \"#E5ECF6\", \"width\": 0.5}}, \"type\": \"bar\"}], \"barpolar\": [{\"marker\": {\"line\": {\"color\": \"#E5ECF6\", \"width\": 0.5}}, \"type\": \"barpolar\"}], \"carpet\": [{\"aaxis\": {\"endlinecolor\": \"#2a3f5f\", \"gridcolor\": \"white\", \"linecolor\": \"white\", \"minorgridcolor\": \"white\", \"startlinecolor\": \"#2a3f5f\"}, \"baxis\": {\"endlinecolor\": \"#2a3f5f\", \"gridcolor\": \"white\", \"linecolor\": \"white\", \"minorgridcolor\": \"white\", \"startlinecolor\": \"#2a3f5f\"}, \"type\": \"carpet\"}], \"choropleth\": [{\"colorbar\": {\"outlinewidth\": 0, \"ticks\": \"\"}, \"type\": \"choropleth\"}], \"contour\": [{\"colorbar\": {\"outlinewidth\": 0, \"ticks\": \"\"}, \"colorscale\": [[0.0, \"#0d0887\"], [0.1111111111111111, \"#46039f\"], [0.2222222222222222, \"#7201a8\"], [0.3333333333333333, \"#9c179e\"], [0.4444444444444444, \"#bd3786\"], [0.5555555555555556, \"#d8576b\"], [0.6666666666666666, \"#ed7953\"], [0.7777777777777778, \"#fb9f3a\"], [0.8888888888888888, \"#fdca26\"], [1.0, \"#f0f921\"]], \"type\": \"contour\"}], \"contourcarpet\": [{\"colorbar\": {\"outlinewidth\": 0, \"ticks\": \"\"}, \"type\": \"contourcarpet\"}], \"heatmap\": [{\"colorbar\": {\"outlinewidth\": 0, \"ticks\": \"\"}, \"colorscale\": [[0.0, \"#0d0887\"], [0.1111111111111111, \"#46039f\"], [0.2222222222222222, \"#7201a8\"], [0.3333333333333333, \"#9c179e\"], [0.4444444444444444, \"#bd3786\"], [0.5555555555555556, \"#d8576b\"], [0.6666666666666666, \"#ed7953\"], [0.7777777777777778, \"#fb9f3a\"], [0.8888888888888888, \"#fdca26\"], [1.0, \"#f0f921\"]], \"type\": \"heatmap\"}], \"heatmapgl\": [{\"colorbar\": {\"outlinewidth\": 0, \"ticks\": \"\"}, \"colorscale\": [[0.0, \"#0d0887\"], [0.1111111111111111, \"#46039f\"], [0.2222222222222222, \"#7201a8\"], [0.3333333333333333, \"#9c179e\"], [0.4444444444444444, \"#bd3786\"], [0.5555555555555556, \"#d8576b\"], [0.6666666666666666, \"#ed7953\"], [0.7777777777777778, \"#fb9f3a\"], [0.8888888888888888, \"#fdca26\"], [1.0, \"#f0f921\"]], \"type\": \"heatmapgl\"}], \"histogram\": [{\"marker\": {\"colorbar\": {\"outlinewidth\": 0, \"ticks\": \"\"}}, \"type\": \"histogram\"}], \"histogram2d\": [{\"colorbar\": {\"outlinewidth\": 0, \"ticks\": \"\"}, \"colorscale\": [[0.0, \"#0d0887\"], [0.1111111111111111, \"#46039f\"], [0.2222222222222222, \"#7201a8\"], [0.3333333333333333, \"#9c179e\"], [0.4444444444444444, \"#bd3786\"], [0.5555555555555556, \"#d8576b\"], [0.6666666666666666, \"#ed7953\"], [0.7777777777777778, \"#fb9f3a\"], [0.8888888888888888, \"#fdca26\"], [1.0, \"#f0f921\"]], \"type\": \"histogram2d\"}], \"histogram2dcontour\": [{\"colorbar\": {\"outlinewidth\": 0, \"ticks\": \"\"}, \"colorscale\": [[0.0, \"#0d0887\"], [0.1111111111111111, \"#46039f\"], [0.2222222222222222, \"#7201a8\"], [0.3333333333333333, \"#9c179e\"], [0.4444444444444444, \"#bd3786\"], [0.5555555555555556, \"#d8576b\"], [0.6666666666666666, \"#ed7953\"], [0.7777777777777778, \"#fb9f3a\"], [0.8888888888888888, \"#fdca26\"], [1.0, \"#f0f921\"]], \"type\": \"histogram2dcontour\"}], \"mesh3d\": [{\"colorbar\": {\"outlinewidth\": 0, \"ticks\": \"\"}, \"type\": \"mesh3d\"}], \"parcoords\": [{\"line\": {\"colorbar\": {\"outlinewidth\": 0, \"ticks\": \"\"}}, \"type\": \"parcoords\"}], \"pie\": [{\"automargin\": true, \"type\": \"pie\"}], \"scatter\": [{\"marker\": {\"colorbar\": {\"outlinewidth\": 0, \"ticks\": \"\"}}, \"type\": \"scatter\"}], \"scatter3d\": [{\"line\": {\"colorbar\": {\"outlinewidth\": 0, \"ticks\": \"\"}}, \"marker\": {\"colorbar\": {\"outlinewidth\": 0, \"ticks\": \"\"}}, \"type\": \"scatter3d\"}], \"scattercarpet\": [{\"marker\": {\"colorbar\": {\"outlinewidth\": 0, \"ticks\": \"\"}}, \"type\": \"scattercarpet\"}], \"scattergeo\": [{\"marker\": {\"colorbar\": {\"outlinewidth\": 0, \"ticks\": \"\"}}, \"type\": \"scattergeo\"}], \"scattergl\": [{\"marker\": {\"colorbar\": {\"outlinewidth\": 0, \"ticks\": \"\"}}, \"type\": \"scattergl\"}], \"scattermapbox\": [{\"marker\": {\"colorbar\": {\"outlinewidth\": 0, \"ticks\": \"\"}}, \"type\": \"scattermapbox\"}], \"scatterpolar\": [{\"marker\": {\"colorbar\": {\"outlinewidth\": 0, \"ticks\": \"\"}}, \"type\": \"scatterpolar\"}], \"scatterpolargl\": [{\"marker\": {\"colorbar\": {\"outlinewidth\": 0, \"ticks\": \"\"}}, \"type\": \"scatterpolargl\"}], \"scatterternary\": [{\"marker\": {\"colorbar\": {\"outlinewidth\": 0, \"ticks\": \"\"}}, \"type\": \"scatterternary\"}], \"surface\": [{\"colorbar\": {\"outlinewidth\": 0, \"ticks\": \"\"}, \"colorscale\": [[0.0, \"#0d0887\"], [0.1111111111111111, \"#46039f\"], [0.2222222222222222, \"#7201a8\"], [0.3333333333333333, \"#9c179e\"], [0.4444444444444444, \"#bd3786\"], [0.5555555555555556, \"#d8576b\"], [0.6666666666666666, \"#ed7953\"], [0.7777777777777778, \"#fb9f3a\"], [0.8888888888888888, \"#fdca26\"], [1.0, \"#f0f921\"]], \"type\": \"surface\"}], \"table\": [{\"cells\": {\"fill\": {\"color\": \"#EBF0F8\"}, \"line\": {\"color\": \"white\"}}, \"header\": {\"fill\": {\"color\": \"#C8D4E3\"}, \"line\": {\"color\": \"white\"}}, \"type\": \"table\"}]}, \"layout\": {\"annotationdefaults\": {\"arrowcolor\": \"#2a3f5f\", \"arrowhead\": 0, \"arrowwidth\": 1}, \"coloraxis\": {\"colorbar\": {\"outlinewidth\": 0, \"ticks\": \"\"}}, \"colorscale\": {\"diverging\": [[0, \"#8e0152\"], [0.1, \"#c51b7d\"], [0.2, \"#de77ae\"], [0.3, \"#f1b6da\"], [0.4, \"#fde0ef\"], [0.5, \"#f7f7f7\"], [0.6, \"#e6f5d0\"], [0.7, \"#b8e186\"], [0.8, \"#7fbc41\"], [0.9, \"#4d9221\"], [1, \"#276419\"]], \"sequential\": [[0.0, \"#0d0887\"], [0.1111111111111111, \"#46039f\"], [0.2222222222222222, \"#7201a8\"], [0.3333333333333333, \"#9c179e\"], [0.4444444444444444, \"#bd3786\"], [0.5555555555555556, \"#d8576b\"], [0.6666666666666666, \"#ed7953\"], [0.7777777777777778, \"#fb9f3a\"], [0.8888888888888888, \"#fdca26\"], [1.0, \"#f0f921\"]], \"sequentialminus\": [[0.0, \"#0d0887\"], [0.1111111111111111, \"#46039f\"], [0.2222222222222222, \"#7201a8\"], [0.3333333333333333, \"#9c179e\"], [0.4444444444444444, \"#bd3786\"], [0.5555555555555556, \"#d8576b\"], [0.6666666666666666, \"#ed7953\"], [0.7777777777777778, \"#fb9f3a\"], [0.8888888888888888, \"#fdca26\"], [1.0, \"#f0f921\"]]}, \"colorway\": [\"#636efa\", \"#EF553B\", \"#00cc96\", \"#ab63fa\", \"#FFA15A\", \"#19d3f3\", \"#FF6692\", \"#B6E880\", \"#FF97FF\", \"#FECB52\"], \"font\": {\"color\": \"#2a3f5f\"}, \"geo\": {\"bgcolor\": \"white\", \"lakecolor\": \"white\", \"landcolor\": \"#E5ECF6\", \"showlakes\": true, \"showland\": true, \"subunitcolor\": \"white\"}, \"hoverlabel\": {\"align\": \"left\"}, \"hovermode\": \"closest\", \"mapbox\": {\"style\": \"light\"}, \"paper_bgcolor\": \"white\", \"plot_bgcolor\": \"#E5ECF6\", \"polar\": {\"angularaxis\": {\"gridcolor\": \"white\", \"linecolor\": \"white\", \"ticks\": \"\"}, \"bgcolor\": \"#E5ECF6\", \"radialaxis\": {\"gridcolor\": \"white\", \"linecolor\": \"white\", \"ticks\": \"\"}}, \"scene\": {\"xaxis\": {\"backgroundcolor\": \"#E5ECF6\", \"gridcolor\": \"white\", \"gridwidth\": 2, \"linecolor\": \"white\", \"showbackground\": true, \"ticks\": \"\", \"zerolinecolor\": \"white\"}, \"yaxis\": {\"backgroundcolor\": \"#E5ECF6\", \"gridcolor\": \"white\", \"gridwidth\": 2, \"linecolor\": \"white\", \"showbackground\": true, \"ticks\": \"\", \"zerolinecolor\": \"white\"}, \"zaxis\": {\"backgroundcolor\": \"#E5ECF6\", \"gridcolor\": \"white\", \"gridwidth\": 2, \"linecolor\": \"white\", \"showbackground\": true, \"ticks\": \"\", \"zerolinecolor\": \"white\"}}, \"shapedefaults\": {\"line\": {\"color\": \"#2a3f5f\"}}, \"ternary\": {\"aaxis\": {\"gridcolor\": \"white\", \"linecolor\": \"white\", \"ticks\": \"\"}, \"baxis\": {\"gridcolor\": \"white\", \"linecolor\": \"white\", \"ticks\": \"\"}, \"bgcolor\": \"#E5ECF6\", \"caxis\": {\"gridcolor\": \"white\", \"linecolor\": \"white\", \"ticks\": \"\"}}, \"title\": {\"x\": 0.05}, \"xaxis\": {\"automargin\": true, \"gridcolor\": \"white\", \"linecolor\": \"white\", \"ticks\": \"\", \"title\": {\"standoff\": 15}, \"zerolinecolor\": \"white\", \"zerolinewidth\": 2}, \"yaxis\": {\"automargin\": true, \"gridcolor\": \"white\", \"linecolor\": \"white\", \"ticks\": \"\", \"title\": {\"standoff\": 15}, \"zerolinecolor\": \"white\", \"zerolinewidth\": 2}}}, \"xaxis\": {\"anchor\": \"y\", \"domain\": [0.0, 0.235], \"title\": {\"text\": \"Crossing\"}}, \"xaxis2\": {\"anchor\": \"y2\", \"domain\": [0.255, 0.49], \"matches\": \"x\", \"title\": {\"text\": \"Crossing\"}}, \"xaxis3\": {\"anchor\": \"y3\", \"domain\": [0.51, 0.745], \"matches\": \"x\", \"title\": {\"text\": \"Crossing\"}}, \"xaxis4\": {\"anchor\": \"y4\", \"domain\": [0.7649999999999999, 0.9999999999999999], \"matches\": \"x\", \"title\": {\"text\": \"Crossing\"}}, \"yaxis\": {\"anchor\": \"x\", \"domain\": [0.0, 1.0], \"title\": {\"text\": \"count\"}}, \"yaxis2\": {\"anchor\": \"x2\", \"domain\": [0.0, 1.0], \"matches\": \"y\", \"showticklabels\": false}, \"yaxis3\": {\"anchor\": \"x3\", \"domain\": [0.0, 1.0], \"matches\": \"y\", \"showticklabels\": false}, \"yaxis4\": {\"anchor\": \"x4\", \"domain\": [0.0, 1.0], \"matches\": \"y\", \"showticklabels\": false}},\n",
              "                        {\"responsive\": true}\n",
              "                    ).then(function(){\n",
              "                            \n",
              "var gd = document.getElementById('a731f8ee-4267-4369-9a2d-6234cb81e976');\n",
              "var x = new MutationObserver(function (mutations, observer) {{\n",
              "        var display = window.getComputedStyle(gd).display;\n",
              "        if (!display || display === 'none') {{\n",
              "            console.log([gd, 'removed!']);\n",
              "            Plotly.purge(gd);\n",
              "            observer.disconnect();\n",
              "        }}\n",
              "}});\n",
              "\n",
              "// Listen for the removal of the full notebook cells\n",
              "var notebookContainer = gd.closest('#notebook-container');\n",
              "if (notebookContainer) {{\n",
              "    x.observe(notebookContainer, {childList: true});\n",
              "}}\n",
              "\n",
              "// Listen for the clearing of the current output cell\n",
              "var outputEl = gd.closest('.output');\n",
              "if (outputEl) {{\n",
              "    x.observe(outputEl, {childList: true});\n",
              "}}\n",
              "\n",
              "                        })\n",
              "                };\n",
              "                \n",
              "            </script>\n",
              "        </div>\n",
              "</body>\n",
              "</html>"
            ]
          },
          "metadata": {
            "tags": []
          }
        }
      ]
    },
    {
      "cell_type": "code",
      "metadata": {
        "colab": {
          "base_uri": "https://localhost:8080/",
          "height": 542
        },
        "id": "Y9CijXGy0FCL",
        "outputId": "a29e967a-3037-4f2d-eb71-c33245a7f341"
      },
      "source": [
        "px.violin(data_frame = data, y = variable, x = \"Position\", color = \"Position\", box = True, points = \"all\")"
      ],
      "execution_count": null,
      "outputs": [
        {
          "output_type": "display_data",
          "data": {
            "text/html": [
              "<html>\n",
              "<head><meta charset=\"utf-8\" /></head>\n",
              "<body>\n",
              "    <div>\n",
              "            <script src=\"https://cdnjs.cloudflare.com/ajax/libs/mathjax/2.7.5/MathJax.js?config=TeX-AMS-MML_SVG\"></script><script type=\"text/javascript\">if (window.MathJax) {MathJax.Hub.Config({SVG: {font: \"STIX-Web\"}});}</script>\n",
              "                <script type=\"text/javascript\">window.PlotlyConfig = {MathJaxConfig: 'local'};</script>\n",
              "        <script src=\"https://cdn.plot.ly/plotly-latest.min.js\"></script>    \n",
              "            <div id=\"40f37d1d-ce41-43ff-aaa8-0bcdb404fdd9\" class=\"plotly-graph-div\" style=\"height:525px; width:100%;\"></div>\n",
              "            <script type=\"text/javascript\">\n",
              "                \n",
              "                    window.PLOTLYENV=window.PLOTLYENV || {};\n",
              "                    \n",
              "                if (document.getElementById(\"40f37d1d-ce41-43ff-aaa8-0bcdb404fdd9\")) {\n",
              "                    Plotly.newPlot(\n",
              "                        '40f37d1d-ce41-43ff-aaa8-0bcdb404fdd9',\n",
              "                        [{\"alignmentgroup\": \"True\", \"box\": {\"visible\": true}, \"hoverlabel\": {\"namelength\": 0}, \"hovertemplate\": \"Position=%{x}<br>Crossing=%{y}\", \"legendgroup\": \"Position=DEF\", \"marker\": {\"color\": \"#636efa\"}, \"name\": \"Position=DEF\", \"offsetgroup\": \"Position=DEF\", \"orientation\": \"v\", \"points\": \"all\", \"scalegroup\": \"True\", \"showlegend\": true, \"type\": \"violin\", \"x\": [\"DEF\", \"DEF\", \"DEF\", \"DEF\", \"DEF\", \"DEF\", \"DEF\", \"DEF\", \"DEF\", \"DEF\", \"DEF\", \"DEF\", \"DEF\", \"DEF\", \"DEF\", \"DEF\", \"DEF\", \"DEF\", \"DEF\", \"DEF\", \"DEF\", \"DEF\", \"DEF\", \"DEF\", \"DEF\", \"DEF\", \"DEF\", \"DEF\", \"DEF\", \"DEF\", \"DEF\", \"DEF\", \"DEF\", \"DEF\", \"DEF\", \"DEF\", \"DEF\", \"DEF\", \"DEF\", \"DEF\", \"DEF\", \"DEF\", \"DEF\", \"DEF\", \"DEF\", \"DEF\", \"DEF\", \"DEF\", \"DEF\", \"DEF\", \"DEF\", \"DEF\", \"DEF\", \"DEF\", \"DEF\", \"DEF\", \"DEF\", \"DEF\", \"DEF\", \"DEF\", \"DEF\", \"DEF\", \"DEF\", \"DEF\", \"DEF\", \"DEF\", \"DEF\", \"DEF\", \"DEF\", \"DEF\", \"DEF\", \"DEF\", \"DEF\", \"DEF\", \"DEF\", \"DEF\", \"DEF\", \"DEF\", \"DEF\", \"DEF\", \"DEF\", \"DEF\", \"DEF\", \"DEF\", \"DEF\", \"DEF\", \"DEF\", \"DEF\", \"DEF\", \"DEF\", \"DEF\", \"DEF\", \"DEF\", \"DEF\", \"DEF\", \"DEF\", \"DEF\", \"DEF\", \"DEF\", \"DEF\", \"DEF\", \"DEF\", \"DEF\", \"DEF\", \"DEF\", \"DEF\", \"DEF\", \"DEF\", \"DEF\", \"DEF\", \"DEF\", \"DEF\", \"DEF\", \"DEF\", \"DEF\", \"DEF\", \"DEF\", \"DEF\", \"DEF\", \"DEF\", \"DEF\", \"DEF\", \"DEF\", \"DEF\", \"DEF\", \"DEF\", \"DEF\", \"DEF\", \"DEF\", \"DEF\", \"DEF\", \"DEF\", \"DEF\", \"DEF\", \"DEF\", \"DEF\", \"DEF\", \"DEF\", \"DEF\", \"DEF\", \"DEF\", \"DEF\", \"DEF\", \"DEF\", \"DEF\", \"DEF\", \"DEF\", \"DEF\", \"DEF\", \"DEF\", \"DEF\", \"DEF\", \"DEF\", \"DEF\", \"DEF\", \"DEF\", \"DEF\", \"DEF\", \"DEF\", \"DEF\", \"DEF\", \"DEF\", \"DEF\", \"DEF\", \"DEF\", \"DEF\", \"DEF\", \"DEF\", \"DEF\", \"DEF\", \"DEF\", \"DEF\", \"DEF\", \"DEF\", \"DEF\", \"DEF\", \"DEF\", \"DEF\", \"DEF\", \"DEF\", \"DEF\", \"DEF\", \"DEF\", \"DEF\", \"DEF\", \"DEF\", \"DEF\", \"DEF\", \"DEF\", \"DEF\", \"DEF\", \"DEF\", \"DEF\", \"DEF\", \"DEF\", \"DEF\", \"DEF\", \"DEF\", \"DEF\", \"DEF\", \"DEF\", \"DEF\", \"DEF\", \"DEF\", \"DEF\", \"DEF\", \"DEF\", \"DEF\", \"DEF\", \"DEF\", \"DEF\", \"DEF\", \"DEF\", \"DEF\", \"DEF\", \"DEF\", \"DEF\", \"DEF\", \"DEF\", \"DEF\", \"DEF\", \"DEF\", \"DEF\", \"DEF\", \"DEF\", \"DEF\", \"DEF\", \"DEF\", \"DEF\", \"DEF\", \"DEF\", \"DEF\", \"DEF\", \"DEF\", \"DEF\", \"DEF\", \"DEF\", \"DEF\", \"DEF\", \"DEF\", \"DEF\", \"DEF\", \"DEF\", \"DEF\", \"DEF\", \"DEF\", \"DEF\", \"DEF\", \"DEF\", \"DEF\", \"DEF\", \"DEF\", \"DEF\", \"DEF\", \"DEF\", \"DEF\", \"DEF\", \"DEF\", \"DEF\", \"DEF\", \"DEF\", \"DEF\", \"DEF\", \"DEF\", \"DEF\", \"DEF\", \"DEF\", \"DEF\", \"DEF\", \"DEF\", \"DEF\", \"DEF\", \"DEF\", \"DEF\", \"DEF\", \"DEF\", \"DEF\", \"DEF\", \"DEF\", \"DEF\", \"DEF\", \"DEF\", \"DEF\", \"DEF\", \"DEF\", \"DEF\", \"DEF\", \"DEF\", \"DEF\", \"DEF\", \"DEF\", \"DEF\", \"DEF\", \"DEF\", \"DEF\", \"DEF\", \"DEF\", \"DEF\", \"DEF\", \"DEF\", \"DEF\", \"DEF\", \"DEF\", \"DEF\", \"DEF\", \"DEF\", \"DEF\", \"DEF\", \"DEF\", \"DEF\", \"DEF\", \"DEF\", \"DEF\", \"DEF\", \"DEF\", \"DEF\", \"DEF\", \"DEF\", \"DEF\", \"DEF\", \"DEF\", \"DEF\", \"DEF\", \"DEF\", \"DEF\", \"DEF\", \"DEF\", \"DEF\", \"DEF\", \"DEF\", \"DEF\", \"DEF\", \"DEF\", \"DEF\", \"DEF\", \"DEF\", \"DEF\", \"DEF\", \"DEF\", \"DEF\", \"DEF\", \"DEF\", \"DEF\", \"DEF\", \"DEF\", \"DEF\", \"DEF\", \"DEF\", \"DEF\", \"DEF\", \"DEF\", \"DEF\", \"DEF\", \"DEF\", \"DEF\", \"DEF\", \"DEF\", \"DEF\", \"DEF\", \"DEF\", \"DEF\", \"DEF\", \"DEF\", \"DEF\", \"DEF\", \"DEF\", \"DEF\", \"DEF\", \"DEF\", \"DEF\", \"DEF\", \"DEF\", \"DEF\", \"DEF\", \"DEF\", \"DEF\", \"DEF\", \"DEF\", \"DEF\", \"DEF\", \"DEF\", \"DEF\", \"DEF\", \"DEF\", \"DEF\", \"DEF\", \"DEF\", \"DEF\", \"DEF\", \"DEF\", \"DEF\", \"DEF\", \"DEF\", \"DEF\", \"DEF\", \"DEF\", \"DEF\", \"DEF\", \"DEF\", \"DEF\", \"DEF\", \"DEF\", \"DEF\", \"DEF\", \"DEF\", \"DEF\", \"DEF\", \"DEF\", \"DEF\", \"DEF\", \"DEF\", \"DEF\", \"DEF\", \"DEF\", \"DEF\", \"DEF\", \"DEF\", \"DEF\", \"DEF\", \"DEF\", \"DEF\", \"DEF\", \"DEF\", \"DEF\", \"DEF\", \"DEF\", \"DEF\", \"DEF\", \"DEF\", \"DEF\", \"DEF\", \"DEF\", \"DEF\", \"DEF\", \"DEF\", \"DEF\", \"DEF\", \"DEF\", \"DEF\", \"DEF\", \"DEF\", \"DEF\", \"DEF\", \"DEF\", \"DEF\", \"DEF\", \"DEF\", \"DEF\", \"DEF\", \"DEF\", \"DEF\", \"DEF\", \"DEF\", \"DEF\", \"DEF\", \"DEF\", \"DEF\", \"DEF\", \"DEF\", \"DEF\", \"DEF\", \"DEF\", \"DEF\", \"DEF\", \"DEF\", \"DEF\", \"DEF\", \"DEF\", \"DEF\", \"DEF\", \"DEF\", \"DEF\", \"DEF\", \"DEF\", \"DEF\", \"DEF\", \"DEF\", \"DEF\", \"DEF\", \"DEF\", \"DEF\", \"DEF\", \"DEF\", \"DEF\", \"DEF\", \"DEF\", \"DEF\", \"DEF\", \"DEF\", \"DEF\", \"DEF\", \"DEF\", \"DEF\", \"DEF\", \"DEF\", \"DEF\", \"DEF\", \"DEF\", \"DEF\", \"DEF\", \"DEF\", \"DEF\", \"DEF\", \"DEF\", \"DEF\", \"DEF\", \"DEF\", \"DEF\", \"DEF\", \"DEF\", \"DEF\", \"DEF\", \"DEF\", \"DEF\", \"DEF\", \"DEF\", \"DEF\", \"DEF\", \"DEF\", \"DEF\", \"DEF\", \"DEF\", \"DEF\", \"DEF\", \"DEF\", \"DEF\", \"DEF\", \"DEF\", \"DEF\", \"DEF\", \"DEF\", \"DEF\", \"DEF\", \"DEF\", \"DEF\", \"DEF\", \"DEF\", \"DEF\", \"DEF\", \"DEF\", \"DEF\", \"DEF\", \"DEF\", \"DEF\", \"DEF\", \"DEF\", \"DEF\", \"DEF\", \"DEF\", \"DEF\", \"DEF\", \"DEF\", \"DEF\", \"DEF\", \"DEF\", \"DEF\", \"DEF\", \"DEF\", \"DEF\", \"DEF\", \"DEF\", \"DEF\", \"DEF\", \"DEF\", \"DEF\", \"DEF\", \"DEF\", \"DEF\", \"DEF\", \"DEF\", \"DEF\", \"DEF\", \"DEF\", \"DEF\", \"DEF\", \"DEF\", \"DEF\", \"DEF\", \"DEF\", \"DEF\", \"DEF\", \"DEF\", \"DEF\", \"DEF\", \"DEF\", \"DEF\", \"DEF\", \"DEF\", \"DEF\", \"DEF\", \"DEF\", \"DEF\", \"DEF\", \"DEF\", \"DEF\", \"DEF\", \"DEF\", \"DEF\", \"DEF\", \"DEF\", \"DEF\", \"DEF\", \"DEF\", \"DEF\", \"DEF\", \"DEF\", \"DEF\", \"DEF\", \"DEF\", \"DEF\", \"DEF\", \"DEF\", \"DEF\", \"DEF\", \"DEF\", \"DEF\", \"DEF\", \"DEF\", \"DEF\", \"DEF\", \"DEF\", \"DEF\", \"DEF\", \"DEF\", \"DEF\", \"DEF\", \"DEF\", \"DEF\", \"DEF\", \"DEF\", \"DEF\", \"DEF\", \"DEF\", \"DEF\", \"DEF\", \"DEF\", \"DEF\", \"DEF\", \"DEF\", \"DEF\", \"DEF\", \"DEF\", \"DEF\", \"DEF\", \"DEF\", \"DEF\", \"DEF\", \"DEF\", \"DEF\", \"DEF\", \"DEF\", \"DEF\", \"DEF\", \"DEF\", \"DEF\", \"DEF\", \"DEF\", \"DEF\", \"DEF\", \"DEF\", \"DEF\", \"DEF\", \"DEF\", \"DEF\", \"DEF\", \"DEF\", \"DEF\", \"DEF\", \"DEF\", \"DEF\", \"DEF\", \"DEF\", \"DEF\", \"DEF\", \"DEF\", \"DEF\", \"DEF\", \"DEF\", \"DEF\", \"DEF\", \"DEF\", \"DEF\", \"DEF\", \"DEF\", \"DEF\", \"DEF\", \"DEF\", \"DEF\", \"DEF\", \"DEF\", \"DEF\", \"DEF\", \"DEF\", \"DEF\", \"DEF\", \"DEF\", \"DEF\", \"DEF\", \"DEF\", \"DEF\", \"DEF\", \"DEF\", \"DEF\", \"DEF\", \"DEF\", \"DEF\", \"DEF\", \"DEF\", \"DEF\", \"DEF\", \"DEF\", \"DEF\", \"DEF\", \"DEF\", \"DEF\", \"DEF\", \"DEF\", \"DEF\", \"DEF\", \"DEF\", \"DEF\", \"DEF\", \"DEF\", \"DEF\", \"DEF\", \"DEF\", \"DEF\", \"DEF\", \"DEF\", \"DEF\", \"DEF\", \"DEF\", \"DEF\", \"DEF\", \"DEF\", \"DEF\", \"DEF\", \"DEF\", \"DEF\", \"DEF\", \"DEF\", \"DEF\", \"DEF\", \"DEF\", \"DEF\", \"DEF\", \"DEF\", \"DEF\", \"DEF\", \"DEF\", \"DEF\", \"DEF\", \"DEF\", \"DEF\", \"DEF\", \"DEF\", \"DEF\", \"DEF\", \"DEF\", \"DEF\", \"DEF\", \"DEF\", \"DEF\", \"DEF\", \"DEF\", \"DEF\", \"DEF\", \"DEF\", \"DEF\", \"DEF\", \"DEF\", \"DEF\", \"DEF\", \"DEF\", \"DEF\", \"DEF\", \"DEF\", \"DEF\", \"DEF\", \"DEF\", \"DEF\", \"DEF\", \"DEF\", \"DEF\", \"DEF\", \"DEF\", \"DEF\", \"DEF\", \"DEF\", \"DEF\", \"DEF\", \"DEF\", \"DEF\", \"DEF\", \"DEF\", \"DEF\", \"DEF\", \"DEF\", \"DEF\", \"DEF\", \"DEF\", \"DEF\", \"DEF\", \"DEF\", \"DEF\", \"DEF\", \"DEF\", \"DEF\", \"DEF\", \"DEF\", \"DEF\", \"DEF\", \"DEF\", \"DEF\", \"DEF\", \"DEF\", \"DEF\", \"DEF\", \"DEF\", \"DEF\", \"DEF\", \"DEF\", \"DEF\", \"DEF\", \"DEF\", \"DEF\", \"DEF\", \"DEF\", \"DEF\", \"DEF\", \"DEF\", \"DEF\", \"DEF\", \"DEF\", \"DEF\", \"DEF\", \"DEF\", \"DEF\", \"DEF\", \"DEF\", \"DEF\", \"DEF\", \"DEF\", \"DEF\", \"DEF\", \"DEF\", \"DEF\", \"DEF\", \"DEF\", \"DEF\", \"DEF\", \"DEF\", \"DEF\", \"DEF\", \"DEF\", \"DEF\", \"DEF\", \"DEF\", \"DEF\", \"DEF\", \"DEF\", \"DEF\", \"DEF\", \"DEF\", \"DEF\", \"DEF\", \"DEF\", \"DEF\", \"DEF\", \"DEF\", \"DEF\", \"DEF\", \"DEF\", \"DEF\", \"DEF\", \"DEF\", \"DEF\", \"DEF\", \"DEF\", \"DEF\", \"DEF\", \"DEF\", \"DEF\", \"DEF\", \"DEF\", \"DEF\", \"DEF\", \"DEF\", \"DEF\", \"DEF\", \"DEF\", \"DEF\", \"DEF\", \"DEF\", \"DEF\", \"DEF\", \"DEF\", \"DEF\", \"DEF\", \"DEF\", \"DEF\", \"DEF\", \"DEF\", \"DEF\", \"DEF\", \"DEF\", \"DEF\", \"DEF\", \"DEF\", \"DEF\", \"DEF\", \"DEF\", \"DEF\", \"DEF\", \"DEF\", \"DEF\", \"DEF\", \"DEF\", \"DEF\", \"DEF\", \"DEF\", \"DEF\", \"DEF\", \"DEF\", \"DEF\", \"DEF\", \"DEF\", \"DEF\", \"DEF\", \"DEF\", \"DEF\", \"DEF\", \"DEF\", \"DEF\", \"DEF\", \"DEF\", \"DEF\", \"DEF\", \"DEF\", \"DEF\", \"DEF\", \"DEF\", \"DEF\", \"DEF\", \"DEF\", \"DEF\", \"DEF\", \"DEF\", \"DEF\", \"DEF\", \"DEF\", \"DEF\", \"DEF\", \"DEF\", \"DEF\", \"DEF\", \"DEF\", \"DEF\", \"DEF\", \"DEF\", \"DEF\", \"DEF\", \"DEF\", \"DEF\", \"DEF\", \"DEF\", \"DEF\", \"DEF\", \"DEF\", \"DEF\", \"DEF\", \"DEF\", \"DEF\", \"DEF\", \"DEF\", \"DEF\", \"DEF\", \"DEF\", \"DEF\", \"DEF\", \"DEF\", \"DEF\", \"DEF\", \"DEF\", \"DEF\", \"DEF\", \"DEF\", \"DEF\", \"DEF\", \"DEF\", \"DEF\", \"DEF\", \"DEF\", \"DEF\", \"DEF\", \"DEF\", \"DEF\", \"DEF\", \"DEF\", \"DEF\", \"DEF\", \"DEF\", \"DEF\", \"DEF\", \"DEF\", \"DEF\", \"DEF\", \"DEF\", \"DEF\", \"DEF\", \"DEF\", \"DEF\", \"DEF\", \"DEF\", \"DEF\", \"DEF\", \"DEF\", \"DEF\", \"DEF\", \"DEF\", \"DEF\", \"DEF\", \"DEF\", \"DEF\", \"DEF\", \"DEF\", \"DEF\", \"DEF\", \"DEF\", \"DEF\", \"DEF\", \"DEF\", \"DEF\", \"DEF\", \"DEF\", \"DEF\", \"DEF\", \"DEF\", \"DEF\", \"DEF\", \"DEF\", \"DEF\", \"DEF\", \"DEF\", \"DEF\", \"DEF\", \"DEF\", \"DEF\", \"DEF\", \"DEF\", \"DEF\", \"DEF\", \"DEF\", \"DEF\", \"DEF\", \"DEF\", \"DEF\", \"DEF\", \"DEF\", \"DEF\", \"DEF\", \"DEF\", \"DEF\", \"DEF\", \"DEF\", \"DEF\", \"DEF\", \"DEF\", \"DEF\", \"DEF\", \"DEF\", \"DEF\", \"DEF\", \"DEF\", \"DEF\", \"DEF\", \"DEF\", \"DEF\", \"DEF\", \"DEF\", \"DEF\", \"DEF\", \"DEF\", \"DEF\", \"DEF\", \"DEF\", \"DEF\", \"DEF\", \"DEF\", \"DEF\", \"DEF\", \"DEF\", \"DEF\", \"DEF\", \"DEF\", \"DEF\", \"DEF\", \"DEF\", \"DEF\", \"DEF\", \"DEF\", \"DEF\", \"DEF\", \"DEF\", \"DEF\", \"DEF\", \"DEF\", \"DEF\", \"DEF\", \"DEF\", \"DEF\", \"DEF\", \"DEF\", \"DEF\", \"DEF\", \"DEF\", \"DEF\", \"DEF\", \"DEF\", \"DEF\", \"DEF\", \"DEF\", \"DEF\", \"DEF\", \"DEF\", \"DEF\", \"DEF\", \"DEF\", \"DEF\", \"DEF\", \"DEF\", \"DEF\", \"DEF\", \"DEF\", \"DEF\", \"DEF\", \"DEF\", \"DEF\", \"DEF\", \"DEF\", \"DEF\", \"DEF\", \"DEF\", \"DEF\", \"DEF\", \"DEF\", \"DEF\", \"DEF\", \"DEF\", \"DEF\", \"DEF\", \"DEF\", \"DEF\", \"DEF\", \"DEF\", \"DEF\", \"DEF\", \"DEF\", \"DEF\", \"DEF\", \"DEF\", \"DEF\", \"DEF\", \"DEF\", \"DEF\", \"DEF\", \"DEF\", \"DEF\", \"DEF\", \"DEF\", \"DEF\", \"DEF\", \"DEF\", \"DEF\", \"DEF\", \"DEF\", \"DEF\", \"DEF\", \"DEF\", \"DEF\", \"DEF\", \"DEF\", \"DEF\", \"DEF\", \"DEF\", \"DEF\", \"DEF\", \"DEF\", \"DEF\", \"DEF\", \"DEF\", \"DEF\", \"DEF\", \"DEF\", \"DEF\", \"DEF\", \"DEF\", \"DEF\", \"DEF\", \"DEF\", \"DEF\", \"DEF\", \"DEF\", \"DEF\", \"DEF\", \"DEF\", \"DEF\", \"DEF\", \"DEF\", \"DEF\", \"DEF\", \"DEF\", \"DEF\", \"DEF\", \"DEF\", \"DEF\", \"DEF\", \"DEF\", \"DEF\", \"DEF\", \"DEF\", \"DEF\", \"DEF\", \"DEF\", \"DEF\", \"DEF\", \"DEF\", \"DEF\", \"DEF\", \"DEF\", \"DEF\", \"DEF\", \"DEF\", \"DEF\", \"DEF\", \"DEF\", \"DEF\", \"DEF\", \"DEF\", \"DEF\", \"DEF\", \"DEF\", \"DEF\", \"DEF\", \"DEF\", \"DEF\", \"DEF\", \"DEF\", \"DEF\", \"DEF\", \"DEF\", \"DEF\", \"DEF\", \"DEF\", \"DEF\", \"DEF\", \"DEF\", \"DEF\", \"DEF\", \"DEF\", \"DEF\", \"DEF\", \"DEF\", \"DEF\", \"DEF\", \"DEF\", \"DEF\", \"DEF\", \"DEF\", \"DEF\", \"DEF\", \"DEF\", \"DEF\", \"DEF\", \"DEF\", \"DEF\", \"DEF\", \"DEF\", \"DEF\", \"DEF\", \"DEF\", \"DEF\", \"DEF\", \"DEF\", \"DEF\", \"DEF\", \"DEF\", \"DEF\", \"DEF\", \"DEF\", \"DEF\", \"DEF\", \"DEF\", \"DEF\", \"DEF\", \"DEF\", \"DEF\", \"DEF\", \"DEF\", \"DEF\", \"DEF\", \"DEF\", \"DEF\", \"DEF\", \"DEF\", \"DEF\", \"DEF\", \"DEF\", \"DEF\", \"DEF\", \"DEF\", \"DEF\", \"DEF\", \"DEF\", \"DEF\", \"DEF\", \"DEF\", \"DEF\", \"DEF\", \"DEF\", \"DEF\", \"DEF\", \"DEF\", \"DEF\", \"DEF\", \"DEF\", \"DEF\", \"DEF\", \"DEF\", \"DEF\", \"DEF\", \"DEF\", \"DEF\", \"DEF\", \"DEF\", \"DEF\", \"DEF\", \"DEF\", \"DEF\", \"DEF\", \"DEF\", \"DEF\", \"DEF\", \"DEF\", \"DEF\", \"DEF\", \"DEF\", \"DEF\", \"DEF\", \"DEF\", \"DEF\", \"DEF\", \"DEF\", \"DEF\", \"DEF\", \"DEF\", \"DEF\", \"DEF\", \"DEF\", \"DEF\", \"DEF\", \"DEF\", \"DEF\", \"DEF\", \"DEF\", \"DEF\", \"DEF\", \"DEF\", \"DEF\", \"DEF\", \"DEF\", \"DEF\", \"DEF\", \"DEF\", \"DEF\", \"DEF\", \"DEF\", \"DEF\", \"DEF\", \"DEF\", \"DEF\", \"DEF\", \"DEF\", \"DEF\", \"DEF\", \"DEF\", \"DEF\", \"DEF\", \"DEF\", \"DEF\", \"DEF\", \"DEF\", \"DEF\", \"DEF\", \"DEF\", \"DEF\", \"DEF\", \"DEF\", \"DEF\", \"DEF\", \"DEF\", \"DEF\", \"DEF\", \"DEF\", \"DEF\", \"DEF\", \"DEF\", \"DEF\", \"DEF\", \"DEF\", \"DEF\", \"DEF\", \"DEF\", \"DEF\", \"DEF\", \"DEF\", \"DEF\", \"DEF\", \"DEF\", \"DEF\", \"DEF\", \"DEF\", \"DEF\", \"DEF\", \"DEF\", \"DEF\", \"DEF\", \"DEF\", \"DEF\", \"DEF\", \"DEF\", \"DEF\", \"DEF\", \"DEF\", \"DEF\", \"DEF\", \"DEF\", \"DEF\", \"DEF\", \"DEF\", \"DEF\", \"DEF\", \"DEF\", \"DEF\", \"DEF\", \"DEF\", \"DEF\", \"DEF\", \"DEF\", \"DEF\", \"DEF\", \"DEF\", \"DEF\", \"DEF\", \"DEF\", \"DEF\", \"DEF\", \"DEF\", \"DEF\", \"DEF\", \"DEF\", \"DEF\", \"DEF\", \"DEF\", \"DEF\", \"DEF\", \"DEF\", \"DEF\", \"DEF\", \"DEF\", \"DEF\", \"DEF\", \"DEF\", \"DEF\", \"DEF\", \"DEF\", \"DEF\", \"DEF\", \"DEF\", \"DEF\", \"DEF\", \"DEF\", \"DEF\", \"DEF\", \"DEF\", \"DEF\", \"DEF\", \"DEF\", \"DEF\", \"DEF\", \"DEF\", \"DEF\", \"DEF\", \"DEF\", \"DEF\", \"DEF\", \"DEF\", \"DEF\", \"DEF\", \"DEF\", \"DEF\", \"DEF\", \"DEF\", \"DEF\", \"DEF\", \"DEF\", \"DEF\", \"DEF\", \"DEF\", \"DEF\", \"DEF\", \"DEF\", \"DEF\", \"DEF\", \"DEF\", \"DEF\", \"DEF\", \"DEF\", \"DEF\", \"DEF\", \"DEF\", \"DEF\", \"DEF\", \"DEF\", \"DEF\", \"DEF\", \"DEF\", \"DEF\", \"DEF\", \"DEF\", \"DEF\", \"DEF\", \"DEF\", \"DEF\", \"DEF\", \"DEF\", \"DEF\", \"DEF\", \"DEF\", \"DEF\", \"DEF\", \"DEF\", \"DEF\", \"DEF\", \"DEF\", \"DEF\", \"DEF\", \"DEF\", \"DEF\", \"DEF\", \"DEF\", \"DEF\", \"DEF\", \"DEF\", \"DEF\", \"DEF\", \"DEF\", \"DEF\", \"DEF\", \"DEF\", \"DEF\", \"DEF\", \"DEF\", \"DEF\", \"DEF\", \"DEF\", \"DEF\", \"DEF\", \"DEF\", \"DEF\", \"DEF\", \"DEF\", \"DEF\", \"DEF\", \"DEF\", \"DEF\", \"DEF\", \"DEF\", \"DEF\", \"DEF\", \"DEF\", \"DEF\", \"DEF\", \"DEF\", \"DEF\", \"DEF\", \"DEF\", \"DEF\", \"DEF\", \"DEF\", \"DEF\", \"DEF\", \"DEF\", \"DEF\", \"DEF\", \"DEF\", \"DEF\", \"DEF\", \"DEF\", \"DEF\", \"DEF\", \"DEF\", \"DEF\", \"DEF\", \"DEF\", \"DEF\", \"DEF\", \"DEF\", \"DEF\", \"DEF\", \"DEF\", \"DEF\", \"DEF\", \"DEF\", \"DEF\", \"DEF\", \"DEF\", \"DEF\", \"DEF\", \"DEF\", \"DEF\", \"DEF\", \"DEF\", \"DEF\", \"DEF\", \"DEF\", \"DEF\", \"DEF\", \"DEF\", \"DEF\", \"DEF\", \"DEF\", \"DEF\", \"DEF\", \"DEF\", \"DEF\", \"DEF\", \"DEF\", \"DEF\", \"DEF\", \"DEF\", \"DEF\", \"DEF\", \"DEF\", \"DEF\", \"DEF\", \"DEF\", \"DEF\", \"DEF\", \"DEF\", \"DEF\", \"DEF\", \"DEF\", \"DEF\", \"DEF\", \"DEF\", \"DEF\", \"DEF\", \"DEF\", \"DEF\", \"DEF\", \"DEF\", \"DEF\", \"DEF\", \"DEF\", \"DEF\", \"DEF\", \"DEF\", \"DEF\", \"DEF\", \"DEF\", \"DEF\", \"DEF\", \"DEF\", \"DEF\", \"DEF\", \"DEF\", \"DEF\", \"DEF\", \"DEF\", \"DEF\", \"DEF\", \"DEF\", \"DEF\", \"DEF\", \"DEF\", \"DEF\", \"DEF\", \"DEF\", \"DEF\", \"DEF\", \"DEF\", \"DEF\", \"DEF\", \"DEF\", \"DEF\", \"DEF\", \"DEF\", \"DEF\", \"DEF\", \"DEF\", \"DEF\", \"DEF\", \"DEF\", \"DEF\", \"DEF\", \"DEF\", \"DEF\", \"DEF\", \"DEF\", \"DEF\", \"DEF\", \"DEF\", \"DEF\", \"DEF\", \"DEF\", \"DEF\", \"DEF\", \"DEF\", \"DEF\", \"DEF\", \"DEF\", \"DEF\", \"DEF\", \"DEF\", \"DEF\", \"DEF\", \"DEF\", \"DEF\", \"DEF\", \"DEF\", \"DEF\", \"DEF\", \"DEF\", \"DEF\", \"DEF\", \"DEF\", \"DEF\", \"DEF\", \"DEF\", \"DEF\", \"DEF\", \"DEF\", \"DEF\", \"DEF\", \"DEF\", \"DEF\", \"DEF\", \"DEF\", \"DEF\", \"DEF\", \"DEF\", \"DEF\", \"DEF\", \"DEF\", \"DEF\", \"DEF\", \"DEF\", \"DEF\", \"DEF\", \"DEF\", \"DEF\", \"DEF\", \"DEF\", \"DEF\", \"DEF\", \"DEF\", \"DEF\", \"DEF\", \"DEF\", \"DEF\", \"DEF\", \"DEF\", \"DEF\", \"DEF\", \"DEF\", \"DEF\", \"DEF\", \"DEF\", \"DEF\", \"DEF\", \"DEF\", \"DEF\", \"DEF\", \"DEF\", \"DEF\", \"DEF\", \"DEF\", \"DEF\", \"DEF\", \"DEF\", \"DEF\", \"DEF\", \"DEF\", \"DEF\", \"DEF\", \"DEF\", \"DEF\", \"DEF\", \"DEF\", \"DEF\", \"DEF\", \"DEF\", \"DEF\", \"DEF\", \"DEF\", \"DEF\", \"DEF\", \"DEF\", \"DEF\", \"DEF\", \"DEF\", \"DEF\", \"DEF\", \"DEF\", \"DEF\", \"DEF\", \"DEF\", \"DEF\", \"DEF\", \"DEF\", \"DEF\", \"DEF\", \"DEF\", \"DEF\", \"DEF\", \"DEF\", \"DEF\", \"DEF\", \"DEF\", \"DEF\", \"DEF\", \"DEF\", \"DEF\", \"DEF\", \"DEF\", \"DEF\", \"DEF\", \"DEF\", \"DEF\", \"DEF\", \"DEF\", \"DEF\", \"DEF\", \"DEF\", \"DEF\", \"DEF\", \"DEF\", \"DEF\", \"DEF\", \"DEF\", \"DEF\", \"DEF\", \"DEF\", \"DEF\", \"DEF\", \"DEF\", \"DEF\", \"DEF\", \"DEF\", \"DEF\", \"DEF\", \"DEF\", \"DEF\", \"DEF\", \"DEF\", \"DEF\", \"DEF\", \"DEF\", \"DEF\", \"DEF\", \"DEF\", \"DEF\", \"DEF\", \"DEF\", \"DEF\", \"DEF\", \"DEF\", \"DEF\", \"DEF\", \"DEF\", \"DEF\", \"DEF\", \"DEF\", \"DEF\", \"DEF\", \"DEF\", \"DEF\", \"DEF\", \"DEF\", \"DEF\", \"DEF\", \"DEF\", \"DEF\", \"DEF\", \"DEF\", \"DEF\", \"DEF\", \"DEF\", \"DEF\", \"DEF\", \"DEF\", \"DEF\", \"DEF\", \"DEF\", \"DEF\", \"DEF\", \"DEF\", \"DEF\", \"DEF\", \"DEF\", \"DEF\", \"DEF\", \"DEF\", \"DEF\", \"DEF\", \"DEF\", \"DEF\", \"DEF\", \"DEF\", \"DEF\", \"DEF\", \"DEF\", \"DEF\", \"DEF\", \"DEF\", \"DEF\", \"DEF\", \"DEF\", \"DEF\", \"DEF\", \"DEF\", \"DEF\", \"DEF\", \"DEF\", \"DEF\", \"DEF\", \"DEF\", \"DEF\", \"DEF\", \"DEF\", \"DEF\", \"DEF\", \"DEF\", \"DEF\", \"DEF\", \"DEF\", \"DEF\", \"DEF\", \"DEF\", \"DEF\", \"DEF\", \"DEF\", \"DEF\", \"DEF\", \"DEF\", \"DEF\", \"DEF\", \"DEF\", \"DEF\", \"DEF\", \"DEF\", \"DEF\", \"DEF\", \"DEF\", \"DEF\", \"DEF\", \"DEF\", \"DEF\", \"DEF\", \"DEF\", \"DEF\", \"DEF\", \"DEF\", \"DEF\", \"DEF\", \"DEF\", \"DEF\", \"DEF\", \"DEF\", \"DEF\", \"DEF\", \"DEF\", \"DEF\", \"DEF\", \"DEF\", \"DEF\", \"DEF\", \"DEF\", \"DEF\", \"DEF\", \"DEF\", \"DEF\", \"DEF\", \"DEF\", \"DEF\", \"DEF\", \"DEF\", \"DEF\", \"DEF\", \"DEF\", \"DEF\", \"DEF\", \"DEF\", \"DEF\", \"DEF\", \"DEF\", \"DEF\", \"DEF\", \"DEF\", \"DEF\", \"DEF\", \"DEF\", \"DEF\", \"DEF\", \"DEF\", \"DEF\", \"DEF\", \"DEF\", \"DEF\", \"DEF\", \"DEF\", \"DEF\", \"DEF\", \"DEF\", \"DEF\", \"DEF\", \"DEF\", \"DEF\", \"DEF\", \"DEF\", \"DEF\", \"DEF\", \"DEF\", \"DEF\", \"DEF\", \"DEF\", \"DEF\", \"DEF\", \"DEF\", \"DEF\", \"DEF\", \"DEF\", \"DEF\", \"DEF\", \"DEF\", \"DEF\", \"DEF\", \"DEF\", \"DEF\", \"DEF\", \"DEF\", \"DEF\", \"DEF\", \"DEF\", \"DEF\", \"DEF\", \"DEF\", \"DEF\", \"DEF\", \"DEF\", \"DEF\", \"DEF\", \"DEF\", \"DEF\", \"DEF\", \"DEF\", \"DEF\", \"DEF\", \"DEF\", \"DEF\", \"DEF\", \"DEF\", \"DEF\", \"DEF\", \"DEF\", \"DEF\", \"DEF\", \"DEF\", \"DEF\", \"DEF\", \"DEF\", \"DEF\", \"DEF\", \"DEF\", \"DEF\", \"DEF\", \"DEF\", \"DEF\", \"DEF\", \"DEF\", \"DEF\", \"DEF\", \"DEF\", \"DEF\", \"DEF\", \"DEF\", \"DEF\", \"DEF\", \"DEF\", \"DEF\", \"DEF\", \"DEF\", \"DEF\", \"DEF\", \"DEF\", \"DEF\", \"DEF\", \"DEF\", \"DEF\", \"DEF\", \"DEF\", \"DEF\", \"DEF\", \"DEF\", \"DEF\", \"DEF\", \"DEF\", \"DEF\", \"DEF\", \"DEF\", \"DEF\", \"DEF\", \"DEF\", \"DEF\", \"DEF\", \"DEF\", \"DEF\", \"DEF\", \"DEF\", \"DEF\", \"DEF\", \"DEF\", \"DEF\", \"DEF\", \"DEF\", \"DEF\", \"DEF\", \"DEF\", \"DEF\", \"DEF\", \"DEF\", \"DEF\", \"DEF\", \"DEF\", \"DEF\", \"DEF\", \"DEF\", \"DEF\", \"DEF\", \"DEF\", \"DEF\", \"DEF\", \"DEF\", \"DEF\", \"DEF\", \"DEF\", \"DEF\", \"DEF\", \"DEF\", \"DEF\", \"DEF\", \"DEF\", \"DEF\", \"DEF\", \"DEF\", \"DEF\", \"DEF\", \"DEF\", \"DEF\", \"DEF\", \"DEF\", \"DEF\", \"DEF\", \"DEF\", \"DEF\", \"DEF\", \"DEF\", \"DEF\", \"DEF\", \"DEF\", \"DEF\", \"DEF\", \"DEF\", \"DEF\", \"DEF\", \"DEF\", \"DEF\", \"DEF\", \"DEF\", \"DEF\", \"DEF\", \"DEF\", \"DEF\", \"DEF\", \"DEF\", \"DEF\", \"DEF\", \"DEF\", \"DEF\", \"DEF\", \"DEF\", \"DEF\", \"DEF\", \"DEF\", \"DEF\", \"DEF\", \"DEF\", \"DEF\", \"DEF\", \"DEF\", \"DEF\", \"DEF\", \"DEF\", \"DEF\", \"DEF\", \"DEF\", \"DEF\", \"DEF\", \"DEF\", \"DEF\", \"DEF\", \"DEF\", \"DEF\", \"DEF\", \"DEF\", \"DEF\", \"DEF\", \"DEF\", \"DEF\", \"DEF\", \"DEF\", \"DEF\", \"DEF\", \"DEF\", \"DEF\", \"DEF\", \"DEF\", \"DEF\", \"DEF\", \"DEF\", \"DEF\", \"DEF\", \"DEF\", \"DEF\", \"DEF\", \"DEF\", \"DEF\", \"DEF\", \"DEF\", \"DEF\", \"DEF\", \"DEF\", \"DEF\", \"DEF\", \"DEF\", \"DEF\", \"DEF\", \"DEF\", \"DEF\", \"DEF\", \"DEF\", \"DEF\", \"DEF\", \"DEF\", \"DEF\", \"DEF\", \"DEF\", \"DEF\", \"DEF\", \"DEF\", \"DEF\", \"DEF\", \"DEF\", \"DEF\", \"DEF\", \"DEF\", \"DEF\", \"DEF\", \"DEF\", \"DEF\", \"DEF\", \"DEF\", \"DEF\", \"DEF\", \"DEF\", \"DEF\", \"DEF\", \"DEF\", \"DEF\", \"DEF\", \"DEF\", \"DEF\", \"DEF\", \"DEF\", \"DEF\", \"DEF\", \"DEF\", \"DEF\", \"DEF\", \"DEF\", \"DEF\", \"DEF\", \"DEF\", \"DEF\", \"DEF\", \"DEF\", \"DEF\", \"DEF\", \"DEF\", \"DEF\", \"DEF\", \"DEF\", \"DEF\", \"DEF\", \"DEF\", \"DEF\", \"DEF\", \"DEF\", \"DEF\", \"DEF\", \"DEF\", \"DEF\", \"DEF\", \"DEF\", \"DEF\", \"DEF\", \"DEF\", \"DEF\", \"DEF\", \"DEF\", \"DEF\", \"DEF\", \"DEF\", \"DEF\", \"DEF\", \"DEF\", \"DEF\", \"DEF\", \"DEF\", \"DEF\", \"DEF\", \"DEF\", \"DEF\", \"DEF\", \"DEF\", \"DEF\", \"DEF\", \"DEF\", \"DEF\", \"DEF\", \"DEF\", \"DEF\", \"DEF\", \"DEF\", \"DEF\", \"DEF\", \"DEF\", \"DEF\", \"DEF\", \"DEF\", \"DEF\", \"DEF\", \"DEF\", \"DEF\", \"DEF\", \"DEF\", \"DEF\", \"DEF\", \"DEF\", \"DEF\", \"DEF\", \"DEF\", \"DEF\", \"DEF\", \"DEF\", \"DEF\", \"DEF\", \"DEF\", \"DEF\", \"DEF\", \"DEF\", \"DEF\", \"DEF\", \"DEF\", \"DEF\", \"DEF\", \"DEF\", \"DEF\", \"DEF\", \"DEF\", \"DEF\", \"DEF\", \"DEF\", \"DEF\", \"DEF\", \"DEF\", \"DEF\", \"DEF\", \"DEF\", \"DEF\", \"DEF\", \"DEF\", \"DEF\", \"DEF\", \"DEF\", \"DEF\", \"DEF\", \"DEF\", \"DEF\", \"DEF\", \"DEF\", \"DEF\", \"DEF\", \"DEF\", \"DEF\", \"DEF\", \"DEF\", \"DEF\", \"DEF\", \"DEF\", \"DEF\", \"DEF\", \"DEF\", \"DEF\", \"DEF\", \"DEF\", \"DEF\", \"DEF\", \"DEF\", \"DEF\", \"DEF\", \"DEF\", \"DEF\", \"DEF\", \"DEF\", \"DEF\", \"DEF\", \"DEF\", \"DEF\", \"DEF\", \"DEF\", \"DEF\", \"DEF\", \"DEF\", \"DEF\", \"DEF\", \"DEF\", \"DEF\", \"DEF\", \"DEF\", \"DEF\", \"DEF\", \"DEF\", \"DEF\", \"DEF\", \"DEF\", \"DEF\", \"DEF\", \"DEF\", \"DEF\", \"DEF\", \"DEF\", \"DEF\", \"DEF\", \"DEF\", \"DEF\", \"DEF\", \"DEF\", \"DEF\", \"DEF\", \"DEF\", \"DEF\", \"DEF\", \"DEF\", \"DEF\", \"DEF\", \"DEF\", \"DEF\", \"DEF\", \"DEF\", \"DEF\", \"DEF\", \"DEF\", \"DEF\", \"DEF\", \"DEF\", \"DEF\", \"DEF\", \"DEF\", \"DEF\", \"DEF\", \"DEF\", \"DEF\", \"DEF\", \"DEF\", \"DEF\", \"DEF\", \"DEF\", \"DEF\", \"DEF\", \"DEF\", \"DEF\", \"DEF\", \"DEF\", \"DEF\", \"DEF\", \"DEF\", \"DEF\", \"DEF\", \"DEF\", \"DEF\", \"DEF\", \"DEF\", \"DEF\", \"DEF\", \"DEF\", \"DEF\", \"DEF\", \"DEF\", \"DEF\", \"DEF\", \"DEF\", \"DEF\", \"DEF\", \"DEF\", \"DEF\", \"DEF\", \"DEF\", \"DEF\", \"DEF\", \"DEF\", \"DEF\", \"DEF\", \"DEF\", \"DEF\", \"DEF\", \"DEF\", \"DEF\", \"DEF\", \"DEF\", \"DEF\", \"DEF\", \"DEF\", \"DEF\", \"DEF\", \"DEF\", \"DEF\", \"DEF\", \"DEF\", \"DEF\", \"DEF\", \"DEF\", \"DEF\", \"DEF\", \"DEF\", \"DEF\", \"DEF\", \"DEF\", \"DEF\", \"DEF\", \"DEF\", \"DEF\", \"DEF\", \"DEF\", \"DEF\", \"DEF\", \"DEF\", \"DEF\", \"DEF\", \"DEF\", \"DEF\", \"DEF\", \"DEF\", \"DEF\", \"DEF\", \"DEF\", \"DEF\", \"DEF\", \"DEF\", \"DEF\", \"DEF\", \"DEF\", \"DEF\", \"DEF\", \"DEF\", \"DEF\", \"DEF\", \"DEF\", \"DEF\", \"DEF\", \"DEF\", \"DEF\", \"DEF\", \"DEF\", \"DEF\", \"DEF\", \"DEF\", \"DEF\", \"DEF\", \"DEF\", \"DEF\", \"DEF\", \"DEF\", \"DEF\", \"DEF\", \"DEF\", \"DEF\", \"DEF\", \"DEF\", \"DEF\", \"DEF\", \"DEF\", \"DEF\", \"DEF\", \"DEF\", \"DEF\", \"DEF\", \"DEF\", \"DEF\", \"DEF\", \"DEF\", \"DEF\", \"DEF\", \"DEF\", \"DEF\", \"DEF\", \"DEF\", \"DEF\", \"DEF\", \"DEF\", \"DEF\", \"DEF\", \"DEF\", \"DEF\", \"DEF\", \"DEF\", \"DEF\", \"DEF\", \"DEF\", \"DEF\", \"DEF\", \"DEF\", \"DEF\", \"DEF\", \"DEF\", \"DEF\", \"DEF\", \"DEF\", \"DEF\", \"DEF\", \"DEF\", \"DEF\", \"DEF\", \"DEF\", \"DEF\", \"DEF\", \"DEF\", \"DEF\", \"DEF\", \"DEF\", \"DEF\", \"DEF\", \"DEF\", \"DEF\", \"DEF\", \"DEF\", \"DEF\", \"DEF\", \"DEF\", \"DEF\", \"DEF\", \"DEF\", \"DEF\", \"DEF\", \"DEF\", \"DEF\", \"DEF\", \"DEF\", \"DEF\", \"DEF\", \"DEF\", \"DEF\", \"DEF\", \"DEF\", \"DEF\", \"DEF\", \"DEF\", \"DEF\", \"DEF\", \"DEF\", \"DEF\", \"DEF\", \"DEF\", \"DEF\", \"DEF\", \"DEF\", \"DEF\", \"DEF\", \"DEF\", \"DEF\", \"DEF\", \"DEF\", \"DEF\", \"DEF\", \"DEF\", \"DEF\", \"DEF\", \"DEF\", \"DEF\", \"DEF\", \"DEF\", \"DEF\", \"DEF\", \"DEF\", \"DEF\", \"DEF\", \"DEF\", \"DEF\", \"DEF\", \"DEF\", \"DEF\", \"DEF\", \"DEF\", \"DEF\", \"DEF\", \"DEF\", \"DEF\", \"DEF\", \"DEF\", \"DEF\", \"DEF\", \"DEF\", \"DEF\", \"DEF\", \"DEF\", \"DEF\", \"DEF\", \"DEF\", \"DEF\", \"DEF\", \"DEF\", \"DEF\", \"DEF\", \"DEF\", \"DEF\", \"DEF\", \"DEF\", \"DEF\", \"DEF\", \"DEF\", \"DEF\", \"DEF\", \"DEF\", \"DEF\", \"DEF\", \"DEF\", \"DEF\", \"DEF\", \"DEF\", \"DEF\", \"DEF\", \"DEF\", \"DEF\", \"DEF\", \"DEF\", \"DEF\", \"DEF\", \"DEF\", \"DEF\", \"DEF\", \"DEF\", \"DEF\", \"DEF\", \"DEF\", \"DEF\", \"DEF\", \"DEF\", \"DEF\", \"DEF\", \"DEF\", \"DEF\", \"DEF\", \"DEF\", \"DEF\", \"DEF\", \"DEF\", \"DEF\", \"DEF\", \"DEF\", \"DEF\", \"DEF\", \"DEF\", \"DEF\", \"DEF\", \"DEF\", \"DEF\", \"DEF\", \"DEF\", \"DEF\", \"DEF\", \"DEF\", \"DEF\", \"DEF\", \"DEF\", \"DEF\", \"DEF\", \"DEF\", \"DEF\", \"DEF\", \"DEF\", \"DEF\", \"DEF\", \"DEF\", \"DEF\", \"DEF\", \"DEF\", \"DEF\", \"DEF\", \"DEF\", \"DEF\", \"DEF\", \"DEF\", \"DEF\", \"DEF\", \"DEF\", \"DEF\", \"DEF\", \"DEF\", \"DEF\", \"DEF\", \"DEF\", \"DEF\", \"DEF\", \"DEF\", \"DEF\", \"DEF\", \"DEF\", \"DEF\", \"DEF\", \"DEF\", \"DEF\", \"DEF\", \"DEF\", \"DEF\", \"DEF\", \"DEF\", \"DEF\", \"DEF\", \"DEF\", \"DEF\", \"DEF\", \"DEF\", \"DEF\", \"DEF\", \"DEF\", \"DEF\", \"DEF\", \"DEF\", \"DEF\", \"DEF\", \"DEF\", \"DEF\", \"DEF\", \"DEF\", \"DEF\", \"DEF\", \"DEF\", \"DEF\", \"DEF\", \"DEF\", \"DEF\", \"DEF\", \"DEF\", \"DEF\", \"DEF\", \"DEF\", \"DEF\", \"DEF\", \"DEF\", \"DEF\", \"DEF\", \"DEF\", \"DEF\", \"DEF\", \"DEF\", \"DEF\", \"DEF\", \"DEF\", \"DEF\", \"DEF\", \"DEF\", \"DEF\", \"DEF\", \"DEF\", \"DEF\", \"DEF\", \"DEF\", \"DEF\", \"DEF\", \"DEF\", \"DEF\", \"DEF\", \"DEF\", \"DEF\", \"DEF\", \"DEF\", \"DEF\", \"DEF\", \"DEF\", \"DEF\", \"DEF\", \"DEF\", \"DEF\", \"DEF\", \"DEF\", \"DEF\", \"DEF\", \"DEF\", \"DEF\", \"DEF\", \"DEF\", \"DEF\", \"DEF\", \"DEF\", \"DEF\", \"DEF\", \"DEF\", \"DEF\", \"DEF\", \"DEF\", \"DEF\", \"DEF\", \"DEF\", \"DEF\", \"DEF\", \"DEF\", \"DEF\", \"DEF\", \"DEF\", \"DEF\", \"DEF\", \"DEF\", \"DEF\", \"DEF\", \"DEF\", \"DEF\", \"DEF\", \"DEF\", \"DEF\", \"DEF\", \"DEF\", \"DEF\", \"DEF\", \"DEF\", \"DEF\", \"DEF\", \"DEF\", \"DEF\", \"DEF\", \"DEF\", \"DEF\", \"DEF\", \"DEF\", \"DEF\", \"DEF\", \"DEF\", \"DEF\", \"DEF\", \"DEF\", \"DEF\", \"DEF\", \"DEF\", \"DEF\", \"DEF\", \"DEF\", \"DEF\", \"DEF\", \"DEF\", \"DEF\", \"DEF\", \"DEF\", \"DEF\", \"DEF\", \"DEF\", \"DEF\", \"DEF\", \"DEF\", \"DEF\", \"DEF\", \"DEF\", \"DEF\", \"DEF\", \"DEF\", \"DEF\", \"DEF\", \"DEF\", \"DEF\", \"DEF\", \"DEF\", \"DEF\", \"DEF\", \"DEF\", \"DEF\", \"DEF\", \"DEF\", \"DEF\", \"DEF\", \"DEF\", \"DEF\", \"DEF\", \"DEF\", \"DEF\", \"DEF\", \"DEF\", \"DEF\", \"DEF\", \"DEF\", \"DEF\", \"DEF\", \"DEF\", \"DEF\", \"DEF\", \"DEF\", \"DEF\", \"DEF\", \"DEF\", \"DEF\", \"DEF\", \"DEF\", \"DEF\", \"DEF\", \"DEF\", \"DEF\", \"DEF\", \"DEF\", \"DEF\", \"DEF\", \"DEF\", \"DEF\", \"DEF\", \"DEF\", \"DEF\", \"DEF\", \"DEF\", \"DEF\", \"DEF\", \"DEF\", \"DEF\", \"DEF\", \"DEF\", \"DEF\", \"DEF\", \"DEF\", \"DEF\", \"DEF\", \"DEF\", \"DEF\", \"DEF\", \"DEF\", \"DEF\", \"DEF\", \"DEF\", \"DEF\", \"DEF\", \"DEF\", \"DEF\", \"DEF\", \"DEF\", \"DEF\", \"DEF\", \"DEF\", \"DEF\", \"DEF\", \"DEF\", \"DEF\", \"DEF\", \"DEF\", \"DEF\", \"DEF\", \"DEF\", \"DEF\", \"DEF\", \"DEF\", \"DEF\", \"DEF\", \"DEF\", \"DEF\", \"DEF\", \"DEF\", \"DEF\", \"DEF\", \"DEF\", \"DEF\", \"DEF\", \"DEF\", \"DEF\", \"DEF\", \"DEF\", \"DEF\", \"DEF\", \"DEF\", \"DEF\", \"DEF\", \"DEF\", \"DEF\", \"DEF\", \"DEF\", \"DEF\", \"DEF\", \"DEF\", \"DEF\", \"DEF\", \"DEF\", \"DEF\", \"DEF\", \"DEF\", \"DEF\", \"DEF\", \"DEF\", \"DEF\", \"DEF\", \"DEF\", \"DEF\", \"DEF\", \"DEF\", \"DEF\", \"DEF\", \"DEF\", \"DEF\", \"DEF\", \"DEF\", \"DEF\", \"DEF\", \"DEF\", \"DEF\", \"DEF\", \"DEF\", \"DEF\", \"DEF\", \"DEF\", \"DEF\", \"DEF\", \"DEF\", \"DEF\", \"DEF\", \"DEF\", \"DEF\", \"DEF\", \"DEF\", \"DEF\", \"DEF\", \"DEF\", \"DEF\", \"DEF\", \"DEF\", \"DEF\", \"DEF\", \"DEF\", \"DEF\", \"DEF\", \"DEF\", \"DEF\", \"DEF\", \"DEF\", \"DEF\", \"DEF\", \"DEF\", \"DEF\", \"DEF\", \"DEF\", \"DEF\", \"DEF\", \"DEF\", \"DEF\", \"DEF\", \"DEF\", \"DEF\", \"DEF\", \"DEF\", \"DEF\", \"DEF\", \"DEF\", \"DEF\", \"DEF\", \"DEF\", \"DEF\", \"DEF\", \"DEF\", \"DEF\", \"DEF\", \"DEF\", \"DEF\", \"DEF\", \"DEF\", \"DEF\", \"DEF\", \"DEF\", \"DEF\", \"DEF\", \"DEF\", \"DEF\", \"DEF\", \"DEF\", \"DEF\", \"DEF\", \"DEF\", \"DEF\", \"DEF\", \"DEF\", \"DEF\", \"DEF\", \"DEF\", \"DEF\", \"DEF\", \"DEF\", \"DEF\", \"DEF\", \"DEF\", \"DEF\", \"DEF\", \"DEF\", \"DEF\", \"DEF\", \"DEF\", \"DEF\", \"DEF\", \"DEF\", \"DEF\", \"DEF\", \"DEF\", \"DEF\", \"DEF\", \"DEF\", \"DEF\", \"DEF\", \"DEF\", \"DEF\", \"DEF\", \"DEF\", \"DEF\", \"DEF\", \"DEF\", \"DEF\", \"DEF\", \"DEF\", \"DEF\", \"DEF\", \"DEF\", \"DEF\", \"DEF\", \"DEF\", \"DEF\", \"DEF\", \"DEF\", \"DEF\", \"DEF\", \"DEF\", \"DEF\", \"DEF\", \"DEF\", \"DEF\", \"DEF\", \"DEF\", \"DEF\", \"DEF\", \"DEF\", \"DEF\", \"DEF\", \"DEF\", \"DEF\", \"DEF\", \"DEF\", \"DEF\", \"DEF\", \"DEF\", \"DEF\", \"DEF\", \"DEF\", \"DEF\", \"DEF\", \"DEF\", \"DEF\", \"DEF\", \"DEF\", \"DEF\", \"DEF\", \"DEF\", \"DEF\", \"DEF\", \"DEF\", \"DEF\", \"DEF\", \"DEF\", \"DEF\", \"DEF\", \"DEF\", \"DEF\", \"DEF\", \"DEF\", \"DEF\", \"DEF\", \"DEF\", \"DEF\", \"DEF\", \"DEF\", \"DEF\", \"DEF\", \"DEF\", \"DEF\", \"DEF\", \"DEF\", \"DEF\", \"DEF\", \"DEF\", \"DEF\", \"DEF\", \"DEF\", \"DEF\", \"DEF\", \"DEF\", \"DEF\", \"DEF\", \"DEF\", \"DEF\", \"DEF\", \"DEF\", \"DEF\", \"DEF\", \"DEF\", \"DEF\", \"DEF\", \"DEF\", \"DEF\", \"DEF\", \"DEF\", \"DEF\", \"DEF\", \"DEF\", \"DEF\", \"DEF\", \"DEF\", \"DEF\", \"DEF\", \"DEF\", \"DEF\", \"DEF\", \"DEF\", \"DEF\", \"DEF\", \"DEF\", \"DEF\", \"DEF\", \"DEF\", \"DEF\", \"DEF\", \"DEF\", \"DEF\", \"DEF\", \"DEF\", \"DEF\", \"DEF\", \"DEF\", \"DEF\", \"DEF\", \"DEF\", \"DEF\", \"DEF\", \"DEF\", \"DEF\", \"DEF\", \"DEF\", \"DEF\", \"DEF\", \"DEF\", \"DEF\", \"DEF\", \"DEF\", \"DEF\", \"DEF\", \"DEF\", \"DEF\", \"DEF\", \"DEF\", \"DEF\", \"DEF\", \"DEF\", \"DEF\", \"DEF\", \"DEF\", \"DEF\", \"DEF\", \"DEF\", \"DEF\", \"DEF\", \"DEF\", \"DEF\", \"DEF\", \"DEF\", \"DEF\", \"DEF\", \"DEF\", \"DEF\", \"DEF\", \"DEF\", \"DEF\", \"DEF\", \"DEF\", \"DEF\", \"DEF\", \"DEF\", \"DEF\", \"DEF\", \"DEF\", \"DEF\", \"DEF\", \"DEF\", \"DEF\", \"DEF\", \"DEF\", \"DEF\", \"DEF\", \"DEF\", \"DEF\", \"DEF\", \"DEF\", \"DEF\", \"DEF\", \"DEF\", \"DEF\", \"DEF\", \"DEF\", \"DEF\", \"DEF\", \"DEF\", \"DEF\", \"DEF\", \"DEF\", \"DEF\", \"DEF\", \"DEF\", \"DEF\", \"DEF\", \"DEF\", \"DEF\", \"DEF\", \"DEF\", \"DEF\", \"DEF\", \"DEF\", \"DEF\", \"DEF\", \"DEF\", \"DEF\", \"DEF\", \"DEF\", \"DEF\", \"DEF\", \"DEF\", \"DEF\", \"DEF\", \"DEF\", \"DEF\", \"DEF\", \"DEF\", \"DEF\", \"DEF\", \"DEF\", \"DEF\", \"DEF\", \"DEF\", \"DEF\", \"DEF\", \"DEF\", \"DEF\", \"DEF\", \"DEF\", \"DEF\", \"DEF\", \"DEF\", \"DEF\", \"DEF\", \"DEF\", \"DEF\", \"DEF\", \"DEF\", \"DEF\", \"DEF\", \"DEF\", \"DEF\", \"DEF\", \"DEF\", \"DEF\", \"DEF\", \"DEF\", \"DEF\", \"DEF\", \"DEF\", \"DEF\", \"DEF\", \"DEF\", \"DEF\", \"DEF\", \"DEF\", \"DEF\", \"DEF\", \"DEF\", \"DEF\", \"DEF\", \"DEF\", \"DEF\", \"DEF\", \"DEF\", \"DEF\", \"DEF\", \"DEF\", \"DEF\", \"DEF\", \"DEF\", \"DEF\", \"DEF\", \"DEF\", \"DEF\", \"DEF\", \"DEF\", \"DEF\", \"DEF\", \"DEF\", \"DEF\", \"DEF\", \"DEF\", \"DEF\", \"DEF\", \"DEF\", \"DEF\", \"DEF\", \"DEF\", \"DEF\", \"DEF\", \"DEF\", \"DEF\", \"DEF\", \"DEF\", \"DEF\", \"DEF\", \"DEF\", \"DEF\", \"DEF\", \"DEF\", \"DEF\", \"DEF\", \"DEF\", \"DEF\", \"DEF\", \"DEF\", \"DEF\", \"DEF\", \"DEF\", \"DEF\", \"DEF\", \"DEF\", \"DEF\", \"DEF\", \"DEF\", \"DEF\", \"DEF\", \"DEF\", \"DEF\", \"DEF\", \"DEF\", \"DEF\", \"DEF\", \"DEF\", \"DEF\", \"DEF\", \"DEF\", \"DEF\", \"DEF\", \"DEF\", \"DEF\", \"DEF\", \"DEF\", \"DEF\", \"DEF\", \"DEF\", \"DEF\", \"DEF\", \"DEF\", \"DEF\", \"DEF\", \"DEF\", \"DEF\", \"DEF\", \"DEF\", \"DEF\", \"DEF\", \"DEF\", \"DEF\", \"DEF\", \"DEF\", \"DEF\", \"DEF\", \"DEF\", \"DEF\", \"DEF\", \"DEF\", \"DEF\", \"DEF\", \"DEF\", \"DEF\", \"DEF\", \"DEF\", \"DEF\", \"DEF\", \"DEF\", \"DEF\", \"DEF\", \"DEF\", \"DEF\", \"DEF\", \"DEF\", \"DEF\", \"DEF\", \"DEF\", \"DEF\", \"DEF\", \"DEF\", \"DEF\", \"DEF\", \"DEF\", \"DEF\", \"DEF\", \"DEF\", \"DEF\", \"DEF\", \"DEF\", \"DEF\", \"DEF\", \"DEF\", \"DEF\", \"DEF\", \"DEF\", \"DEF\", \"DEF\", \"DEF\", \"DEF\", \"DEF\", \"DEF\", \"DEF\", \"DEF\", \"DEF\", \"DEF\", \"DEF\", \"DEF\", \"DEF\", \"DEF\", \"DEF\", \"DEF\", \"DEF\", \"DEF\", \"DEF\", \"DEF\", \"DEF\", \"DEF\", \"DEF\", \"DEF\", \"DEF\", \"DEF\", \"DEF\", \"DEF\", \"DEF\", \"DEF\", \"DEF\", \"DEF\", \"DEF\", \"DEF\", \"DEF\", \"DEF\", \"DEF\", \"DEF\", \"DEF\", \"DEF\", \"DEF\", \"DEF\", \"DEF\", \"DEF\", \"DEF\", \"DEF\", \"DEF\", \"DEF\", \"DEF\", \"DEF\", \"DEF\", \"DEF\", \"DEF\", \"DEF\", \"DEF\", \"DEF\", \"DEF\", \"DEF\", \"DEF\", \"DEF\", \"DEF\", \"DEF\", \"DEF\", \"DEF\", \"DEF\", \"DEF\", \"DEF\", \"DEF\", \"DEF\", \"DEF\", \"DEF\", \"DEF\", \"DEF\", \"DEF\", \"DEF\", \"DEF\", \"DEF\", \"DEF\", \"DEF\", \"DEF\", \"DEF\", \"DEF\", \"DEF\", \"DEF\", \"DEF\", \"DEF\", \"DEF\", \"DEF\", \"DEF\", \"DEF\", \"DEF\", \"DEF\", \"DEF\", \"DEF\", \"DEF\", \"DEF\", \"DEF\", \"DEF\", \"DEF\", \"DEF\", \"DEF\", \"DEF\", \"DEF\", \"DEF\", \"DEF\", \"DEF\", \"DEF\", \"DEF\", \"DEF\", \"DEF\", \"DEF\", \"DEF\", \"DEF\", \"DEF\", \"DEF\", \"DEF\", \"DEF\", \"DEF\", \"DEF\", \"DEF\", \"DEF\", \"DEF\", \"DEF\", \"DEF\", \"DEF\", \"DEF\", \"DEF\", \"DEF\", \"DEF\", \"DEF\", \"DEF\", \"DEF\", \"DEF\", \"DEF\", \"DEF\", \"DEF\", \"DEF\", \"DEF\", \"DEF\", \"DEF\", \"DEF\", \"DEF\", \"DEF\", \"DEF\", \"DEF\", \"DEF\", \"DEF\", \"DEF\", \"DEF\", \"DEF\", \"DEF\", \"DEF\", \"DEF\", \"DEF\", \"DEF\", \"DEF\", \"DEF\", \"DEF\", \"DEF\", \"DEF\", \"DEF\", \"DEF\", \"DEF\", \"DEF\", \"DEF\", \"DEF\", \"DEF\", \"DEF\", \"DEF\", \"DEF\", \"DEF\", \"DEF\", \"DEF\", \"DEF\", \"DEF\", \"DEF\", \"DEF\", \"DEF\", \"DEF\", \"DEF\", \"DEF\", \"DEF\", \"DEF\", \"DEF\", \"DEF\", \"DEF\", \"DEF\", \"DEF\", \"DEF\", \"DEF\", \"DEF\", \"DEF\", \"DEF\", \"DEF\", \"DEF\", \"DEF\", \"DEF\", \"DEF\", \"DEF\", \"DEF\", \"DEF\", \"DEF\", \"DEF\", \"DEF\", \"DEF\", \"DEF\", \"DEF\", \"DEF\", \"DEF\", \"DEF\", \"DEF\", \"DEF\", \"DEF\", \"DEF\", \"DEF\", \"DEF\", \"DEF\", \"DEF\", \"DEF\", \"DEF\", \"DEF\", \"DEF\", \"DEF\", \"DEF\", \"DEF\", \"DEF\", \"DEF\", \"DEF\", \"DEF\", \"DEF\", \"DEF\", \"DEF\", \"DEF\", \"DEF\", \"DEF\", \"DEF\", \"DEF\", \"DEF\", \"DEF\", \"DEF\", \"DEF\", \"DEF\", \"DEF\", \"DEF\", \"DEF\", \"DEF\", \"DEF\", \"DEF\", \"DEF\", \"DEF\", \"DEF\", \"DEF\", \"DEF\", \"DEF\", \"DEF\", \"DEF\", \"DEF\", \"DEF\", \"DEF\", \"DEF\", \"DEF\", \"DEF\", \"DEF\", \"DEF\", \"DEF\", \"DEF\", \"DEF\", \"DEF\", \"DEF\", \"DEF\", \"DEF\", \"DEF\", \"DEF\", \"DEF\", \"DEF\", \"DEF\", \"DEF\", \"DEF\", \"DEF\", \"DEF\", \"DEF\", \"DEF\", \"DEF\", \"DEF\", \"DEF\", \"DEF\", \"DEF\", \"DEF\", \"DEF\", \"DEF\", \"DEF\", \"DEF\", \"DEF\", \"DEF\", \"DEF\", \"DEF\", \"DEF\", \"DEF\", \"DEF\", \"DEF\", \"DEF\", \"DEF\", \"DEF\", \"DEF\", \"DEF\", \"DEF\", \"DEF\", \"DEF\", \"DEF\", \"DEF\", \"DEF\", \"DEF\", \"DEF\", \"DEF\", \"DEF\", \"DEF\", \"DEF\", \"DEF\", \"DEF\", \"DEF\", \"DEF\", \"DEF\", \"DEF\", \"DEF\", \"DEF\", \"DEF\", \"DEF\", \"DEF\", \"DEF\", \"DEF\", \"DEF\", \"DEF\", \"DEF\", \"DEF\", \"DEF\", \"DEF\", \"DEF\", \"DEF\", \"DEF\", \"DEF\", \"DEF\", \"DEF\", \"DEF\", \"DEF\", \"DEF\", \"DEF\", \"DEF\", \"DEF\", \"DEF\", \"DEF\", \"DEF\", \"DEF\", \"DEF\", \"DEF\", \"DEF\", \"DEF\", \"DEF\", \"DEF\", \"DEF\", \"DEF\", \"DEF\", \"DEF\", \"DEF\", \"DEF\", \"DEF\", \"DEF\", \"DEF\", \"DEF\", \"DEF\", \"DEF\", \"DEF\", \"DEF\", \"DEF\", \"DEF\", \"DEF\", \"DEF\", \"DEF\", \"DEF\", \"DEF\", \"DEF\", \"DEF\", \"DEF\", \"DEF\", \"DEF\", \"DEF\", \"DEF\", \"DEF\", \"DEF\", \"DEF\", \"DEF\", \"DEF\", \"DEF\", \"DEF\", \"DEF\", \"DEF\", \"DEF\", \"DEF\", \"DEF\", \"DEF\", \"DEF\", \"DEF\", \"DEF\", \"DEF\", \"DEF\", \"DEF\", \"DEF\", \"DEF\", \"DEF\", \"DEF\", \"DEF\", \"DEF\", \"DEF\", \"DEF\", \"DEF\", \"DEF\", \"DEF\", \"DEF\", \"DEF\", \"DEF\", \"DEF\", \"DEF\", \"DEF\", \"DEF\", \"DEF\", \"DEF\", \"DEF\", \"DEF\", \"DEF\", \"DEF\", \"DEF\", \"DEF\", \"DEF\", \"DEF\", \"DEF\", \"DEF\", \"DEF\", \"DEF\", \"DEF\", \"DEF\", \"DEF\"], \"x0\": \" \", \"xaxis\": \"x\", \"y\": [26, 39, 28, 31, 35, 72, 45, 54, 22, 61, 47, 54, 35, 47, 29, 22, 33, 29, 67, 25, 39, 43, 57, 44, 39, 30, 60, 42, 27, 71, 42, 24, 58, 66, 51, 48, 47, 53, 77, 36, 53, 29, 33, 27, 71, 59, 52, 48, 72, 67, 59, 59, 63, 59, 27, 18, 29, 71, 73, 36, 29, 65, 55, 38, 66, 33, 36, 47, 32, 43, 35, 43, 50, 83, 68, 65, 56, 79, 70, 67, 70, 30, 60, 58, 25, 37, 69, 58, 59, 40, 46, 44, 74, 59, 65, 44, 52, 63, 22, 70, 60, 48, 56, 60, 64, 75, 61, 61, 69, 56, 33, 68, 60, 24, 80, 27, 61, 32, 63, 65, 67, 65, 24, 32, 41, 64, 60, 56, 31, 32, 39, 58, 41, 20, 36, 43, 67, 37, 22, 76, 68, 65, 55, 46, 36, 60, 26, 37, 68, 30, 27, 72, 23, 29, 22, 58, 74, 84, 38, 70, 70, 57, 62, 67, 48, 45, 74, 35, 70, 20, 20, 22, 64, 53, 46, 56, 57, 24, 55, 18, 41, 17, 25, 58, 28, 48, 87, 39, 48, 68, 29, 41, 28, 46, 29, 33, 56, 73, 61, 47, 66, 64, 25, 68, 57, 55, 80, 56, 35, 32, 26, 24, 55, 39, 21, 36, 71, 35, 43, 60, 41, 58, 23, 61, 31, 31, 53, 62, 43, 31, 25, 58, 46, 49, 65, 38, 32, 35, 67, 56, 47, 49, 58, 57, 30, 41, 28, 55, 53, 75, 45, 63, 47, 78, 58, 57, 19, 54, 39, 52, 52, 36, 62, 38, 77, 58, 72, 54, 31, 18, 76, 49, 40, 27, 54, 67, 68, 40, 60, 64, 54, 63, 56, 27, 68, 76, 58, 70, 70, 37, 54, 45, 24, 60, 28, 64, 82, 67, 39, 66, 52, 23, 30, 59, 67, 46, 47, 24, 63, 49, 11, 68, 43, 27, 53, 69, 68, 53, 28, 53, 52, 30, 59, 44, 67, 66, 75, 41, 48, 50, 59, 44, 55, 66, 38, 72, 64, 47, 64, 20, 69, 21, 59, 20, 43, 50, 75, 40, 28, 63, 23, 63, 59, 42, 41, 45, 61, 49, 78, 39, 57, 34, 46, 29, 30, 63, 67, 42, 62, 60, 49, 22, 64, 47, 37, 66, 56, 71, 17, 51, 53, 58, 62, 55, 85, 23, 68, 51, 54, 74, 40, 59, 22, 48, 47, 56, 60, 40, 73, 70, 52, 78, 33, 49, 31, 46, 69, 79, 77, 64, 62, 70, 49, 42, 78, 45, 50, 43, 41, 60, 81, 56, 67, 56, 58, 61, 55, 36, 55, 63, 22, 46, 29, 38, 67, 57, 30, 35, 62, 34, 33, 26, 72, 61, 54, 51, 41, 28, 67, 21, 25, 54, 43, 51, 59, 26, 81, 37, 64, 49, 59, 49, 74, 68, 68, 42, 67, 32, 69, 74, 66, 32, 70, 76, 28, 60, 74, 50, 70, 44, 62, 57, 23, 44, 72, 73, 48, 61, 62, 33, 48, 67, 57, 76, 33, 68, 40, 64, 40, 70, 26, 45, 72, 61, 63, 57, 69, 78, 58, 33, 25, 27, 78, 72, 63, 70, 56, 65, 72, 27, 41, 30, 63, 60, 28, 74, 50, 18, 40, 72, 70, 62, 49, 23, 66, 11, 43, 67, 28, 80, 31, 24, 58, 52, 62, 20, 20, 32, 25, 69, 79, 54, 73, 58, 57, 56, 56, 67, 44, 34, 65, 58, 63, 38, 59, 60, 69, 61, 82, 54, 23, 44, 58, 66, 75, 38, 45, 53, 39, 28, 32, 71, 22, 71, 62, 34, 63, 26, 32, 47, 22, 32, 53, 40, 53, 64, 37, 59, 27, 27, 66, 61, 58, 47, 62, 49, 67, 31, 50, 34, 22, 65, 77, 68, 28, 68, 37, 35, 53, 70, 43, 73, 62, 51, 57, 44, 25, 61, 52, 53, 65, 30, 65, 61, 42, 34, 56, 69, 36, 48, 77, 22, 69, 36, 29, 58, 54, 28, 59, 49, 74, 63, 75, 71, 31, 63, 38, 45, 70, 72, 59, 60, 63, 82, 25, 53, 36, 60, 37, 32, 57, 71, 59, 24, 29, 22, 62, 34, 35, 26, 53, 25, 69, 56, 65, 73, 33, 72, 31, 73, 24, 22, 59, 53, 54, 45, 23, 22, 55, 29, 71, 64, 19, 42, 61, 25, 31, 73, 47, 52, 46, 66, 64, 62, 52, 54, 41, 52, 32, 26, 74, 31, 34, 67, 65, 66, 57, 42, 55, 29, 55, 48, 53, 78, 31, 56, 44, 31, 43, 68, 52, 55, 47, 79, 56, 43, 69, 63, 81, 28, 26, 54, 60, 69, 78, 46, 45, 53, 40, 46, 60, 33, 24, 39, 69, 62, 42, 44, 40, 43, 34, 28, 55, 63, 55, 67, 67, 40, 35, 55, 31, 56, 25, 57, 68, 28, 68, 60, 25, 69, 49, 45, 32, 66, 29, 50, 60, 50, 40, 57, 65, 22, 29, 43, 64, 75, 65, 32, 64, 20, 36, 20, 68, 76, 64, 49, 38, 76, 57, 36, 70, 42, 18, 23, 58, 79, 39, 26, 43, 23, 62, 46, 67, 37, 46, 50, 33, 58, 69, 62, 42, 59, 26, 71, 18, 67, 69, 59, 31, 61, 59, 51, 34, 78, 68, 73, 60, 31, 75, 67, 22, 58, 28, 70, 38, 59, 27, 61, 61, 53, 69, 34, 49, 73, 44, 49, 29, 54, 25, 25, 60, 53, 30, 47, 63, 64, 26, 30, 41, 65, 64, 54, 60, 70, 61, 25, 21, 42, 27, 22, 56, 70, 39, 54, 32, 50, 51, 37, 49, 29, 23, 61, 28, 57, 33, 29, 56, 30, 35, 34, 57, 48, 56, 70, 40, 64, 78, 70, 67, 28, 62, 63, 74, 63, 34, 28, 30, 70, 83, 52, 55, 53, 37, 68, 46, 44, 75, 65, 61, 62, 53, 45, 60, 15, 34, 28, 68, 64, 32, 44, 46, 43, 71, 61, 36, 58, 63, 55, 24, 62, 36, 25, 68, 70, 25, 49, 22, 30, 42, 32, 49, 31, 60, 66, 59, 48, 54, 66, 68, 65, 78, 55, 43, 52, 17, 58, 24, 46, 47, 63, 24, 60, 69, 43, 75, 22, 40, 23, 46, 42, 58, 71, 26, 28, 64, 23, 34, 20, 38, 66, 66, 67, 62, 69, 56, 32, 59, 51, 75, 68, 61, 63, 57, 61, 59, 81, 35, 81, 26, 39, 51, 74, 39, 63, 44, 56, 54, 29, 61, 55, 60, 73, 46, 69, 55, 74, 25, 74, 54, 23, 30, 12, 37, 54, 65, 63, 35, 28, 61, 38, 75, 36, 21, 32, 27, 42, 56, 65, 67, 74, 59, 66, 75, 68, 72, 83, 40, 60, 62, 27, 56, 55, 40, 59, 75, 60, 20, 23, 30, 61, 26, 48, 62, 57, 59, 70, 46, 55, 21, 74, 41, 24, 50, 64, 78, 64, 69, 34, 34, 26, 61, 67, 55, 71, 70, 38, 51, 33, 28, 77, 61, 62, 50, 41, 50, 40, 28, 14, 69, 32, 57, 57, 66, 60, 49, 27, 30, 58, 41, 75, 59, 56, 70, 47, 69, 40, 54, 53, 55, 43, 52, 50, 56, 62, 56, 50, 65, 25, 66, 48, 25, 51, 67, 35, 30, 77, 31, 52, 34, 52, 69, 52, 69, 42, 36, 44, 45, 31, 80, 59, 28, 60, 78, 39, 61, 28, 31, 22, 52, 33, 47, 40, 52, 64, 62, 83, 33, 41, 25, 61, 58, 28, 63, 60, 24, 60, 58, 44, 53, 32, 46, 35, 56, 20, 56, 26, 70, 21, 35, 78, 38, 56, 71, 25, 54, 56, 29, 21, 58, 50, 58, 25, 67, 51, 28, 61, 56, 60, 68, 68, 62, 29, 48, 59, 45, 38, 46, 42, 81, 58, 63, 54, 39, 47, 45, 29, 58, 40, 35, 28, 33, 38, 17, 65, 77, 71, 39, 38, 55, 69, 57, 55, 24, 62, 56, 34, 46, 59, 67, 21, 47, 70, 68, 58, 47, 52, 34, 65, 64, 57, 32, 51, 64, 57, 49, 65, 66, 72, 54, 39, 31, 56, 74, 58, 55, 28, 54, 40, 67, 59, 30, 35, 49, 32, 61, 78, 32, 50, 62, 34, 28, 58, 28, 63, 65, 59, 56, 91, 58, 50, 64, 29, 50, 43, 52, 36, 40, 30, 54, 71, 71, 62, 35, 65, 73, 66, 39, 54, 57, 67, 61, 52, 64, 65, 71, 36, 58, 76, 34, 65, 69, 56, 63, 46, 71, 27, 67, 21, 63, 52, 62, 34, 57, 55, 58, 57, 79, 55, 59, 78, 29, 35, 59, 57, 45, 61, 61, 45, 61, 75, 51, 54, 34, 66, 47, 62, 29, 65, 73, 41, 43, 56, 29, 70, 74, 27, 38, 70, 44, 68, 60, 53, 28, 42, 52, 54, 71, 79, 40, 42, 68, 67, 34, 35, 55, 41, 53, 42, 57, 65, 68, 64, 32, 37, 67, 78, 43, 41, 65, 36, 68, 44, 37, 48, 66, 66, 72, 59, 53, 56, 55, 57, 35, 35, 37, 33, 35, 68, 42, 48, 63, 57, 46, 41, 57, 28, 62, 46, 45, 55, 34, 59, 85, 45, 49, 30, 68, 32, 62, 64, 32, 67, 30, 41, 76, 59, 56, 56, 60, 77, 73, 80, 51, 33, 55, 57, 83, 21, 31, 40, 53, 22, 27, 78, 32, 61, 60, 63, 24, 73, 47, 76, 49, 57, 45, 66, 57, 48, 69, 73, 53, 76, 28, 75, 32, 30, 61, 50, 50, 58, 34, 29, 68, 76, 54, 32, 67, 32, 48, 65, 37, 25, 68, 56, 67, 68, 69, 67, 75, 27, 29, 60, 66, 69, 48, 36, 46, 60, 54, 37, 29, 66, 57, 61, 55, 38, 48, 42, 41, 71, 36, 41, 26, 64, 54, 32, 58, 60, 30, 52, 51, 66, 66, 74, 70, 34, 30, 73, 29, 54, 56, 39, 53, 60, 77, 71, 51, 60, 48, 58, 32, 66, 30, 46, 69, 54, 37, 50, 58, 38, 27, 69, 35, 52, 36, 69, 32, 59, 49, 29, 68, 65, 69, 30, 31, 70, 46, 21, 55, 65, 36, 48, 55, 62, 40, 38, 30, 65, 64, 60, 51, 55, 28, 23, 61, 47, 24, 56, 27, 55, 87, 56, 63, 70, 65, 55, 68, 32, 69, 22, 91, 64, 29, 75, 58, 55, 58, 24, 70, 27, 36, 61, 50, 43, 57, 34, 71, 65, 59, 58, 63, 62, 55, 73, 73, 18, 60, 72, 29, 31, 49, 64, 38, 27, 68, 49, 59, 30, 62, 64, 64, 70, 39, 60, 32, 72, 38, 66, 23, 49, 78, 31, 64, 50, 35, 52, 36, 45, 64, 45, 67, 76, 26, 25, 64, 66, 43, 50, 74, 35, 70, 28, 76, 60, 36, 41, 74, 60, 61, 52, 48, 64, 70, 65, 68, 54, 39, 27, 63, 64, 61, 26, 75, 34, 54, 34, 58, 54, 74, 61, 77, 45, 67, 53, 54, 44, 38, 30, 27, 41, 66, 59, 69, 45, 60, 60, 31, 75, 50, 70, 69, 53, 62, 70, 44, 30, 58, 70, 28, 69, 58, 65, 44, 41, 25, 72, 73, 68, 69, 28, 71, 66, 48, 23, 45, 28, 20, 41, 76, 20, 58, 61, 58, 46, 57, 38, 57, 64, 53, 30, 51, 62, 53, 29, 68, 58, 68, 20, 24, 50, 65, 65, 42, 41, 65, 51, 29, 63, 47, 76, 54, 29, 60, 63, 39, 59, 35, 55, 33, 50, 45, 37, 67, 46, 73, 66, 25, 38, 24, 30, 29, 48, 61, 74, 75, 46, 60, 70, 28, 48, 68, 46, 45, 83, 42, 51, 44, 65, 69, 57, 65, 42, 57, 55, 80, 69, 64, 21, 67, 57, 50, 40, 29, 35, 38, 66, 40, 60, 76, 53, 62, 63, 40, 57, 61, 55, 61, 42, 44, 50, 72, 74, 55, 30, 30, 45, 27, 26, 62, 68, 38, 50, 49, 52, 63, 32, 46, 67, 22, 77, 22, 56, 36, 62, 73, 37, 42, 32, 34, 51, 49, 86, 34, 28, 40, 57, 35, 28, 57, 30, 28, 39, 59, 79, 29, 41, 26, 42, 63, 29, 39, 55, 62, 28, 48, 71, 75, 60, 53, 56, 68, 35, 75, 58, 60, 54, 49, 73, 73, 23, 65, 66, 25, 44, 65, 57, 57, 75, 69, 53, 65, 30, 42, 49, 33, 28, 41, 76, 33, 63, 44, 64, 78, 68, 55, 31, 40, 64, 64, 44, 45, 65, 42, 23, 35, 55, 55, 70, 27, 62, 61, 56, 32, 29, 71, 30, 27, 39, 41, 47, 61, 71, 49, 33, 41, 36, 55, 31, 55, 33, 59, 52, 55, 64, 56, 70, 67, 59, 32, 57, 22, 67, 62, 61, 75, 66, 53, 29, 65, 22, 60, 48, 46, 58, 54, 42, 34, 24, 43, 30, 65, 68, 46, 60, 71, 56, 26, 58, 43, 61, 75, 86, 69, 48, 30, 72, 54, 57, 26, 48, 57, 74, 68, 70, 44, 78, 71, 47, 27, 61, 62, 69, 31, 61, 33, 71, 32, 34, 41, 52, 34, 74, 52, 73, 50, 43, 63, 56, 64, 51, 38, 59, 45, 73, 34, 55, 46, 72, 30, 49, 65, 75, 56, 65, 51, 76, 71, 66, 57, 23, 44, 75, 28, 68, 62, 30, 64, 60, 58, 49, 60, 59, 54, 33, 57, 19, 69, 46, 28, 64, 47, 50, 68, 33, 52, 51, 71, 57, 77, 67, 49, 79, 61, 57, 57, 78, 25, 51, 24, 71, 48, 61, 49, 57, 63, 60, 76, 39, 34, 67, 21, 40, 61, 22, 34, 43, 33, 33, 66, 77, 27, 59, 38, 38, 26, 42, 47, 43, 44, 43, 24, 47, 56, 38, 43, 29, 53, 30, 31, 74, 22, 60, 65, 40, 31, 45, 32, 54, 38, 42, 62, 34, 64, 75, 69, 41, 71, 50, 23, 32, 65, 59, 43, 61, 67, 51, 49, 76, 56, 44, 75, 65, 46, 46, 63, 40, 66, 52, 64, 68, 71, 72, 53, 65, 30, 69, 59, 73, 56, 53, 72, 62, 24, 74, 62, 71, 60, 59, 77, 46, 51, 52, 48, 68, 57, 55, 64, 69, 25, 25, 31, 60, 83, 55, 66, 77, 38, 24, 41, 70, 67, 22, 30, 28, 64, 60, 70, 22, 71, 63, 73, 52, 61, 68, 53, 65, 67, 73, 44, 73, 64, 57, 73, 24, 30, 79, 63, 54, 53, 68, 75, 58, 70, 74, 29, 60, 61, 62, 71, 69, 55, 53, 39, 26, 53, 26, 22, 70, 68, 65, 55, 51, 45, 29, 20, 37, 81, 68, 33, 49, 46, 27, 42, 58, 73, 69, 84, 69, 33, 60, 66, 33, 64, 48, 67, 39, 49, 61, 55, 68, 75, 62, 68, 67, 70, 62, 36, 40, 67, 37, 27, 62, 65, 57, 64, 26, 32, 60, 42, 38, 51, 54, 26, 56, 35, 31, 50, 53, 28, 28, 44, 62, 72, 51, 79, 60, 78, 47, 60, 30, 28, 61, 57, 43, 32, 67, 53, 34, 54, 63, 28, 64, 66, 61, 22, 64, 31, 66, 40, 20, 44, 71, 68, 23, 53, 36, 37, 77, 53, 57, 62, 51, 83, 59, 25, 39, 34, 25, 65, 55, 70, 26, 63, 57, 69, 30, 29, 39, 41, 75, 28, 27, 39, 53, 63, 25, 62, 37, 68, 20, 69, 52, 33, 32, 40, 63, 27, 77, 77, 62, 47, 58, 73, 56, 66, 53, 55, 67, 59, 72, 53, 63, 55, 67, 69, 71, 40, 37, 41, 65, 66, 49, 20, 55, 70, 30, 76, 57, 27, 49, 59, 75, 62, 62, 65, 61, 39, 59, 52, 58, 68, 37, 70, 55, 61, 31, 49, 40, 26, 19, 48, 45, 45, 79, 67, 40, 63, 47, 62, 63, 59, 30, 35, 39, 30, 70, 41, 58, 66, 60, 38, 55, 47, 65, 46, 65, 70, 43, 59, 49, 69, 63, 33, 66, 26, 27, 68, 36, 37, 25, 55, 40, 71, 33, 56, 90, 64, 54, 51, 69, 67, 67, 44, 69, 56, 65, 62, 69, 46, 56, 47, 29, 31, 77, 69, 43, 30, 37, 84, 30, 64, 77, 45, 43, 69, 57, 22, 66, 37, 68, 61, 64, 36, 53, 48, 57, 30, 54, 41, 39, 35, 49, 64, 62, 41, 27, 77, 24, 64, 51, 68, 32, 55, 65, 39, 76, 73, 34, 76, 25, 42, 64, 30, 57, 70, 61, 28, 48, 32, 29, 25, 62, 68, 53, 68, 33, 40, 65, 65, 56, 57, 54, 58, 31, 76, 77, 28, 60, 70, 73, 64, 66, 49, 33, 46, 57, 47, 62, 45, 68, 47, 46, 33, 65, 32, 63, 28, 46, 44, 34, 61, 62, 38, 77, 54, 19, 34, 30, 43, 38, 51, 74, 51, 69, 55, 29, 63, 75, 78, 65, 60, 28, 31, 39, 61, 56, 23, 63, 73, 29, 64, 23, 60, 41, 40, 76, 45, 64, 38, 64, 37, 32, 75, 41, 67, 24, 62, 63, 67, 35, 29, 24, 52, 63, 29, 33, 70, 58, 31, 56, 26, 55, 53, 23, 63, 21, 63, 65, 37, 54, 51, 55, 71, 32, 69, 58, 59, 60, 62, 62, 29, 31, 65, 31, 49, 76, 61, 41, 62, 60, 36, 56, 68, 40, 26, 34, 53, 27, 26, 21, 75, 78, 68, 64, 54, 58, 72, 65, 60, 32, 46, 60, 22, 55, 71, 20, 48, 53, 54, 69, 77, 69, 61, 28, 64, 47, 28, 36, 28, 62, 65, 30, 40, 65, 35, 21, 39, 49, 58, 72, 51, 72, 28, 23, 51, 51, 38, 61, 34, 34, 62, 30, 76, 60, 42, 58, 60, 77, 82, 43, 33, 65, 51, 65, 54, 61, 73, 67, 75, 52, 25, 51, 51, 34, 57, 62, 76, 57, 40, 25, 70, 49, 25, 43, 54, 43, 59, 74, 25, 52, 41, 71, 41, 56, 74, 23, 62, 72, 26, 31, 66, 41, 80, 76, 80, 61, 70, 32, 40, 36, 32, 21, 60, 31, 47, 65, 64, 63, 61, 46, 56, 33, 83, 60, 60, 54, 63, 64, 67, 44, 55, 46, 72, 55, 72, 52, 62, 31, 45, 58, 67, 27, 49, 33, 28, 58, 59, 22, 64, 61, 67, 85, 63, 38, 43, 73, 48, 19, 28, 56, 66, 62, 71, 28, 52, 57, 60, 74, 64, 49, 35, 62, 30, 63, 67, 70, 69, 32, 64, 53, 40, 55, 76, 35, 23, 63, 36, 17, 29, 60, 60, 24, 67, 71, 60, 22, 57, 62, 79, 34, 68, 26, 34, 60, 21, 52, 51, 68, 50, 66, 58, 62, 55, 55, 28, 37, 41, 79, 44, 73, 46, 74, 60, 60, 55, 30, 52, 67, 39, 58, 66, 45, 62, 73, 81, 37, 63, 50, 23, 30, 52, 77, 68, 74, 48, 39, 71, 65, 49, 47, 26, 56, 71, 33, 70, 38, 29, 42, 24, 22, 72, 53, 28, 24, 36, 56, 81, 35, 28, 48, 45, 75, 21, 47, 61, 86, 22, 35, 41, 60, 50, 79, 47, 58, 60, 68, 46, 74, 55, 63, 75, 34, 61, 40, 72, 49, 60, 49, 58, 48, 40, 23, 67, 65, 39, 64, 68, 43, 57, 41, 47, 46, 29, 49, 59, 41, 69, 67, 47, 51, 60, 43, 25, 28, 87, 65, 24, 74, 38, 73, 76, 83, 29, 74, 33, 61, 25, 55, 44, 70, 37, 40, 40, 32, 62, 51, 58, 29, 21, 33, 30, 23, 32, 15, 51, 70, 29, 59, 26, 60, 38, 55, 31, 29, 55, 29, 57, 60, 62, 57, 47, 75, 49, 47, 75, 52, 62, 56, 50, 76, 60, 72, 64, 28, 58, 46, 74, 32, 91, 23, 39, 38, 48, 75, 35, 63, 36, 20, 70, 46, 25, 46, 75, 60, 32, 32, 49, 38, 65, 57, 29, 59, 29, 71, 53, 33, 31, 51, 31, 37, 35, 74, 68, 63, 28, 70, 57, 34, 27, 38, 50, 63, 62, 45, 32, 60, 60, 50, 27, 66, 52, 62, 52, 39, 59, 25, 73, 54, 41, 35, 39, 45, 28, 64, 54, 47, 30, 54, 41, 48, 69, 67, 32, 59, 52, 40, 24, 34, 35, 36, 44, 62, 39, 70, 43, 53, 34, 27, 64, 32, 33, 55, 36, 56, 43, 69, 60, 69, 32, 68, 66, 34, 54, 54, 54, 58, 31, 60, 73, 58, 23, 29, 70, 27, 40, 60, 36, 43, 45, 65, 72, 45, 73, 65, 60, 54, 61, 55, 68, 58, 60, 72, 65, 73, 24, 48, 22, 48, 64, 27, 56, 50, 59, 62, 47, 68, 35, 65, 65, 52, 44, 75, 78, 42, 25, 75, 26, 30, 55, 58, 31, 53, 26, 26, 70, 56, 58, 64, 49, 31, 27, 61, 30, 61, 77, 32, 63, 76, 70, 31, 66, 58, 68, 50, 51, 24, 40, 28, 36, 45, 66, 62, 58, 44, 74, 38, 65, 34, 30, 60, 42, 66, 57, 42, 68, 56, 57, 53, 59, 38, 55, 20, 72, 64, 67, 67, 34, 45, 52, 68, 55, 66, 30, 72, 46, 54, 68, 69, 63, 64, 60, 33, 46, 48, 62, 20, 38, 32, 55, 35, 66, 32, 68, 77, 32, 64, 54, 42, 66, 66, 65, 82, 40, 38, 68, 56, 70, 30, 26, 40, 24, 65, 29, 34, 44, 40, 30, 53, 65, 56, 29, 69, 47, 25, 63, 54, 44, 46, 42, 50, 72, 24, 63, 26, 40, 66, 67, 63, 65, 44, 23, 43, 76, 26, 47, 24, 64, 54, 34, 58, 37, 72, 30, 41, 26, 43, 35, 59, 33, 63, 66, 70, 70, 28, 54, 27, 71, 66, 69, 37, 22, 36, 53, 36, 35, 34, 27, 27, 72, 36, 53, 69, 66, 62, 53, 42, 63, 27, 70, 50, 70, 62, 28, 26, 26, 37, 62, 42, 44, 37, 62, 40, 58, 44, 63, 67, 42, 80, 68, 31, 65, 56, 41, 79, 72, 36, 75, 63, 64, 41, 55, 78, 48, 51, 49, 61, 25, 59, 41, 40, 22, 52, 28, 62, 61, 58, 75, 33, 64, 29, 61, 30, 52, 35, 69, 51, 46, 62, 31, 55, 62, 31, 58, 65, 32, 55, 48, 46, 60, 61, 68, 41, 54, 41, 70, 41, 62, 50, 36, 25, 70, 35, 64, 65, 61, 21, 39, 33, 36, 73, 23, 38, 67, 28, 38, 52, 30, 76, 61, 44, 47, 59, 27, 27, 55, 25, 46, 33, 53, 60, 51, 67, 62, 56, 33, 57, 55, 67, 54, 58, 52, 69, 30, 84, 54, 36, 50, 26, 46, 59, 48, 71, 37, 34, 68, 51, 55, 49, 76, 62, 68, 62, 64, 47, 54, 66, 68, 60, 66, 69, 41, 43, 60, 40, 40, 53, 69, 30, 31, 61, 56, 78, 65, 74, 33, 38, 67, 63, 60, 79, 28, 70, 29, 77, 55, 26, 33, 75, 33, 61, 39, 25, 56, 62, 44, 57, 24, 58, 30, 54, 48, 52, 68, 58, 40, 57, 66, 40, 30, 63, 71, 71, 68, 59, 21, 32, 38, 57, 62, 44, 25, 36, 59, 55, 67, 38, 31, 44, 56, 21, 42, 67, 49, 64, 30, 21, 44, 60, 56, 38, 43, 62, 53, 70, 36, 34, 58, 55, 76, 36, 68, 63, 65, 21, 61, 52, 16, 29, 62, 41, 55, 37, 33, 62, 39, 72, 55, 57, 33, 74, 59, 70, 29, 22, 26, 38, 39, 42, 58, 41, 82, 30, 34, 48, 52, 46, 62, 58, 65, 66, 61, 68, 63, 69, 59, 63, 57, 34, 41, 51, 43, 68, 65, 30, 75, 75, 41, 64, 60, 28, 64, 58, 70, 38, 38, 29, 54, 67, 70, 55, 64, 36, 27, 64, 55, 39, 68, 52, 45, 73, 62, 53, 33, 35, 28, 59, 27, 36, 27, 78, 51, 36, 55, 81, 60, 77, 82, 70, 69, 54, 40, 72, 40, 52, 42, 71, 63, 32, 34, 58, 44, 62, 57, 49, 46, 37, 41, 57, 46, 51, 51, 22, 24, 46, 59, 63, 57, 74, 59, 68, 35, 64, 47, 60, 32, 63, 68, 65, 58, 25, 63, 38, 28, 54, 58, 78, 62, 44, 85, 70, 72, 40, 43, 35, 74, 29, 47, 24, 60, 75, 39, 44, 78, 45, 75, 36, 78, 64, 62, 20, 65, 77, 65, 27, 74, 71, 69, 28, 33, 65, 51, 50, 34, 27, 33, 57, 33, 43, 36, 25, 54, 56, 42, 29, 82, 28, 38, 65, 64, 23, 79, 25, 52, 59, 34, 57, 64, 57, 71, 68, 67, 65, 72, 39, 25, 65, 43, 38, 32, 27, 68, 60, 72, 69, 57, 57, 29, 67, 57, 60, 35, 65, 43, 29, 53, 28, 56, 51, 70, 27, 32, 62, 43, 46, 63, 55, 72, 30, 64, 76, 29, 74, 74, 67, 15, 60, 32, 51, 59, 67, 40, 61, 43, 54, 29, 56, 33, 65, 62, 52, 76, 34, 58, 57, 67, 40, 39, 61, 52, 34, 59, 49, 38, 75, 28, 53, 54, 22, 47, 49, 45, 55, 36, 53, 25, 79, 65, 31, 71, 20, 75, 73], \"y0\": \" \", \"yaxis\": \"y\"}, {\"alignmentgroup\": \"True\", \"box\": {\"visible\": true}, \"hoverlabel\": {\"namelength\": 0}, \"hovertemplate\": \"Position=%{x}<br>Crossing=%{y}\", \"legendgroup\": \"Position=MID\", \"marker\": {\"color\": \"#EF553B\"}, \"name\": \"Position=MID\", \"offsetgroup\": \"Position=MID\", \"orientation\": \"v\", \"points\": \"all\", \"scalegroup\": \"True\", \"showlegend\": true, \"type\": \"violin\", \"x\": [\"MID\", \"MID\", \"MID\", \"MID\", \"MID\", \"MID\", \"MID\", \"MID\", \"MID\", \"MID\", \"MID\", \"MID\", \"MID\", \"MID\", \"MID\", \"MID\", \"MID\", \"MID\", \"MID\", \"MID\", \"MID\", \"MID\", \"MID\", \"MID\", \"MID\", \"MID\", \"MID\", \"MID\", \"MID\", \"MID\", \"MID\", \"MID\", \"MID\", \"MID\", \"MID\", \"MID\", \"MID\", \"MID\", \"MID\", \"MID\", \"MID\", \"MID\", \"MID\", \"MID\", \"MID\", \"MID\", \"MID\", \"MID\", \"MID\", \"MID\", \"MID\", \"MID\", \"MID\", \"MID\", \"MID\", \"MID\", \"MID\", \"MID\", \"MID\", \"MID\", \"MID\", \"MID\", \"MID\", \"MID\", \"MID\", \"MID\", \"MID\", \"MID\", \"MID\", \"MID\", \"MID\", \"MID\", \"MID\", \"MID\", \"MID\", \"MID\", \"MID\", \"MID\", \"MID\", \"MID\", \"MID\", \"MID\", \"MID\", \"MID\", \"MID\", \"MID\", \"MID\", \"MID\", \"MID\", \"MID\", \"MID\", \"MID\", \"MID\", \"MID\", \"MID\", \"MID\", \"MID\", \"MID\", \"MID\", \"MID\", \"MID\", \"MID\", \"MID\", \"MID\", \"MID\", \"MID\", \"MID\", \"MID\", \"MID\", \"MID\", \"MID\", \"MID\", \"MID\", \"MID\", \"MID\", \"MID\", \"MID\", \"MID\", \"MID\", \"MID\", \"MID\", \"MID\", \"MID\", \"MID\", \"MID\", \"MID\", \"MID\", \"MID\", \"MID\", \"MID\", \"MID\", \"MID\", \"MID\", \"MID\", \"MID\", \"MID\", \"MID\", \"MID\", \"MID\", \"MID\", \"MID\", \"MID\", \"MID\", \"MID\", \"MID\", \"MID\", \"MID\", \"MID\", \"MID\", \"MID\", \"MID\", \"MID\", \"MID\", \"MID\", \"MID\", \"MID\", \"MID\", \"MID\", \"MID\", \"MID\", \"MID\", \"MID\", \"MID\", \"MID\", \"MID\", \"MID\", \"MID\", \"MID\", \"MID\", \"MID\", \"MID\", \"MID\", \"MID\", \"MID\", \"MID\", \"MID\", \"MID\", \"MID\", \"MID\", \"MID\", \"MID\", \"MID\", \"MID\", \"MID\", \"MID\", \"MID\", \"MID\", \"MID\", \"MID\", \"MID\", \"MID\", \"MID\", \"MID\", \"MID\", \"MID\", \"MID\", \"MID\", \"MID\", \"MID\", \"MID\", \"MID\", \"MID\", \"MID\", \"MID\", \"MID\", \"MID\", \"MID\", \"MID\", \"MID\", \"MID\", \"MID\", \"MID\", \"MID\", \"MID\", \"MID\", \"MID\", \"MID\", \"MID\", \"MID\", \"MID\", \"MID\", \"MID\", \"MID\", \"MID\", \"MID\", \"MID\", \"MID\", \"MID\", \"MID\", \"MID\", \"MID\", \"MID\", \"MID\", \"MID\", \"MID\", \"MID\", \"MID\", \"MID\", \"MID\", \"MID\", \"MID\", \"MID\", \"MID\", \"MID\", \"MID\", \"MID\", \"MID\", \"MID\", \"MID\", \"MID\", \"MID\", \"MID\", \"MID\", \"MID\", \"MID\", \"MID\", \"MID\", \"MID\", \"MID\", \"MID\", \"MID\", \"MID\", \"MID\", \"MID\", \"MID\", \"MID\", \"MID\", \"MID\", \"MID\", \"MID\", \"MID\", \"MID\", \"MID\", \"MID\", \"MID\", \"MID\", \"MID\", \"MID\", \"MID\", \"MID\", \"MID\", \"MID\", \"MID\", \"MID\", \"MID\", \"MID\", \"MID\", \"MID\", \"MID\", \"MID\", \"MID\", \"MID\", \"MID\", \"MID\", \"MID\", \"MID\", \"MID\", \"MID\", \"MID\", \"MID\", \"MID\", \"MID\", \"MID\", \"MID\", \"MID\", \"MID\", \"MID\", \"MID\", \"MID\", \"MID\", \"MID\", \"MID\", \"MID\", \"MID\", \"MID\", \"MID\", \"MID\", \"MID\", \"MID\", \"MID\", \"MID\", \"MID\", \"MID\", \"MID\", \"MID\", \"MID\", \"MID\", \"MID\", \"MID\", \"MID\", \"MID\", \"MID\", \"MID\", \"MID\", \"MID\", \"MID\", \"MID\", \"MID\", \"MID\", \"MID\", \"MID\", \"MID\", \"MID\", \"MID\", \"MID\", \"MID\", \"MID\", \"MID\", \"MID\", \"MID\", \"MID\", \"MID\", \"MID\", \"MID\", \"MID\", \"MID\", \"MID\", \"MID\", \"MID\", \"MID\", \"MID\", \"MID\", \"MID\", \"MID\", \"MID\", \"MID\", \"MID\", \"MID\", \"MID\", \"MID\", \"MID\", \"MID\", \"MID\", \"MID\", \"MID\", \"MID\", \"MID\", \"MID\", \"MID\", \"MID\", \"MID\", \"MID\", \"MID\", \"MID\", \"MID\", \"MID\", \"MID\", \"MID\", \"MID\", \"MID\", \"MID\", \"MID\", \"MID\", \"MID\", \"MID\", \"MID\", \"MID\", \"MID\", \"MID\", \"MID\", \"MID\", \"MID\", \"MID\", \"MID\", \"MID\", \"MID\", \"MID\", \"MID\", \"MID\", \"MID\", \"MID\", \"MID\", \"MID\", \"MID\", \"MID\", \"MID\", \"MID\", \"MID\", \"MID\", \"MID\", \"MID\", \"MID\", \"MID\", \"MID\", \"MID\", \"MID\", \"MID\", \"MID\", \"MID\", \"MID\", \"MID\", \"MID\", \"MID\", \"MID\", \"MID\", \"MID\", \"MID\", \"MID\", \"MID\", \"MID\", \"MID\", \"MID\", \"MID\", \"MID\", \"MID\", \"MID\", \"MID\", \"MID\", \"MID\", \"MID\", \"MID\", \"MID\", \"MID\", \"MID\", \"MID\", \"MID\", \"MID\", \"MID\", \"MID\", \"MID\", \"MID\", \"MID\", \"MID\", \"MID\", \"MID\", \"MID\", \"MID\", \"MID\", \"MID\", \"MID\", \"MID\", \"MID\", \"MID\", \"MID\", \"MID\", \"MID\", \"MID\", \"MID\", \"MID\", \"MID\", \"MID\", \"MID\", \"MID\", \"MID\", \"MID\", \"MID\", \"MID\", \"MID\", \"MID\", \"MID\", \"MID\", \"MID\", \"MID\", \"MID\", \"MID\", \"MID\", \"MID\", \"MID\", \"MID\", \"MID\", \"MID\", \"MID\", \"MID\", \"MID\", \"MID\", \"MID\", \"MID\", \"MID\", \"MID\", \"MID\", \"MID\", \"MID\", \"MID\", \"MID\", \"MID\", \"MID\", \"MID\", \"MID\", \"MID\", \"MID\", \"MID\", \"MID\", \"MID\", \"MID\", \"MID\", \"MID\", \"MID\", \"MID\", \"MID\", \"MID\", \"MID\", \"MID\", \"MID\", \"MID\", \"MID\", \"MID\", \"MID\", \"MID\", \"MID\", \"MID\", \"MID\", \"MID\", \"MID\", \"MID\", \"MID\", \"MID\", \"MID\", \"MID\", \"MID\", \"MID\", \"MID\", \"MID\", \"MID\", \"MID\", \"MID\", \"MID\", \"MID\", \"MID\", \"MID\", \"MID\", \"MID\", \"MID\", \"MID\", \"MID\", \"MID\", \"MID\", \"MID\", \"MID\", \"MID\", \"MID\", \"MID\", \"MID\", \"MID\", \"MID\", \"MID\", \"MID\", \"MID\", \"MID\", \"MID\", \"MID\", \"MID\", \"MID\", \"MID\", \"MID\", \"MID\", \"MID\", \"MID\", \"MID\", \"MID\", \"MID\", \"MID\", \"MID\", \"MID\", \"MID\", \"MID\", \"MID\", \"MID\", \"MID\", \"MID\", \"MID\", \"MID\", \"MID\", \"MID\", \"MID\", \"MID\", \"MID\", \"MID\", \"MID\", \"MID\", \"MID\", \"MID\", \"MID\", \"MID\", \"MID\", \"MID\", \"MID\", \"MID\", \"MID\", \"MID\", \"MID\", \"MID\", \"MID\", \"MID\", \"MID\", \"MID\", \"MID\", \"MID\", \"MID\", \"MID\", \"MID\", \"MID\", \"MID\", \"MID\", \"MID\", \"MID\", \"MID\", \"MID\", \"MID\", \"MID\", \"MID\", \"MID\", \"MID\", \"MID\", \"MID\", \"MID\", \"MID\", \"MID\", \"MID\", \"MID\", \"MID\", \"MID\", \"MID\", \"MID\", \"MID\", \"MID\", \"MID\", \"MID\", \"MID\", \"MID\", \"MID\", \"MID\", \"MID\", \"MID\", \"MID\", \"MID\", \"MID\", \"MID\", \"MID\", \"MID\", \"MID\", \"MID\", \"MID\", \"MID\", \"MID\", \"MID\", \"MID\", \"MID\", \"MID\", \"MID\", \"MID\", \"MID\", \"MID\", \"MID\", \"MID\", \"MID\", \"MID\", \"MID\", \"MID\", \"MID\", \"MID\", \"MID\", \"MID\", \"MID\", \"MID\", \"MID\", \"MID\", \"MID\", \"MID\", \"MID\", \"MID\", \"MID\", \"MID\", \"MID\", \"MID\", \"MID\", \"MID\", \"MID\", \"MID\", \"MID\", \"MID\", \"MID\", \"MID\", \"MID\", \"MID\", \"MID\", \"MID\", \"MID\", \"MID\", \"MID\", \"MID\", \"MID\", \"MID\", \"MID\", \"MID\", \"MID\", \"MID\", \"MID\", \"MID\", \"MID\", \"MID\", \"MID\", \"MID\", \"MID\", \"MID\", \"MID\", \"MID\", \"MID\", \"MID\", \"MID\", \"MID\", \"MID\", \"MID\", \"MID\", \"MID\", \"MID\", \"MID\", \"MID\", \"MID\", \"MID\", \"MID\", \"MID\", \"MID\", \"MID\", \"MID\", \"MID\", \"MID\", \"MID\", \"MID\", \"MID\", \"MID\", \"MID\", \"MID\", \"MID\", \"MID\", \"MID\", \"MID\", \"MID\", \"MID\", \"MID\", \"MID\", \"MID\", \"MID\", \"MID\", \"MID\", \"MID\", \"MID\", \"MID\", \"MID\", \"MID\", \"MID\", \"MID\", \"MID\", \"MID\", \"MID\", \"MID\", \"MID\", \"MID\", \"MID\", \"MID\", \"MID\", \"MID\", \"MID\", \"MID\", \"MID\", \"MID\", \"MID\", \"MID\", \"MID\", \"MID\", \"MID\", \"MID\", \"MID\", \"MID\", \"MID\", \"MID\", \"MID\", \"MID\", \"MID\", \"MID\", \"MID\", \"MID\", \"MID\", \"MID\", \"MID\", \"MID\", \"MID\", \"MID\", \"MID\", \"MID\", \"MID\", \"MID\", \"MID\", \"MID\", \"MID\", \"MID\", \"MID\", \"MID\", \"MID\", \"MID\", \"MID\", \"MID\", \"MID\", \"MID\", \"MID\", \"MID\", \"MID\", \"MID\", \"MID\", \"MID\", \"MID\", \"MID\", \"MID\", \"MID\", \"MID\", \"MID\", \"MID\", \"MID\", \"MID\", \"MID\", \"MID\", \"MID\", \"MID\", \"MID\", \"MID\", \"MID\", \"MID\", \"MID\", \"MID\", \"MID\", \"MID\", \"MID\", \"MID\", \"MID\", \"MID\", \"MID\", \"MID\", \"MID\", \"MID\", \"MID\", \"MID\", \"MID\", \"MID\", \"MID\", \"MID\", \"MID\", \"MID\", \"MID\", \"MID\", \"MID\", \"MID\", \"MID\", \"MID\", \"MID\", \"MID\", \"MID\", \"MID\", \"MID\", \"MID\", \"MID\", \"MID\", \"MID\", \"MID\", \"MID\", \"MID\", \"MID\", \"MID\", \"MID\", \"MID\", \"MID\", \"MID\", \"MID\", \"MID\", \"MID\", \"MID\", \"MID\", \"MID\", \"MID\", \"MID\", \"MID\", \"MID\", \"MID\", \"MID\", \"MID\", \"MID\", \"MID\", \"MID\", \"MID\", \"MID\", \"MID\", \"MID\", \"MID\", \"MID\", \"MID\", \"MID\", \"MID\", \"MID\", \"MID\", \"MID\", \"MID\", \"MID\", \"MID\", \"MID\", \"MID\", \"MID\", \"MID\", \"MID\", \"MID\", \"MID\", \"MID\", \"MID\", \"MID\", \"MID\", \"MID\", \"MID\", \"MID\", \"MID\", \"MID\", \"MID\", \"MID\", \"MID\", \"MID\", \"MID\", \"MID\", \"MID\", \"MID\", \"MID\", \"MID\", \"MID\", \"MID\", \"MID\", \"MID\", \"MID\", \"MID\", \"MID\", \"MID\", \"MID\", \"MID\", \"MID\", \"MID\", \"MID\", \"MID\", \"MID\", \"MID\", \"MID\", \"MID\", \"MID\", \"MID\", \"MID\", \"MID\", \"MID\", \"MID\", \"MID\", \"MID\", \"MID\", \"MID\", \"MID\", \"MID\", \"MID\", \"MID\", \"MID\", \"MID\", \"MID\", \"MID\", \"MID\", \"MID\", \"MID\", \"MID\", \"MID\", \"MID\", \"MID\", \"MID\", \"MID\", \"MID\", \"MID\", \"MID\", \"MID\", \"MID\", \"MID\", \"MID\", \"MID\", \"MID\", \"MID\", \"MID\", \"MID\", \"MID\", \"MID\", \"MID\", \"MID\", \"MID\", \"MID\", \"MID\", \"MID\", \"MID\", \"MID\", \"MID\", \"MID\", \"MID\", \"MID\", \"MID\", \"MID\", \"MID\", \"MID\", \"MID\", \"MID\", \"MID\", \"MID\", \"MID\", \"MID\", \"MID\", \"MID\", \"MID\", \"MID\", \"MID\", \"MID\", \"MID\", \"MID\", \"MID\", \"MID\", \"MID\", \"MID\", \"MID\", \"MID\", \"MID\", \"MID\", \"MID\", \"MID\", \"MID\", \"MID\", \"MID\", \"MID\", \"MID\", \"MID\", \"MID\", \"MID\", \"MID\", \"MID\", \"MID\", \"MID\", \"MID\", \"MID\", \"MID\", \"MID\", \"MID\", \"MID\", \"MID\", \"MID\", \"MID\", \"MID\", \"MID\", \"MID\", \"MID\", \"MID\", \"MID\", \"MID\", \"MID\", \"MID\", \"MID\", \"MID\", \"MID\", \"MID\", \"MID\", \"MID\", \"MID\", \"MID\", \"MID\", \"MID\", \"MID\", \"MID\", \"MID\", \"MID\", \"MID\", \"MID\", \"MID\", \"MID\", \"MID\", \"MID\", \"MID\", \"MID\", \"MID\", \"MID\", \"MID\", \"MID\", \"MID\", \"MID\", \"MID\", \"MID\", \"MID\", \"MID\", \"MID\", \"MID\", \"MID\", \"MID\", \"MID\", \"MID\", \"MID\", \"MID\", \"MID\", \"MID\", \"MID\", \"MID\", \"MID\", \"MID\", \"MID\", \"MID\", \"MID\", \"MID\", \"MID\", \"MID\", \"MID\", \"MID\", \"MID\", \"MID\", \"MID\", \"MID\", \"MID\", \"MID\", \"MID\", \"MID\", \"MID\", \"MID\", \"MID\", \"MID\", \"MID\", \"MID\", \"MID\", \"MID\", \"MID\", \"MID\", \"MID\", \"MID\", \"MID\", \"MID\", \"MID\", \"MID\", \"MID\", \"MID\", \"MID\", \"MID\", \"MID\", \"MID\", \"MID\", \"MID\", \"MID\", \"MID\", \"MID\", \"MID\", \"MID\", \"MID\", \"MID\", \"MID\", \"MID\", \"MID\", \"MID\", \"MID\", \"MID\", \"MID\", \"MID\", \"MID\", \"MID\", \"MID\", \"MID\", \"MID\", \"MID\", \"MID\", \"MID\", \"MID\", \"MID\", \"MID\", \"MID\", \"MID\", \"MID\", \"MID\", \"MID\", \"MID\", \"MID\", \"MID\", \"MID\", \"MID\", \"MID\", \"MID\", \"MID\", \"MID\", \"MID\", \"MID\", \"MID\", \"MID\", \"MID\", \"MID\", \"MID\", \"MID\", \"MID\", \"MID\", \"MID\", \"MID\", \"MID\", \"MID\", \"MID\", \"MID\", \"MID\", \"MID\", \"MID\", \"MID\", \"MID\", \"MID\", \"MID\", \"MID\", \"MID\", \"MID\", \"MID\", \"MID\", \"MID\", \"MID\", \"MID\", \"MID\", \"MID\", \"MID\", \"MID\", \"MID\", \"MID\", \"MID\", \"MID\", \"MID\", \"MID\", \"MID\", \"MID\", \"MID\", \"MID\", \"MID\", \"MID\", \"MID\", \"MID\", \"MID\", \"MID\", \"MID\", \"MID\", \"MID\", \"MID\", \"MID\", \"MID\", \"MID\", \"MID\", \"MID\", \"MID\", \"MID\", \"MID\", \"MID\", \"MID\", \"MID\", \"MID\", \"MID\", \"MID\", \"MID\", \"MID\", \"MID\", \"MID\", \"MID\", \"MID\", \"MID\", \"MID\", \"MID\", \"MID\", \"MID\", \"MID\", \"MID\", \"MID\", \"MID\", \"MID\", \"MID\", \"MID\", \"MID\", \"MID\", \"MID\", \"MID\", \"MID\", \"MID\", \"MID\", \"MID\", \"MID\", \"MID\", \"MID\", \"MID\", \"MID\", \"MID\", \"MID\", \"MID\", \"MID\", \"MID\", \"MID\", \"MID\", \"MID\", \"MID\", \"MID\", \"MID\", \"MID\", \"MID\", \"MID\", \"MID\", \"MID\", \"MID\", \"MID\", \"MID\", \"MID\", \"MID\", \"MID\", \"MID\", \"MID\", \"MID\", \"MID\", \"MID\", \"MID\", \"MID\", \"MID\", \"MID\", \"MID\", \"MID\", \"MID\", \"MID\", \"MID\", \"MID\", \"MID\", \"MID\", \"MID\", \"MID\", \"MID\", \"MID\", \"MID\", \"MID\", \"MID\", \"MID\", \"MID\", \"MID\", \"MID\", \"MID\", \"MID\", \"MID\", \"MID\", \"MID\", \"MID\", \"MID\", \"MID\", \"MID\", \"MID\", \"MID\", \"MID\", \"MID\", \"MID\", \"MID\", \"MID\", \"MID\", \"MID\", \"MID\", \"MID\", \"MID\", \"MID\", \"MID\", \"MID\", \"MID\", \"MID\", \"MID\", \"MID\", \"MID\", \"MID\", \"MID\", \"MID\", \"MID\", \"MID\", \"MID\", \"MID\", \"MID\", \"MID\", \"MID\", \"MID\", \"MID\", \"MID\", \"MID\", \"MID\", \"MID\", \"MID\", \"MID\", \"MID\", \"MID\", \"MID\", \"MID\", \"MID\", \"MID\", \"MID\", \"MID\", \"MID\", \"MID\", \"MID\", \"MID\", \"MID\", \"MID\", \"MID\", \"MID\", \"MID\", \"MID\", \"MID\", \"MID\", \"MID\", \"MID\", \"MID\", \"MID\", \"MID\", \"MID\", \"MID\", \"MID\", \"MID\", \"MID\", \"MID\", \"MID\", \"MID\", \"MID\", \"MID\", \"MID\", \"MID\", \"MID\", \"MID\", \"MID\", \"MID\", \"MID\", \"MID\", \"MID\", \"MID\", \"MID\", \"MID\", \"MID\", \"MID\", \"MID\", \"MID\", \"MID\", \"MID\", \"MID\", \"MID\", \"MID\", \"MID\", \"MID\", \"MID\", \"MID\", \"MID\", \"MID\", \"MID\", \"MID\", \"MID\", \"MID\", \"MID\", \"MID\", \"MID\", \"MID\", \"MID\", \"MID\", \"MID\", \"MID\", \"MID\", \"MID\", \"MID\", \"MID\", \"MID\", \"MID\", \"MID\", \"MID\", \"MID\", \"MID\", \"MID\", \"MID\", \"MID\", \"MID\", \"MID\", \"MID\", \"MID\", \"MID\", \"MID\", \"MID\", \"MID\", \"MID\", \"MID\", \"MID\", \"MID\", \"MID\", \"MID\", \"MID\", \"MID\", \"MID\", \"MID\", \"MID\", \"MID\", \"MID\", \"MID\", \"MID\", \"MID\", \"MID\", \"MID\", \"MID\", \"MID\", \"MID\", \"MID\", \"MID\", \"MID\", \"MID\", \"MID\", \"MID\", \"MID\", \"MID\", \"MID\", \"MID\", \"MID\", \"MID\", \"MID\", \"MID\", \"MID\", \"MID\", \"MID\", \"MID\", \"MID\", \"MID\", \"MID\", \"MID\", \"MID\", \"MID\", \"MID\", \"MID\", \"MID\", \"MID\", \"MID\", \"MID\", \"MID\", \"MID\", \"MID\", \"MID\", \"MID\", \"MID\", \"MID\", \"MID\", \"MID\", \"MID\", \"MID\", \"MID\", \"MID\", \"MID\", \"MID\", \"MID\", \"MID\", \"MID\", \"MID\", \"MID\", \"MID\", \"MID\", \"MID\", \"MID\", \"MID\", \"MID\", \"MID\", \"MID\", \"MID\", \"MID\", \"MID\", \"MID\", \"MID\", \"MID\", \"MID\", \"MID\", \"MID\", \"MID\", \"MID\", \"MID\", \"MID\", \"MID\", \"MID\", \"MID\", \"MID\", \"MID\", \"MID\", \"MID\", \"MID\", \"MID\", \"MID\", \"MID\", \"MID\", \"MID\", \"MID\", \"MID\", \"MID\", \"MID\", \"MID\", \"MID\", \"MID\", \"MID\", \"MID\", \"MID\", \"MID\", \"MID\", \"MID\", \"MID\", \"MID\", \"MID\", \"MID\", \"MID\", \"MID\", \"MID\", \"MID\", \"MID\", \"MID\", \"MID\", \"MID\", \"MID\", \"MID\", \"MID\", \"MID\", \"MID\", \"MID\", \"MID\", \"MID\", \"MID\", \"MID\", \"MID\", \"MID\", \"MID\", \"MID\", \"MID\", \"MID\", \"MID\", \"MID\", \"MID\", \"MID\", \"MID\", \"MID\", \"MID\", \"MID\", \"MID\", \"MID\", \"MID\", \"MID\", \"MID\", \"MID\", \"MID\", \"MID\", \"MID\", \"MID\", \"MID\", \"MID\", \"MID\", \"MID\", \"MID\", \"MID\", \"MID\", \"MID\", \"MID\", \"MID\", \"MID\", \"MID\", \"MID\", \"MID\", \"MID\", \"MID\", \"MID\", \"MID\", \"MID\", \"MID\", \"MID\", \"MID\", \"MID\", \"MID\", \"MID\", \"MID\", \"MID\", \"MID\", \"MID\", \"MID\", \"MID\", \"MID\", \"MID\", \"MID\", \"MID\", \"MID\", \"MID\", \"MID\", \"MID\", \"MID\", \"MID\", \"MID\", \"MID\", \"MID\", \"MID\", \"MID\", \"MID\", \"MID\", \"MID\", \"MID\", \"MID\", \"MID\", \"MID\", \"MID\", \"MID\", \"MID\", \"MID\", \"MID\", \"MID\", \"MID\", \"MID\", \"MID\", \"MID\", \"MID\", \"MID\", \"MID\", \"MID\", \"MID\", \"MID\", \"MID\", \"MID\", \"MID\", \"MID\", \"MID\", \"MID\", \"MID\", \"MID\", \"MID\", \"MID\", \"MID\", \"MID\", \"MID\", \"MID\", \"MID\", \"MID\", \"MID\", \"MID\", \"MID\", \"MID\", \"MID\", \"MID\", \"MID\", \"MID\", \"MID\", \"MID\", \"MID\", \"MID\", \"MID\", \"MID\", \"MID\", \"MID\", \"MID\", \"MID\", \"MID\", \"MID\", \"MID\", \"MID\", \"MID\", \"MID\", \"MID\", \"MID\", \"MID\", \"MID\", \"MID\", \"MID\", \"MID\", \"MID\", \"MID\", \"MID\", \"MID\", \"MID\", \"MID\", \"MID\", \"MID\", \"MID\", \"MID\", \"MID\", \"MID\", \"MID\", \"MID\", \"MID\", \"MID\", \"MID\", \"MID\", \"MID\", \"MID\", \"MID\", \"MID\", \"MID\", \"MID\", \"MID\", \"MID\", \"MID\", \"MID\", \"MID\", \"MID\", \"MID\", \"MID\", \"MID\", \"MID\", \"MID\", \"MID\", \"MID\", \"MID\", \"MID\", \"MID\", \"MID\", \"MID\", \"MID\", \"MID\", \"MID\", \"MID\", \"MID\", \"MID\", \"MID\", \"MID\", \"MID\", \"MID\", \"MID\", \"MID\", \"MID\", \"MID\", \"MID\", \"MID\", \"MID\", \"MID\", \"MID\", \"MID\", \"MID\", \"MID\", \"MID\", \"MID\", \"MID\", \"MID\", \"MID\", \"MID\", \"MID\", \"MID\", \"MID\", \"MID\", \"MID\", \"MID\", \"MID\", \"MID\", \"MID\", \"MID\", \"MID\", \"MID\", \"MID\", \"MID\", \"MID\", \"MID\", \"MID\", \"MID\", \"MID\", \"MID\", \"MID\", \"MID\", \"MID\", \"MID\", \"MID\", \"MID\", \"MID\", \"MID\", \"MID\", \"MID\", \"MID\", \"MID\", \"MID\", \"MID\", \"MID\", \"MID\", \"MID\", \"MID\", \"MID\", \"MID\", \"MID\", \"MID\", \"MID\", \"MID\", \"MID\", \"MID\", \"MID\", \"MID\", \"MID\", \"MID\", \"MID\", \"MID\", \"MID\", \"MID\", \"MID\", \"MID\", \"MID\", \"MID\", \"MID\", \"MID\", \"MID\", \"MID\", \"MID\", \"MID\", \"MID\", \"MID\", \"MID\", \"MID\", \"MID\", \"MID\", \"MID\", \"MID\", \"MID\", \"MID\", \"MID\", \"MID\", \"MID\", \"MID\", \"MID\", \"MID\", \"MID\", \"MID\", \"MID\", \"MID\", \"MID\", \"MID\", \"MID\", \"MID\", \"MID\", \"MID\", \"MID\", \"MID\", \"MID\", \"MID\", \"MID\", \"MID\", \"MID\", \"MID\", \"MID\", \"MID\", \"MID\", \"MID\", \"MID\", \"MID\", \"MID\", \"MID\", \"MID\", \"MID\", \"MID\", \"MID\", \"MID\", \"MID\", \"MID\", \"MID\", \"MID\", \"MID\", \"MID\", \"MID\", \"MID\", \"MID\", \"MID\", \"MID\", \"MID\", \"MID\", \"MID\", \"MID\", \"MID\", \"MID\", \"MID\", \"MID\", \"MID\", \"MID\", \"MID\", \"MID\", \"MID\", \"MID\", \"MID\", \"MID\", \"MID\", \"MID\", \"MID\", \"MID\", \"MID\", \"MID\", \"MID\", \"MID\", \"MID\", \"MID\", \"MID\", \"MID\", \"MID\", \"MID\", \"MID\", \"MID\", \"MID\", \"MID\", \"MID\", \"MID\", \"MID\", \"MID\", \"MID\", \"MID\", \"MID\", \"MID\", \"MID\", \"MID\", \"MID\", \"MID\", \"MID\", \"MID\", \"MID\", \"MID\", \"MID\", \"MID\", \"MID\", \"MID\", \"MID\", \"MID\", \"MID\", \"MID\", \"MID\", \"MID\", \"MID\", \"MID\", \"MID\", \"MID\", \"MID\", \"MID\", \"MID\", \"MID\", \"MID\", \"MID\", \"MID\", \"MID\", \"MID\", \"MID\", \"MID\", \"MID\", \"MID\", \"MID\", \"MID\", \"MID\", \"MID\", \"MID\", \"MID\", \"MID\", \"MID\", \"MID\", \"MID\", \"MID\", \"MID\", \"MID\", \"MID\", \"MID\", \"MID\", \"MID\", \"MID\", \"MID\", \"MID\", \"MID\", \"MID\", \"MID\", \"MID\", \"MID\", \"MID\", \"MID\", \"MID\", \"MID\", \"MID\", \"MID\", \"MID\", \"MID\", \"MID\", \"MID\", \"MID\", \"MID\", \"MID\", \"MID\", \"MID\", \"MID\", \"MID\", \"MID\", \"MID\", \"MID\", \"MID\", \"MID\", \"MID\", \"MID\", \"MID\", \"MID\", \"MID\", \"MID\", \"MID\", \"MID\", \"MID\", \"MID\", \"MID\", \"MID\", \"MID\", \"MID\", \"MID\", \"MID\", \"MID\", \"MID\", \"MID\", \"MID\", \"MID\", \"MID\", \"MID\", \"MID\", \"MID\", \"MID\", \"MID\", \"MID\", \"MID\", \"MID\", \"MID\", \"MID\", \"MID\", \"MID\", \"MID\", \"MID\", \"MID\", \"MID\", \"MID\", \"MID\", \"MID\", \"MID\", \"MID\", \"MID\", \"MID\", \"MID\", \"MID\", \"MID\", \"MID\", \"MID\", \"MID\", \"MID\", \"MID\", \"MID\", \"MID\", \"MID\", \"MID\", \"MID\", \"MID\", \"MID\", \"MID\", \"MID\", \"MID\", \"MID\", \"MID\", \"MID\", \"MID\", \"MID\", \"MID\", \"MID\", \"MID\", \"MID\", \"MID\", \"MID\", \"MID\", \"MID\", \"MID\", \"MID\", \"MID\", \"MID\", \"MID\", \"MID\", \"MID\", \"MID\", \"MID\", \"MID\", \"MID\", \"MID\", \"MID\", \"MID\", \"MID\", \"MID\", \"MID\", \"MID\", \"MID\", \"MID\", \"MID\", \"MID\", \"MID\", \"MID\", \"MID\", \"MID\", \"MID\", \"MID\", \"MID\", \"MID\", \"MID\", \"MID\", \"MID\", \"MID\", \"MID\", \"MID\", \"MID\", \"MID\", \"MID\", \"MID\", \"MID\", \"MID\", \"MID\", \"MID\", \"MID\", \"MID\", \"MID\", \"MID\", \"MID\", \"MID\", \"MID\", \"MID\", \"MID\", \"MID\", \"MID\", \"MID\", \"MID\", \"MID\", \"MID\", \"MID\", \"MID\", \"MID\", \"MID\", \"MID\", \"MID\", \"MID\", \"MID\", \"MID\", \"MID\", \"MID\", \"MID\", \"MID\", \"MID\", \"MID\", \"MID\", \"MID\", \"MID\", \"MID\", \"MID\", \"MID\", \"MID\", \"MID\", \"MID\", \"MID\", \"MID\", \"MID\", \"MID\", \"MID\", \"MID\", \"MID\", \"MID\", \"MID\", \"MID\", \"MID\", \"MID\", \"MID\", \"MID\", \"MID\", \"MID\", \"MID\", \"MID\", \"MID\", \"MID\", \"MID\", \"MID\", \"MID\", \"MID\", \"MID\", \"MID\", \"MID\", \"MID\", \"MID\", \"MID\", \"MID\", \"MID\", \"MID\", \"MID\", \"MID\", \"MID\", \"MID\", \"MID\", \"MID\", \"MID\", \"MID\", \"MID\", \"MID\", \"MID\", \"MID\", \"MID\", \"MID\", \"MID\", \"MID\", \"MID\", \"MID\", \"MID\", \"MID\", \"MID\", \"MID\", \"MID\", \"MID\", \"MID\", \"MID\", \"MID\", \"MID\", \"MID\", \"MID\", \"MID\", \"MID\", \"MID\", \"MID\", \"MID\", \"MID\", \"MID\", \"MID\", \"MID\", \"MID\", \"MID\", \"MID\", \"MID\", \"MID\", \"MID\", \"MID\", \"MID\", \"MID\", \"MID\", \"MID\", \"MID\", \"MID\", \"MID\", \"MID\", \"MID\", \"MID\", \"MID\", \"MID\", \"MID\", \"MID\", \"MID\", \"MID\", \"MID\", \"MID\", \"MID\", \"MID\", \"MID\", \"MID\", \"MID\", \"MID\", \"MID\", \"MID\", \"MID\", \"MID\", \"MID\", \"MID\", \"MID\", \"MID\", \"MID\", \"MID\", \"MID\", \"MID\", \"MID\", \"MID\", \"MID\", \"MID\", \"MID\", \"MID\", \"MID\", \"MID\", \"MID\", \"MID\", \"MID\", \"MID\", \"MID\", \"MID\", \"MID\", \"MID\", \"MID\", \"MID\", \"MID\", \"MID\", \"MID\", \"MID\", \"MID\", \"MID\", \"MID\", \"MID\", \"MID\", \"MID\", \"MID\", \"MID\", \"MID\", \"MID\", \"MID\", \"MID\", \"MID\", \"MID\", \"MID\", \"MID\", \"MID\", \"MID\", \"MID\", \"MID\", \"MID\", \"MID\", \"MID\", \"MID\", \"MID\", \"MID\", \"MID\", \"MID\", \"MID\", \"MID\", \"MID\", \"MID\", \"MID\", \"MID\", \"MID\", \"MID\", \"MID\", \"MID\", \"MID\", \"MID\", \"MID\", \"MID\", \"MID\", \"MID\", \"MID\", \"MID\", \"MID\", \"MID\", \"MID\", \"MID\", \"MID\", \"MID\", \"MID\", \"MID\", \"MID\", \"MID\", \"MID\", \"MID\", \"MID\", \"MID\", \"MID\", \"MID\", \"MID\", \"MID\", \"MID\", \"MID\", \"MID\", \"MID\", \"MID\", \"MID\", \"MID\", \"MID\", \"MID\", \"MID\", \"MID\", \"MID\", \"MID\", \"MID\", \"MID\", \"MID\", \"MID\", \"MID\", \"MID\", \"MID\", \"MID\", \"MID\", \"MID\", \"MID\", \"MID\", \"MID\", \"MID\", \"MID\", \"MID\", \"MID\", \"MID\", \"MID\", \"MID\", \"MID\", \"MID\", \"MID\", \"MID\", \"MID\", \"MID\", \"MID\", \"MID\", \"MID\", \"MID\", \"MID\", \"MID\", \"MID\", \"MID\", \"MID\", \"MID\", \"MID\", \"MID\", \"MID\", \"MID\", \"MID\", \"MID\", \"MID\", \"MID\", \"MID\", \"MID\", \"MID\", \"MID\", \"MID\", \"MID\", \"MID\", \"MID\", \"MID\", \"MID\", \"MID\", \"MID\", \"MID\", \"MID\", \"MID\", \"MID\", \"MID\", \"MID\", \"MID\", \"MID\", \"MID\", \"MID\", \"MID\", \"MID\", \"MID\", \"MID\", \"MID\", \"MID\", \"MID\", \"MID\", \"MID\", \"MID\", \"MID\", \"MID\", \"MID\", \"MID\", \"MID\", \"MID\", \"MID\", \"MID\", \"MID\", \"MID\", \"MID\", \"MID\", \"MID\", \"MID\", \"MID\", \"MID\", \"MID\", \"MID\", \"MID\", \"MID\", \"MID\", \"MID\", \"MID\", \"MID\", \"MID\", \"MID\", \"MID\", \"MID\", \"MID\", \"MID\", \"MID\", \"MID\", \"MID\", \"MID\", \"MID\", \"MID\", \"MID\", \"MID\", \"MID\", \"MID\", \"MID\", \"MID\", \"MID\", \"MID\", \"MID\", \"MID\", \"MID\", \"MID\", \"MID\", \"MID\", \"MID\", \"MID\", \"MID\", \"MID\", \"MID\", \"MID\", \"MID\", \"MID\", \"MID\", \"MID\", \"MID\", \"MID\", \"MID\", \"MID\", \"MID\", \"MID\", \"MID\", \"MID\", \"MID\", \"MID\", \"MID\", \"MID\", \"MID\", \"MID\", \"MID\", \"MID\", \"MID\", \"MID\", \"MID\", \"MID\", \"MID\", \"MID\", \"MID\", \"MID\", \"MID\", \"MID\", \"MID\", \"MID\", \"MID\", \"MID\", \"MID\", \"MID\", \"MID\", \"MID\", \"MID\", \"MID\", \"MID\", \"MID\", \"MID\", \"MID\", \"MID\", \"MID\", \"MID\", \"MID\", \"MID\", \"MID\", \"MID\", \"MID\", \"MID\", \"MID\", \"MID\", \"MID\", \"MID\", \"MID\", \"MID\", \"MID\", \"MID\", \"MID\", \"MID\", \"MID\", \"MID\", \"MID\", \"MID\", \"MID\", \"MID\", \"MID\", \"MID\", \"MID\", \"MID\", \"MID\", \"MID\", \"MID\", \"MID\", \"MID\", \"MID\", \"MID\", \"MID\", \"MID\", \"MID\", \"MID\", \"MID\", \"MID\", \"MID\", \"MID\", \"MID\", \"MID\", \"MID\", \"MID\", \"MID\", \"MID\", \"MID\", \"MID\", \"MID\", \"MID\", \"MID\", \"MID\", \"MID\", \"MID\", \"MID\", \"MID\", \"MID\", \"MID\", \"MID\", \"MID\", \"MID\", \"MID\", \"MID\", \"MID\", \"MID\", \"MID\", \"MID\", \"MID\", \"MID\", \"MID\", \"MID\", \"MID\", \"MID\", \"MID\", \"MID\", \"MID\", \"MID\", \"MID\", \"MID\", \"MID\", \"MID\", \"MID\", \"MID\", \"MID\", \"MID\", \"MID\", \"MID\", \"MID\", \"MID\", \"MID\", \"MID\", \"MID\", \"MID\", \"MID\", \"MID\", \"MID\", \"MID\", \"MID\", \"MID\", \"MID\", \"MID\", \"MID\", \"MID\", \"MID\", \"MID\", \"MID\", \"MID\", \"MID\", \"MID\", \"MID\", \"MID\", \"MID\", \"MID\", \"MID\", \"MID\", \"MID\", \"MID\", \"MID\", \"MID\", \"MID\", \"MID\", \"MID\", \"MID\", \"MID\", \"MID\", \"MID\", \"MID\", \"MID\", \"MID\", \"MID\", \"MID\", \"MID\", \"MID\", \"MID\", \"MID\", \"MID\", \"MID\", \"MID\", \"MID\", \"MID\", \"MID\", \"MID\", \"MID\", \"MID\", \"MID\", \"MID\", \"MID\", \"MID\", \"MID\", \"MID\", \"MID\", \"MID\", \"MID\", \"MID\", \"MID\", \"MID\", \"MID\", \"MID\", \"MID\", \"MID\", \"MID\", \"MID\", \"MID\", \"MID\", \"MID\", \"MID\", \"MID\", \"MID\", \"MID\", \"MID\", \"MID\", \"MID\", \"MID\", \"MID\", \"MID\", \"MID\", \"MID\", \"MID\", \"MID\", \"MID\", \"MID\", \"MID\", \"MID\", \"MID\", \"MID\", \"MID\", \"MID\", \"MID\", \"MID\", \"MID\", \"MID\", \"MID\", \"MID\", \"MID\", \"MID\", \"MID\", \"MID\", \"MID\", \"MID\", \"MID\", \"MID\", \"MID\", \"MID\", \"MID\", \"MID\", \"MID\", \"MID\", \"MID\", \"MID\", \"MID\", \"MID\", \"MID\", \"MID\", \"MID\", \"MID\", \"MID\", \"MID\", \"MID\", \"MID\", \"MID\", \"MID\", \"MID\", \"MID\", \"MID\", \"MID\", \"MID\", \"MID\", \"MID\", \"MID\", \"MID\", \"MID\", \"MID\", \"MID\", \"MID\", \"MID\", \"MID\", \"MID\", \"MID\", \"MID\", \"MID\", \"MID\", \"MID\", \"MID\", \"MID\", \"MID\", \"MID\", \"MID\", \"MID\", \"MID\", \"MID\", \"MID\", \"MID\", \"MID\", \"MID\", \"MID\", \"MID\", \"MID\", \"MID\", \"MID\", \"MID\", \"MID\", \"MID\", \"MID\", \"MID\", \"MID\", \"MID\", \"MID\", \"MID\", \"MID\", \"MID\", \"MID\", \"MID\", \"MID\", \"MID\", \"MID\", \"MID\", \"MID\", \"MID\", \"MID\", \"MID\", \"MID\", \"MID\", \"MID\", \"MID\", \"MID\", \"MID\", \"MID\", \"MID\", \"MID\", \"MID\", \"MID\", \"MID\", \"MID\", \"MID\", \"MID\", \"MID\", \"MID\", \"MID\", \"MID\", \"MID\", \"MID\", \"MID\", \"MID\", \"MID\", \"MID\", \"MID\", \"MID\", \"MID\", \"MID\", \"MID\", \"MID\", \"MID\", \"MID\", \"MID\", \"MID\", \"MID\", \"MID\", \"MID\", \"MID\", \"MID\", \"MID\", \"MID\", \"MID\", \"MID\", \"MID\", \"MID\", \"MID\", \"MID\", \"MID\", \"MID\", \"MID\", \"MID\", \"MID\", \"MID\", \"MID\", \"MID\", \"MID\", \"MID\", \"MID\", \"MID\", \"MID\", \"MID\", \"MID\", \"MID\", \"MID\", \"MID\", \"MID\", \"MID\", \"MID\", \"MID\", \"MID\", \"MID\", \"MID\", \"MID\", \"MID\", \"MID\", \"MID\", \"MID\", \"MID\", \"MID\", \"MID\", \"MID\", \"MID\", \"MID\", \"MID\", \"MID\", \"MID\", \"MID\", \"MID\", \"MID\", \"MID\", \"MID\", \"MID\", \"MID\", \"MID\", \"MID\", \"MID\", \"MID\", \"MID\", \"MID\", \"MID\", \"MID\", \"MID\", \"MID\", \"MID\", \"MID\", \"MID\", \"MID\", \"MID\", \"MID\", \"MID\", \"MID\", \"MID\", \"MID\", \"MID\", \"MID\", \"MID\", \"MID\", \"MID\", \"MID\", \"MID\", \"MID\", \"MID\", \"MID\", \"MID\", \"MID\", \"MID\", \"MID\", \"MID\", \"MID\", \"MID\", \"MID\", \"MID\", \"MID\", \"MID\", \"MID\", \"MID\", \"MID\", \"MID\", \"MID\", \"MID\", \"MID\", \"MID\", \"MID\", \"MID\", \"MID\", \"MID\", \"MID\", \"MID\", \"MID\", \"MID\", \"MID\", \"MID\", \"MID\", \"MID\", \"MID\", \"MID\", \"MID\", \"MID\", \"MID\", \"MID\", \"MID\", \"MID\", \"MID\", \"MID\", \"MID\", \"MID\", \"MID\", \"MID\", \"MID\", \"MID\", \"MID\", \"MID\", \"MID\", \"MID\", \"MID\", \"MID\", \"MID\", \"MID\", \"MID\", \"MID\", \"MID\", \"MID\", \"MID\", \"MID\", \"MID\", \"MID\", \"MID\", \"MID\", \"MID\", \"MID\", \"MID\", \"MID\", \"MID\", \"MID\", \"MID\", \"MID\", \"MID\", \"MID\", \"MID\", \"MID\", \"MID\", \"MID\", \"MID\", \"MID\", \"MID\", \"MID\", \"MID\", \"MID\", \"MID\", \"MID\", \"MID\", \"MID\", \"MID\", \"MID\", \"MID\", \"MID\", \"MID\", \"MID\", \"MID\", \"MID\", \"MID\", \"MID\", \"MID\", \"MID\", \"MID\", \"MID\", \"MID\", \"MID\", \"MID\", \"MID\", \"MID\", \"MID\", \"MID\", \"MID\", \"MID\", \"MID\", \"MID\", \"MID\", \"MID\", \"MID\", \"MID\", \"MID\", \"MID\", \"MID\", \"MID\", \"MID\", \"MID\", \"MID\", \"MID\", \"MID\", \"MID\", \"MID\", \"MID\", \"MID\", \"MID\", \"MID\", \"MID\", \"MID\", \"MID\", \"MID\", \"MID\", \"MID\", \"MID\", \"MID\", \"MID\", \"MID\", \"MID\", \"MID\", \"MID\", \"MID\", \"MID\", \"MID\", \"MID\", \"MID\", \"MID\", \"MID\", \"MID\", \"MID\", \"MID\", \"MID\", \"MID\", \"MID\", \"MID\", \"MID\", \"MID\", \"MID\", \"MID\", \"MID\", \"MID\", \"MID\", \"MID\", \"MID\", \"MID\", \"MID\", \"MID\", \"MID\", \"MID\", \"MID\", \"MID\", \"MID\", \"MID\", \"MID\", \"MID\", \"MID\", \"MID\", \"MID\", \"MID\", \"MID\", \"MID\", \"MID\", \"MID\", \"MID\", \"MID\", \"MID\", \"MID\", \"MID\", \"MID\", \"MID\", \"MID\", \"MID\", \"MID\", \"MID\", \"MID\", \"MID\", \"MID\", \"MID\", \"MID\", \"MID\", \"MID\", \"MID\", \"MID\", \"MID\", \"MID\", \"MID\", \"MID\", \"MID\", \"MID\", \"MID\", \"MID\", \"MID\", \"MID\", \"MID\", \"MID\", \"MID\", \"MID\", \"MID\", \"MID\", \"MID\", \"MID\", \"MID\", \"MID\", \"MID\", \"MID\", \"MID\", \"MID\", \"MID\", \"MID\", \"MID\", \"MID\", \"MID\", \"MID\", \"MID\", \"MID\", \"MID\", \"MID\", \"MID\", \"MID\", \"MID\", \"MID\", \"MID\", \"MID\", \"MID\", \"MID\", \"MID\", \"MID\", \"MID\", \"MID\", \"MID\", \"MID\", \"MID\", \"MID\", \"MID\", \"MID\", \"MID\", \"MID\", \"MID\", \"MID\", \"MID\", \"MID\", \"MID\", \"MID\", \"MID\", \"MID\", \"MID\", \"MID\", \"MID\", \"MID\", \"MID\", \"MID\", \"MID\", \"MID\", \"MID\", \"MID\", \"MID\", \"MID\", \"MID\", \"MID\", \"MID\", \"MID\", \"MID\", \"MID\", \"MID\", \"MID\", \"MID\", \"MID\", \"MID\", \"MID\", \"MID\", \"MID\", \"MID\", \"MID\", \"MID\", \"MID\", \"MID\", \"MID\", \"MID\", \"MID\", \"MID\", \"MID\", \"MID\", \"MID\", \"MID\", \"MID\", \"MID\", \"MID\", \"MID\", \"MID\", \"MID\", \"MID\", \"MID\", \"MID\", \"MID\", \"MID\", \"MID\", \"MID\", \"MID\", \"MID\", \"MID\", \"MID\", \"MID\", \"MID\", \"MID\", \"MID\", \"MID\", \"MID\", \"MID\", \"MID\", \"MID\", \"MID\", \"MID\", \"MID\", \"MID\", \"MID\", \"MID\", \"MID\", \"MID\", \"MID\", \"MID\", \"MID\", \"MID\", \"MID\", \"MID\", \"MID\", \"MID\", \"MID\", \"MID\", \"MID\", \"MID\", \"MID\", \"MID\", \"MID\", \"MID\", \"MID\", \"MID\", \"MID\", \"MID\", \"MID\", \"MID\", \"MID\", \"MID\", \"MID\", \"MID\", \"MID\", \"MID\", \"MID\", \"MID\", \"MID\", \"MID\", \"MID\", \"MID\", \"MID\", \"MID\", \"MID\", \"MID\", \"MID\", \"MID\", \"MID\", \"MID\", \"MID\", \"MID\", \"MID\", \"MID\", \"MID\", \"MID\", \"MID\", \"MID\", \"MID\", \"MID\", \"MID\", \"MID\", \"MID\", \"MID\", \"MID\", \"MID\", \"MID\", \"MID\", \"MID\", \"MID\", \"MID\", \"MID\", \"MID\", \"MID\", \"MID\", \"MID\", \"MID\", \"MID\", \"MID\", \"MID\", \"MID\", \"MID\", \"MID\", \"MID\", \"MID\", \"MID\", \"MID\", \"MID\", \"MID\", \"MID\", \"MID\", \"MID\", \"MID\", \"MID\", \"MID\", \"MID\", \"MID\", \"MID\", \"MID\", \"MID\", \"MID\", \"MID\", \"MID\", \"MID\", \"MID\", \"MID\", \"MID\", \"MID\", \"MID\", \"MID\", \"MID\", \"MID\", \"MID\", \"MID\", \"MID\", \"MID\", \"MID\", \"MID\", \"MID\", \"MID\", \"MID\", \"MID\", \"MID\", \"MID\", \"MID\", \"MID\", \"MID\", \"MID\", \"MID\", \"MID\", \"MID\", \"MID\", \"MID\", \"MID\", \"MID\", \"MID\", \"MID\", \"MID\", \"MID\", \"MID\", \"MID\", \"MID\", \"MID\", \"MID\", \"MID\", \"MID\", \"MID\", \"MID\", \"MID\", \"MID\", \"MID\", \"MID\", \"MID\", \"MID\", \"MID\", \"MID\", \"MID\", \"MID\", \"MID\", \"MID\", \"MID\", \"MID\", \"MID\", \"MID\", \"MID\", \"MID\", \"MID\", \"MID\", \"MID\", \"MID\", \"MID\", \"MID\", \"MID\", \"MID\", \"MID\", \"MID\", \"MID\", \"MID\", \"MID\", \"MID\", \"MID\", \"MID\", \"MID\", \"MID\", \"MID\", \"MID\", \"MID\", \"MID\", \"MID\", \"MID\", \"MID\", \"MID\", \"MID\", \"MID\", \"MID\", \"MID\", \"MID\", \"MID\", \"MID\", \"MID\", \"MID\", \"MID\", \"MID\", \"MID\", \"MID\", \"MID\", \"MID\", \"MID\", \"MID\", \"MID\", \"MID\", \"MID\", \"MID\", \"MID\", \"MID\", \"MID\", \"MID\", \"MID\", \"MID\", \"MID\", \"MID\", \"MID\", \"MID\", \"MID\", \"MID\", \"MID\", \"MID\", \"MID\", \"MID\", \"MID\", \"MID\", \"MID\", \"MID\", \"MID\", \"MID\", \"MID\", \"MID\", \"MID\", \"MID\", \"MID\", \"MID\", \"MID\", \"MID\", \"MID\", \"MID\", \"MID\", \"MID\", \"MID\", \"MID\", \"MID\", \"MID\", \"MID\", \"MID\", \"MID\", \"MID\", \"MID\", \"MID\", \"MID\", \"MID\", \"MID\", \"MID\", \"MID\", \"MID\", \"MID\", \"MID\", \"MID\", \"MID\", \"MID\", \"MID\", \"MID\", \"MID\", \"MID\", \"MID\", \"MID\", \"MID\", \"MID\", \"MID\", \"MID\", \"MID\", \"MID\", \"MID\", \"MID\", \"MID\", \"MID\", \"MID\", \"MID\", \"MID\", \"MID\", \"MID\", \"MID\", \"MID\", \"MID\", \"MID\", \"MID\", \"MID\", \"MID\", \"MID\", \"MID\", \"MID\", \"MID\", \"MID\", \"MID\", \"MID\", \"MID\", \"MID\", \"MID\", \"MID\", \"MID\", \"MID\", \"MID\", \"MID\", \"MID\", \"MID\", \"MID\", \"MID\", \"MID\", \"MID\", \"MID\", \"MID\", \"MID\", \"MID\", \"MID\", \"MID\", \"MID\", \"MID\", \"MID\", \"MID\", \"MID\", \"MID\", \"MID\", \"MID\", \"MID\", \"MID\", \"MID\", \"MID\", \"MID\", \"MID\", \"MID\", \"MID\", \"MID\", \"MID\", \"MID\", \"MID\", \"MID\", \"MID\", \"MID\", \"MID\", \"MID\", \"MID\", \"MID\", \"MID\", \"MID\", \"MID\", \"MID\", \"MID\", \"MID\", \"MID\", \"MID\", \"MID\", \"MID\", \"MID\", \"MID\", \"MID\", \"MID\", \"MID\", \"MID\", \"MID\", \"MID\", \"MID\", \"MID\", \"MID\", \"MID\", \"MID\", \"MID\", \"MID\", \"MID\", \"MID\", \"MID\", \"MID\", \"MID\", \"MID\", \"MID\", \"MID\", \"MID\", \"MID\", \"MID\", \"MID\", \"MID\", \"MID\", \"MID\", \"MID\", \"MID\", \"MID\", \"MID\", \"MID\", \"MID\", \"MID\", \"MID\", \"MID\", \"MID\", \"MID\", \"MID\", \"MID\", \"MID\", \"MID\", \"MID\", \"MID\", \"MID\", \"MID\", \"MID\", \"MID\", \"MID\", \"MID\", \"MID\", \"MID\", \"MID\", \"MID\", \"MID\", \"MID\", \"MID\", \"MID\", \"MID\", \"MID\", \"MID\", \"MID\", \"MID\", \"MID\", \"MID\", \"MID\", \"MID\", \"MID\", \"MID\", \"MID\", \"MID\", \"MID\", \"MID\", \"MID\", \"MID\", \"MID\", \"MID\", \"MID\", \"MID\", \"MID\", \"MID\", \"MID\", \"MID\", \"MID\", \"MID\", \"MID\", \"MID\", \"MID\", \"MID\", \"MID\", \"MID\", \"MID\", \"MID\", \"MID\", \"MID\", \"MID\", \"MID\", \"MID\", \"MID\", \"MID\", \"MID\", \"MID\", \"MID\", \"MID\", \"MID\", \"MID\", \"MID\", \"MID\", \"MID\", \"MID\", \"MID\", \"MID\", \"MID\", \"MID\", \"MID\", \"MID\", \"MID\", \"MID\", \"MID\", \"MID\", \"MID\", \"MID\", \"MID\", \"MID\", \"MID\", \"MID\", \"MID\", \"MID\", \"MID\", \"MID\", \"MID\", \"MID\", \"MID\", \"MID\", \"MID\", \"MID\", \"MID\", \"MID\", \"MID\", \"MID\", \"MID\", \"MID\", \"MID\", \"MID\", \"MID\", \"MID\", \"MID\", \"MID\", \"MID\", \"MID\", \"MID\", \"MID\", \"MID\", \"MID\", \"MID\", \"MID\", \"MID\", \"MID\", \"MID\", \"MID\", \"MID\", \"MID\", \"MID\", \"MID\", \"MID\", \"MID\", \"MID\", \"MID\", \"MID\", \"MID\", \"MID\", \"MID\", \"MID\", \"MID\", \"MID\", \"MID\", \"MID\", \"MID\", \"MID\", \"MID\", \"MID\", \"MID\", \"MID\", \"MID\", \"MID\", \"MID\", \"MID\", \"MID\", \"MID\", \"MID\", \"MID\", \"MID\", \"MID\", \"MID\", \"MID\", \"MID\", \"MID\", \"MID\", \"MID\", \"MID\", \"MID\", \"MID\", \"MID\", \"MID\", \"MID\", \"MID\", \"MID\", \"MID\", \"MID\", \"MID\", \"MID\", \"MID\", \"MID\", \"MID\", \"MID\", \"MID\", \"MID\", \"MID\", \"MID\", \"MID\", \"MID\", \"MID\", \"MID\", \"MID\", \"MID\", \"MID\", \"MID\", \"MID\", \"MID\", \"MID\", \"MID\", \"MID\", \"MID\", \"MID\", \"MID\", \"MID\", \"MID\", \"MID\", \"MID\", \"MID\", \"MID\", \"MID\", \"MID\", \"MID\", \"MID\", \"MID\", \"MID\", \"MID\", \"MID\", \"MID\", \"MID\", \"MID\", \"MID\", \"MID\", \"MID\", \"MID\", \"MID\", \"MID\", \"MID\", \"MID\", \"MID\", \"MID\", \"MID\", \"MID\", \"MID\", \"MID\", \"MID\", \"MID\", \"MID\", \"MID\", \"MID\", \"MID\", \"MID\", \"MID\", \"MID\", \"MID\", \"MID\", \"MID\", \"MID\", \"MID\", \"MID\", \"MID\", \"MID\", \"MID\", \"MID\", \"MID\", \"MID\", \"MID\", \"MID\", \"MID\", \"MID\", \"MID\", \"MID\", \"MID\", \"MID\", \"MID\", \"MID\", \"MID\", \"MID\", \"MID\", \"MID\", \"MID\", \"MID\", \"MID\", \"MID\", \"MID\", \"MID\", \"MID\", \"MID\", \"MID\", \"MID\", \"MID\", \"MID\", \"MID\", \"MID\", \"MID\", \"MID\", \"MID\", \"MID\", \"MID\", \"MID\", \"MID\", \"MID\", \"MID\", \"MID\", \"MID\", \"MID\", \"MID\", \"MID\", \"MID\", \"MID\", \"MID\", \"MID\", \"MID\", \"MID\", \"MID\", \"MID\", \"MID\", \"MID\", \"MID\", \"MID\", \"MID\", \"MID\", \"MID\", \"MID\", \"MID\", \"MID\", \"MID\", \"MID\", \"MID\", \"MID\", \"MID\", \"MID\", \"MID\", \"MID\", \"MID\", \"MID\", \"MID\", \"MID\", \"MID\", \"MID\", \"MID\", \"MID\", \"MID\", \"MID\", \"MID\", \"MID\", \"MID\", \"MID\", \"MID\", \"MID\", \"MID\", \"MID\", \"MID\", \"MID\", \"MID\", \"MID\", \"MID\", \"MID\", \"MID\", \"MID\", \"MID\", \"MID\", \"MID\", \"MID\", \"MID\", \"MID\", \"MID\", \"MID\", \"MID\", \"MID\", \"MID\", \"MID\", \"MID\", \"MID\", \"MID\", \"MID\", \"MID\", \"MID\", \"MID\", \"MID\", \"MID\", \"MID\", \"MID\", \"MID\", \"MID\", \"MID\", \"MID\", \"MID\", \"MID\", \"MID\", \"MID\", \"MID\", \"MID\", \"MID\", \"MID\", \"MID\", \"MID\", \"MID\", \"MID\", \"MID\", \"MID\", \"MID\", \"MID\", \"MID\", \"MID\", \"MID\", \"MID\", \"MID\", \"MID\", \"MID\", \"MID\", \"MID\", \"MID\", \"MID\", \"MID\", \"MID\", \"MID\", \"MID\", \"MID\", \"MID\", \"MID\", \"MID\", \"MID\", \"MID\", \"MID\", \"MID\", \"MID\", \"MID\", \"MID\", \"MID\", \"MID\", \"MID\", \"MID\", \"MID\", \"MID\", \"MID\", \"MID\", \"MID\", \"MID\", \"MID\", \"MID\", \"MID\", \"MID\", \"MID\", \"MID\", \"MID\", \"MID\", \"MID\", \"MID\", \"MID\", \"MID\", \"MID\", \"MID\", \"MID\", \"MID\", \"MID\", \"MID\", \"MID\", \"MID\", \"MID\", \"MID\", \"MID\", \"MID\", \"MID\", \"MID\", \"MID\", \"MID\", \"MID\", \"MID\", \"MID\", \"MID\", \"MID\", \"MID\", \"MID\", \"MID\", \"MID\", \"MID\", \"MID\", \"MID\", \"MID\", \"MID\", \"MID\", \"MID\", \"MID\", \"MID\", \"MID\", \"MID\", \"MID\", \"MID\", \"MID\", \"MID\", \"MID\", \"MID\", \"MID\", \"MID\", \"MID\", \"MID\", \"MID\", \"MID\", \"MID\", \"MID\", \"MID\", \"MID\", \"MID\", \"MID\", \"MID\", \"MID\", \"MID\", \"MID\", \"MID\", \"MID\", \"MID\", \"MID\", \"MID\", \"MID\", \"MID\", \"MID\", \"MID\", \"MID\", \"MID\", \"MID\", \"MID\", \"MID\", \"MID\", \"MID\", \"MID\", \"MID\", \"MID\", \"MID\", \"MID\", \"MID\", \"MID\", \"MID\", \"MID\", \"MID\", \"MID\", \"MID\", \"MID\", \"MID\", \"MID\", \"MID\", \"MID\", \"MID\", \"MID\", \"MID\", \"MID\", \"MID\", \"MID\", \"MID\", \"MID\", \"MID\", \"MID\", \"MID\", \"MID\", \"MID\", \"MID\", \"MID\", \"MID\", \"MID\", \"MID\", \"MID\", \"MID\", \"MID\", \"MID\", \"MID\", \"MID\", \"MID\", \"MID\", \"MID\", \"MID\", \"MID\", \"MID\", \"MID\", \"MID\", \"MID\", \"MID\", \"MID\", \"MID\", \"MID\", \"MID\", \"MID\", \"MID\", \"MID\", \"MID\", \"MID\", \"MID\", \"MID\", \"MID\", \"MID\", \"MID\", \"MID\", \"MID\", \"MID\", \"MID\", \"MID\", \"MID\", \"MID\", \"MID\", \"MID\", \"MID\", \"MID\", \"MID\", \"MID\", \"MID\", \"MID\", \"MID\", \"MID\", \"MID\", \"MID\", \"MID\", \"MID\", \"MID\", \"MID\", \"MID\", \"MID\", \"MID\", \"MID\", \"MID\", \"MID\", \"MID\", \"MID\", \"MID\", \"MID\", \"MID\", \"MID\", \"MID\", \"MID\", \"MID\", \"MID\", \"MID\", \"MID\", \"MID\", \"MID\", \"MID\", \"MID\", \"MID\", \"MID\", \"MID\", \"MID\", \"MID\", \"MID\", \"MID\", \"MID\", \"MID\", \"MID\", \"MID\", \"MID\", \"MID\", \"MID\", \"MID\", \"MID\", \"MID\", \"MID\", \"MID\", \"MID\", \"MID\", \"MID\", \"MID\", \"MID\", \"MID\", \"MID\", \"MID\", \"MID\", \"MID\", \"MID\", \"MID\", \"MID\", \"MID\", \"MID\", \"MID\", \"MID\", \"MID\", \"MID\", \"MID\", \"MID\", \"MID\", \"MID\", \"MID\", \"MID\", \"MID\", \"MID\", \"MID\", \"MID\", \"MID\", \"MID\", \"MID\", \"MID\", \"MID\", \"MID\", \"MID\", \"MID\", \"MID\", \"MID\", \"MID\", \"MID\", \"MID\", \"MID\", \"MID\", \"MID\", \"MID\", \"MID\", \"MID\", \"MID\", \"MID\", \"MID\", \"MID\", \"MID\", \"MID\", \"MID\", \"MID\", \"MID\", \"MID\", \"MID\", \"MID\", \"MID\", \"MID\", \"MID\", \"MID\", \"MID\", \"MID\", \"MID\", \"MID\", \"MID\", \"MID\", \"MID\", \"MID\", \"MID\", \"MID\", \"MID\", \"MID\", \"MID\", \"MID\", \"MID\", \"MID\", \"MID\", \"MID\", \"MID\", \"MID\", \"MID\", \"MID\", \"MID\", \"MID\", \"MID\", \"MID\", \"MID\", \"MID\", \"MID\", \"MID\", \"MID\", \"MID\", \"MID\", \"MID\", \"MID\", \"MID\", \"MID\", \"MID\", \"MID\", \"MID\", \"MID\", \"MID\", \"MID\", \"MID\", \"MID\", \"MID\", \"MID\", \"MID\", \"MID\", \"MID\", \"MID\", \"MID\", \"MID\", \"MID\", \"MID\", \"MID\", \"MID\", \"MID\", \"MID\", \"MID\", \"MID\", \"MID\", \"MID\", \"MID\", \"MID\", \"MID\", \"MID\", \"MID\", \"MID\", \"MID\", \"MID\", \"MID\", \"MID\", \"MID\", \"MID\", \"MID\", \"MID\", \"MID\", \"MID\", \"MID\", \"MID\", \"MID\", \"MID\", \"MID\", \"MID\", \"MID\", \"MID\", \"MID\", \"MID\", \"MID\", \"MID\", \"MID\", \"MID\", \"MID\", \"MID\", \"MID\", \"MID\", \"MID\", \"MID\", \"MID\", \"MID\", \"MID\", \"MID\", \"MID\", \"MID\", \"MID\", \"MID\", \"MID\", \"MID\", \"MID\", \"MID\", \"MID\", \"MID\", \"MID\", \"MID\", \"MID\", \"MID\", \"MID\", \"MID\", \"MID\", \"MID\", \"MID\", \"MID\", \"MID\", \"MID\", \"MID\", \"MID\", \"MID\", \"MID\", \"MID\", \"MID\", \"MID\", \"MID\", \"MID\", \"MID\", \"MID\", \"MID\", \"MID\", \"MID\", \"MID\", \"MID\", \"MID\", \"MID\", \"MID\", \"MID\", \"MID\", \"MID\", \"MID\", \"MID\", \"MID\", \"MID\", \"MID\", \"MID\", \"MID\", \"MID\", \"MID\", \"MID\", \"MID\", \"MID\", \"MID\", \"MID\", \"MID\", \"MID\", \"MID\", \"MID\", \"MID\", \"MID\", \"MID\", \"MID\", \"MID\", \"MID\", \"MID\", \"MID\", \"MID\", \"MID\", \"MID\", \"MID\", \"MID\", \"MID\", \"MID\", \"MID\", \"MID\", \"MID\", \"MID\", \"MID\", \"MID\", \"MID\", \"MID\", \"MID\", \"MID\", \"MID\", \"MID\", \"MID\", \"MID\", \"MID\", \"MID\", \"MID\", \"MID\", \"MID\", \"MID\", \"MID\", \"MID\", \"MID\", \"MID\", \"MID\", \"MID\", \"MID\", \"MID\", \"MID\", \"MID\", \"MID\", \"MID\", \"MID\", \"MID\", \"MID\", \"MID\", \"MID\", \"MID\", \"MID\", \"MID\", \"MID\", \"MID\", \"MID\", \"MID\", \"MID\", \"MID\", \"MID\", \"MID\", \"MID\", \"MID\", \"MID\", \"MID\", \"MID\", \"MID\", \"MID\", \"MID\", \"MID\", \"MID\", \"MID\", \"MID\", \"MID\", \"MID\", \"MID\", \"MID\", \"MID\", \"MID\", \"MID\", \"MID\", \"MID\", \"MID\", \"MID\", \"MID\", \"MID\", \"MID\", \"MID\", \"MID\", \"MID\", \"MID\", \"MID\", \"MID\", \"MID\", \"MID\", \"MID\", \"MID\", \"MID\", \"MID\", \"MID\", \"MID\", \"MID\", \"MID\", \"MID\", \"MID\", \"MID\", \"MID\", \"MID\", \"MID\", \"MID\", \"MID\", \"MID\", \"MID\"], \"x0\": \" \", \"xaxis\": \"x\", \"y\": [65, 57, 73, 55, 67, 72, 66, 50, 53, 62, 66, 66, 54, 70, 69, 58, 68, 66, 77, 76, 53, 74, 56, 60, 47, 43, 68, 39, 65, 77, 56, 47, 66, 56, 73, 59, 78, 62, 48, 55, 36, 72, 54, 79, 63, 56, 57, 53, 28, 59, 41, 68, 46, 60, 68, 72, 75, 49, 65, 63, 74, 55, 64, 56, 58, 66, 46, 58, 56, 53, 59, 46, 54, 60, 62, 56, 49, 53, 65, 59, 48, 56, 55, 69, 45, 56, 68, 38, 39, 44, 51, 49, 64, 60, 60, 50, 68, 65, 55, 52, 61, 60, 39, 59, 60, 59, 56, 68, 53, 42, 55, 59, 58, 65, 59, 59, 62, 60, 71, 60, 44, 51, 63, 64, 46, 45, 75, 59, 62, 66, 67, 69, 67, 59, 58, 62, 55, 53, 52, 66, 63, 62, 34, 52, 62, 63, 66, 42, 61, 52, 49, 57, 47, 61, 62, 68, 72, 65, 70, 66, 68, 64, 55, 65, 33, 60, 57, 74, 67, 50, 64, 46, 69, 80, 63, 56, 60, 66, 70, 63, 71, 70, 60, 53, 77, 40, 75, 71, 81, 57, 43, 52, 64, 53, 51, 34, 45, 75, 46, 78, 60, 51, 54, 38, 70, 62, 47, 57, 43, 46, 49, 70, 69, 57, 62, 42, 62, 76, 59, 76, 71, 62, 52, 64, 55, 74, 74, 56, 62, 32, 55, 53, 58, 49, 73, 53, 60, 51, 53, 38, 47, 64, 56, 68, 54, 39, 52, 65, 78, 48, 50, 45, 61, 73, 36, 46, 93, 50, 41, 54, 57, 68, 70, 56, 53, 38, 48, 60, 54, 63, 58, 71, 38, 65, 70, 61, 50, 39, 57, 51, 74, 40, 40, 63, 65, 45, 44, 51, 56, 64, 58, 66, 51, 44, 56, 70, 30, 59, 62, 39, 63, 57, 58, 59, 59, 60, 78, 61, 65, 74, 63, 66, 69, 42, 64, 49, 65, 66, 62, 58, 79, 76, 59, 69, 58, 76, 72, 44, 77, 57, 44, 68, 62, 56, 61, 41, 64, 69, 50, 64, 59, 63, 47, 78, 69, 33, 60, 43, 55, 42, 40, 57, 39, 45, 55, 66, 64, 36, 57, 47, 65, 67, 31, 63, 73, 61, 58, 78, 70, 63, 49, 80, 60, 65, 63, 70, 53, 46, 45, 68, 61, 59, 66, 45, 66, 68, 71, 74, 55, 67, 61, 52, 77, 67, 71, 30, 44, 57, 63, 36, 66, 67, 50, 75, 62, 56, 61, 54, 62, 65, 68, 52, 67, 55, 56, 76, 54, 72, 57, 67, 75, 67, 57, 52, 50, 64, 57, 69, 64, 49, 71, 66, 66, 63, 57, 69, 59, 58, 70, 63, 45, 54, 79, 61, 31, 72, 67, 39, 52, 54, 58, 62, 67, 50, 56, 69, 56, 57, 61, 50, 82, 46, 48, 72, 56, 64, 75, 65, 68, 51, 38, 59, 68, 65, 60, 52, 55, 59, 74, 41, 59, 55, 40, 52, 64, 59, 63, 71, 38, 70, 38, 72, 60, 47, 63, 70, 75, 57, 60, 70, 77, 49, 67, 61, 48, 62, 56, 66, 54, 52, 62, 45, 62, 68, 59, 47, 71, 69, 70, 60, 61, 67, 50, 59, 50, 58, 62, 60, 66, 54, 84, 75, 73, 77, 48, 43, 63, 70, 67, 62, 61, 75, 59, 58, 68, 71, 56, 57, 55, 68, 65, 52, 52, 61, 57, 36, 44, 40, 66, 63, 52, 80, 53, 61, 64, 36, 55, 51, 66, 70, 55, 91, 49, 69, 71, 68, 68, 53, 52, 38, 44, 42, 61, 63, 56, 55, 65, 66, 65, 71, 66, 61, 73, 75, 55, 61, 55, 32, 72, 54, 47, 77, 54, 65, 50, 61, 54, 52, 64, 43, 67, 45, 57, 58, 34, 46, 59, 67, 47, 62, 40, 62, 46, 68, 58, 46, 69, 56, 61, 74, 61, 63, 37, 53, 80, 49, 49, 63, 60, 54, 58, 54, 48, 56, 62, 39, 81, 72, 67, 57, 67, 72, 51, 63, 62, 65, 59, 60, 40, 71, 52, 58, 59, 61, 59, 72, 48, 62, 42, 57, 67, 62, 50, 60, 53, 66, 54, 61, 54, 53, 71, 55, 35, 47, 61, 61, 43, 39, 70, 59, 52, 59, 70, 43, 53, 74, 42, 65, 77, 54, 69, 51, 50, 42, 44, 55, 68, 75, 58, 52, 75, 57, 75, 50, 75, 60, 53, 48, 65, 79, 48, 59, 77, 48, 72, 46, 67, 78, 69, 78, 66, 66, 49, 55, 46, 43, 55, 52, 49, 69, 50, 58, 72, 64, 58, 62, 52, 46, 43, 60, 60, 73, 62, 67, 74, 43, 65, 36, 46, 87, 53, 57, 77, 61, 41, 71, 63, 54, 61, 41, 74, 55, 69, 69, 64, 66, 74, 35, 59, 51, 38, 60, 67, 71, 34, 44, 46, 55, 52, 56, 36, 64, 70, 46, 60, 44, 51, 83, 72, 55, 67, 62, 52, 54, 54, 65, 53, 50, 63, 41, 64, 61, 67, 66, 72, 45, 48, 46, 61, 60, 38, 61, 26, 58, 48, 48, 75, 55, 75, 43, 66, 65, 58, 59, 67, 65, 71, 71, 64, 65, 48, 57, 57, 49, 57, 49, 45, 64, 62, 68, 82, 45, 77, 61, 63, 58, 82, 64, 69, 77, 57, 70, 56, 72, 64, 69, 51, 57, 59, 66, 73, 64, 66, 57, 60, 67, 65, 48, 57, 80, 67, 74, 51, 61, 46, 52, 66, 55, 71, 49, 49, 78, 65, 71, 51, 67, 74, 63, 66, 70, 56, 56, 68, 66, 54, 63, 77, 48, 66, 69, 72, 51, 68, 59, 41, 57, 63, 39, 59, 63, 55, 56, 65, 62, 47, 56, 76, 54, 53, 45, 55, 55, 64, 57, 45, 70, 54, 69, 75, 69, 44, 64, 54, 52, 56, 72, 61, 82, 68, 60, 58, 42, 75, 64, 55, 57, 35, 70, 42, 61, 60, 63, 50, 79, 72, 52, 62, 47, 59, 49, 54, 77, 53, 56, 72, 53, 61, 66, 61, 75, 61, 71, 48, 39, 62, 64, 60, 57, 80, 37, 72, 69, 47, 48, 68, 50, 44, 65, 51, 62, 75, 69, 78, 60, 63, 42, 54, 63, 48, 61, 63, 51, 43, 70, 50, 61, 56, 42, 55, 75, 38, 67, 61, 82, 62, 39, 72, 44, 59, 77, 51, 52, 43, 60, 56, 53, 64, 66, 56, 48, 54, 38, 45, 42, 59, 67, 52, 52, 72, 78, 40, 73, 65, 57, 56, 75, 78, 69, 56, 70, 66, 65, 54, 62, 63, 51, 48, 46, 55, 58, 43, 67, 30, 59, 35, 48, 64, 67, 60, 41, 70, 73, 35, 67, 59, 52, 64, 64, 60, 65, 67, 61, 40, 67, 59, 62, 40, 54, 55, 62, 57, 62, 57, 73, 68, 64, 37, 79, 76, 57, 56, 36, 74, 73, 42, 68, 68, 70, 59, 58, 58, 59, 55, 39, 37, 71, 78, 66, 68, 48, 59, 51, 36, 42, 62, 46, 56, 43, 59, 60, 74, 60, 62, 51, 62, 56, 70, 54, 49, 42, 64, 50, 62, 72, 47, 63, 51, 43, 52, 64, 64, 71, 58, 65, 38, 50, 39, 69, 48, 64, 67, 63, 47, 37, 25, 77, 61, 60, 54, 52, 58, 62, 67, 48, 46, 63, 59, 67, 63, 76, 49, 65, 61, 64, 90, 74, 45, 45, 42, 62, 71, 37, 62, 62, 53, 40, 64, 52, 37, 43, 44, 52, 53, 62, 74, 62, 52, 52, 52, 82, 54, 41, 54, 61, 64, 54, 60, 41, 63, 43, 55, 75, 65, 69, 65, 71, 63, 41, 42, 56, 71, 62, 63, 57, 53, 61, 62, 43, 62, 64, 68, 34, 59, 69, 64, 65, 39, 66, 71, 55, 52, 50, 42, 67, 47, 55, 77, 67, 40, 75, 70, 54, 53, 65, 60, 51, 71, 73, 52, 65, 75, 42, 64, 64, 54, 64, 65, 62, 70, 43, 35, 63, 38, 60, 50, 42, 46, 47, 36, 57, 54, 52, 55, 75, 40, 63, 68, 69, 61, 60, 65, 34, 61, 73, 59, 51, 64, 84, 56, 79, 43, 67, 55, 50, 61, 60, 56, 44, 63, 55, 62, 43, 51, 63, 34, 68, 64, 59, 70, 58, 74, 51, 58, 52, 55, 44, 52, 67, 62, 71, 68, 60, 60, 61, 56, 55, 37, 42, 61, 58, 65, 75, 61, 64, 83, 51, 59, 45, 75, 45, 63, 73, 60, 45, 63, 78, 52, 62, 46, 65, 84, 59, 63, 48, 58, 88, 62, 59, 54, 69, 47, 55, 58, 70, 65, 70, 53, 58, 54, 73, 72, 43, 63, 69, 60, 38, 44, 22, 42, 62, 64, 51, 65, 67, 65, 46, 42, 59, 55, 38, 48, 55, 51, 75, 76, 62, 38, 40, 42, 41, 70, 44, 73, 54, 68, 74, 59, 64, 73, 64, 75, 65, 74, 59, 66, 67, 48, 46, 50, 65, 43, 38, 59, 65, 52, 72, 45, 54, 60, 60, 50, 60, 57, 54, 74, 54, 74, 79, 54, 56, 55, 47, 61, 50, 34, 67, 64, 45, 74, 75, 69, 82, 56, 64, 64, 60, 66, 72, 64, 45, 58, 75, 58, 37, 71, 58, 46, 60, 63, 70, 66, 69, 59, 78, 67, 58, 45, 47, 73, 65, 40, 47, 68, 54, 65, 70, 64, 66, 56, 46, 70, 65, 70, 56, 50, 66, 60, 45, 48, 61, 47, 57, 52, 62, 40, 39, 65, 68, 64, 52, 62, 51, 44, 58, 43, 69, 57, 52, 50, 38, 62, 68, 48, 59, 66, 70, 63, 56, 51, 45, 50, 58, 64, 60, 45, 61, 51, 57, 77, 44, 71, 72, 57, 49, 46, 72, 71, 67, 53, 47, 42, 68, 74, 48, 65, 44, 62, 52, 68, 64, 59, 55, 66, 64, 67, 56, 44, 51, 63, 64, 66, 56, 60, 59, 50, 70, 56, 30, 59, 53, 63, 56, 65, 45, 56, 39, 46, 63, 51, 63, 45, 53, 62, 52, 40, 53, 53, 80, 59, 67, 50, 61, 49, 46, 71, 52, 45, 35, 61, 58, 64, 70, 67, 62, 47, 56, 58, 73, 63, 59, 50, 66, 49, 46, 50, 62, 63, 57, 50, 42, 38, 46, 48, 66, 47, 60, 75, 56, 74, 71, 76, 56, 68, 57, 65, 72, 47, 61, 58, 59, 55, 64, 73, 67, 58, 58, 66, 63, 73, 60, 53, 65, 66, 57, 66, 52, 70, 54, 46, 63, 55, 49, 65, 50, 59, 47, 73, 46, 54, 74, 56, 62, 54, 46, 67, 70, 60, 67, 55, 51, 42, 38, 69, 63, 53, 71, 42, 69, 55, 58, 52, 62, 67, 59, 47, 69, 43, 66, 56, 49, 63, 54, 52, 62, 45, 67, 67, 61, 67, 62, 64, 44, 71, 65, 58, 55, 43, 73, 63, 70, 68, 42, 65, 45, 57, 58, 63, 63, 66, 42, 52, 61, 74, 42, 50, 61, 59, 70, 47, 64, 49, 58, 52, 63, 52, 48, 61, 47, 55, 47, 68, 63, 55, 72, 40, 51, 36, 58, 67, 59, 71, 64, 76, 76, 38, 72, 63, 73, 65, 58, 40, 65, 48, 48, 65, 66, 68, 58, 46, 76, 58, 73, 64, 51, 72, 70, 72, 39, 54, 72, 38, 39, 39, 69, 60, 44, 76, 71, 68, 39, 51, 39, 66, 61, 68, 53, 73, 56, 36, 37, 76, 55, 71, 55, 45, 56, 65, 36, 60, 41, 71, 51, 50, 55, 46, 48, 56, 81, 37, 90, 58, 66, 53, 53, 66, 86, 71, 55, 62, 58, 69, 64, 30, 53, 60, 68, 71, 43, 41, 51, 55, 53, 52, 58, 49, 58, 57, 59, 66, 66, 48, 67, 62, 45, 67, 62, 58, 37, 78, 72, 68, 63, 67, 63, 64, 52, 67, 69, 72, 67, 64, 54, 65, 49, 54, 63, 52, 57, 56, 42, 53, 71, 43, 42, 57, 73, 62, 57, 48, 46, 67, 53, 45, 56, 75, 75, 54, 58, 42, 64, 60, 69, 54, 56, 70, 64, 76, 58, 47, 53, 67, 46, 61, 54, 64, 60, 76, 68, 66, 59, 48, 64, 62, 44, 77, 68, 55, 60, 46, 56, 39, 65, 84, 70, 61, 59, 49, 70, 63, 59, 60, 67, 35, 35, 75, 69, 58, 36, 73, 56, 67, 38, 55, 66, 67, 54, 68, 48, 80, 57, 68, 40, 69, 45, 60, 52, 67, 67, 59, 56, 76, 42, 37, 53, 49, 62, 69, 62, 57, 65, 61, 53, 49, 65, 82, 68, 45, 62, 58, 38, 50, 65, 57, 57, 62, 61, 69, 66, 59, 68, 41, 57, 66, 52, 58, 60, 61, 42, 49, 53, 65, 67, 69, 62, 70, 51, 61, 65, 51, 72, 45, 64, 45, 56, 78, 53, 58, 55, 72, 66, 43, 76, 69, 53, 58, 71, 63, 44, 68, 74, 72, 64, 77, 69, 70, 49, 75, 70, 76, 60, 63, 58, 70, 58, 39, 62, 45, 57, 66, 59, 45, 67, 55, 51, 60, 72, 55, 56, 71, 52, 49, 58, 59, 67, 41, 50, 52, 63, 39, 58, 67, 80, 62, 33, 71, 74, 58, 41, 63, 64, 43, 68, 73, 59, 75, 56, 65, 66, 66, 52, 40, 56, 43, 53, 51, 68, 50, 57, 66, 36, 69, 61, 61, 64, 61, 50, 63, 67, 64, 44, 48, 49, 61, 53, 46, 50, 58, 53, 73, 56, 65, 66, 61, 68, 67, 66, 50, 74, 64, 63, 61, 65, 65, 42, 64, 64, 53, 72, 61, 50, 48, 71, 51, 59, 63, 68, 65, 38, 65, 68, 66, 60, 54, 53, 63, 83, 44, 56, 52, 52, 33, 75, 77, 39, 66, 79, 46, 56, 83, 58, 53, 49, 40, 47, 58, 30, 78, 52, 73, 41, 46, 57, 51, 48, 54, 37, 57, 74, 68, 66, 53, 61, 51, 64, 81, 48, 46, 74, 62, 53, 71, 68, 41, 48, 66, 64, 39, 61, 55, 68, 53, 78, 68, 63, 41, 64, 52, 63, 45, 50, 61, 36, 76, 41, 65, 58, 62, 68, 63, 72, 52, 43, 76, 64, 48, 70, 45, 52, 61, 48, 42, 68, 61, 67, 42, 61, 65, 56, 57, 69, 63, 65, 65, 68, 47, 71, 64, 62, 50, 62, 62, 64, 64, 76, 75, 68, 41, 61, 39, 70, 49, 47, 32, 62, 71, 50, 78, 68, 75, 35, 67, 45, 54, 75, 41, 54, 78, 50, 79, 51, 68, 21, 49, 64, 70, 66, 65, 60, 42, 53, 70, 54, 70, 54, 56, 57, 67, 65, 72, 85, 59, 64, 35, 70, 74, 63, 60, 60, 54, 65, 60, 64, 53, 71, 55, 68, 69, 59, 58, 41, 68, 61, 49, 74, 62, 46, 67, 66, 62, 45, 59, 49, 48, 44, 61, 59, 70, 80, 49, 46, 72, 61, 73, 68, 78, 75, 61, 65, 71, 79, 61, 69, 44, 70, 74, 50, 69, 53, 57, 73, 70, 70, 76, 74, 39, 62, 30, 67, 54, 67, 47, 70, 58, 65, 71, 39, 63, 66, 49, 54, 72, 64, 58, 62, 24, 71, 57, 59, 56, 55, 60, 68, 73, 65, 64, 43, 50, 68, 63, 71, 67, 52, 57, 79, 65, 54, 46, 75, 59, 58, 66, 60, 65, 59, 64, 69, 50, 74, 65, 52, 54, 51, 46, 64, 59, 55, 47, 55, 61, 66, 38, 52, 52, 46, 56, 38, 58, 61, 56, 62, 41, 50, 60, 50, 39, 60, 68, 65, 56, 55, 50, 62, 40, 68, 70, 77, 37, 59, 44, 60, 65, 48, 67, 48, 53, 52, 68, 68, 30, 69, 56, 66, 44, 65, 61, 63, 52, 66, 70, 56, 40, 75, 67, 72, 65, 58, 40, 72, 45, 49, 66, 69, 53, 56, 49, 48, 50, 46, 48, 60, 41, 58, 57, 55, 64, 68, 55, 38, 56, 54, 64, 45, 63, 61, 42, 65, 72, 71, 69, 67, 71, 68, 65, 64, 74, 54, 64, 60, 58, 55, 65, 66, 52, 48, 78, 58, 65, 66, 60, 62, 44, 42, 73, 56, 76, 57, 59, 74, 60, 66, 41, 63, 37, 63, 59, 56, 62, 65, 57, 56, 66, 43, 77, 29, 71, 69, 56, 78, 41, 55, 39, 63, 46, 55, 70, 69, 53, 68, 30, 36, 69, 57, 33, 72, 69, 62, 41, 49, 79, 61, 70, 38, 50, 55, 46, 58, 77, 45, 68, 44, 48, 61, 66, 75, 74, 59, 88, 47, 70, 68, 70, 75, 74, 61, 54, 75, 69, 56, 75, 63, 47, 65, 83, 33, 50, 50, 69, 54, 79, 53, 63, 52, 57, 65, 63, 45, 62, 73, 58, 69, 64, 60, 43, 43, 64, 71, 58, 41, 78, 63, 69, 58, 59, 66, 65, 51, 66, 52, 63, 58, 54, 53, 63, 60, 60, 68, 66, 69, 60, 66, 68, 69, 59, 52, 47, 41, 51, 64, 52, 55, 59, 66, 64, 59, 48, 65, 66, 38, 63, 54, 53, 43, 63, 55, 70, 58, 54, 75, 65, 51, 66, 61, 35, 34, 50, 71, 54, 50, 55, 47, 57, 68, 56, 44, 67, 45, 35, 57, 68, 74, 54, 65, 56, 39, 69, 64, 48, 43, 58, 69, 76, 43, 54, 57, 35, 63, 67, 53, 76, 71, 64, 49, 65, 45, 52, 68, 67, 58, 46, 65, 50, 49, 60, 63, 74, 52, 71, 79, 62, 58, 73, 86, 62, 38, 61, 74, 52, 70, 68, 74, 56, 49, 52, 54, 69, 69, 64, 59, 47, 60, 56, 74, 66, 70, 60, 63, 61, 54, 50, 57, 52, 50, 59, 66, 61, 68, 58, 48, 74, 62, 55, 64, 60, 42, 54, 43, 54, 67, 61, 61, 41, 58, 65, 61, 51, 72, 49, 70, 68, 75, 49, 68, 62, 41, 43, 58, 72, 55, 62, 55, 53, 46, 63, 67, 72, 64, 71, 68, 42, 54, 64, 43, 66, 53, 55, 45, 62, 59, 59, 57, 62, 47, 59, 47, 65, 62, 74, 54, 53, 65, 57, 39, 47, 72, 58, 74, 57, 65, 43, 55, 41, 54, 65, 44, 44, 66, 69, 63, 63, 69, 70, 45, 30, 38, 67, 35, 69, 36, 61, 46, 37, 71, 58, 62, 60, 47, 56, 72, 78, 76, 47, 50, 63, 69, 66, 69, 58, 66, 56, 58, 64, 72, 39, 45, 44, 64, 51, 58, 60, 67, 75, 57, 43, 75, 67, 51, 70, 66, 73, 40, 66, 44, 63, 52, 65, 63, 59, 67, 40, 67, 61, 49, 65, 65, 55, 69, 60, 72, 68, 54, 59, 48, 67, 49, 83, 70, 77, 41, 51, 61, 58, 54, 57, 78, 57, 45, 58, 43, 61, 54, 51, 60, 70, 66, 48, 52, 67, 43, 67, 48, 92, 54, 63, 41, 60, 61, 46, 62, 58, 48, 44, 67, 64, 65, 53, 62, 49, 46, 66, 66, 73, 57, 71, 50, 68, 65, 72, 62, 49, 76, 59, 65, 57, 56, 72, 64, 59, 43, 63, 35, 63, 83, 69, 49, 67, 37, 63, 49, 63, 47, 59, 42, 68, 75, 61, 67, 63, 51, 60, 67, 70, 54, 65, 51, 51, 46, 59, 73, 54, 53, 55, 46, 43, 66, 53, 75, 74, 57, 59, 53, 54, 60, 40, 75, 28, 62, 45, 52, 62, 70, 74, 44, 61, 61, 52, 33, 30, 50, 58, 42, 67, 58, 68, 49, 76, 58, 62, 71, 64, 40, 55, 64, 66, 45, 68, 44, 56, 65, 63, 60, 66, 65, 35, 70, 65, 76, 74, 79, 38, 38, 28, 63, 33, 68, 58, 58, 53, 63, 55, 68, 68, 66, 62, 58, 46, 58, 45, 68, 69, 43, 63, 66, 65, 67, 44, 67, 62, 65, 50, 46, 58, 51, 64, 48, 66, 74, 56, 51, 71, 57, 57, 55, 60, 60, 61, 70, 34, 56, 43, 67, 72, 60, 63, 58, 72, 36, 43, 55, 70, 27, 64, 50, 60, 73, 34, 79, 55, 41, 70, 67, 83, 69, 54, 39, 71, 44, 57, 64, 50, 57, 50, 44, 55, 78, 26, 60, 67, 55, 51, 70, 59, 50, 50, 79, 67, 52, 74, 42, 50, 52, 56, 66, 75, 52, 41, 74, 40, 52, 63, 74, 69, 77, 70, 60, 71, 59, 36, 52, 54, 54, 78, 44, 65, 59, 69, 50, 64, 77, 39, 57, 47, 56, 61, 69, 51, 70, 58, 78, 51, 56, 71, 68, 68, 49, 59, 46, 55, 79, 65, 59, 65, 47, 54, 53, 64, 80, 62, 53, 65, 63, 44, 69, 62, 59, 40, 69, 61, 63, 39, 55, 63, 73, 70, 58, 59, 50, 68, 76, 61, 72, 64, 61, 61, 73, 58, 45, 51, 73, 83, 57, 74, 61, 50, 58, 72, 61, 63, 56, 46, 35, 58, 48, 59, 65, 70, 46, 49, 64, 47, 36, 62, 24, 68, 57, 51, 58, 52, 54, 65, 58, 50, 72, 59, 65, 58, 42, 46, 53, 51, 67, 39, 49, 64, 48, 60, 42, 65, 66, 53, 37, 45, 64, 63, 52, 62, 58, 44, 59, 61, 77, 61, 70, 57, 59, 72, 45, 63, 65, 60, 61, 48, 61, 44, 63, 68, 67, 54, 43, 72, 64, 64, 63, 66, 56, 50, 59, 55, 55, 58, 45, 59, 67, 57, 56, 49, 42, 63, 61, 78, 67, 62, 68, 66, 68, 51, 59, 51, 37, 65, 46, 66, 34, 58, 59, 51, 48, 40, 59, 49, 48, 52, 69, 50, 64, 56, 79, 66, 52, 59, 52, 60, 54, 58, 73, 65, 77, 62, 60, 59, 64, 51, 52, 49, 56, 36, 62, 42, 54, 78, 47, 73, 60, 71, 59, 67, 52, 68, 63, 62, 47, 59, 45, 85, 70, 46, 69, 59, 63, 40, 48, 68, 46, 63, 66, 53, 68, 62, 47, 53, 57, 72, 46, 25, 60, 36, 67, 64, 72, 58, 68, 61, 62, 76, 39, 69, 33, 61, 64, 57, 63, 52, 56, 67, 72, 36, 50, 61, 62, 57, 41, 65, 69, 45, 52, 57, 63, 69, 50, 55, 39, 63, 71, 69, 67, 51, 59, 60, 68, 62, 67, 59, 41, 47, 59, 47, 59, 63, 75, 66, 55, 74, 66, 58, 62, 48, 58, 43, 74, 39, 55, 58, 74, 61, 50, 42, 57, 48, 59, 32, 46, 41, 54, 49, 38, 71, 38, 61, 70, 70, 59, 76, 64, 50, 63, 58, 38, 86, 55, 68, 38, 64, 52, 49, 79, 74, 57, 43, 46, 46, 45, 60, 45, 45, 72, 66, 72, 61, 43, 59, 60, 57, 59, 57, 55, 56, 46, 46, 56, 50, 56, 57, 47, 52, 75, 64, 55, 42, 70, 73, 57, 58, 57, 53, 60, 69, 65, 52, 67, 64, 68, 69, 39, 56, 51, 39, 54, 68, 58, 49, 64, 68, 74, 54, 56, 72, 53, 52, 71, 50, 64, 41, 31, 62, 56, 67, 70, 59, 65, 61, 59, 64, 61, 42, 66, 45, 81, 76, 50, 67, 80, 47, 62, 46, 55, 55, 67, 52, 80, 76, 61, 40, 60, 66, 60, 60, 72, 43, 39, 51, 71, 45, 64, 64, 51, 70, 56, 78, 62, 60, 65, 62, 50, 74, 59, 62, 62, 77, 39, 42, 74, 53, 55, 72, 42, 66, 43, 39, 70, 60, 32, 68, 71, 55, 49, 60, 52, 65, 63, 72, 74, 57, 59, 61, 74, 44, 35, 65, 60, 72, 66, 72, 75, 65, 61, 41, 50, 54, 41, 39, 61, 53, 63, 62, 57, 80, 67, 39, 52, 80, 41, 81, 54, 58, 63, 56, 59, 71, 66, 56, 39, 43, 65, 60, 44, 59, 59, 67, 47, 59, 58, 67, 42, 63, 63, 63, 56, 46, 57, 63, 74, 54, 64, 52, 46, 48, 66, 59, 42, 61, 56, 68, 54, 64, 79, 45, 58, 64, 40, 57, 59, 65, 43, 67, 66, 53, 54, 53, 72, 52, 45, 61, 58, 73, 54, 56, 67, 42, 69, 38, 63, 84, 62, 63, 54, 50, 67, 73, 58, 42, 58, 53, 61, 45, 64, 45, 69, 48, 41, 58, 55, 56, 69, 44, 55, 62, 50, 61, 77, 67, 44, 54, 53, 63, 56, 73, 34, 65, 64, 62, 60, 48, 55, 69, 57, 80, 70, 55, 38, 68, 50, 65, 42, 59, 47, 42, 79, 66, 42, 50, 42, 76, 59, 53, 60, 60, 44, 70, 62, 74, 52, 54, 66, 47, 60, 37, 64, 66, 70, 63, 70, 62, 50, 63, 69, 35, 39, 83, 54, 55, 51, 64, 43, 61, 62, 80, 50, 42, 62, 64, 68, 77, 57, 42, 44, 65, 69, 56, 56, 60, 71, 50, 77, 41, 60, 51, 64, 66, 67, 65, 55, 77, 65, 67, 63, 60, 69, 40, 64, 68, 49, 55, 40, 43, 66, 38, 63, 73, 73, 50, 57, 71, 72, 64, 51, 59, 57, 45, 68, 59, 36, 51, 62, 56, 53, 65, 50, 65, 67, 54, 47, 41, 61, 45, 66, 62, 62, 63, 58, 59, 71, 58, 43, 52, 58, 53, 64, 31, 70, 50, 58, 37, 82, 67, 63, 67, 59, 62, 64, 51, 75, 76, 49, 54, 51, 49, 54, 48, 60, 59, 65, 74, 45, 67, 64, 67, 65, 52, 66, 71, 67, 62, 59, 66, 65, 33, 59, 85, 44, 51, 47, 73, 51, 77, 70, 71, 46, 52, 64, 59, 38, 59, 55, 34, 62, 55, 65, 42, 59, 59, 53, 58, 33, 60, 59, 46, 68, 52, 66, 57, 62, 58, 69, 72, 61, 57, 55, 45, 65, 48, 69, 76, 57, 61, 56, 46, 55, 40, 64, 44, 51, 65, 56, 43, 67, 80, 46, 61, 60, 63, 69, 50, 65, 55, 72, 52, 63, 83, 45, 62, 52, 61, 54, 58, 63, 65, 60, 65, 54, 56, 64, 68, 59, 60, 60, 74, 70, 54, 49, 65, 60, 62, 59, 57, 54, 59, 43, 47, 39, 68, 65, 66, 69, 61, 72, 63, 61, 75, 76, 62, 63, 60, 57, 65, 66, 75, 32, 51, 63, 47, 66, 63, 43, 65, 64, 58, 78, 59, 64, 60, 65, 56, 52, 65, 63, 67, 57, 43, 43, 50, 71, 60, 45, 69, 50, 68, 61, 78, 64, 59, 68, 79, 49, 54, 62, 64, 51, 66, 55, 56, 38, 63, 53, 69, 37, 59, 57, 65, 55, 41, 52, 61, 48, 70, 66, 54, 64, 64, 53, 53, 71, 63, 35, 41, 60, 53, 58, 69, 53, 59, 54, 31, 37, 60, 64, 66, 49, 38, 54, 59, 73, 44, 68, 49, 48, 60, 57, 69, 64, 57, 51, 60, 73, 54, 52, 64, 68, 69, 68, 53, 78, 61, 72, 56, 63, 71, 65, 48, 65, 74, 52, 73, 53, 84, 80, 69, 47, 26, 48, 33, 62, 62, 59, 41, 65, 46, 76, 59, 57, 77, 62, 56, 61, 55, 78, 64, 34, 46, 47, 40, 60, 63, 44, 40, 40, 47, 56, 77, 58, 57, 62, 62, 36, 80, 56, 58, 53, 57, 60, 78, 36, 52, 72, 37, 64, 68, 82, 67, 53, 58, 59, 57, 51, 54, 62, 49, 59, 50, 66, 54, 67, 51, 49, 71, 66, 64, 50, 55, 60, 58, 53, 66, 59, 43, 58, 51, 46, 53, 44, 56, 39, 62, 64, 65, 50, 63, 38, 37, 52, 70, 68, 52, 56, 51, 67, 65, 54, 54, 36, 50, 52, 61, 62, 59, 44, 46, 66, 61, 61, 53, 63, 61, 45, 72, 65, 74, 75, 64, 52, 66, 84, 56, 62, 49, 50, 36, 52, 71, 59, 41, 38, 64, 47, 55, 86, 70, 63, 49, 65, 62, 64, 67, 50, 58, 52, 49, 54, 43, 47, 41, 64, 66, 60, 57, 78, 58, 86, 78, 47, 67, 62, 61, 68, 62, 65, 72, 35, 45, 63, 48, 69, 63, 41, 73, 66, 57, 67, 71, 58, 70, 65, 61, 49, 72, 66, 54, 46, 76, 78, 39, 60, 64, 68, 63, 66, 54, 38, 63, 50, 57, 66, 76, 56, 45, 36, 64, 82, 55, 62, 58, 61, 53, 68, 43, 46, 69, 61, 65, 43, 64, 66, 61, 62, 51, 64, 65, 50, 68, 47, 68, 45, 30, 59, 59, 74, 52, 79, 67, 49, 48, 66, 58, 62, 59, 51, 32, 67, 53, 40, 63, 71, 62, 51, 81, 57, 69, 66, 39, 46, 57, 43, 64, 71, 39, 55, 45, 63, 47, 54, 81, 52, 77, 55, 53, 71, 74, 70, 51, 63, 48, 66, 61, 79, 70, 72, 52, 39, 50, 63, 60, 52, 42, 78, 63, 54, 69, 72, 71, 48, 78, 49, 75, 64, 40, 60, 70, 53, 74, 51, 60, 48, 68, 68, 37, 75, 58, 75, 50, 50, 59, 67, 45, 61, 62, 56, 13, 49, 70, 50, 66, 46, 80, 65, 47, 74, 45, 72, 45, 70, 62, 68, 73, 34, 55, 52, 62, 59, 46, 67, 55, 11, 65, 76, 54, 59, 60, 31, 62, 74, 60, 36, 74, 60, 37, 76, 48, 73, 72, 61, 49, 72, 72, 42, 58, 48, 66, 66, 46, 59, 49, 63, 62, 69, 59, 64, 62, 73, 62, 49, 68, 66, 50, 61, 64, 69, 56, 67, 72, 53, 54, 66, 67, 52, 39, 82, 37, 54, 57, 61, 67, 69, 65, 31, 69, 67], \"y0\": \" \", \"yaxis\": \"y\"}, {\"alignmentgroup\": \"True\", \"box\": {\"visible\": true}, \"hoverlabel\": {\"namelength\": 0}, \"hovertemplate\": \"Position=%{x}<br>Crossing=%{y}\", \"legendgroup\": \"Position=FWD\", \"marker\": {\"color\": \"#00cc96\"}, \"name\": \"Position=FWD\", \"offsetgroup\": \"Position=FWD\", \"orientation\": \"v\", \"points\": \"all\", \"scalegroup\": \"True\", \"showlegend\": true, \"type\": \"violin\", \"x\": [\"FWD\", \"FWD\", \"FWD\", \"FWD\", \"FWD\", \"FWD\", \"FWD\", \"FWD\", \"FWD\", \"FWD\", \"FWD\", \"FWD\", \"FWD\", \"FWD\", \"FWD\", \"FWD\", \"FWD\", \"FWD\", \"FWD\", \"FWD\", \"FWD\", \"FWD\", \"FWD\", \"FWD\", \"FWD\", \"FWD\", \"FWD\", \"FWD\", \"FWD\", \"FWD\", \"FWD\", \"FWD\", \"FWD\", \"FWD\", \"FWD\", \"FWD\", \"FWD\", \"FWD\", \"FWD\", \"FWD\", \"FWD\", \"FWD\", \"FWD\", \"FWD\", \"FWD\", \"FWD\", \"FWD\", \"FWD\", \"FWD\", \"FWD\", \"FWD\", \"FWD\", \"FWD\", \"FWD\", \"FWD\", \"FWD\", \"FWD\", \"FWD\", \"FWD\", \"FWD\", \"FWD\", \"FWD\", \"FWD\", \"FWD\", \"FWD\", \"FWD\", \"FWD\", \"FWD\", \"FWD\", \"FWD\", \"FWD\", \"FWD\", \"FWD\", \"FWD\", \"FWD\", \"FWD\", \"FWD\", \"FWD\", \"FWD\", \"FWD\", \"FWD\", \"FWD\", \"FWD\", \"FWD\", \"FWD\", \"FWD\", \"FWD\", \"FWD\", \"FWD\", \"FWD\", \"FWD\", \"FWD\", \"FWD\", \"FWD\", \"FWD\", \"FWD\", \"FWD\", \"FWD\", \"FWD\", \"FWD\", \"FWD\", \"FWD\", \"FWD\", \"FWD\", \"FWD\", \"FWD\", \"FWD\", \"FWD\", \"FWD\", \"FWD\", \"FWD\", \"FWD\", \"FWD\", \"FWD\", \"FWD\", \"FWD\", \"FWD\", \"FWD\", \"FWD\", \"FWD\", \"FWD\", \"FWD\", \"FWD\", \"FWD\", \"FWD\", \"FWD\", \"FWD\", \"FWD\", \"FWD\", \"FWD\", \"FWD\", \"FWD\", \"FWD\", \"FWD\", \"FWD\", \"FWD\", \"FWD\", \"FWD\", \"FWD\", \"FWD\", \"FWD\", \"FWD\", \"FWD\", \"FWD\", \"FWD\", \"FWD\", \"FWD\", \"FWD\", \"FWD\", \"FWD\", \"FWD\", \"FWD\", \"FWD\", \"FWD\", \"FWD\", \"FWD\", \"FWD\", \"FWD\", \"FWD\", \"FWD\", \"FWD\", \"FWD\", \"FWD\", \"FWD\", \"FWD\", \"FWD\", \"FWD\", \"FWD\", \"FWD\", \"FWD\", \"FWD\", \"FWD\", \"FWD\", \"FWD\", \"FWD\", \"FWD\", \"FWD\", \"FWD\", \"FWD\", \"FWD\", \"FWD\", \"FWD\", \"FWD\", \"FWD\", \"FWD\", \"FWD\", \"FWD\", \"FWD\", \"FWD\", \"FWD\", \"FWD\", \"FWD\", \"FWD\", \"FWD\", \"FWD\", \"FWD\", \"FWD\", \"FWD\", \"FWD\", \"FWD\", \"FWD\", \"FWD\", \"FWD\", \"FWD\", \"FWD\", \"FWD\", \"FWD\", \"FWD\", \"FWD\", \"FWD\", \"FWD\", \"FWD\", \"FWD\", \"FWD\", \"FWD\", \"FWD\", \"FWD\", \"FWD\", \"FWD\", \"FWD\", \"FWD\", \"FWD\", \"FWD\", \"FWD\", \"FWD\", \"FWD\", \"FWD\", \"FWD\", \"FWD\", \"FWD\", \"FWD\", \"FWD\", \"FWD\", \"FWD\", \"FWD\", \"FWD\", \"FWD\", \"FWD\", \"FWD\", \"FWD\", \"FWD\", \"FWD\", \"FWD\", \"FWD\", \"FWD\", \"FWD\", \"FWD\", \"FWD\", \"FWD\", \"FWD\", \"FWD\", \"FWD\", \"FWD\", \"FWD\", \"FWD\", \"FWD\", \"FWD\", \"FWD\", \"FWD\", \"FWD\", \"FWD\", \"FWD\", \"FWD\", \"FWD\", \"FWD\", \"FWD\", \"FWD\", \"FWD\", \"FWD\", \"FWD\", \"FWD\", \"FWD\", \"FWD\", \"FWD\", \"FWD\", \"FWD\", \"FWD\", \"FWD\", \"FWD\", \"FWD\", \"FWD\", \"FWD\", \"FWD\", \"FWD\", \"FWD\", \"FWD\", \"FWD\", \"FWD\", \"FWD\", \"FWD\", \"FWD\", \"FWD\", \"FWD\", \"FWD\", \"FWD\", \"FWD\", \"FWD\", \"FWD\", \"FWD\", \"FWD\", \"FWD\", \"FWD\", \"FWD\", \"FWD\", \"FWD\", \"FWD\", \"FWD\", \"FWD\", \"FWD\", \"FWD\", \"FWD\", \"FWD\", \"FWD\", \"FWD\", \"FWD\", \"FWD\", \"FWD\", \"FWD\", \"FWD\", \"FWD\", \"FWD\", \"FWD\", \"FWD\", \"FWD\", \"FWD\", \"FWD\", \"FWD\", \"FWD\", \"FWD\", \"FWD\", \"FWD\", \"FWD\", \"FWD\", \"FWD\", \"FWD\", \"FWD\", \"FWD\", \"FWD\", \"FWD\", \"FWD\", \"FWD\", \"FWD\", \"FWD\", \"FWD\", \"FWD\", \"FWD\", \"FWD\", \"FWD\", \"FWD\", \"FWD\", \"FWD\", \"FWD\", \"FWD\", \"FWD\", \"FWD\", \"FWD\", \"FWD\", \"FWD\", \"FWD\", \"FWD\", \"FWD\", \"FWD\", \"FWD\", \"FWD\", \"FWD\", \"FWD\", \"FWD\", \"FWD\", \"FWD\", \"FWD\", \"FWD\", \"FWD\", \"FWD\", \"FWD\", \"FWD\", \"FWD\", \"FWD\", \"FWD\", \"FWD\", \"FWD\", \"FWD\", \"FWD\", \"FWD\", \"FWD\", \"FWD\", \"FWD\", \"FWD\", \"FWD\", \"FWD\", \"FWD\", \"FWD\", \"FWD\", \"FWD\", \"FWD\", \"FWD\", \"FWD\", \"FWD\", \"FWD\", \"FWD\", \"FWD\", \"FWD\", \"FWD\", \"FWD\", \"FWD\", \"FWD\", \"FWD\", \"FWD\", \"FWD\", \"FWD\", \"FWD\", \"FWD\", \"FWD\", \"FWD\", \"FWD\", \"FWD\", \"FWD\", \"FWD\", \"FWD\", \"FWD\", \"FWD\", \"FWD\", \"FWD\", \"FWD\", \"FWD\", \"FWD\", \"FWD\", \"FWD\", \"FWD\", \"FWD\", \"FWD\", \"FWD\", \"FWD\", \"FWD\", \"FWD\", \"FWD\", \"FWD\", \"FWD\", \"FWD\", \"FWD\", \"FWD\", \"FWD\", \"FWD\", \"FWD\", \"FWD\", \"FWD\", \"FWD\", \"FWD\", \"FWD\", \"FWD\", \"FWD\", \"FWD\", \"FWD\", \"FWD\", \"FWD\", \"FWD\", \"FWD\", \"FWD\", \"FWD\", \"FWD\", \"FWD\", \"FWD\", \"FWD\", \"FWD\", \"FWD\", \"FWD\", \"FWD\", \"FWD\", \"FWD\", \"FWD\", \"FWD\", \"FWD\", \"FWD\", \"FWD\", \"FWD\", \"FWD\", \"FWD\", \"FWD\", \"FWD\", \"FWD\", \"FWD\", \"FWD\", \"FWD\", \"FWD\", \"FWD\", \"FWD\", \"FWD\", \"FWD\", \"FWD\", \"FWD\", \"FWD\", \"FWD\", \"FWD\", \"FWD\", \"FWD\", \"FWD\", \"FWD\", \"FWD\", \"FWD\", \"FWD\", \"FWD\", \"FWD\", \"FWD\", \"FWD\", \"FWD\", \"FWD\", \"FWD\", \"FWD\", \"FWD\", \"FWD\", \"FWD\", \"FWD\", \"FWD\", \"FWD\", \"FWD\", \"FWD\", \"FWD\", \"FWD\", \"FWD\", \"FWD\", \"FWD\", \"FWD\", \"FWD\", \"FWD\", \"FWD\", \"FWD\", \"FWD\", \"FWD\", \"FWD\", \"FWD\", \"FWD\", \"FWD\", \"FWD\", \"FWD\", \"FWD\", \"FWD\", \"FWD\", \"FWD\", \"FWD\", \"FWD\", \"FWD\", \"FWD\", \"FWD\", \"FWD\", \"FWD\", \"FWD\", \"FWD\", \"FWD\", \"FWD\", \"FWD\", \"FWD\", \"FWD\", \"FWD\", \"FWD\", \"FWD\", \"FWD\", \"FWD\", \"FWD\", \"FWD\", \"FWD\", \"FWD\", \"FWD\", \"FWD\", \"FWD\", \"FWD\", \"FWD\", \"FWD\", \"FWD\", \"FWD\", \"FWD\", \"FWD\", \"FWD\", \"FWD\", \"FWD\", \"FWD\", \"FWD\", \"FWD\", \"FWD\", \"FWD\", \"FWD\", \"FWD\", \"FWD\", \"FWD\", \"FWD\", \"FWD\", \"FWD\", \"FWD\", \"FWD\", \"FWD\", \"FWD\", \"FWD\", \"FWD\", \"FWD\", \"FWD\", \"FWD\", \"FWD\", \"FWD\", \"FWD\", \"FWD\", \"FWD\", \"FWD\", \"FWD\", \"FWD\", \"FWD\", \"FWD\", \"FWD\", \"FWD\", \"FWD\", \"FWD\", \"FWD\", \"FWD\", \"FWD\", \"FWD\", \"FWD\", \"FWD\", \"FWD\", \"FWD\", \"FWD\", \"FWD\", \"FWD\", \"FWD\", \"FWD\", \"FWD\", \"FWD\", \"FWD\", \"FWD\", \"FWD\", \"FWD\", \"FWD\", \"FWD\", \"FWD\", \"FWD\", \"FWD\", \"FWD\", \"FWD\", \"FWD\", \"FWD\", \"FWD\", \"FWD\", \"FWD\", \"FWD\", \"FWD\", \"FWD\", \"FWD\", \"FWD\", \"FWD\", \"FWD\", \"FWD\", \"FWD\", \"FWD\", \"FWD\", \"FWD\", \"FWD\", \"FWD\", \"FWD\", \"FWD\", \"FWD\", \"FWD\", \"FWD\", \"FWD\", \"FWD\", \"FWD\", \"FWD\", \"FWD\", \"FWD\", \"FWD\", \"FWD\", \"FWD\", \"FWD\", \"FWD\", \"FWD\", \"FWD\", \"FWD\", \"FWD\", \"FWD\", \"FWD\", \"FWD\", \"FWD\", \"FWD\", \"FWD\", \"FWD\", \"FWD\", \"FWD\", \"FWD\", \"FWD\", \"FWD\", \"FWD\", \"FWD\", \"FWD\", \"FWD\", \"FWD\", \"FWD\", \"FWD\", \"FWD\", \"FWD\", \"FWD\", \"FWD\", \"FWD\", \"FWD\", \"FWD\", \"FWD\", \"FWD\", \"FWD\", \"FWD\", \"FWD\", \"FWD\", \"FWD\", \"FWD\", \"FWD\", \"FWD\", \"FWD\", \"FWD\", \"FWD\", \"FWD\", \"FWD\", \"FWD\", \"FWD\", \"FWD\", \"FWD\", \"FWD\", \"FWD\", \"FWD\", \"FWD\", \"FWD\", \"FWD\", \"FWD\", \"FWD\", \"FWD\", \"FWD\", \"FWD\", \"FWD\", \"FWD\", \"FWD\", \"FWD\", \"FWD\", \"FWD\", \"FWD\", \"FWD\", \"FWD\", \"FWD\", \"FWD\", \"FWD\", \"FWD\", \"FWD\", \"FWD\", \"FWD\", \"FWD\", \"FWD\", \"FWD\", \"FWD\", \"FWD\", \"FWD\", \"FWD\", \"FWD\", \"FWD\", \"FWD\", \"FWD\", \"FWD\", \"FWD\", \"FWD\", \"FWD\", \"FWD\", \"FWD\", \"FWD\", \"FWD\", \"FWD\", \"FWD\", \"FWD\", \"FWD\", \"FWD\", \"FWD\", \"FWD\", \"FWD\", \"FWD\", \"FWD\", \"FWD\", \"FWD\", \"FWD\", \"FWD\", \"FWD\", \"FWD\", \"FWD\", \"FWD\", \"FWD\", \"FWD\", \"FWD\", \"FWD\", \"FWD\", \"FWD\", \"FWD\", \"FWD\", \"FWD\", \"FWD\", \"FWD\", \"FWD\", \"FWD\", \"FWD\", \"FWD\", \"FWD\", \"FWD\", \"FWD\", \"FWD\", \"FWD\", \"FWD\", \"FWD\", \"FWD\", \"FWD\", \"FWD\", \"FWD\", \"FWD\", \"FWD\", \"FWD\", \"FWD\", \"FWD\", \"FWD\", \"FWD\", \"FWD\", \"FWD\", \"FWD\", \"FWD\", \"FWD\", \"FWD\", \"FWD\", \"FWD\", \"FWD\", \"FWD\", \"FWD\", \"FWD\", \"FWD\", \"FWD\", \"FWD\", \"FWD\", \"FWD\", \"FWD\", \"FWD\", \"FWD\", \"FWD\", \"FWD\", \"FWD\", \"FWD\", \"FWD\", \"FWD\", \"FWD\", \"FWD\", \"FWD\", \"FWD\", \"FWD\", \"FWD\", \"FWD\", \"FWD\", \"FWD\", \"FWD\", \"FWD\", \"FWD\", \"FWD\", \"FWD\", \"FWD\", \"FWD\", \"FWD\", \"FWD\", \"FWD\", \"FWD\", \"FWD\", \"FWD\", \"FWD\", \"FWD\", \"FWD\", \"FWD\", \"FWD\", \"FWD\", \"FWD\", \"FWD\", \"FWD\", \"FWD\", \"FWD\", \"FWD\", \"FWD\", \"FWD\", \"FWD\", \"FWD\", \"FWD\", \"FWD\", \"FWD\", \"FWD\", \"FWD\", \"FWD\", \"FWD\", \"FWD\", \"FWD\", \"FWD\", \"FWD\", \"FWD\", \"FWD\", \"FWD\", \"FWD\", \"FWD\", \"FWD\", \"FWD\", \"FWD\", \"FWD\", \"FWD\", \"FWD\", \"FWD\", \"FWD\", \"FWD\", \"FWD\", \"FWD\", \"FWD\", \"FWD\", \"FWD\", \"FWD\", \"FWD\", \"FWD\", \"FWD\", \"FWD\", \"FWD\", \"FWD\", \"FWD\", \"FWD\", \"FWD\", \"FWD\", \"FWD\", \"FWD\", \"FWD\", \"FWD\", \"FWD\", \"FWD\", \"FWD\", \"FWD\", \"FWD\", \"FWD\", \"FWD\", \"FWD\", \"FWD\", \"FWD\", \"FWD\", \"FWD\", \"FWD\", \"FWD\", \"FWD\", \"FWD\", \"FWD\", \"FWD\", \"FWD\", \"FWD\", \"FWD\", \"FWD\", \"FWD\", \"FWD\", \"FWD\", \"FWD\", \"FWD\", \"FWD\", \"FWD\", \"FWD\", \"FWD\", \"FWD\", \"FWD\", \"FWD\", \"FWD\", \"FWD\", \"FWD\", \"FWD\", \"FWD\", \"FWD\", \"FWD\", \"FWD\", \"FWD\", \"FWD\", \"FWD\", \"FWD\", \"FWD\", \"FWD\", \"FWD\", \"FWD\", \"FWD\", \"FWD\", \"FWD\", \"FWD\", \"FWD\", \"FWD\", \"FWD\", \"FWD\", \"FWD\", \"FWD\", \"FWD\", \"FWD\", \"FWD\", \"FWD\", \"FWD\", \"FWD\", \"FWD\", \"FWD\", \"FWD\", \"FWD\", \"FWD\", \"FWD\", \"FWD\", \"FWD\", \"FWD\", \"FWD\", \"FWD\", \"FWD\", \"FWD\", \"FWD\", \"FWD\", \"FWD\", \"FWD\", \"FWD\", \"FWD\", \"FWD\", \"FWD\", \"FWD\", \"FWD\", \"FWD\", \"FWD\", \"FWD\", \"FWD\", \"FWD\", \"FWD\", \"FWD\", \"FWD\", \"FWD\", \"FWD\", \"FWD\", \"FWD\", \"FWD\", \"FWD\", \"FWD\", \"FWD\", \"FWD\", \"FWD\", \"FWD\", \"FWD\", \"FWD\", \"FWD\", \"FWD\", \"FWD\", \"FWD\", \"FWD\", \"FWD\", \"FWD\", \"FWD\", \"FWD\", \"FWD\", \"FWD\", \"FWD\", \"FWD\", \"FWD\", \"FWD\", \"FWD\", \"FWD\", \"FWD\", \"FWD\", \"FWD\", \"FWD\", \"FWD\", \"FWD\", \"FWD\", \"FWD\", \"FWD\", \"FWD\", \"FWD\", \"FWD\", \"FWD\", \"FWD\", \"FWD\", \"FWD\", \"FWD\", \"FWD\", \"FWD\", \"FWD\", \"FWD\", \"FWD\", \"FWD\", \"FWD\", \"FWD\", \"FWD\", \"FWD\", \"FWD\", \"FWD\", \"FWD\", \"FWD\", \"FWD\", \"FWD\", \"FWD\", \"FWD\", \"FWD\", \"FWD\", \"FWD\", \"FWD\", \"FWD\", \"FWD\", \"FWD\", \"FWD\", \"FWD\", \"FWD\", \"FWD\", \"FWD\", \"FWD\", \"FWD\", \"FWD\", \"FWD\", \"FWD\", \"FWD\", \"FWD\", \"FWD\", \"FWD\", \"FWD\", \"FWD\", \"FWD\", \"FWD\", \"FWD\", \"FWD\", \"FWD\", \"FWD\", \"FWD\", \"FWD\", \"FWD\", \"FWD\", \"FWD\", \"FWD\", \"FWD\", \"FWD\", \"FWD\", \"FWD\", \"FWD\", \"FWD\", \"FWD\", \"FWD\", \"FWD\", \"FWD\", \"FWD\", \"FWD\", \"FWD\", \"FWD\", \"FWD\", \"FWD\", \"FWD\", \"FWD\", \"FWD\", \"FWD\", \"FWD\", \"FWD\", \"FWD\", \"FWD\", \"FWD\", \"FWD\", \"FWD\", \"FWD\", \"FWD\", \"FWD\", \"FWD\", \"FWD\", \"FWD\", \"FWD\", \"FWD\", \"FWD\", \"FWD\", \"FWD\", \"FWD\", \"FWD\", \"FWD\", \"FWD\", \"FWD\", \"FWD\", \"FWD\", \"FWD\", \"FWD\", \"FWD\", \"FWD\", \"FWD\", \"FWD\", \"FWD\", \"FWD\", \"FWD\", \"FWD\", \"FWD\", \"FWD\", \"FWD\", \"FWD\", \"FWD\", \"FWD\", \"FWD\", \"FWD\", \"FWD\", \"FWD\", \"FWD\", \"FWD\", \"FWD\", \"FWD\", \"FWD\", \"FWD\", \"FWD\", \"FWD\", \"FWD\", \"FWD\", \"FWD\", \"FWD\", \"FWD\", \"FWD\", \"FWD\", \"FWD\", \"FWD\", \"FWD\", \"FWD\", \"FWD\", \"FWD\", \"FWD\", \"FWD\", \"FWD\", \"FWD\", \"FWD\", \"FWD\", \"FWD\", \"FWD\", \"FWD\", \"FWD\", \"FWD\", \"FWD\", \"FWD\", \"FWD\", \"FWD\", \"FWD\", \"FWD\", \"FWD\", \"FWD\", \"FWD\", \"FWD\", \"FWD\", \"FWD\", \"FWD\", \"FWD\", \"FWD\", \"FWD\", \"FWD\", \"FWD\", \"FWD\", \"FWD\", \"FWD\", \"FWD\", \"FWD\", \"FWD\", \"FWD\", \"FWD\", \"FWD\", \"FWD\", \"FWD\", \"FWD\", \"FWD\", \"FWD\", \"FWD\", \"FWD\", \"FWD\", \"FWD\", \"FWD\", \"FWD\", \"FWD\", \"FWD\", \"FWD\", \"FWD\", \"FWD\", \"FWD\", \"FWD\", \"FWD\", \"FWD\", \"FWD\", \"FWD\", \"FWD\", \"FWD\", \"FWD\", \"FWD\", \"FWD\", \"FWD\", \"FWD\", \"FWD\", \"FWD\", \"FWD\", \"FWD\", \"FWD\", \"FWD\", \"FWD\", \"FWD\", \"FWD\", \"FWD\", \"FWD\", \"FWD\", \"FWD\", \"FWD\", \"FWD\", \"FWD\", \"FWD\", \"FWD\", \"FWD\", \"FWD\", \"FWD\", \"FWD\", \"FWD\", \"FWD\", \"FWD\", \"FWD\", \"FWD\", \"FWD\", \"FWD\", \"FWD\", \"FWD\", \"FWD\", \"FWD\", \"FWD\", \"FWD\", \"FWD\", \"FWD\", \"FWD\", \"FWD\", \"FWD\", \"FWD\", \"FWD\", \"FWD\", \"FWD\", \"FWD\", \"FWD\", \"FWD\", \"FWD\", \"FWD\", \"FWD\", \"FWD\", \"FWD\", \"FWD\", \"FWD\", \"FWD\", \"FWD\", \"FWD\", \"FWD\", \"FWD\", \"FWD\", \"FWD\", \"FWD\", \"FWD\", \"FWD\", \"FWD\", \"FWD\", \"FWD\", \"FWD\", \"FWD\", \"FWD\", \"FWD\", \"FWD\", \"FWD\", \"FWD\", \"FWD\", \"FWD\", \"FWD\", \"FWD\", \"FWD\", \"FWD\", \"FWD\", \"FWD\", \"FWD\", \"FWD\", \"FWD\", \"FWD\", \"FWD\", \"FWD\", \"FWD\", \"FWD\", \"FWD\", \"FWD\", \"FWD\", \"FWD\", \"FWD\", \"FWD\", \"FWD\", \"FWD\", \"FWD\", \"FWD\", \"FWD\", \"FWD\", \"FWD\", \"FWD\", \"FWD\", \"FWD\", \"FWD\", \"FWD\", \"FWD\", \"FWD\", \"FWD\", \"FWD\", \"FWD\", \"FWD\", \"FWD\", \"FWD\", \"FWD\", \"FWD\", \"FWD\", \"FWD\", \"FWD\", \"FWD\", \"FWD\", \"FWD\", \"FWD\", \"FWD\", \"FWD\", \"FWD\", \"FWD\", \"FWD\", \"FWD\", \"FWD\", \"FWD\", \"FWD\", \"FWD\", \"FWD\", \"FWD\", \"FWD\", \"FWD\", \"FWD\", \"FWD\", \"FWD\", \"FWD\", \"FWD\", \"FWD\", \"FWD\", \"FWD\", \"FWD\", \"FWD\", \"FWD\", \"FWD\", \"FWD\", \"FWD\", \"FWD\", \"FWD\", \"FWD\", \"FWD\", \"FWD\", \"FWD\", \"FWD\", \"FWD\", \"FWD\", \"FWD\", \"FWD\", \"FWD\", \"FWD\", \"FWD\", \"FWD\", \"FWD\", \"FWD\", \"FWD\", \"FWD\", \"FWD\", \"FWD\", \"FWD\", \"FWD\", \"FWD\", \"FWD\", \"FWD\", \"FWD\", \"FWD\", \"FWD\", \"FWD\", \"FWD\", \"FWD\", \"FWD\", \"FWD\", \"FWD\", \"FWD\", \"FWD\", \"FWD\", \"FWD\", \"FWD\", \"FWD\", \"FWD\", \"FWD\", \"FWD\", \"FWD\", \"FWD\", \"FWD\", \"FWD\", \"FWD\", \"FWD\", \"FWD\", \"FWD\", \"FWD\", \"FWD\", \"FWD\", \"FWD\", \"FWD\", \"FWD\", \"FWD\", \"FWD\", \"FWD\", \"FWD\", \"FWD\", \"FWD\", \"FWD\", \"FWD\", \"FWD\", \"FWD\", \"FWD\", \"FWD\", \"FWD\", \"FWD\", \"FWD\", \"FWD\", \"FWD\", \"FWD\", \"FWD\", \"FWD\", \"FWD\", \"FWD\", \"FWD\", \"FWD\", \"FWD\", \"FWD\", \"FWD\", \"FWD\", \"FWD\", \"FWD\", \"FWD\", \"FWD\", \"FWD\", \"FWD\", \"FWD\", \"FWD\", \"FWD\", \"FWD\", \"FWD\", \"FWD\", \"FWD\", \"FWD\", \"FWD\", \"FWD\", \"FWD\", \"FWD\", \"FWD\", \"FWD\", \"FWD\", \"FWD\", \"FWD\", \"FWD\", \"FWD\", \"FWD\", \"FWD\", \"FWD\", \"FWD\", \"FWD\", \"FWD\", \"FWD\", \"FWD\", \"FWD\", \"FWD\", \"FWD\", \"FWD\", \"FWD\", \"FWD\", \"FWD\", \"FWD\", \"FWD\", \"FWD\", \"FWD\", \"FWD\", \"FWD\", \"FWD\", \"FWD\", \"FWD\", \"FWD\", \"FWD\", \"FWD\", \"FWD\", \"FWD\", \"FWD\", \"FWD\", \"FWD\", \"FWD\", \"FWD\", \"FWD\", \"FWD\", \"FWD\", \"FWD\", \"FWD\", \"FWD\", \"FWD\", \"FWD\", \"FWD\", \"FWD\", \"FWD\", \"FWD\", \"FWD\", \"FWD\", \"FWD\", \"FWD\", \"FWD\", \"FWD\", \"FWD\", \"FWD\", \"FWD\", \"FWD\", \"FWD\", \"FWD\", \"FWD\", \"FWD\", \"FWD\", \"FWD\", \"FWD\", \"FWD\", \"FWD\", \"FWD\", \"FWD\", \"FWD\", \"FWD\", \"FWD\", \"FWD\", \"FWD\", \"FWD\", \"FWD\", \"FWD\", \"FWD\", \"FWD\", \"FWD\", \"FWD\", \"FWD\", \"FWD\", \"FWD\", \"FWD\", \"FWD\", \"FWD\", \"FWD\", \"FWD\", \"FWD\", \"FWD\", \"FWD\", \"FWD\", \"FWD\", \"FWD\", \"FWD\", \"FWD\", \"FWD\", \"FWD\", \"FWD\", \"FWD\", \"FWD\", \"FWD\", \"FWD\", \"FWD\", \"FWD\", \"FWD\", \"FWD\", \"FWD\", \"FWD\", \"FWD\", \"FWD\", \"FWD\", \"FWD\", \"FWD\", \"FWD\", \"FWD\", \"FWD\", \"FWD\", \"FWD\", \"FWD\", \"FWD\", \"FWD\", \"FWD\", \"FWD\", \"FWD\", \"FWD\", \"FWD\", \"FWD\", \"FWD\", \"FWD\", \"FWD\", \"FWD\", \"FWD\", \"FWD\", \"FWD\", \"FWD\", \"FWD\", \"FWD\", \"FWD\", \"FWD\", \"FWD\", \"FWD\", \"FWD\", \"FWD\", \"FWD\", \"FWD\", \"FWD\", \"FWD\", \"FWD\", \"FWD\", \"FWD\", \"FWD\", \"FWD\", \"FWD\", \"FWD\", \"FWD\", \"FWD\", \"FWD\", \"FWD\", \"FWD\", \"FWD\", \"FWD\", \"FWD\", \"FWD\", \"FWD\", \"FWD\", \"FWD\", \"FWD\", \"FWD\", \"FWD\", \"FWD\", \"FWD\", \"FWD\", \"FWD\", \"FWD\", \"FWD\", \"FWD\", \"FWD\", \"FWD\", \"FWD\", \"FWD\", \"FWD\", \"FWD\", \"FWD\", \"FWD\", \"FWD\", \"FWD\", \"FWD\", \"FWD\", \"FWD\", \"FWD\", \"FWD\", \"FWD\", \"FWD\", \"FWD\", \"FWD\", \"FWD\", \"FWD\", \"FWD\", \"FWD\", \"FWD\", \"FWD\", \"FWD\", \"FWD\", \"FWD\", \"FWD\", \"FWD\", \"FWD\", \"FWD\", \"FWD\", \"FWD\", \"FWD\", \"FWD\", \"FWD\", \"FWD\", \"FWD\", \"FWD\", \"FWD\", \"FWD\", \"FWD\", \"FWD\", \"FWD\", \"FWD\", \"FWD\", \"FWD\", \"FWD\", \"FWD\", \"FWD\", \"FWD\", \"FWD\", \"FWD\", \"FWD\", \"FWD\", \"FWD\", \"FWD\", \"FWD\", \"FWD\", \"FWD\", \"FWD\", \"FWD\", \"FWD\", \"FWD\", \"FWD\", \"FWD\", \"FWD\", \"FWD\", \"FWD\", \"FWD\", \"FWD\", \"FWD\", \"FWD\", \"FWD\", \"FWD\", \"FWD\", \"FWD\", \"FWD\", \"FWD\", \"FWD\", \"FWD\", \"FWD\", \"FWD\", \"FWD\", \"FWD\", \"FWD\", \"FWD\", \"FWD\", \"FWD\", \"FWD\", \"FWD\", \"FWD\", \"FWD\", \"FWD\", \"FWD\", \"FWD\", \"FWD\", \"FWD\", \"FWD\", \"FWD\", \"FWD\", \"FWD\", \"FWD\", \"FWD\", \"FWD\", \"FWD\", \"FWD\", \"FWD\", \"FWD\", \"FWD\", \"FWD\", \"FWD\", \"FWD\", \"FWD\", \"FWD\", \"FWD\", \"FWD\", \"FWD\", \"FWD\", \"FWD\", \"FWD\", \"FWD\", \"FWD\", \"FWD\", \"FWD\", \"FWD\", \"FWD\", \"FWD\", \"FWD\", \"FWD\", \"FWD\", \"FWD\", \"FWD\", \"FWD\", \"FWD\", \"FWD\", \"FWD\", \"FWD\", \"FWD\", \"FWD\", \"FWD\", \"FWD\", \"FWD\", \"FWD\", \"FWD\", \"FWD\", \"FWD\", \"FWD\", \"FWD\", \"FWD\", \"FWD\", \"FWD\", \"FWD\", \"FWD\", \"FWD\", \"FWD\", \"FWD\", \"FWD\", \"FWD\", \"FWD\", \"FWD\", \"FWD\", \"FWD\", \"FWD\", \"FWD\", \"FWD\", \"FWD\", \"FWD\", \"FWD\", \"FWD\", \"FWD\", \"FWD\", \"FWD\", \"FWD\", \"FWD\", \"FWD\", \"FWD\", \"FWD\", \"FWD\", \"FWD\", \"FWD\", \"FWD\", \"FWD\", \"FWD\", \"FWD\", \"FWD\", \"FWD\", \"FWD\", \"FWD\", \"FWD\", \"FWD\", \"FWD\", \"FWD\", \"FWD\", \"FWD\", \"FWD\", \"FWD\", \"FWD\", \"FWD\", \"FWD\", \"FWD\", \"FWD\", \"FWD\", \"FWD\", \"FWD\", \"FWD\", \"FWD\", \"FWD\", \"FWD\", \"FWD\", \"FWD\", \"FWD\", \"FWD\", \"FWD\", \"FWD\", \"FWD\", \"FWD\", \"FWD\", \"FWD\", \"FWD\", \"FWD\", \"FWD\", \"FWD\", \"FWD\", \"FWD\", \"FWD\", \"FWD\", \"FWD\", \"FWD\", \"FWD\", \"FWD\", \"FWD\", \"FWD\", \"FWD\", \"FWD\", \"FWD\", \"FWD\", \"FWD\", \"FWD\", \"FWD\", \"FWD\", \"FWD\", \"FWD\", \"FWD\", \"FWD\", \"FWD\", \"FWD\", \"FWD\", \"FWD\", \"FWD\", \"FWD\", \"FWD\", \"FWD\", \"FWD\", \"FWD\", \"FWD\", \"FWD\", \"FWD\", \"FWD\", \"FWD\", \"FWD\", \"FWD\", \"FWD\", \"FWD\", \"FWD\", \"FWD\", \"FWD\", \"FWD\", \"FWD\", \"FWD\", \"FWD\", \"FWD\", \"FWD\", \"FWD\", \"FWD\", \"FWD\", \"FWD\", \"FWD\", \"FWD\", \"FWD\", \"FWD\", \"FWD\", \"FWD\", \"FWD\", \"FWD\", \"FWD\", \"FWD\", \"FWD\", \"FWD\", \"FWD\", \"FWD\", \"FWD\", \"FWD\", \"FWD\", \"FWD\", \"FWD\", \"FWD\", \"FWD\", \"FWD\", \"FWD\", \"FWD\", \"FWD\", \"FWD\", \"FWD\", \"FWD\", \"FWD\", \"FWD\", \"FWD\", \"FWD\", \"FWD\", \"FWD\", \"FWD\", \"FWD\", \"FWD\", \"FWD\", \"FWD\", \"FWD\", \"FWD\", \"FWD\", \"FWD\", \"FWD\", \"FWD\", \"FWD\", \"FWD\", \"FWD\", \"FWD\", \"FWD\", \"FWD\", \"FWD\", \"FWD\", \"FWD\", \"FWD\", \"FWD\", \"FWD\", \"FWD\", \"FWD\", \"FWD\", \"FWD\", \"FWD\", \"FWD\", \"FWD\", \"FWD\", \"FWD\", \"FWD\", \"FWD\", \"FWD\", \"FWD\", \"FWD\", \"FWD\", \"FWD\", \"FWD\", \"FWD\", \"FWD\", \"FWD\", \"FWD\", \"FWD\", \"FWD\", \"FWD\", \"FWD\", \"FWD\", \"FWD\", \"FWD\", \"FWD\", \"FWD\", \"FWD\", \"FWD\", \"FWD\", \"FWD\", \"FWD\", \"FWD\", \"FWD\", \"FWD\", \"FWD\", \"FWD\", \"FWD\", \"FWD\", \"FWD\", \"FWD\", \"FWD\", \"FWD\", \"FWD\", \"FWD\", \"FWD\", \"FWD\", \"FWD\", \"FWD\", \"FWD\", \"FWD\", \"FWD\", \"FWD\", \"FWD\", \"FWD\", \"FWD\", \"FWD\", \"FWD\", \"FWD\", \"FWD\", \"FWD\", \"FWD\", \"FWD\", \"FWD\", \"FWD\", \"FWD\", \"FWD\", \"FWD\", \"FWD\", \"FWD\", \"FWD\", \"FWD\", \"FWD\", \"FWD\", \"FWD\", \"FWD\", \"FWD\", \"FWD\", \"FWD\", \"FWD\", \"FWD\", \"FWD\", \"FWD\", \"FWD\", \"FWD\", \"FWD\", \"FWD\", \"FWD\", \"FWD\", \"FWD\", \"FWD\", \"FWD\", \"FWD\", \"FWD\", \"FWD\", \"FWD\", \"FWD\", \"FWD\", \"FWD\", \"FWD\", \"FWD\", \"FWD\", \"FWD\", \"FWD\", \"FWD\", \"FWD\", \"FWD\", \"FWD\", \"FWD\", \"FWD\", \"FWD\", \"FWD\", \"FWD\", \"FWD\", \"FWD\", \"FWD\", \"FWD\", \"FWD\", \"FWD\", \"FWD\", \"FWD\", \"FWD\", \"FWD\", \"FWD\", \"FWD\", \"FWD\", \"FWD\", \"FWD\", \"FWD\", \"FWD\", \"FWD\", \"FWD\", \"FWD\", \"FWD\", \"FWD\", \"FWD\", \"FWD\", \"FWD\", \"FWD\", \"FWD\", \"FWD\", \"FWD\", \"FWD\", \"FWD\", \"FWD\", \"FWD\", \"FWD\", \"FWD\", \"FWD\", \"FWD\", \"FWD\", \"FWD\", \"FWD\", \"FWD\", \"FWD\", \"FWD\", \"FWD\", \"FWD\", \"FWD\", \"FWD\", \"FWD\", \"FWD\", \"FWD\", \"FWD\", \"FWD\", \"FWD\", \"FWD\", \"FWD\", \"FWD\", \"FWD\", \"FWD\", \"FWD\", \"FWD\", \"FWD\", \"FWD\", \"FWD\", \"FWD\", \"FWD\", \"FWD\", \"FWD\", \"FWD\", \"FWD\", \"FWD\", \"FWD\", \"FWD\", \"FWD\", \"FWD\", \"FWD\", \"FWD\", \"FWD\", \"FWD\", \"FWD\", \"FWD\", \"FWD\", \"FWD\", \"FWD\", \"FWD\", \"FWD\", \"FWD\", \"FWD\", \"FWD\", \"FWD\", \"FWD\", \"FWD\", \"FWD\", \"FWD\", \"FWD\", \"FWD\", \"FWD\", \"FWD\", \"FWD\", \"FWD\", \"FWD\", \"FWD\", \"FWD\", \"FWD\", \"FWD\", \"FWD\", \"FWD\", \"FWD\", \"FWD\", \"FWD\", \"FWD\", \"FWD\", \"FWD\", \"FWD\", \"FWD\", \"FWD\", \"FWD\", \"FWD\", \"FWD\", \"FWD\", \"FWD\", \"FWD\", \"FWD\", \"FWD\", \"FWD\", \"FWD\", \"FWD\", \"FWD\", \"FWD\", \"FWD\", \"FWD\", \"FWD\", \"FWD\", \"FWD\", \"FWD\", \"FWD\", \"FWD\", \"FWD\", \"FWD\", \"FWD\", \"FWD\", \"FWD\", \"FWD\", \"FWD\", \"FWD\", \"FWD\", \"FWD\", \"FWD\", \"FWD\", \"FWD\", \"FWD\", \"FWD\", \"FWD\", \"FWD\", \"FWD\", \"FWD\", \"FWD\", \"FWD\", \"FWD\", \"FWD\", \"FWD\", \"FWD\", \"FWD\", \"FWD\", \"FWD\", \"FWD\", \"FWD\", \"FWD\", \"FWD\", \"FWD\", \"FWD\", \"FWD\", \"FWD\", \"FWD\", \"FWD\", \"FWD\", \"FWD\", \"FWD\", \"FWD\", \"FWD\", \"FWD\", \"FWD\", \"FWD\", \"FWD\", \"FWD\", \"FWD\", \"FWD\", \"FWD\", \"FWD\", \"FWD\", \"FWD\", \"FWD\", \"FWD\", \"FWD\", \"FWD\", \"FWD\", \"FWD\", \"FWD\", \"FWD\", \"FWD\", \"FWD\", \"FWD\", \"FWD\", \"FWD\", \"FWD\", \"FWD\", \"FWD\", \"FWD\", \"FWD\", \"FWD\", \"FWD\", \"FWD\", \"FWD\", \"FWD\", \"FWD\", \"FWD\", \"FWD\", \"FWD\", \"FWD\", \"FWD\", \"FWD\", \"FWD\", \"FWD\", \"FWD\", \"FWD\", \"FWD\", \"FWD\", \"FWD\", \"FWD\", \"FWD\", \"FWD\", \"FWD\", \"FWD\", \"FWD\", \"FWD\", \"FWD\", \"FWD\", \"FWD\", \"FWD\", \"FWD\", \"FWD\", \"FWD\", \"FWD\", \"FWD\", \"FWD\", \"FWD\", \"FWD\", \"FWD\", \"FWD\", \"FWD\", \"FWD\", \"FWD\", \"FWD\", \"FWD\", \"FWD\", \"FWD\", \"FWD\", \"FWD\", \"FWD\", \"FWD\", \"FWD\", \"FWD\", \"FWD\", \"FWD\", \"FWD\", \"FWD\", \"FWD\", \"FWD\", \"FWD\", \"FWD\", \"FWD\", \"FWD\", \"FWD\", \"FWD\", \"FWD\", \"FWD\", \"FWD\", \"FWD\", \"FWD\", \"FWD\", \"FWD\", \"FWD\", \"FWD\", \"FWD\", \"FWD\", \"FWD\", \"FWD\", \"FWD\", \"FWD\", \"FWD\", \"FWD\", \"FWD\", \"FWD\", \"FWD\", \"FWD\", \"FWD\", \"FWD\", \"FWD\", \"FWD\"], \"x0\": \" \", \"xaxis\": \"x\", \"y\": [52, 46, 53, 42, 78, 35, 49, 48, 58, 63, 34, 55, 45, 67, 61, 31, 36, 49, 68, 68, 55, 74, 44, 49, 45, 25, 63, 66, 64, 30, 45, 58, 43, 41, 40, 39, 41, 65, 68, 59, 59, 36, 52, 27, 65, 46, 52, 48, 51, 30, 56, 45, 43, 45, 77, 42, 56, 69, 55, 45, 63, 64, 55, 61, 78, 79, 39, 63, 31, 50, 38, 45, 36, 62, 30, 42, 52, 72, 47, 45, 51, 35, 67, 52, 30, 35, 64, 62, 43, 58, 67, 66, 66, 31, 56, 40, 38, 65, 44, 31, 37, 60, 39, 43, 49, 60, 50, 54, 82, 42, 56, 68, 66, 41, 48, 28, 52, 49, 74, 49, 32, 38, 49, 38, 68, 54, 59, 55, 64, 35, 65, 25, 25, 25, 51, 71, 68, 40, 48, 28, 34, 31, 78, 66, 46, 65, 33, 51, 29, 32, 28, 38, 34, 30, 65, 50, 69, 56, 38, 41, 65, 34, 77, 37, 50, 79, 54, 65, 44, 63, 52, 33, 36, 67, 55, 51, 45, 56, 66, 65, 61, 70, 62, 73, 68, 44, 51, 59, 53, 60, 62, 27, 65, 53, 59, 50, 64, 60, 55, 47, 63, 29, 62, 43, 56, 58, 56, 55, 59, 32, 55, 63, 50, 40, 31, 61, 51, 38, 58, 60, 62, 42, 62, 72, 59, 54, 65, 38, 28, 37, 52, 42, 43, 58, 45, 65, 39, 61, 57, 64, 54, 34, 54, 58, 39, 58, 58, 70, 43, 34, 31, 34, 63, 77, 35, 61, 37, 33, 49, 68, 60, 57, 61, 45, 60, 65, 52, 71, 38, 44, 54, 80, 53, 52, 66, 47, 56, 39, 41, 26, 55, 40, 58, 74, 33, 55, 30, 61, 48, 56, 56, 63, 41, 35, 46, 26, 28, 70, 32, 55, 80, 65, 59, 60, 66, 55, 52, 31, 38, 28, 69, 69, 72, 52, 55, 58, 59, 62, 38, 62, 63, 58, 56, 57, 51, 36, 70, 28, 62, 66, 64, 67, 67, 43, 64, 49, 53, 42, 33, 53, 50, 28, 50, 59, 66, 62, 78, 64, 44, 54, 46, 52, 30, 65, 58, 36, 28, 43, 42, 55, 44, 59, 54, 72, 35, 32, 32, 64, 39, 37, 52, 67, 44, 58, 57, 28, 60, 64, 31, 41, 56, 29, 58, 68, 45, 37, 50, 49, 48, 51, 64, 69, 42, 53, 37, 60, 35, 48, 48, 62, 44, 66, 51, 65, 27, 47, 62, 26, 49, 41, 54, 57, 33, 51, 68, 62, 67, 61, 72, 25, 61, 56, 64, 47, 53, 66, 58, 66, 60, 63, 43, 36, 61, 30, 59, 62, 50, 54, 26, 72, 66, 63, 52, 40, 42, 86, 32, 35, 47, 54, 45, 75, 63, 53, 31, 69, 72, 75, 54, 65, 48, 60, 63, 56, 71, 27, 54, 59, 32, 64, 58, 28, 59, 24, 68, 68, 55, 22, 32, 49, 33, 71, 39, 26, 49, 63, 56, 42, 63, 69, 30, 51, 64, 56, 53, 33, 36, 47, 54, 22, 48, 57, 47, 56, 48, 49, 42, 61, 54, 62, 36, 58, 43, 62, 47, 62, 52, 51, 60, 60, 64, 51, 23, 68, 58, 39, 35, 60, 63, 61, 65, 48, 48, 65, 57, 36, 45, 72, 59, 49, 31, 27, 34, 42, 67, 39, 61, 45, 70, 76, 39, 45, 52, 38, 51, 60, 58, 54, 34, 52, 70, 65, 32, 57, 51, 42, 39, 56, 51, 45, 47, 56, 68, 61, 40, 47, 42, 50, 64, 43, 61, 68, 66, 60, 60, 59, 68, 76, 76, 48, 59, 69, 66, 52, 56, 61, 69, 75, 61, 61, 67, 76, 48, 45, 25, 36, 42, 51, 63, 57, 66, 26, 75, 46, 39, 62, 49, 43, 56, 65, 40, 59, 31, 46, 53, 58, 63, 54, 57, 22, 60, 46, 28, 33, 51, 37, 40, 64, 39, 63, 48, 77, 29, 39, 39, 67, 39, 53, 46, 52, 68, 30, 47, 34, 44, 46, 39, 72, 32, 42, 54, 62, 49, 78, 52, 40, 55, 66, 29, 49, 57, 57, 65, 49, 34, 43, 56, 49, 28, 40, 40, 60, 33, 34, 75, 60, 65, 50, 34, 69, 30, 39, 39, 39, 63, 46, 55, 56, 41, 39, 64, 27, 60, 64, 68, 35, 38, 56, 56, 79, 60, 48, 43, 54, 47, 43, 74, 30, 55, 57, 31, 72, 60, 39, 31, 49, 68, 77, 51, 47, 59, 66, 43, 48, 28, 30, 60, 38, 60, 63, 55, 32, 52, 32, 71, 35, 36, 32, 30, 29, 50, 49, 62, 60, 51, 45, 42, 66, 46, 62, 39, 42, 58, 54, 66, 32, 62, 50, 55, 60, 54, 32, 54, 57, 34, 35, 39, 51, 45, 33, 31, 74, 72, 45, 41, 43, 44, 58, 42, 36, 44, 34, 45, 65, 58, 56, 29, 63, 31, 48, 55, 61, 41, 76, 24, 62, 35, 43, 45, 36, 54, 31, 65, 50, 82, 39, 51, 30, 34, 46, 32, 48, 31, 69, 58, 46, 42, 27, 42, 34, 34, 32, 29, 67, 31, 33, 69, 52, 58, 50, 58, 66, 54, 63, 40, 59, 31, 66, 52, 45, 58, 69, 30, 60, 52, 40, 48, 40, 28, 53, 68, 38, 59, 52, 32, 42, 50, 70, 50, 36, 52, 59, 72, 64, 57, 54, 27, 49, 51, 49, 52, 31, 51, 62, 53, 31, 29, 40, 43, 58, 64, 35, 39, 30, 64, 76, 34, 78, 56, 57, 69, 38, 37, 32, 58, 30, 45, 56, 65, 40, 50, 50, 26, 36, 33, 66, 62, 44, 63, 30, 36, 29, 45, 58, 62, 58, 53, 55, 84, 65, 54, 54, 50, 55, 87, 65, 39, 36, 30, 59, 58, 49, 42, 39, 57, 58, 44, 36, 43, 58, 70, 33, 40, 63, 26, 69, 36, 49, 70, 60, 33, 38, 63, 42, 26, 38, 74, 29, 74, 64, 60, 30, 70, 31, 41, 32, 40, 65, 68, 45, 66, 48, 52, 52, 28, 67, 39, 29, 42, 32, 43, 32, 48, 62, 50, 45, 62, 31, 36, 69, 64, 51, 70, 40, 50, 62, 39, 49, 31, 70, 28, 58, 33, 64, 51, 62, 62, 35, 49, 63, 45, 57, 68, 56, 45, 63, 57, 61, 56, 65, 49, 44, 60, 42, 43, 61, 23, 35, 70, 65, 32, 73, 57, 67, 57, 55, 59, 33, 52, 62, 41, 52, 66, 47, 54, 62, 59, 47, 73, 59, 58, 68, 60, 60, 54, 61, 59, 56, 64, 68, 44, 36, 63, 60, 58, 53, 26, 46, 51, 31, 73, 40, 49, 54, 53, 54, 30, 18, 41, 28, 36, 44, 41, 37, 59, 58, 56, 35, 66, 58, 38, 69, 32, 61, 29, 30, 67, 79, 62, 43, 39, 30, 58, 60, 59, 29, 70, 58, 49, 20, 42, 45, 43, 36, 62, 68, 56, 81, 67, 86, 51, 40, 66, 65, 45, 64, 45, 39, 43, 28, 57, 69, 65, 81, 71, 46, 40, 58, 34, 65, 54, 63, 37, 71, 61, 52, 51, 35, 28, 49, 53, 66, 62, 32, 31, 33, 41, 49, 38, 56, 54, 55, 74, 56, 62, 34, 62, 43, 63, 32, 51, 56, 31, 45, 41, 66, 48, 75, 72, 33, 67, 36, 28, 57, 40, 75, 42, 59, 28, 56, 27, 34, 32, 55, 34, 35, 43, 60, 31, 57, 52, 46, 45, 47, 58, 56, 57, 68, 32, 38, 68, 37, 33, 45, 30, 36, 61, 62, 51, 34, 62, 47, 55, 36, 35, 58, 56, 27, 42, 58, 27, 36, 42, 46, 45, 53, 52, 42, 44, 67, 32, 26, 60, 25, 67, 60, 45, 65, 33, 60, 67, 68, 42, 61, 29, 34, 48, 75, 36, 51, 41, 75, 30, 56, 57, 63, 50, 68, 46, 56, 51, 37, 60, 26, 62, 43, 75, 48, 58, 59, 68, 45, 61, 57, 79, 44, 65, 43, 46, 33, 47, 32, 47, 69, 51, 59, 32, 50, 57, 37, 66, 22, 62, 34, 32, 59, 37, 41, 25, 52, 58, 38, 52, 54, 36, 60, 29, 62, 55, 66, 58, 47, 69, 57, 48, 48, 69, 47, 60, 45, 52, 49, 62, 54, 32, 44, 60, 41, 20, 39, 36, 46, 49, 32, 60, 41, 37, 33, 48, 57, 64, 29, 54, 41, 58, 57, 55, 65, 34, 64, 40, 35, 35, 55, 38, 58, 48, 56, 66, 83, 45, 68, 32, 41, 59, 65, 56, 53, 34, 70, 54, 68, 58, 49, 33, 30, 30, 66, 34, 54, 49, 41, 72, 30, 32, 39, 26, 47, 27, 59, 48, 77, 36, 54, 55, 53, 57, 61, 32, 58, 55, 57, 53, 62, 38, 31, 48, 36, 30, 33, 61, 39, 46, 48, 52, 44, 53, 56, 25, 45, 71, 50, 49, 22, 58, 38, 30, 31, 41, 65, 54, 72, 43, 73, 35, 34, 37, 53, 46, 33, 56, 59, 53, 34, 61, 64, 28, 28, 28, 51, 39, 31, 63, 37, 41, 43, 27, 57, 50, 66, 54, 63, 62, 46, 45, 32, 75, 45, 62, 33, 46, 65, 58, 40, 58, 29, 63, 48, 34, 56, 68, 55, 62, 24, 45, 74, 51, 59, 51, 25, 63, 48, 38, 64, 30, 45, 31, 44, 34, 65, 31, 64, 56, 70, 37, 56, 54, 57, 48, 66, 52, 67, 32, 60, 57, 51, 41, 65, 78, 42, 49, 48, 74, 64, 41, 30, 63, 44, 32, 50, 67, 49, 55, 68, 47, 74, 46, 45, 60, 61, 72, 64, 40, 65, 50, 61, 40, 50, 34, 72, 36, 44, 31, 49, 61, 38, 66, 30, 33, 68, 31, 51, 62, 51, 83, 62, 57, 47, 36, 33, 31, 44, 37, 61, 49, 66, 34, 34, 31, 63, 39, 75, 67, 36, 62, 29, 47, 63, 46, 50, 50, 70, 27, 68, 60, 65, 42, 29, 62, 62, 80, 39, 64, 28, 59, 69, 58, 53, 39, 63, 60, 61, 48, 28, 75, 28, 29, 29, 38, 38, 61, 48, 65, 41, 70, 36, 68, 63, 70, 55, 59, 39, 38, 34, 32, 75, 47, 30, 33, 28, 35, 60, 41, 30, 29, 73, 44, 58, 28, 48, 40, 60, 38, 47, 62, 63, 40, 71, 31, 36, 86, 36, 37, 46, 32, 71, 28, 70, 53, 24, 30, 60, 70, 33, 44, 31, 53, 24, 37, 66, 36, 39, 36, 39, 43, 49, 56, 44, 70, 40, 53, 75, 50, 69, 37, 51, 40, 56, 57, 50, 51, 61, 64, 67, 65, 64, 69, 64, 53, 75, 55, 50, 52, 60, 62, 42, 27, 58, 44, 73, 75, 52, 50, 48, 62, 34, 67, 48, 53, 76, 62, 53, 56, 32, 42, 59, 35, 52, 59, 32, 71, 70, 34, 27, 66, 62, 32, 57, 55, 28, 31, 74, 58, 62, 53, 46, 45, 38, 53, 55, 29, 59, 37, 43, 60, 62, 56, 30, 71, 70, 36, 66, 54, 54, 31, 62, 61, 32, 61, 65, 65, 38, 64, 67, 34, 54, 65, 48, 69, 39, 52, 65, 30, 47, 69, 31, 35, 64, 41, 78, 31, 52, 68, 66, 44, 49, 40, 61, 50, 25, 42, 34, 35, 72, 42, 46, 34, 60, 54, 50, 41, 69, 66, 55, 39, 64, 58, 31, 30, 60, 70, 41, 61, 59, 58, 62, 60, 65, 58, 55, 67, 36, 66, 36, 52, 36, 25, 56, 43, 59, 70, 40, 68, 28, 61, 56, 50, 65, 68, 70, 63, 68, 74, 65, 50, 30, 53, 67, 62, 68, 62, 33, 28, 71, 61, 67, 36, 67, 72, 59, 72, 39, 62, 47, 62, 42, 52, 51, 59, 62, 46, 38, 33, 38, 68, 45, 30, 53, 55, 65, 50, 55, 46, 68, 47, 40, 62, 34, 60, 31, 28, 57, 44, 33, 51, 66, 39, 51, 38, 84, 44, 68, 62, 36, 58, 54, 48, 35, 55, 46, 27, 59, 58, 57, 64, 72, 31, 45, 38, 57, 59, 74, 36, 67, 33, 49, 22, 72, 57, 41, 37, 45, 40, 66, 37, 62, 67, 70, 40, 65, 70, 69, 69, 28, 63, 55, 35, 58, 27, 56, 43, 62, 44, 69, 46, 77, 39, 67, 52, 54, 61, 54, 48, 51, 55, 50, 65, 60, 57, 60, 47, 49, 55, 58, 25, 63, 35, 61, 61, 67, 27, 73, 36, 40, 43, 45, 35, 46, 50, 54, 70, 42, 30, 64, 53, 60, 52, 65, 45, 40, 78, 35, 51, 39, 81, 58, 61, 67, 42, 68, 30, 55, 61, 63, 61, 52, 55, 38, 45, 62, 48, 34, 29, 60, 62, 69, 44, 59, 64, 60, 75, 63, 46, 30, 28, 64, 46, 32, 59, 72, 62, 53, 40, 50, 44, 71, 28, 38, 63, 49, 48, 65, 42, 49, 46, 41, 35, 47, 63, 36, 32, 35, 62, 39, 47, 42, 31, 41, 35, 66, 59, 63, 22, 63, 56, 71, 47, 64, 57, 49, 32, 64, 57, 55, 72, 67, 48, 56, 62, 60, 66, 51, 42, 50, 55, 39, 31, 38, 50, 33, 71, 45, 35, 69, 66, 51, 57, 29, 33, 35, 63, 35, 40, 74, 37, 60, 65, 63, 53, 33, 45, 29, 53, 68, 34, 49, 57, 66, 34, 38, 61, 50, 64, 65, 58, 33, 39, 54, 52, 22, 62, 46, 52, 57, 40, 46, 25, 33, 47, 64, 40, 53, 66, 55, 30, 55, 40, 59, 36, 53, 66, 39, 62, 62, 83, 56, 75, 29, 66, 28, 55, 37, 58, 42, 59, 39, 41, 35, 43, 28, 63, 53, 27, 48, 47, 39, 42, 71, 62, 64, 36, 76, 33, 31, 54, 31, 66, 88, 82, 54, 63, 50, 61, 58, 49, 35, 45, 39, 70, 39, 66, 70, 49, 63, 69, 45, 60, 68, 65, 32, 34, 28, 29, 41, 59, 59, 40, 64, 29, 32, 38, 44, 35, 45, 60, 31, 56, 60, 51, 47, 58, 34, 38, 51, 61, 26, 39, 41, 75, 38, 59, 56, 44, 67, 79, 65, 34, 22, 65, 57, 56, 58, 47, 67, 66, 48, 42, 47, 53, 22, 31, 66, 32, 68, 39, 74, 58, 46, 42, 69, 70, 71, 63, 68, 64, 79, 53, 64, 40, 26, 32, 46, 49, 44, 49, 32, 68, 52, 37, 64, 59, 33, 35, 33, 32, 25, 41, 29, 59, 43, 62, 63, 69, 33, 61, 63, 30, 34, 65, 67, 67, 64, 66, 49, 27, 60, 29, 31, 25, 42, 59, 45, 42, 52, 57, 29, 32, 56, 64, 52, 75, 49, 47, 66, 58, 69, 36, 29, 64, 36, 36, 44, 63, 39, 32, 60, 73, 47, 63, 38, 39, 49, 66, 35, 61, 59, 53, 61, 30, 40, 69, 49, 29, 45, 50, 42, 39, 56, 49, 46, 58, 29, 46, 55, 71, 29, 45, 39, 33, 25, 57, 59, 59, 56, 52, 52, 58, 29, 66, 78, 77, 48, 62, 48, 53, 64, 39, 28, 23, 75, 55, 64, 23, 59, 62, 68, 67, 25, 54, 61, 76, 39, 60], \"y0\": \" \", \"yaxis\": \"y\"}, {\"alignmentgroup\": \"True\", \"box\": {\"visible\": true}, \"hoverlabel\": {\"namelength\": 0}, \"hovertemplate\": \"Position=%{x}<br>Crossing=%{y}\", \"legendgroup\": \"Position=GK\", \"marker\": {\"color\": \"#ab63fa\"}, \"name\": \"Position=GK\", \"offsetgroup\": \"Position=GK\", \"orientation\": \"v\", \"points\": \"all\", \"scalegroup\": \"True\", \"showlegend\": true, \"type\": \"violin\", \"x\": [\"GK\", \"GK\", \"GK\", \"GK\", \"GK\", \"GK\", \"GK\", \"GK\", \"GK\", \"GK\", \"GK\", \"GK\", \"GK\", \"GK\", \"GK\", \"GK\", \"GK\", \"GK\", \"GK\", \"GK\", \"GK\", \"GK\", \"GK\", \"GK\", \"GK\", \"GK\", \"GK\", \"GK\", \"GK\", \"GK\", \"GK\", \"GK\", \"GK\", \"GK\", \"GK\", \"GK\", \"GK\", \"GK\", \"GK\", \"GK\", \"GK\", \"GK\", \"GK\", \"GK\", \"GK\", \"GK\", \"GK\", \"GK\", \"GK\", \"GK\", \"GK\", \"GK\", \"GK\", \"GK\", \"GK\", \"GK\", \"GK\", \"GK\", \"GK\", \"GK\", \"GK\", \"GK\", \"GK\", \"GK\", \"GK\", \"GK\", \"GK\", \"GK\", \"GK\", \"GK\", \"GK\", \"GK\", \"GK\", \"GK\", \"GK\", \"GK\", \"GK\", \"GK\", \"GK\", \"GK\", \"GK\", \"GK\", \"GK\", \"GK\", \"GK\", \"GK\", \"GK\", \"GK\", \"GK\", \"GK\", \"GK\", \"GK\", \"GK\", \"GK\", \"GK\", \"GK\", \"GK\", \"GK\", \"GK\", \"GK\", \"GK\", \"GK\", \"GK\", \"GK\", \"GK\", \"GK\", \"GK\", \"GK\", \"GK\", \"GK\", \"GK\", \"GK\", \"GK\", \"GK\", \"GK\", \"GK\", \"GK\", \"GK\", \"GK\", \"GK\", \"GK\", \"GK\", \"GK\", \"GK\", \"GK\", \"GK\", \"GK\", \"GK\", \"GK\", \"GK\", \"GK\", \"GK\", \"GK\", \"GK\", \"GK\", \"GK\", \"GK\", \"GK\", \"GK\", \"GK\", \"GK\", \"GK\", \"GK\", \"GK\", \"GK\", \"GK\", \"GK\", \"GK\", \"GK\", \"GK\", \"GK\", \"GK\", \"GK\", \"GK\", \"GK\", \"GK\", \"GK\", \"GK\", \"GK\", \"GK\", \"GK\", \"GK\", \"GK\", \"GK\", \"GK\", \"GK\", \"GK\", \"GK\", \"GK\", \"GK\", \"GK\", \"GK\", \"GK\", \"GK\", \"GK\", \"GK\", \"GK\", \"GK\", \"GK\", \"GK\", \"GK\", \"GK\", \"GK\", \"GK\", \"GK\", \"GK\", \"GK\", \"GK\", \"GK\", \"GK\", \"GK\", \"GK\", \"GK\", \"GK\", \"GK\", \"GK\", \"GK\", \"GK\", \"GK\", \"GK\", \"GK\", \"GK\", \"GK\", \"GK\", \"GK\", \"GK\", \"GK\", \"GK\", \"GK\", \"GK\", \"GK\", \"GK\", \"GK\", \"GK\", \"GK\", \"GK\", \"GK\", \"GK\", \"GK\", \"GK\", \"GK\", \"GK\", \"GK\", \"GK\", \"GK\", \"GK\", \"GK\", \"GK\", \"GK\", \"GK\", \"GK\", \"GK\", \"GK\", \"GK\", \"GK\", \"GK\", \"GK\", \"GK\", \"GK\", \"GK\", \"GK\", \"GK\", \"GK\", \"GK\", \"GK\", \"GK\", \"GK\", \"GK\", \"GK\", \"GK\", \"GK\", \"GK\", \"GK\", \"GK\", \"GK\", \"GK\", \"GK\", \"GK\", \"GK\", \"GK\", \"GK\", \"GK\", \"GK\", \"GK\", \"GK\", \"GK\", \"GK\", \"GK\", \"GK\", \"GK\", \"GK\", \"GK\", \"GK\", \"GK\", \"GK\", \"GK\", \"GK\", \"GK\", \"GK\", \"GK\", \"GK\", \"GK\", \"GK\", \"GK\", \"GK\", \"GK\", \"GK\", \"GK\", \"GK\", \"GK\", \"GK\", \"GK\", \"GK\", \"GK\", \"GK\", \"GK\", \"GK\", \"GK\", \"GK\", \"GK\", \"GK\", \"GK\", \"GK\", \"GK\", \"GK\", \"GK\", \"GK\", \"GK\", \"GK\", \"GK\", \"GK\", \"GK\", \"GK\", \"GK\", \"GK\", \"GK\", \"GK\", \"GK\", \"GK\", \"GK\", \"GK\", \"GK\", \"GK\", \"GK\", \"GK\", \"GK\", \"GK\", \"GK\", \"GK\", \"GK\", \"GK\", \"GK\", \"GK\", \"GK\", \"GK\", \"GK\", \"GK\", \"GK\", \"GK\", \"GK\", \"GK\", \"GK\", \"GK\", \"GK\", \"GK\", \"GK\", \"GK\", \"GK\", \"GK\", \"GK\", \"GK\", \"GK\", \"GK\", \"GK\", \"GK\", \"GK\", \"GK\", \"GK\", \"GK\", \"GK\", \"GK\", \"GK\", \"GK\", \"GK\", \"GK\", \"GK\", \"GK\", \"GK\", \"GK\", \"GK\", \"GK\", \"GK\", \"GK\", \"GK\", \"GK\", \"GK\", \"GK\", \"GK\", \"GK\", \"GK\", \"GK\", \"GK\", \"GK\", \"GK\", \"GK\", \"GK\", \"GK\", \"GK\", \"GK\", \"GK\", \"GK\", \"GK\", \"GK\", \"GK\", \"GK\", \"GK\", \"GK\", \"GK\", \"GK\", \"GK\", \"GK\", \"GK\", \"GK\", \"GK\", \"GK\", \"GK\", \"GK\", \"GK\", \"GK\", \"GK\", \"GK\", \"GK\", \"GK\", \"GK\", \"GK\", \"GK\", \"GK\", \"GK\", \"GK\", \"GK\", \"GK\", \"GK\", \"GK\", \"GK\", \"GK\", \"GK\", \"GK\", \"GK\", \"GK\", \"GK\", \"GK\", \"GK\", \"GK\", \"GK\", \"GK\", \"GK\", \"GK\", \"GK\", \"GK\", \"GK\", \"GK\", \"GK\", \"GK\", \"GK\", \"GK\", \"GK\", \"GK\", \"GK\", \"GK\", \"GK\", \"GK\", \"GK\", \"GK\", \"GK\", \"GK\", \"GK\", \"GK\", \"GK\", \"GK\", \"GK\", \"GK\", \"GK\", \"GK\", \"GK\", \"GK\", \"GK\", \"GK\", \"GK\", \"GK\", \"GK\", \"GK\", \"GK\", \"GK\", \"GK\", \"GK\", \"GK\", \"GK\", \"GK\", \"GK\", \"GK\", \"GK\", \"GK\", \"GK\", \"GK\", \"GK\", \"GK\", \"GK\", \"GK\", \"GK\", \"GK\", \"GK\", \"GK\", \"GK\", \"GK\", \"GK\", \"GK\", \"GK\", \"GK\", \"GK\", \"GK\", \"GK\", \"GK\", \"GK\", \"GK\", \"GK\", \"GK\", \"GK\", \"GK\", \"GK\", \"GK\", \"GK\", \"GK\", \"GK\", \"GK\", \"GK\", \"GK\", \"GK\", \"GK\", \"GK\", \"GK\", \"GK\", \"GK\", \"GK\", \"GK\", \"GK\", \"GK\", \"GK\", \"GK\", \"GK\", \"GK\", \"GK\", \"GK\", \"GK\", \"GK\", \"GK\", \"GK\", \"GK\", \"GK\", \"GK\", \"GK\", \"GK\", \"GK\", \"GK\", \"GK\", \"GK\", \"GK\", \"GK\", \"GK\", \"GK\", \"GK\", \"GK\", \"GK\", \"GK\", \"GK\", \"GK\", \"GK\", \"GK\", \"GK\", \"GK\", \"GK\", \"GK\", \"GK\", \"GK\", \"GK\", \"GK\", \"GK\", \"GK\", \"GK\", \"GK\", \"GK\", \"GK\", \"GK\", \"GK\", \"GK\", \"GK\", \"GK\", \"GK\", \"GK\", \"GK\", \"GK\", \"GK\", \"GK\", \"GK\", \"GK\", \"GK\", \"GK\", \"GK\", \"GK\", \"GK\", \"GK\", \"GK\", \"GK\", \"GK\", \"GK\", \"GK\", \"GK\", \"GK\", \"GK\", \"GK\", \"GK\", \"GK\", \"GK\", \"GK\", \"GK\", \"GK\", \"GK\", \"GK\", \"GK\", \"GK\", \"GK\", \"GK\", \"GK\", \"GK\", \"GK\", \"GK\", \"GK\", \"GK\", \"GK\", \"GK\", \"GK\", \"GK\", \"GK\", \"GK\", \"GK\", \"GK\", \"GK\", \"GK\", \"GK\", \"GK\", \"GK\", \"GK\", \"GK\", \"GK\", \"GK\", \"GK\", \"GK\", \"GK\", \"GK\", \"GK\", \"GK\", \"GK\", \"GK\", \"GK\", \"GK\", \"GK\", \"GK\", \"GK\", \"GK\", \"GK\", \"GK\", \"GK\", \"GK\", \"GK\", \"GK\", \"GK\", \"GK\", \"GK\", \"GK\", \"GK\", \"GK\", \"GK\", \"GK\", \"GK\", \"GK\", \"GK\", \"GK\", \"GK\", \"GK\", \"GK\", \"GK\", \"GK\", \"GK\", \"GK\", \"GK\", \"GK\", \"GK\", \"GK\", \"GK\", \"GK\", \"GK\", \"GK\", \"GK\", \"GK\", \"GK\", \"GK\", \"GK\", \"GK\", \"GK\", \"GK\", \"GK\", \"GK\", \"GK\", \"GK\", \"GK\", \"GK\", \"GK\", \"GK\", \"GK\", \"GK\", \"GK\", \"GK\", \"GK\", \"GK\", \"GK\", \"GK\", \"GK\", \"GK\", \"GK\", \"GK\", \"GK\", \"GK\", \"GK\", \"GK\", \"GK\", \"GK\", \"GK\", \"GK\", \"GK\", \"GK\", \"GK\", \"GK\", \"GK\", \"GK\", \"GK\", \"GK\", \"GK\", \"GK\", \"GK\", \"GK\", \"GK\", \"GK\", \"GK\", \"GK\", \"GK\", \"GK\", \"GK\", \"GK\", \"GK\", \"GK\", \"GK\", \"GK\", \"GK\", \"GK\", \"GK\", \"GK\", \"GK\", \"GK\", \"GK\", \"GK\", \"GK\", \"GK\", \"GK\", \"GK\", \"GK\", \"GK\", \"GK\", \"GK\", \"GK\", \"GK\", \"GK\", \"GK\", \"GK\", \"GK\", \"GK\", \"GK\", \"GK\", \"GK\", \"GK\", \"GK\", \"GK\", \"GK\", \"GK\", \"GK\", \"GK\", \"GK\", \"GK\", \"GK\", \"GK\", \"GK\", \"GK\", \"GK\", \"GK\", \"GK\", \"GK\", \"GK\", \"GK\", \"GK\", \"GK\", \"GK\", \"GK\", \"GK\", \"GK\", \"GK\", \"GK\", \"GK\", \"GK\", \"GK\", \"GK\", \"GK\", \"GK\", \"GK\", \"GK\", \"GK\", \"GK\", \"GK\", \"GK\", \"GK\", \"GK\", \"GK\", \"GK\", \"GK\", \"GK\", \"GK\", \"GK\", \"GK\", \"GK\", \"GK\", \"GK\", \"GK\", \"GK\", \"GK\", \"GK\", \"GK\", \"GK\", \"GK\", \"GK\", \"GK\", \"GK\", \"GK\", \"GK\", \"GK\", \"GK\", \"GK\", \"GK\", \"GK\", \"GK\", \"GK\", \"GK\", \"GK\", \"GK\", \"GK\", \"GK\", \"GK\", \"GK\", \"GK\", \"GK\", \"GK\", \"GK\", \"GK\", \"GK\", \"GK\", \"GK\", \"GK\", \"GK\", \"GK\", \"GK\", \"GK\", \"GK\", \"GK\", \"GK\", \"GK\", \"GK\", \"GK\", \"GK\", \"GK\", \"GK\", \"GK\", \"GK\", \"GK\", \"GK\", \"GK\", \"GK\", \"GK\", \"GK\", \"GK\", \"GK\", \"GK\", \"GK\", \"GK\", \"GK\", \"GK\", \"GK\", \"GK\", \"GK\", \"GK\", \"GK\", \"GK\", \"GK\", \"GK\", \"GK\", \"GK\", \"GK\", \"GK\", \"GK\", \"GK\", \"GK\", \"GK\", \"GK\", \"GK\", \"GK\", \"GK\", \"GK\", \"GK\", \"GK\", \"GK\", \"GK\", \"GK\", \"GK\", \"GK\", \"GK\", \"GK\", \"GK\", \"GK\", \"GK\", \"GK\", \"GK\", \"GK\", \"GK\", \"GK\", \"GK\", \"GK\", \"GK\", \"GK\", \"GK\", \"GK\", \"GK\", \"GK\", \"GK\", \"GK\", \"GK\", \"GK\", \"GK\", \"GK\", \"GK\", \"GK\", \"GK\", \"GK\", \"GK\", \"GK\", \"GK\", \"GK\", \"GK\", \"GK\", \"GK\", \"GK\", \"GK\", \"GK\", \"GK\", \"GK\", \"GK\", \"GK\", \"GK\", \"GK\", \"GK\", \"GK\", \"GK\", \"GK\", \"GK\", \"GK\", \"GK\", \"GK\", \"GK\", \"GK\", \"GK\", \"GK\", \"GK\", \"GK\", \"GK\", \"GK\", \"GK\", \"GK\", \"GK\", \"GK\", \"GK\", \"GK\", \"GK\", \"GK\", \"GK\", \"GK\", \"GK\", \"GK\", \"GK\", \"GK\", \"GK\", \"GK\", \"GK\", \"GK\", \"GK\", \"GK\", \"GK\", \"GK\", \"GK\", \"GK\", \"GK\", \"GK\", \"GK\", \"GK\", \"GK\", \"GK\", \"GK\", \"GK\", \"GK\", \"GK\", \"GK\", \"GK\", \"GK\", \"GK\", \"GK\", \"GK\", \"GK\", \"GK\", \"GK\", \"GK\", \"GK\", \"GK\", \"GK\", \"GK\", \"GK\", \"GK\", \"GK\", \"GK\", \"GK\", \"GK\", \"GK\", \"GK\", \"GK\", \"GK\", \"GK\", \"GK\", \"GK\", \"GK\", \"GK\", \"GK\", \"GK\", \"GK\", \"GK\", \"GK\", \"GK\", \"GK\", \"GK\", \"GK\", \"GK\", \"GK\", \"GK\", \"GK\", \"GK\", \"GK\", \"GK\", \"GK\", \"GK\", \"GK\", \"GK\", \"GK\", \"GK\", \"GK\", \"GK\", \"GK\", \"GK\", \"GK\", \"GK\", \"GK\", \"GK\", \"GK\", \"GK\", \"GK\", \"GK\", \"GK\", \"GK\", \"GK\", \"GK\", \"GK\", \"GK\", \"GK\", \"GK\", \"GK\", \"GK\", \"GK\", \"GK\", \"GK\", \"GK\", \"GK\", \"GK\", \"GK\", \"GK\", \"GK\", \"GK\", \"GK\", \"GK\", \"GK\", \"GK\", \"GK\", \"GK\", \"GK\", \"GK\", \"GK\", \"GK\", \"GK\", \"GK\", \"GK\", \"GK\", \"GK\", \"GK\", \"GK\", \"GK\", \"GK\", \"GK\", \"GK\", \"GK\", \"GK\", \"GK\", \"GK\", \"GK\", \"GK\", \"GK\", \"GK\", \"GK\", \"GK\", \"GK\", \"GK\", \"GK\", \"GK\", \"GK\", \"GK\", \"GK\", \"GK\", \"GK\", \"GK\", \"GK\", \"GK\", \"GK\", \"GK\", \"GK\", \"GK\", \"GK\", \"GK\", \"GK\", \"GK\", \"GK\", \"GK\", \"GK\", \"GK\", \"GK\", \"GK\", \"GK\", \"GK\", \"GK\", \"GK\", \"GK\", \"GK\", \"GK\", \"GK\", \"GK\", \"GK\", \"GK\", \"GK\", \"GK\", \"GK\", \"GK\", \"GK\", \"GK\", \"GK\", \"GK\", \"GK\", \"GK\", \"GK\", \"GK\", \"GK\", \"GK\", \"GK\", \"GK\", \"GK\", \"GK\", \"GK\", \"GK\", \"GK\", \"GK\", \"GK\", \"GK\", \"GK\", \"GK\", \"GK\", \"GK\", \"GK\", \"GK\", \"GK\", \"GK\", \"GK\", \"GK\", \"GK\", \"GK\", \"GK\", \"GK\", \"GK\", \"GK\", \"GK\", \"GK\", \"GK\", \"GK\", \"GK\", \"GK\", \"GK\", \"GK\", \"GK\", \"GK\", \"GK\", \"GK\", \"GK\", \"GK\", \"GK\", \"GK\", \"GK\", \"GK\", \"GK\", \"GK\", \"GK\", \"GK\", \"GK\", \"GK\", \"GK\", \"GK\", \"GK\", \"GK\", \"GK\", \"GK\", \"GK\", \"GK\", \"GK\", \"GK\", \"GK\", \"GK\", \"GK\", \"GK\", \"GK\", \"GK\", \"GK\", \"GK\", \"GK\", \"GK\", \"GK\", \"GK\", \"GK\", \"GK\", \"GK\", \"GK\", \"GK\", \"GK\", \"GK\", \"GK\", \"GK\", \"GK\", \"GK\", \"GK\", \"GK\", \"GK\", \"GK\", \"GK\", \"GK\", \"GK\", \"GK\", \"GK\", \"GK\", \"GK\", \"GK\", \"GK\", \"GK\", \"GK\", \"GK\", \"GK\", \"GK\", \"GK\", \"GK\", \"GK\", \"GK\", \"GK\", \"GK\", \"GK\", \"GK\", \"GK\", \"GK\", \"GK\", \"GK\", \"GK\", \"GK\", \"GK\", \"GK\", \"GK\", \"GK\", \"GK\", \"GK\", \"GK\", \"GK\", \"GK\", \"GK\", \"GK\", \"GK\", \"GK\", \"GK\", \"GK\", \"GK\", \"GK\", \"GK\", \"GK\", \"GK\", \"GK\", \"GK\", \"GK\", \"GK\", \"GK\", \"GK\", \"GK\", \"GK\", \"GK\", \"GK\", \"GK\", \"GK\", \"GK\", \"GK\", \"GK\", \"GK\", \"GK\", \"GK\", \"GK\", \"GK\", \"GK\", \"GK\", \"GK\", \"GK\", \"GK\", \"GK\", \"GK\", \"GK\", \"GK\", \"GK\", \"GK\", \"GK\", \"GK\", \"GK\", \"GK\", \"GK\", \"GK\", \"GK\", \"GK\", \"GK\", \"GK\", \"GK\", \"GK\", \"GK\", \"GK\", \"GK\", \"GK\", \"GK\", \"GK\", \"GK\", \"GK\", \"GK\", \"GK\", \"GK\", \"GK\", \"GK\", \"GK\", \"GK\", \"GK\", \"GK\", \"GK\", \"GK\", \"GK\", \"GK\", \"GK\", \"GK\", \"GK\", \"GK\", \"GK\", \"GK\", \"GK\", \"GK\", \"GK\", \"GK\", \"GK\", \"GK\", \"GK\", \"GK\", \"GK\", \"GK\"], \"x0\": \" \", \"xaxis\": \"x\", \"y\": [13, 11, 14, 11, 18, 21, 10, 14, 13, 15, 20, 11, 12, 12, 20, 11, 13, 11, 20, 17, 9, 10, 11, 10, 15, 16, 14, 10, 14, 20, 9, 12, 13, 12, 12, 14, 10, 19, 15, 13, 11, 18, 21, 12, 13, 15, 15, 10, 12, 15, 12, 23, 13, 19, 15, 18, 18, 13, 11, 16, 13, 11, 14, 14, 11, 20, 14, 11, 13, 19, 14, 13, 10, 15, 12, 16, 11, 14, 13, 20, 13, 11, 12, 17, 18, 17, 18, 25, 14, 9, 13, 19, 20, 12, 14, 18, 12, 19, 12, 11, 11, 19, 19, 15, 18, 15, 15, 16, 14, 11, 12, 18, 12, 12, 8, 18, 25, 15, 15, 11, 19, 17, 14, 8, 14, 11, 17, 8, 14, 13, 12, 9, 15, 18, 16, 13, 10, 19, 19, 12, 10, 13, 10, 19, 15, 21, 17, 10, 12, 14, 13, 18, 13, 13, 19, 12, 8, 11, 15, 33, 13, 16, 11, 9, 17, 11, 10, 12, 12, 13, 12, 13, 15, 14, 21, 20, 14, 14, 12, 18, 11, 10, 18, 13, 11, 9, 11, 9, 14, 12, 19, 12, 10, 10, 19, 15, 16, 11, 16, 12, 17, 18, 12, 13, 16, 20, 12, 11, 14, 18, 14, 14, 21, 12, 10, 16, 17, 18, 11, 25, 16, 15, 14, 11, 12, 12, 15, 10, 10, 10, 14, 14, 20, 13, 15, 10, 13, 10, 11, 20, 12, 8, 19, 11, 13, 15, 15, 12, 10, 12, 14, 15, 9, 13, 17, 16, 15, 21, 19, 19, 13, 13, 11, 11, 18, 17, 10, 11, 14, 18, 10, 18, 19, 11, 12, 16, 11, 16, 12, 11, 14, 14, 14, 11, 19, 19, 20, 23, 15, 14, 13, 17, 15, 13, 11, 14, 14, 14, 14, 14, 14, 14, 10, 10, 14, 15, 23, 13, 12, 14, 10, 13, 20, 12, 19, 30, 20, 14, 13, 10, 13, 13, 12, 11, 15, 12, 20, 18, 17, 11, 11, 22, 13, 11, 15, 15, 20, 14, 19, 15, 17, 12, 19, 17, 15, 13, 11, 12, 11, 13, 12, 11, 14, 17, 12, 13, 14, 16, 15, 18, 13, 15, 13, 16, 14, 13, 14, 10, 13, 14, 11, 13, 12, 15, 9, 17, 13, 12, 14, 21, 10, 15, 12, 12, 15, 22, 13, 10, 13, 11, 11, 21, 24, 11, 12, 14, 10, 12, 17, 16, 22, 11, 20, 14, 11, 11, 19, 15, 13, 11, 13, 11, 10, 21, 21, 11, 18, 17, 14, 14, 30, 21, 12, 19, 22, 14, 13, 11, 12, 15, 15, 13, 14, 15, 16, 11, 12, 10, 17, 18, 12, 16, 21, 15, 10, 14, 17, 13, 12, 18, 11, 10, 11, 13, 13, 10, 15, 11, 5, 11, 15, 13, 11, 16, 20, 13, 11, 14, 11, 17, 15, 12, 14, 14, 14, 11, 12, 14, 12, 11, 13, 13, 13, 12, 24, 11, 11, 12, 15, 12, 11, 9, 13, 14, 18, 15, 13, 16, 17, 11, 23, 16, 12, 10, 20, 12, 11, 10, 20, 13, 20, 8, 15, 14, 14, 15, 18, 12, 23, 16, 14, 14, 21, 11, 12, 14, 12, 19, 15, 13, 13, 16, 12, 13, 18, 15, 11, 15, 13, 12, 28, 19, 18, 14, 16, 14, 14, 18, 15, 11, 8, 20, 11, 8, 14, 16, 21, 15, 14, 13, 11, 13, 18, 12, 12, 20, 10, 10, 18, 10, 10, 15, 13, 15, 35, 12, 14, 12, 11, 11, 16, 13, 11, 14, 12, 10, 12, 10, 15, 12, 21, 14, 18, 14, 20, 14, 15, 16, 12, 27, 12, 15, 15, 13, 10, 8, 20, 13, 23, 12, 12, 12, 10, 12, 10, 12, 10, 11, 14, 18, 10, 14, 11, 13, 15, 13, 10, 13, 13, 13, 19, 18, 14, 7, 18, 19, 10, 12, 15, 12, 11, 10, 18, 18, 20, 17, 11, 14, 28, 14, 15, 14, 22, 20, 13, 16, 13, 13, 14, 10, 11, 11, 11, 11, 35, 14, 11, 12, 11, 13, 12, 12, 13, 12, 12, 12, 12, 10, 13, 16, 12, 17, 17, 13, 16, 18, 17, 11, 6, 19, 22, 20, 18, 12, 10, 15, 12, 14, 20, 11, 15, 23, 11, 15, 21, 11, 16, 20, 14, 12, 14, 11, 20, 11, 23, 14, 18, 12, 14, 19, 20, 12, 13, 14, 11, 12, 24, 14, 14, 13, 10, 10, 30, 10, 11, 9, 13, 13, 13, 12, 18, 14, 15, 12, 14, 8, 12, 16, 25, 13, 10, 14, 11, 10, 12, 15, 12, 13, 14, 22, 22, 11, 19, 13, 15, 11, 13, 15, 22, 12, 16, 10, 15, 11, 15, 12, 10, 12, 15, 13, 11, 12, 12, 11, 8, 14, 12, 12, 17, 10, 16, 19, 13, 10, 15, 25, 20, 10, 12, 11, 14, 18, 17, 13, 12, 13, 17, 13, 11, 14, 14, 7, 12, 14, 13, 16, 13, 9, 13, 17, 11, 12, 13, 14, 14, 14, 17, 13, 24, 14, 11, 18, 13, 11, 19, 20, 14, 14, 17, 9, 15, 15, 12, 10, 19, 9, 13, 15, 6, 11, 9, 20, 11, 15, 14, 18, 12, 6, 11, 11, 13, 13, 14, 19, 13, 9, 13, 19, 14, 18, 20, 18, 12, 12, 15, 18, 13, 15, 14, 12, 14, 19, 16, 19, 16, 9, 10, 17, 18, 16, 13, 19, 13, 11, 18, 14, 10, 20, 9, 12, 18, 9, 13, 14, 12, 11, 13, 13, 10, 22, 16, 15, 14, 11, 15, 18, 14, 13, 12, 13, 12, 12, 15, 9, 12, 14, 15, 12, 10, 12, 11, 13, 12, 10, 10, 13, 24, 17, 17, 12, 12, 17, 14, 19, 13, 8, 11, 13, 19, 15, 9, 18, 12, 16, 11, 21, 24, 17, 14, 15, 14, 10, 15, 14, 12, 11, 10, 12, 12, 14, 15, 18, 9, 11, 9, 13, 11, 9, 30, 17, 20, 11, 11, 11, 17, 9, 10, 19, 15, 18, 19, 19, 10, 15, 14, 17, 20, 15, 10, 14, 13, 13, 16, 11, 10, 22, 14, 11, 11, 14, 19, 19, 20, 10, 18, 11, 11, 20, 19, 10, 14, 19, 9, 22, 11, 14, 14, 17, 14, 11, 12, 14, 14, 15, 16, 15, 18, 13, 12, 14, 14, 16, 11, 10, 18, 11, 13, 15, 14, 10, 14, 14, 20, 10, 13, 11, 32, 13, 15, 24, 17, 19, 11, 18, 18, 14, 11, 21, 13, 15, 18, 11, 12, 20, 11, 13, 8, 17, 16, 12, 20, 16, 16, 13, 12, 19, 29, 11, 17, 18, 10, 12, 9, 10, 17, 14, 14, 20, 18, 15, 10, 13, 14, 17, 9, 14, 13, 13, 10, 26, 14, 13, 14, 11, 15, 14, 19, 12, 14, 17, 13, 9, 14, 24, 16, 15, 10, 18, 11, 12, 12, 9, 20, 18, 14, 14, 14, 14, 21, 12, 17, 13, 12, 15, 33, 15, 16, 11, 12, 13, 12, 11, 13, 12, 16, 13, 22, 11, 16, 12, 14, 20, 12, 12, 12, 17, 13, 13, 15, 15, 17, 18, 12, 18, 13, 12, 14, 12, 13, 15, 14, 12, 14, 17, 11, 11, 14, 12, 13, 18, 13, 13, 18, 13, 23, 10, 14, 17, 11, 13, 17, 14, 12, 20, 10, 13, 14, 11, 27, 12, 11, 15, 8, 11, 21, 16, 12, 13, 13, 14, 13, 15, 15, 14, 11, 8, 17, 12, 12, 12, 13, 10, 14, 13, 13, 14, 14, 13, 10, 19, 16, 13, 15, 9, 14, 12, 16, 10, 13, 12, 10, 21, 14, 10, 19, 11, 18, 18, 11, 13, 15, 20, 10, 23, 12, 12, 18, 14, 12, 16, 10, 10, 10, 21, 15, 20, 14, 15, 11, 14, 15, 14, 12, 11, 14, 13, 14, 8, 14, 31, 13, 8, 19, 14, 10, 15, 11, 17, 15, 12, 12, 17, 8, 13, 13, 10, 15, 14, 14, 11, 12, 11, 11, 14, 12, 17, 19, 17, 33, 14, 10, 23, 13, 17, 16, 13, 20, 13, 12, 11, 17, 15, 13, 18, 21, 12, 11, 17, 16, 12, 14, 13, 25, 11, 18, 11, 10, 12, 10, 14, 11, 7, 9, 13, 18, 11, 13, 9, 11, 11, 13, 17, 13, 17, 12, 11, 18, 13, 16, 13, 21, 12, 12, 11, 11, 16, 7, 15, 10, 10, 14, 15, 14], \"y0\": \" \", \"yaxis\": \"y\"}],\n",
              "                        {\"legend\": {\"tracegroupgap\": 0}, \"margin\": {\"t\": 60}, \"template\": {\"data\": {\"bar\": [{\"error_x\": {\"color\": \"#2a3f5f\"}, \"error_y\": {\"color\": \"#2a3f5f\"}, \"marker\": {\"line\": {\"color\": \"#E5ECF6\", \"width\": 0.5}}, \"type\": \"bar\"}], \"barpolar\": [{\"marker\": {\"line\": {\"color\": \"#E5ECF6\", \"width\": 0.5}}, \"type\": \"barpolar\"}], \"carpet\": [{\"aaxis\": {\"endlinecolor\": \"#2a3f5f\", \"gridcolor\": \"white\", \"linecolor\": \"white\", \"minorgridcolor\": \"white\", \"startlinecolor\": \"#2a3f5f\"}, \"baxis\": {\"endlinecolor\": \"#2a3f5f\", \"gridcolor\": \"white\", \"linecolor\": \"white\", \"minorgridcolor\": \"white\", \"startlinecolor\": \"#2a3f5f\"}, \"type\": \"carpet\"}], \"choropleth\": [{\"colorbar\": {\"outlinewidth\": 0, \"ticks\": \"\"}, \"type\": \"choropleth\"}], \"contour\": [{\"colorbar\": {\"outlinewidth\": 0, \"ticks\": \"\"}, \"colorscale\": [[0.0, \"#0d0887\"], [0.1111111111111111, \"#46039f\"], [0.2222222222222222, \"#7201a8\"], [0.3333333333333333, \"#9c179e\"], [0.4444444444444444, \"#bd3786\"], [0.5555555555555556, \"#d8576b\"], [0.6666666666666666, \"#ed7953\"], [0.7777777777777778, \"#fb9f3a\"], [0.8888888888888888, \"#fdca26\"], [1.0, \"#f0f921\"]], \"type\": \"contour\"}], \"contourcarpet\": [{\"colorbar\": {\"outlinewidth\": 0, \"ticks\": \"\"}, \"type\": \"contourcarpet\"}], \"heatmap\": [{\"colorbar\": {\"outlinewidth\": 0, \"ticks\": \"\"}, \"colorscale\": [[0.0, \"#0d0887\"], [0.1111111111111111, \"#46039f\"], [0.2222222222222222, \"#7201a8\"], [0.3333333333333333, \"#9c179e\"], [0.4444444444444444, \"#bd3786\"], [0.5555555555555556, \"#d8576b\"], [0.6666666666666666, \"#ed7953\"], [0.7777777777777778, \"#fb9f3a\"], [0.8888888888888888, \"#fdca26\"], [1.0, \"#f0f921\"]], \"type\": \"heatmap\"}], \"heatmapgl\": [{\"colorbar\": {\"outlinewidth\": 0, \"ticks\": \"\"}, \"colorscale\": [[0.0, \"#0d0887\"], [0.1111111111111111, \"#46039f\"], [0.2222222222222222, \"#7201a8\"], [0.3333333333333333, \"#9c179e\"], [0.4444444444444444, \"#bd3786\"], [0.5555555555555556, \"#d8576b\"], [0.6666666666666666, \"#ed7953\"], [0.7777777777777778, \"#fb9f3a\"], [0.8888888888888888, \"#fdca26\"], [1.0, \"#f0f921\"]], \"type\": \"heatmapgl\"}], \"histogram\": [{\"marker\": {\"colorbar\": {\"outlinewidth\": 0, \"ticks\": \"\"}}, \"type\": \"histogram\"}], \"histogram2d\": [{\"colorbar\": {\"outlinewidth\": 0, \"ticks\": \"\"}, \"colorscale\": [[0.0, \"#0d0887\"], [0.1111111111111111, \"#46039f\"], [0.2222222222222222, \"#7201a8\"], [0.3333333333333333, \"#9c179e\"], [0.4444444444444444, \"#bd3786\"], [0.5555555555555556, \"#d8576b\"], [0.6666666666666666, \"#ed7953\"], [0.7777777777777778, \"#fb9f3a\"], [0.8888888888888888, \"#fdca26\"], [1.0, \"#f0f921\"]], \"type\": \"histogram2d\"}], \"histogram2dcontour\": [{\"colorbar\": {\"outlinewidth\": 0, \"ticks\": \"\"}, \"colorscale\": [[0.0, \"#0d0887\"], [0.1111111111111111, \"#46039f\"], [0.2222222222222222, \"#7201a8\"], [0.3333333333333333, \"#9c179e\"], [0.4444444444444444, \"#bd3786\"], [0.5555555555555556, \"#d8576b\"], [0.6666666666666666, \"#ed7953\"], [0.7777777777777778, \"#fb9f3a\"], [0.8888888888888888, \"#fdca26\"], [1.0, \"#f0f921\"]], \"type\": \"histogram2dcontour\"}], \"mesh3d\": [{\"colorbar\": {\"outlinewidth\": 0, \"ticks\": \"\"}, \"type\": \"mesh3d\"}], \"parcoords\": [{\"line\": {\"colorbar\": {\"outlinewidth\": 0, \"ticks\": \"\"}}, \"type\": \"parcoords\"}], \"pie\": [{\"automargin\": true, \"type\": \"pie\"}], \"scatter\": [{\"marker\": {\"colorbar\": {\"outlinewidth\": 0, \"ticks\": \"\"}}, \"type\": \"scatter\"}], \"scatter3d\": [{\"line\": {\"colorbar\": {\"outlinewidth\": 0, \"ticks\": \"\"}}, \"marker\": {\"colorbar\": {\"outlinewidth\": 0, \"ticks\": \"\"}}, \"type\": \"scatter3d\"}], \"scattercarpet\": [{\"marker\": {\"colorbar\": {\"outlinewidth\": 0, \"ticks\": \"\"}}, \"type\": \"scattercarpet\"}], \"scattergeo\": [{\"marker\": {\"colorbar\": {\"outlinewidth\": 0, \"ticks\": \"\"}}, \"type\": \"scattergeo\"}], \"scattergl\": [{\"marker\": {\"colorbar\": {\"outlinewidth\": 0, \"ticks\": \"\"}}, \"type\": \"scattergl\"}], \"scattermapbox\": [{\"marker\": {\"colorbar\": {\"outlinewidth\": 0, \"ticks\": \"\"}}, \"type\": \"scattermapbox\"}], \"scatterpolar\": [{\"marker\": {\"colorbar\": {\"outlinewidth\": 0, \"ticks\": \"\"}}, \"type\": \"scatterpolar\"}], \"scatterpolargl\": [{\"marker\": {\"colorbar\": {\"outlinewidth\": 0, \"ticks\": \"\"}}, \"type\": \"scatterpolargl\"}], \"scatterternary\": [{\"marker\": {\"colorbar\": {\"outlinewidth\": 0, \"ticks\": \"\"}}, \"type\": \"scatterternary\"}], \"surface\": [{\"colorbar\": {\"outlinewidth\": 0, \"ticks\": \"\"}, \"colorscale\": [[0.0, \"#0d0887\"], [0.1111111111111111, \"#46039f\"], [0.2222222222222222, \"#7201a8\"], [0.3333333333333333, \"#9c179e\"], [0.4444444444444444, \"#bd3786\"], [0.5555555555555556, \"#d8576b\"], [0.6666666666666666, \"#ed7953\"], [0.7777777777777778, \"#fb9f3a\"], [0.8888888888888888, \"#fdca26\"], [1.0, \"#f0f921\"]], \"type\": \"surface\"}], \"table\": [{\"cells\": {\"fill\": {\"color\": \"#EBF0F8\"}, \"line\": {\"color\": \"white\"}}, \"header\": {\"fill\": {\"color\": \"#C8D4E3\"}, \"line\": {\"color\": \"white\"}}, \"type\": \"table\"}]}, \"layout\": {\"annotationdefaults\": {\"arrowcolor\": \"#2a3f5f\", \"arrowhead\": 0, \"arrowwidth\": 1}, \"coloraxis\": {\"colorbar\": {\"outlinewidth\": 0, \"ticks\": \"\"}}, \"colorscale\": {\"diverging\": [[0, \"#8e0152\"], [0.1, \"#c51b7d\"], [0.2, \"#de77ae\"], [0.3, \"#f1b6da\"], [0.4, \"#fde0ef\"], [0.5, \"#f7f7f7\"], [0.6, \"#e6f5d0\"], [0.7, \"#b8e186\"], [0.8, \"#7fbc41\"], [0.9, \"#4d9221\"], [1, \"#276419\"]], \"sequential\": [[0.0, \"#0d0887\"], [0.1111111111111111, \"#46039f\"], [0.2222222222222222, \"#7201a8\"], [0.3333333333333333, \"#9c179e\"], [0.4444444444444444, \"#bd3786\"], [0.5555555555555556, \"#d8576b\"], [0.6666666666666666, \"#ed7953\"], [0.7777777777777778, \"#fb9f3a\"], [0.8888888888888888, \"#fdca26\"], [1.0, \"#f0f921\"]], \"sequentialminus\": [[0.0, \"#0d0887\"], [0.1111111111111111, \"#46039f\"], [0.2222222222222222, \"#7201a8\"], [0.3333333333333333, \"#9c179e\"], [0.4444444444444444, \"#bd3786\"], [0.5555555555555556, \"#d8576b\"], [0.6666666666666666, \"#ed7953\"], [0.7777777777777778, \"#fb9f3a\"], [0.8888888888888888, \"#fdca26\"], [1.0, \"#f0f921\"]]}, \"colorway\": [\"#636efa\", \"#EF553B\", \"#00cc96\", \"#ab63fa\", \"#FFA15A\", \"#19d3f3\", \"#FF6692\", \"#B6E880\", \"#FF97FF\", \"#FECB52\"], \"font\": {\"color\": \"#2a3f5f\"}, \"geo\": {\"bgcolor\": \"white\", \"lakecolor\": \"white\", \"landcolor\": \"#E5ECF6\", \"showlakes\": true, \"showland\": true, \"subunitcolor\": \"white\"}, \"hoverlabel\": {\"align\": \"left\"}, \"hovermode\": \"closest\", \"mapbox\": {\"style\": \"light\"}, \"paper_bgcolor\": \"white\", \"plot_bgcolor\": \"#E5ECF6\", \"polar\": {\"angularaxis\": {\"gridcolor\": \"white\", \"linecolor\": \"white\", \"ticks\": \"\"}, \"bgcolor\": \"#E5ECF6\", \"radialaxis\": {\"gridcolor\": \"white\", \"linecolor\": \"white\", \"ticks\": \"\"}}, \"scene\": {\"xaxis\": {\"backgroundcolor\": \"#E5ECF6\", \"gridcolor\": \"white\", \"gridwidth\": 2, \"linecolor\": \"white\", \"showbackground\": true, \"ticks\": \"\", \"zerolinecolor\": \"white\"}, \"yaxis\": {\"backgroundcolor\": \"#E5ECF6\", \"gridcolor\": \"white\", \"gridwidth\": 2, \"linecolor\": \"white\", \"showbackground\": true, \"ticks\": \"\", \"zerolinecolor\": \"white\"}, \"zaxis\": {\"backgroundcolor\": \"#E5ECF6\", \"gridcolor\": \"white\", \"gridwidth\": 2, \"linecolor\": \"white\", \"showbackground\": true, \"ticks\": \"\", \"zerolinecolor\": \"white\"}}, \"shapedefaults\": {\"line\": {\"color\": \"#2a3f5f\"}}, \"ternary\": {\"aaxis\": {\"gridcolor\": \"white\", \"linecolor\": \"white\", \"ticks\": \"\"}, \"baxis\": {\"gridcolor\": \"white\", \"linecolor\": \"white\", \"ticks\": \"\"}, \"bgcolor\": \"#E5ECF6\", \"caxis\": {\"gridcolor\": \"white\", \"linecolor\": \"white\", \"ticks\": \"\"}}, \"title\": {\"x\": 0.05}, \"xaxis\": {\"automargin\": true, \"gridcolor\": \"white\", \"linecolor\": \"white\", \"ticks\": \"\", \"title\": {\"standoff\": 15}, \"zerolinecolor\": \"white\", \"zerolinewidth\": 2}, \"yaxis\": {\"automargin\": true, \"gridcolor\": \"white\", \"linecolor\": \"white\", \"ticks\": \"\", \"title\": {\"standoff\": 15}, \"zerolinecolor\": \"white\", \"zerolinewidth\": 2}}}, \"violinmode\": \"group\", \"xaxis\": {\"anchor\": \"y\", \"categoryarray\": [\"DEF\", \"MID\", \"FWD\", \"GK\"], \"categoryorder\": \"array\", \"domain\": [0.0, 1.0], \"title\": {\"text\": \"Position\"}}, \"yaxis\": {\"anchor\": \"x\", \"domain\": [0.0, 1.0], \"title\": {\"text\": \"Crossing\"}}},\n",
              "                        {\"responsive\": true}\n",
              "                    ).then(function(){\n",
              "                            \n",
              "var gd = document.getElementById('40f37d1d-ce41-43ff-aaa8-0bcdb404fdd9');\n",
              "var x = new MutationObserver(function (mutations, observer) {{\n",
              "        var display = window.getComputedStyle(gd).display;\n",
              "        if (!display || display === 'none') {{\n",
              "            console.log([gd, 'removed!']);\n",
              "            Plotly.purge(gd);\n",
              "            observer.disconnect();\n",
              "        }}\n",
              "}});\n",
              "\n",
              "// Listen for the removal of the full notebook cells\n",
              "var notebookContainer = gd.closest('#notebook-container');\n",
              "if (notebookContainer) {{\n",
              "    x.observe(notebookContainer, {childList: true});\n",
              "}}\n",
              "\n",
              "// Listen for the clearing of the current output cell\n",
              "var outputEl = gd.closest('.output');\n",
              "if (outputEl) {{\n",
              "    x.observe(outputEl, {childList: true});\n",
              "}}\n",
              "\n",
              "                        })\n",
              "                };\n",
              "                \n",
              "            </script>\n",
              "        </div>\n",
              "</body>\n",
              "</html>"
            ]
          },
          "metadata": {
            "tags": []
          }
        }
      ]
    },
    {
      "cell_type": "markdown",
      "metadata": {
        "id": "UpnF2JKLkZoi"
      },
      "source": [
        "# **Preprocesamiento 2**"
      ]
    },
    {
      "cell_type": "code",
      "metadata": {
        "id": "ilJYW4ujzzl1"
      },
      "source": [
        "data.Position.replace({\"DEF\":0, \"MID\":1, \"FWD\":2, \"GK\":3}, inplace = True)"
      ],
      "execution_count": null,
      "outputs": []
    },
    {
      "cell_type": "code",
      "metadata": {
        "id": "PPqQukfdoYkc"
      },
      "source": [
        "data.drop(\"ID\", axis = 1, inplace = True)"
      ],
      "execution_count": null,
      "outputs": []
    },
    {
      "cell_type": "code",
      "metadata": {
        "id": "8eHchpoM7nkz"
      },
      "source": [
        "labels = [x for x in data.columns if x !=\"Position\" and x != \"Jersey Number\"]"
      ],
      "execution_count": null,
      "outputs": []
    },
    {
      "cell_type": "code",
      "metadata": {
        "id": "Mrz6gLxA74VD"
      },
      "source": [
        "data[labels] = data[labels].apply(lambda x: ((x-x.mean())/x.std()))\n"
      ],
      "execution_count": null,
      "outputs": []
    },
    {
      "cell_type": "code",
      "metadata": {
        "id": "68XeYQ4GGLZl"
      },
      "source": [
        "data[\"Jersey Number\"] = data[\"Jersey Number\"].apply(lambda x: 0 if x == 0 else np.log(x))"
      ],
      "execution_count": null,
      "outputs": []
    },
    {
      "cell_type": "markdown",
      "metadata": {
        "id": "R7uIqdc4khOF"
      },
      "source": [
        "# **Visualizacion 2**"
      ]
    },
    {
      "cell_type": "code",
      "metadata": {
        "colab": {
          "base_uri": "https://localhost:8080/",
          "height": 542
        },
        "id": "i2QRgX76enHs",
        "outputId": "9c494c72-eb4b-4d94-ced5-3cedb0265a24"
      },
      "source": [
        "avg_data = data.groupby(\"Position\", as_index=False).mean()\n",
        "lista = ['Age', 'Value', 'Wage', 'Special', 'Weak Foot',\n",
        "       'Skill Moves', 'Jersey Number', 'Height', 'Weight', 'Crossing',\n",
        "       'Finishing', 'HeadingAccuracy', 'ShortPassing', 'Volleys', 'Dribbling',\n",
        "       'Curve', 'FKAccuracy', 'LongPassing', 'BallControl', 'Acceleration',\n",
        "       'SprintSpeed', 'Agility', 'Reactions', 'Balance', 'ShotPower',\n",
        "       'Jumping', 'Stamina', 'Strength', 'LongShots', 'Aggression',\n",
        "       'Interceptions', 'Positioning', 'Vision', 'Penalties', 'Composure',\n",
        "       'Marking', 'StandingTackle', 'SlidingTackle', 'GKDiving', 'GKHandling',\n",
        "       'GKKicking', 'GKPositioning', 'GKReflexes', 'AttackRate', 'DefenseRate',\n",
        "       'Body Type_Lean', 'Body Type_Normal', 'Body Type_Stocky',\n",
        "       'Preferred Foot_Left', 'Preferred Foot_Right']\n",
        "df = pd.DataFrame(dict(\n",
        "    r=avg_data.loc[0,lista].values,\n",
        "    theta=lista))\n",
        "fig = px.line_polar(df, r='r', theta='theta', line_close=True, title = \"DEF\")\n",
        "fig.show()"
      ],
      "execution_count": null,
      "outputs": [
        {
          "output_type": "display_data",
          "data": {
            "text/html": [
              "<html>\n",
              "<head><meta charset=\"utf-8\" /></head>\n",
              "<body>\n",
              "    <div>\n",
              "            <script src=\"https://cdnjs.cloudflare.com/ajax/libs/mathjax/2.7.5/MathJax.js?config=TeX-AMS-MML_SVG\"></script><script type=\"text/javascript\">if (window.MathJax) {MathJax.Hub.Config({SVG: {font: \"STIX-Web\"}});}</script>\n",
              "                <script type=\"text/javascript\">window.PlotlyConfig = {MathJaxConfig: 'local'};</script>\n",
              "        <script src=\"https://cdn.plot.ly/plotly-latest.min.js\"></script>    \n",
              "            <div id=\"7cffd219-df10-4431-8ae0-8f795a16784a\" class=\"plotly-graph-div\" style=\"height:525px; width:100%;\"></div>\n",
              "            <script type=\"text/javascript\">\n",
              "                \n",
              "                    window.PLOTLYENV=window.PLOTLYENV || {};\n",
              "                    \n",
              "                if (document.getElementById(\"7cffd219-df10-4431-8ae0-8f795a16784a\")) {\n",
              "                    Plotly.newPlot(\n",
              "                        '7cffd219-df10-4431-8ae0-8f795a16784a',\n",
              "                        [{\"hoverlabel\": {\"namelength\": 0}, \"hovertemplate\": \"r=%{r}<br>theta=%{theta}\", \"legendgroup\": \"\", \"line\": {\"color\": \"#636efa\", \"dash\": \"solid\"}, \"mode\": \"lines\", \"name\": \"\", \"r\": [0.08424014829760582, -0.07846352519247296, -0.03057967392678917, 0.0368898276617939, -0.1931728639927069, -0.2063693481117739, 2.4329648751705597, 0.13965045535221196, 0.17808347251342369, 0.06834738023683383, -0.5491122825977243, 0.5025122002017038, 0.02559562047051082, -0.4293502708076216, -0.17178382439100348, -0.21742437578504506, -0.23841256609334704, 0.0468358191015747, -0.052278649911673164, -0.045165137617508906, 0.019699022516936383, -0.2332670925455445, -0.02931259278151223, -0.18884460842344067, -0.24489916248647112, 0.3374133333746205, 0.2949530976246652, 0.4302587508709114, -0.399147919211067, 0.5530934234339127, 0.8316128704926691, -0.32965778187627515, -0.5177620023679315, -0.33796507297619544, -0.025569118491897747, 0.8435588918743862, 0.8863852117663789, 0.9170547344591672, -0.33920945299770505, -0.34094943777225833, -0.34044451056744823, -0.34018142489020003, -0.3402729528906257, -0.224077722326693, 0.30526548088813077, -0.058411728693781535, 0.05180877999653011, 0.009717813288109334, 0.20423841318026317, -0.20423841318026317, 0.08424014829760582], \"showlegend\": false, \"subplot\": \"polar\", \"theta\": [\"Age\", \"Value\", \"Wage\", \"Special\", \"Weak Foot\", \"Skill Moves\", \"Jersey Number\", \"Height\", \"Weight\", \"Crossing\", \"Finishing\", \"HeadingAccuracy\", \"ShortPassing\", \"Volleys\", \"Dribbling\", \"Curve\", \"FKAccuracy\", \"LongPassing\", \"BallControl\", \"Acceleration\", \"SprintSpeed\", \"Agility\", \"Reactions\", \"Balance\", \"ShotPower\", \"Jumping\", \"Stamina\", \"Strength\", \"LongShots\", \"Aggression\", \"Interceptions\", \"Positioning\", \"Vision\", \"Penalties\", \"Composure\", \"Marking\", \"StandingTackle\", \"SlidingTackle\", \"GKDiving\", \"GKHandling\", \"GKKicking\", \"GKPositioning\", \"GKReflexes\", \"AttackRate\", \"DefenseRate\", \"Body Type_Lean\", \"Body Type_Normal\", \"Body Type_Stocky\", \"Preferred Foot_Left\", \"Preferred Foot_Right\", \"Age\"], \"type\": \"scatterpolar\"}],\n",
              "                        {\"legend\": {\"tracegroupgap\": 0}, \"polar\": {\"angularaxis\": {\"direction\": \"clockwise\", \"rotation\": 90}, \"domain\": {\"x\": [0.0, 1.0], \"y\": [0.0, 1.0]}}, \"template\": {\"data\": {\"bar\": [{\"error_x\": {\"color\": \"#2a3f5f\"}, \"error_y\": {\"color\": \"#2a3f5f\"}, \"marker\": {\"line\": {\"color\": \"#E5ECF6\", \"width\": 0.5}}, \"type\": \"bar\"}], \"barpolar\": [{\"marker\": {\"line\": {\"color\": \"#E5ECF6\", \"width\": 0.5}}, \"type\": \"barpolar\"}], \"carpet\": [{\"aaxis\": {\"endlinecolor\": \"#2a3f5f\", \"gridcolor\": \"white\", \"linecolor\": \"white\", \"minorgridcolor\": \"white\", \"startlinecolor\": \"#2a3f5f\"}, \"baxis\": {\"endlinecolor\": \"#2a3f5f\", \"gridcolor\": \"white\", \"linecolor\": \"white\", \"minorgridcolor\": \"white\", \"startlinecolor\": \"#2a3f5f\"}, \"type\": \"carpet\"}], \"choropleth\": [{\"colorbar\": {\"outlinewidth\": 0, \"ticks\": \"\"}, \"type\": \"choropleth\"}], \"contour\": [{\"colorbar\": {\"outlinewidth\": 0, \"ticks\": \"\"}, \"colorscale\": [[0.0, \"#0d0887\"], [0.1111111111111111, \"#46039f\"], [0.2222222222222222, \"#7201a8\"], [0.3333333333333333, \"#9c179e\"], [0.4444444444444444, \"#bd3786\"], [0.5555555555555556, \"#d8576b\"], [0.6666666666666666, \"#ed7953\"], [0.7777777777777778, \"#fb9f3a\"], [0.8888888888888888, \"#fdca26\"], [1.0, \"#f0f921\"]], \"type\": \"contour\"}], \"contourcarpet\": [{\"colorbar\": {\"outlinewidth\": 0, \"ticks\": \"\"}, \"type\": \"contourcarpet\"}], \"heatmap\": [{\"colorbar\": {\"outlinewidth\": 0, \"ticks\": \"\"}, \"colorscale\": [[0.0, \"#0d0887\"], [0.1111111111111111, \"#46039f\"], [0.2222222222222222, \"#7201a8\"], [0.3333333333333333, \"#9c179e\"], [0.4444444444444444, \"#bd3786\"], [0.5555555555555556, \"#d8576b\"], [0.6666666666666666, \"#ed7953\"], [0.7777777777777778, \"#fb9f3a\"], [0.8888888888888888, \"#fdca26\"], [1.0, \"#f0f921\"]], \"type\": \"heatmap\"}], \"heatmapgl\": [{\"colorbar\": {\"outlinewidth\": 0, \"ticks\": \"\"}, \"colorscale\": [[0.0, \"#0d0887\"], [0.1111111111111111, \"#46039f\"], [0.2222222222222222, \"#7201a8\"], [0.3333333333333333, \"#9c179e\"], [0.4444444444444444, \"#bd3786\"], [0.5555555555555556, \"#d8576b\"], [0.6666666666666666, \"#ed7953\"], [0.7777777777777778, \"#fb9f3a\"], [0.8888888888888888, \"#fdca26\"], [1.0, \"#f0f921\"]], \"type\": \"heatmapgl\"}], \"histogram\": [{\"marker\": {\"colorbar\": {\"outlinewidth\": 0, \"ticks\": \"\"}}, \"type\": \"histogram\"}], \"histogram2d\": [{\"colorbar\": {\"outlinewidth\": 0, \"ticks\": \"\"}, \"colorscale\": [[0.0, \"#0d0887\"], [0.1111111111111111, \"#46039f\"], [0.2222222222222222, \"#7201a8\"], [0.3333333333333333, \"#9c179e\"], [0.4444444444444444, \"#bd3786\"], [0.5555555555555556, \"#d8576b\"], [0.6666666666666666, \"#ed7953\"], [0.7777777777777778, \"#fb9f3a\"], [0.8888888888888888, \"#fdca26\"], [1.0, \"#f0f921\"]], \"type\": \"histogram2d\"}], \"histogram2dcontour\": [{\"colorbar\": {\"outlinewidth\": 0, \"ticks\": \"\"}, \"colorscale\": [[0.0, \"#0d0887\"], [0.1111111111111111, \"#46039f\"], [0.2222222222222222, \"#7201a8\"], [0.3333333333333333, \"#9c179e\"], [0.4444444444444444, \"#bd3786\"], [0.5555555555555556, \"#d8576b\"], [0.6666666666666666, \"#ed7953\"], [0.7777777777777778, \"#fb9f3a\"], [0.8888888888888888, \"#fdca26\"], [1.0, \"#f0f921\"]], \"type\": \"histogram2dcontour\"}], \"mesh3d\": [{\"colorbar\": {\"outlinewidth\": 0, \"ticks\": \"\"}, \"type\": \"mesh3d\"}], \"parcoords\": [{\"line\": {\"colorbar\": {\"outlinewidth\": 0, \"ticks\": \"\"}}, \"type\": \"parcoords\"}], \"pie\": [{\"automargin\": true, \"type\": \"pie\"}], \"scatter\": [{\"marker\": {\"colorbar\": {\"outlinewidth\": 0, \"ticks\": \"\"}}, \"type\": \"scatter\"}], \"scatter3d\": [{\"line\": {\"colorbar\": {\"outlinewidth\": 0, \"ticks\": \"\"}}, \"marker\": {\"colorbar\": {\"outlinewidth\": 0, \"ticks\": \"\"}}, \"type\": \"scatter3d\"}], \"scattercarpet\": [{\"marker\": {\"colorbar\": {\"outlinewidth\": 0, \"ticks\": \"\"}}, \"type\": \"scattercarpet\"}], \"scattergeo\": [{\"marker\": {\"colorbar\": {\"outlinewidth\": 0, \"ticks\": \"\"}}, \"type\": \"scattergeo\"}], \"scattergl\": [{\"marker\": {\"colorbar\": {\"outlinewidth\": 0, \"ticks\": \"\"}}, \"type\": \"scattergl\"}], \"scattermapbox\": [{\"marker\": {\"colorbar\": {\"outlinewidth\": 0, \"ticks\": \"\"}}, \"type\": \"scattermapbox\"}], \"scatterpolar\": [{\"marker\": {\"colorbar\": {\"outlinewidth\": 0, \"ticks\": \"\"}}, \"type\": \"scatterpolar\"}], \"scatterpolargl\": [{\"marker\": {\"colorbar\": {\"outlinewidth\": 0, \"ticks\": \"\"}}, \"type\": \"scatterpolargl\"}], \"scatterternary\": [{\"marker\": {\"colorbar\": {\"outlinewidth\": 0, \"ticks\": \"\"}}, \"type\": \"scatterternary\"}], \"surface\": [{\"colorbar\": {\"outlinewidth\": 0, \"ticks\": \"\"}, \"colorscale\": [[0.0, \"#0d0887\"], [0.1111111111111111, \"#46039f\"], [0.2222222222222222, \"#7201a8\"], [0.3333333333333333, \"#9c179e\"], [0.4444444444444444, \"#bd3786\"], [0.5555555555555556, \"#d8576b\"], [0.6666666666666666, \"#ed7953\"], [0.7777777777777778, \"#fb9f3a\"], [0.8888888888888888, \"#fdca26\"], [1.0, \"#f0f921\"]], \"type\": \"surface\"}], \"table\": [{\"cells\": {\"fill\": {\"color\": \"#EBF0F8\"}, \"line\": {\"color\": \"white\"}}, \"header\": {\"fill\": {\"color\": \"#C8D4E3\"}, \"line\": {\"color\": \"white\"}}, \"type\": \"table\"}]}, \"layout\": {\"annotationdefaults\": {\"arrowcolor\": \"#2a3f5f\", \"arrowhead\": 0, \"arrowwidth\": 1}, \"coloraxis\": {\"colorbar\": {\"outlinewidth\": 0, \"ticks\": \"\"}}, \"colorscale\": {\"diverging\": [[0, \"#8e0152\"], [0.1, \"#c51b7d\"], [0.2, \"#de77ae\"], [0.3, \"#f1b6da\"], [0.4, \"#fde0ef\"], [0.5, \"#f7f7f7\"], [0.6, \"#e6f5d0\"], [0.7, \"#b8e186\"], [0.8, \"#7fbc41\"], [0.9, \"#4d9221\"], [1, \"#276419\"]], \"sequential\": [[0.0, \"#0d0887\"], [0.1111111111111111, \"#46039f\"], [0.2222222222222222, \"#7201a8\"], [0.3333333333333333, \"#9c179e\"], [0.4444444444444444, \"#bd3786\"], [0.5555555555555556, \"#d8576b\"], [0.6666666666666666, \"#ed7953\"], [0.7777777777777778, \"#fb9f3a\"], [0.8888888888888888, \"#fdca26\"], [1.0, \"#f0f921\"]], \"sequentialminus\": [[0.0, \"#0d0887\"], [0.1111111111111111, \"#46039f\"], [0.2222222222222222, \"#7201a8\"], [0.3333333333333333, \"#9c179e\"], [0.4444444444444444, \"#bd3786\"], [0.5555555555555556, \"#d8576b\"], [0.6666666666666666, \"#ed7953\"], [0.7777777777777778, \"#fb9f3a\"], [0.8888888888888888, \"#fdca26\"], [1.0, \"#f0f921\"]]}, \"colorway\": [\"#636efa\", \"#EF553B\", \"#00cc96\", \"#ab63fa\", \"#FFA15A\", \"#19d3f3\", \"#FF6692\", \"#B6E880\", \"#FF97FF\", \"#FECB52\"], \"font\": {\"color\": \"#2a3f5f\"}, \"geo\": {\"bgcolor\": \"white\", \"lakecolor\": \"white\", \"landcolor\": \"#E5ECF6\", \"showlakes\": true, \"showland\": true, \"subunitcolor\": \"white\"}, \"hoverlabel\": {\"align\": \"left\"}, \"hovermode\": \"closest\", \"mapbox\": {\"style\": \"light\"}, \"paper_bgcolor\": \"white\", \"plot_bgcolor\": \"#E5ECF6\", \"polar\": {\"angularaxis\": {\"gridcolor\": \"white\", \"linecolor\": \"white\", \"ticks\": \"\"}, \"bgcolor\": \"#E5ECF6\", \"radialaxis\": {\"gridcolor\": \"white\", \"linecolor\": \"white\", \"ticks\": \"\"}}, \"scene\": {\"xaxis\": {\"backgroundcolor\": \"#E5ECF6\", \"gridcolor\": \"white\", \"gridwidth\": 2, \"linecolor\": \"white\", \"showbackground\": true, \"ticks\": \"\", \"zerolinecolor\": \"white\"}, \"yaxis\": {\"backgroundcolor\": \"#E5ECF6\", \"gridcolor\": \"white\", \"gridwidth\": 2, \"linecolor\": \"white\", \"showbackground\": true, \"ticks\": \"\", \"zerolinecolor\": \"white\"}, \"zaxis\": {\"backgroundcolor\": \"#E5ECF6\", \"gridcolor\": \"white\", \"gridwidth\": 2, \"linecolor\": \"white\", \"showbackground\": true, \"ticks\": \"\", \"zerolinecolor\": \"white\"}}, \"shapedefaults\": {\"line\": {\"color\": \"#2a3f5f\"}}, \"ternary\": {\"aaxis\": {\"gridcolor\": \"white\", \"linecolor\": \"white\", \"ticks\": \"\"}, \"baxis\": {\"gridcolor\": \"white\", \"linecolor\": \"white\", \"ticks\": \"\"}, \"bgcolor\": \"#E5ECF6\", \"caxis\": {\"gridcolor\": \"white\", \"linecolor\": \"white\", \"ticks\": \"\"}}, \"title\": {\"x\": 0.05}, \"xaxis\": {\"automargin\": true, \"gridcolor\": \"white\", \"linecolor\": \"white\", \"ticks\": \"\", \"title\": {\"standoff\": 15}, \"zerolinecolor\": \"white\", \"zerolinewidth\": 2}, \"yaxis\": {\"automargin\": true, \"gridcolor\": \"white\", \"linecolor\": \"white\", \"ticks\": \"\", \"title\": {\"standoff\": 15}, \"zerolinecolor\": \"white\", \"zerolinewidth\": 2}}}, \"title\": {\"text\": \"DEF\"}},\n",
              "                        {\"responsive\": true}\n",
              "                    ).then(function(){\n",
              "                            \n",
              "var gd = document.getElementById('7cffd219-df10-4431-8ae0-8f795a16784a');\n",
              "var x = new MutationObserver(function (mutations, observer) {{\n",
              "        var display = window.getComputedStyle(gd).display;\n",
              "        if (!display || display === 'none') {{\n",
              "            console.log([gd, 'removed!']);\n",
              "            Plotly.purge(gd);\n",
              "            observer.disconnect();\n",
              "        }}\n",
              "}});\n",
              "\n",
              "// Listen for the removal of the full notebook cells\n",
              "var notebookContainer = gd.closest('#notebook-container');\n",
              "if (notebookContainer) {{\n",
              "    x.observe(notebookContainer, {childList: true});\n",
              "}}\n",
              "\n",
              "// Listen for the clearing of the current output cell\n",
              "var outputEl = gd.closest('.output');\n",
              "if (outputEl) {{\n",
              "    x.observe(outputEl, {childList: true});\n",
              "}}\n",
              "\n",
              "                        })\n",
              "                };\n",
              "                \n",
              "            </script>\n",
              "        </div>\n",
              "</body>\n",
              "</html>"
            ]
          },
          "metadata": {
            "tags": []
          }
        }
      ]
    },
    {
      "cell_type": "code",
      "metadata": {
        "colab": {
          "base_uri": "https://localhost:8080/",
          "height": 542
        },
        "id": "oauAwuZRfMMF",
        "outputId": "75db3da4-749b-4101-fb35-db382285875d"
      },
      "source": [
        "avg_data = data.groupby(\"Position\", as_index=False).mean()\n",
        "lista = ['Age', 'Value', 'Wage', 'Special', 'Weak Foot',\n",
        "       'Skill Moves', 'Jersey Number', 'Height', 'Weight', 'Crossing',\n",
        "       'Finishing', 'HeadingAccuracy', 'ShortPassing', 'Volleys', 'Dribbling',\n",
        "       'Curve', 'FKAccuracy', 'LongPassing', 'BallControl', 'Acceleration',\n",
        "       'SprintSpeed', 'Agility', 'Reactions', 'Balance', 'ShotPower',\n",
        "       'Jumping', 'Stamina', 'Strength', 'LongShots', 'Aggression',\n",
        "       'Interceptions', 'Positioning', 'Vision', 'Penalties', 'Composure',\n",
        "       'Marking', 'StandingTackle', 'SlidingTackle', 'GKDiving', 'GKHandling',\n",
        "       'GKKicking', 'GKPositioning', 'GKReflexes', 'AttackRate', 'DefenseRate',\n",
        "       'Body Type_Lean', 'Body Type_Normal', 'Body Type_Stocky',\n",
        "       'Preferred Foot_Left', 'Preferred Foot_Right']\n",
        "df = pd.DataFrame(dict(\n",
        "    r=avg_data.loc[1,lista].values,\n",
        "    theta=lista))\n",
        "fig = px.line_polar(df, r='r', theta='theta', line_close=True, title = \"MID\")\n",
        "fig.show()"
      ],
      "execution_count": null,
      "outputs": [
        {
          "output_type": "display_data",
          "data": {
            "text/html": [
              "<html>\n",
              "<head><meta charset=\"utf-8\" /></head>\n",
              "<body>\n",
              "    <div>\n",
              "            <script src=\"https://cdnjs.cloudflare.com/ajax/libs/mathjax/2.7.5/MathJax.js?config=TeX-AMS-MML_SVG\"></script><script type=\"text/javascript\">if (window.MathJax) {MathJax.Hub.Config({SVG: {font: \"STIX-Web\"}});}</script>\n",
              "                <script type=\"text/javascript\">window.PlotlyConfig = {MathJaxConfig: 'local'};</script>\n",
              "        <script src=\"https://cdn.plot.ly/plotly-latest.min.js\"></script>    \n",
              "            <div id=\"43dd8220-6386-4947-947e-ebb2fede1a41\" class=\"plotly-graph-div\" style=\"height:525px; width:100%;\"></div>\n",
              "            <script type=\"text/javascript\">\n",
              "                \n",
              "                    window.PLOTLYENV=window.PLOTLYENV || {};\n",
              "                    \n",
              "                if (document.getElementById(\"43dd8220-6386-4947-947e-ebb2fede1a41\")) {\n",
              "                    Plotly.newPlot(\n",
              "                        '43dd8220-6386-4947-947e-ebb2fede1a41',\n",
              "                        [{\"hoverlabel\": {\"namelength\": 0}, \"hovertemplate\": \"r=%{r}<br>theta=%{theta}\", \"legendgroup\": \"\", \"line\": {\"color\": \"#636efa\", \"dash\": \"solid\"}, \"mode\": \"lines\", \"name\": \"\", \"r\": [-0.07081763105279403, 0.06179408644619274, 0.020084763003079157, 0.48580383243456376, 0.22672821139636012, 0.47248016614410876, 2.7584726464034612, -0.3107747200968672, -0.4245778158433349, 0.47970596807013854, 0.4401526323763249, -0.01866858937719062, 0.5660816900693961, 0.4448359262096531, 0.5275265121756929, 0.522968310886835, 0.5732803053926754, 0.6313745250313396, 0.5031899952222041, 0.3258993359239613, 0.2571060285789003, 0.4666223783809056, 0.10030280959685921, 0.49036992441994937, 0.44429908012611957, -0.15155862485653585, 0.3139354430210416, -0.2947384927309325, 0.5293328704215671, 0.1451451781519057, 0.16497797886519983, 0.4598057013369563, 0.6516606284938091, 0.38241456307092986, 0.2705249011050645, 0.16228194346664182, 0.16431124299583816, 0.13613105011753746, -0.33987333450324964, -0.3402235838364494, -0.3393985719691405, -0.3381360303367998, -0.33994014444268544, 0.10003421751347277, 0.027579332207719822, 0.1417976903724597, -0.10711253946431093, -0.0612374164906947, -0.02164440958066101, 0.02164440958066101, -0.07081763105279403], \"showlegend\": false, \"subplot\": \"polar\", \"theta\": [\"Age\", \"Value\", \"Wage\", \"Special\", \"Weak Foot\", \"Skill Moves\", \"Jersey Number\", \"Height\", \"Weight\", \"Crossing\", \"Finishing\", \"HeadingAccuracy\", \"ShortPassing\", \"Volleys\", \"Dribbling\", \"Curve\", \"FKAccuracy\", \"LongPassing\", \"BallControl\", \"Acceleration\", \"SprintSpeed\", \"Agility\", \"Reactions\", \"Balance\", \"ShotPower\", \"Jumping\", \"Stamina\", \"Strength\", \"LongShots\", \"Aggression\", \"Interceptions\", \"Positioning\", \"Vision\", \"Penalties\", \"Composure\", \"Marking\", \"StandingTackle\", \"SlidingTackle\", \"GKDiving\", \"GKHandling\", \"GKKicking\", \"GKPositioning\", \"GKReflexes\", \"AttackRate\", \"DefenseRate\", \"Body Type_Lean\", \"Body Type_Normal\", \"Body Type_Stocky\", \"Preferred Foot_Left\", \"Preferred Foot_Right\", \"Age\"], \"type\": \"scatterpolar\"}],\n",
              "                        {\"legend\": {\"tracegroupgap\": 0}, \"polar\": {\"angularaxis\": {\"direction\": \"clockwise\", \"rotation\": 90}, \"domain\": {\"x\": [0.0, 1.0], \"y\": [0.0, 1.0]}}, \"template\": {\"data\": {\"bar\": [{\"error_x\": {\"color\": \"#2a3f5f\"}, \"error_y\": {\"color\": \"#2a3f5f\"}, \"marker\": {\"line\": {\"color\": \"#E5ECF6\", \"width\": 0.5}}, \"type\": \"bar\"}], \"barpolar\": [{\"marker\": {\"line\": {\"color\": \"#E5ECF6\", \"width\": 0.5}}, \"type\": \"barpolar\"}], \"carpet\": [{\"aaxis\": {\"endlinecolor\": \"#2a3f5f\", \"gridcolor\": \"white\", \"linecolor\": \"white\", \"minorgridcolor\": \"white\", \"startlinecolor\": \"#2a3f5f\"}, \"baxis\": {\"endlinecolor\": \"#2a3f5f\", \"gridcolor\": \"white\", \"linecolor\": \"white\", \"minorgridcolor\": \"white\", \"startlinecolor\": \"#2a3f5f\"}, \"type\": \"carpet\"}], \"choropleth\": [{\"colorbar\": {\"outlinewidth\": 0, \"ticks\": \"\"}, \"type\": \"choropleth\"}], \"contour\": [{\"colorbar\": {\"outlinewidth\": 0, \"ticks\": \"\"}, \"colorscale\": [[0.0, \"#0d0887\"], [0.1111111111111111, \"#46039f\"], [0.2222222222222222, \"#7201a8\"], [0.3333333333333333, \"#9c179e\"], [0.4444444444444444, \"#bd3786\"], [0.5555555555555556, \"#d8576b\"], [0.6666666666666666, \"#ed7953\"], [0.7777777777777778, \"#fb9f3a\"], [0.8888888888888888, \"#fdca26\"], [1.0, \"#f0f921\"]], \"type\": \"contour\"}], \"contourcarpet\": [{\"colorbar\": {\"outlinewidth\": 0, \"ticks\": \"\"}, \"type\": \"contourcarpet\"}], \"heatmap\": [{\"colorbar\": {\"outlinewidth\": 0, \"ticks\": \"\"}, \"colorscale\": [[0.0, \"#0d0887\"], [0.1111111111111111, \"#46039f\"], [0.2222222222222222, \"#7201a8\"], [0.3333333333333333, \"#9c179e\"], [0.4444444444444444, \"#bd3786\"], [0.5555555555555556, \"#d8576b\"], [0.6666666666666666, \"#ed7953\"], [0.7777777777777778, \"#fb9f3a\"], [0.8888888888888888, \"#fdca26\"], [1.0, \"#f0f921\"]], \"type\": \"heatmap\"}], \"heatmapgl\": [{\"colorbar\": {\"outlinewidth\": 0, \"ticks\": \"\"}, \"colorscale\": [[0.0, \"#0d0887\"], [0.1111111111111111, \"#46039f\"], [0.2222222222222222, \"#7201a8\"], [0.3333333333333333, \"#9c179e\"], [0.4444444444444444, \"#bd3786\"], [0.5555555555555556, \"#d8576b\"], [0.6666666666666666, \"#ed7953\"], [0.7777777777777778, \"#fb9f3a\"], [0.8888888888888888, \"#fdca26\"], [1.0, \"#f0f921\"]], \"type\": \"heatmapgl\"}], \"histogram\": [{\"marker\": {\"colorbar\": {\"outlinewidth\": 0, \"ticks\": \"\"}}, \"type\": \"histogram\"}], \"histogram2d\": [{\"colorbar\": {\"outlinewidth\": 0, \"ticks\": \"\"}, \"colorscale\": [[0.0, \"#0d0887\"], [0.1111111111111111, \"#46039f\"], [0.2222222222222222, \"#7201a8\"], [0.3333333333333333, \"#9c179e\"], [0.4444444444444444, \"#bd3786\"], [0.5555555555555556, \"#d8576b\"], [0.6666666666666666, \"#ed7953\"], [0.7777777777777778, \"#fb9f3a\"], [0.8888888888888888, \"#fdca26\"], [1.0, \"#f0f921\"]], \"type\": \"histogram2d\"}], \"histogram2dcontour\": [{\"colorbar\": {\"outlinewidth\": 0, \"ticks\": \"\"}, \"colorscale\": [[0.0, \"#0d0887\"], [0.1111111111111111, \"#46039f\"], [0.2222222222222222, \"#7201a8\"], [0.3333333333333333, \"#9c179e\"], [0.4444444444444444, \"#bd3786\"], [0.5555555555555556, \"#d8576b\"], [0.6666666666666666, \"#ed7953\"], [0.7777777777777778, \"#fb9f3a\"], [0.8888888888888888, \"#fdca26\"], [1.0, \"#f0f921\"]], \"type\": \"histogram2dcontour\"}], \"mesh3d\": [{\"colorbar\": {\"outlinewidth\": 0, \"ticks\": \"\"}, \"type\": \"mesh3d\"}], \"parcoords\": [{\"line\": {\"colorbar\": {\"outlinewidth\": 0, \"ticks\": \"\"}}, \"type\": \"parcoords\"}], \"pie\": [{\"automargin\": true, \"type\": \"pie\"}], \"scatter\": [{\"marker\": {\"colorbar\": {\"outlinewidth\": 0, \"ticks\": \"\"}}, \"type\": \"scatter\"}], \"scatter3d\": [{\"line\": {\"colorbar\": {\"outlinewidth\": 0, \"ticks\": \"\"}}, \"marker\": {\"colorbar\": {\"outlinewidth\": 0, \"ticks\": \"\"}}, \"type\": \"scatter3d\"}], \"scattercarpet\": [{\"marker\": {\"colorbar\": {\"outlinewidth\": 0, \"ticks\": \"\"}}, \"type\": \"scattercarpet\"}], \"scattergeo\": [{\"marker\": {\"colorbar\": {\"outlinewidth\": 0, \"ticks\": \"\"}}, \"type\": \"scattergeo\"}], \"scattergl\": [{\"marker\": {\"colorbar\": {\"outlinewidth\": 0, \"ticks\": \"\"}}, \"type\": \"scattergl\"}], \"scattermapbox\": [{\"marker\": {\"colorbar\": {\"outlinewidth\": 0, \"ticks\": \"\"}}, \"type\": \"scattermapbox\"}], \"scatterpolar\": [{\"marker\": {\"colorbar\": {\"outlinewidth\": 0, \"ticks\": \"\"}}, \"type\": \"scatterpolar\"}], \"scatterpolargl\": [{\"marker\": {\"colorbar\": {\"outlinewidth\": 0, \"ticks\": \"\"}}, \"type\": \"scatterpolargl\"}], \"scatterternary\": [{\"marker\": {\"colorbar\": {\"outlinewidth\": 0, \"ticks\": \"\"}}, \"type\": \"scatterternary\"}], \"surface\": [{\"colorbar\": {\"outlinewidth\": 0, \"ticks\": \"\"}, \"colorscale\": [[0.0, \"#0d0887\"], [0.1111111111111111, \"#46039f\"], [0.2222222222222222, \"#7201a8\"], [0.3333333333333333, \"#9c179e\"], [0.4444444444444444, \"#bd3786\"], [0.5555555555555556, \"#d8576b\"], [0.6666666666666666, \"#ed7953\"], [0.7777777777777778, \"#fb9f3a\"], [0.8888888888888888, \"#fdca26\"], [1.0, \"#f0f921\"]], \"type\": \"surface\"}], \"table\": [{\"cells\": {\"fill\": {\"color\": \"#EBF0F8\"}, \"line\": {\"color\": \"white\"}}, \"header\": {\"fill\": {\"color\": \"#C8D4E3\"}, \"line\": {\"color\": \"white\"}}, \"type\": \"table\"}]}, \"layout\": {\"annotationdefaults\": {\"arrowcolor\": \"#2a3f5f\", \"arrowhead\": 0, \"arrowwidth\": 1}, \"coloraxis\": {\"colorbar\": {\"outlinewidth\": 0, \"ticks\": \"\"}}, \"colorscale\": {\"diverging\": [[0, \"#8e0152\"], [0.1, \"#c51b7d\"], [0.2, \"#de77ae\"], [0.3, \"#f1b6da\"], [0.4, \"#fde0ef\"], [0.5, \"#f7f7f7\"], [0.6, \"#e6f5d0\"], [0.7, \"#b8e186\"], [0.8, \"#7fbc41\"], [0.9, \"#4d9221\"], [1, \"#276419\"]], \"sequential\": [[0.0, \"#0d0887\"], [0.1111111111111111, \"#46039f\"], [0.2222222222222222, \"#7201a8\"], [0.3333333333333333, \"#9c179e\"], [0.4444444444444444, \"#bd3786\"], [0.5555555555555556, \"#d8576b\"], [0.6666666666666666, \"#ed7953\"], [0.7777777777777778, \"#fb9f3a\"], [0.8888888888888888, \"#fdca26\"], [1.0, \"#f0f921\"]], \"sequentialminus\": [[0.0, \"#0d0887\"], [0.1111111111111111, \"#46039f\"], [0.2222222222222222, \"#7201a8\"], [0.3333333333333333, \"#9c179e\"], [0.4444444444444444, \"#bd3786\"], [0.5555555555555556, \"#d8576b\"], [0.6666666666666666, \"#ed7953\"], [0.7777777777777778, \"#fb9f3a\"], [0.8888888888888888, \"#fdca26\"], [1.0, \"#f0f921\"]]}, \"colorway\": [\"#636efa\", \"#EF553B\", \"#00cc96\", \"#ab63fa\", \"#FFA15A\", \"#19d3f3\", \"#FF6692\", \"#B6E880\", \"#FF97FF\", \"#FECB52\"], \"font\": {\"color\": \"#2a3f5f\"}, \"geo\": {\"bgcolor\": \"white\", \"lakecolor\": \"white\", \"landcolor\": \"#E5ECF6\", \"showlakes\": true, \"showland\": true, \"subunitcolor\": \"white\"}, \"hoverlabel\": {\"align\": \"left\"}, \"hovermode\": \"closest\", \"mapbox\": {\"style\": \"light\"}, \"paper_bgcolor\": \"white\", \"plot_bgcolor\": \"#E5ECF6\", \"polar\": {\"angularaxis\": {\"gridcolor\": \"white\", \"linecolor\": \"white\", \"ticks\": \"\"}, \"bgcolor\": \"#E5ECF6\", \"radialaxis\": {\"gridcolor\": \"white\", \"linecolor\": \"white\", \"ticks\": \"\"}}, \"scene\": {\"xaxis\": {\"backgroundcolor\": \"#E5ECF6\", \"gridcolor\": \"white\", \"gridwidth\": 2, \"linecolor\": \"white\", \"showbackground\": true, \"ticks\": \"\", \"zerolinecolor\": \"white\"}, \"yaxis\": {\"backgroundcolor\": \"#E5ECF6\", \"gridcolor\": \"white\", \"gridwidth\": 2, \"linecolor\": \"white\", \"showbackground\": true, \"ticks\": \"\", \"zerolinecolor\": \"white\"}, \"zaxis\": {\"backgroundcolor\": \"#E5ECF6\", \"gridcolor\": \"white\", \"gridwidth\": 2, \"linecolor\": \"white\", \"showbackground\": true, \"ticks\": \"\", \"zerolinecolor\": \"white\"}}, \"shapedefaults\": {\"line\": {\"color\": \"#2a3f5f\"}}, \"ternary\": {\"aaxis\": {\"gridcolor\": \"white\", \"linecolor\": \"white\", \"ticks\": \"\"}, \"baxis\": {\"gridcolor\": \"white\", \"linecolor\": \"white\", \"ticks\": \"\"}, \"bgcolor\": \"#E5ECF6\", \"caxis\": {\"gridcolor\": \"white\", \"linecolor\": \"white\", \"ticks\": \"\"}}, \"title\": {\"x\": 0.05}, \"xaxis\": {\"automargin\": true, \"gridcolor\": \"white\", \"linecolor\": \"white\", \"ticks\": \"\", \"title\": {\"standoff\": 15}, \"zerolinecolor\": \"white\", \"zerolinewidth\": 2}, \"yaxis\": {\"automargin\": true, \"gridcolor\": \"white\", \"linecolor\": \"white\", \"ticks\": \"\", \"title\": {\"standoff\": 15}, \"zerolinecolor\": \"white\", \"zerolinewidth\": 2}}}, \"title\": {\"text\": \"MID\"}},\n",
              "                        {\"responsive\": true}\n",
              "                    ).then(function(){\n",
              "                            \n",
              "var gd = document.getElementById('43dd8220-6386-4947-947e-ebb2fede1a41');\n",
              "var x = new MutationObserver(function (mutations, observer) {{\n",
              "        var display = window.getComputedStyle(gd).display;\n",
              "        if (!display || display === 'none') {{\n",
              "            console.log([gd, 'removed!']);\n",
              "            Plotly.purge(gd);\n",
              "            observer.disconnect();\n",
              "        }}\n",
              "}});\n",
              "\n",
              "// Listen for the removal of the full notebook cells\n",
              "var notebookContainer = gd.closest('#notebook-container');\n",
              "if (notebookContainer) {{\n",
              "    x.observe(notebookContainer, {childList: true});\n",
              "}}\n",
              "\n",
              "// Listen for the clearing of the current output cell\n",
              "var outputEl = gd.closest('.output');\n",
              "if (outputEl) {{\n",
              "    x.observe(outputEl, {childList: true});\n",
              "}}\n",
              "\n",
              "                        })\n",
              "                };\n",
              "                \n",
              "            </script>\n",
              "        </div>\n",
              "</body>\n",
              "</html>"
            ]
          },
          "metadata": {
            "tags": []
          }
        }
      ]
    },
    {
      "cell_type": "code",
      "metadata": {
        "colab": {
          "base_uri": "https://localhost:8080/",
          "height": 542
        },
        "id": "4QQcTXxNfWGR",
        "outputId": "3bfc1e2f-4a68-4c8d-d5c5-70d1355c968f"
      },
      "source": [
        "avg_data = data.groupby(\"Position\", as_index=False).mean()\n",
        "lista = ['Age', 'Value', 'Wage', 'Special', 'Weak Foot',\n",
        "       'Skill Moves', 'Jersey Number', 'Height', 'Weight', 'Crossing',\n",
        "       'Finishing', 'HeadingAccuracy', 'ShortPassing', 'Volleys', 'Dribbling',\n",
        "       'Curve', 'FKAccuracy', 'LongPassing', 'BallControl', 'Acceleration',\n",
        "       'SprintSpeed', 'Agility', 'Reactions', 'Balance', 'ShotPower',\n",
        "       'Jumping', 'Stamina', 'Strength', 'LongShots', 'Aggression',\n",
        "       'Interceptions', 'Positioning', 'Vision', 'Penalties', 'Composure',\n",
        "       'Marking', 'StandingTackle', 'SlidingTackle', 'GKDiving', 'GKHandling',\n",
        "       'GKKicking', 'GKPositioning', 'GKReflexes', 'AttackRate', 'DefenseRate',\n",
        "       'Body Type_Lean', 'Body Type_Normal', 'Body Type_Stocky',\n",
        "       'Preferred Foot_Left', 'Preferred Foot_Right']\n",
        "df = pd.DataFrame(dict(\n",
        "    r=avg_data.loc[2,lista].values,\n",
        "    theta=lista))\n",
        "fig = px.line_polar(df, r='r', theta='theta', line_close=True, title = \"FWD\")\n",
        "fig.show()"
      ],
      "execution_count": null,
      "outputs": [
        {
          "output_type": "display_data",
          "data": {
            "text/html": [
              "<html>\n",
              "<head><meta charset=\"utf-8\" /></head>\n",
              "<body>\n",
              "    <div>\n",
              "            <script src=\"https://cdnjs.cloudflare.com/ajax/libs/mathjax/2.7.5/MathJax.js?config=TeX-AMS-MML_SVG\"></script><script type=\"text/javascript\">if (window.MathJax) {MathJax.Hub.Config({SVG: {font: \"STIX-Web\"}});}</script>\n",
              "                <script type=\"text/javascript\">window.PlotlyConfig = {MathJaxConfig: 'local'};</script>\n",
              "        <script src=\"https://cdn.plot.ly/plotly-latest.min.js\"></script>    \n",
              "            <div id=\"22119fc4-c7e3-4447-9bfb-3345e89237fb\" class=\"plotly-graph-div\" style=\"height:525px; width:100%;\"></div>\n",
              "            <script type=\"text/javascript\">\n",
              "                \n",
              "                    window.PLOTLYENV=window.PLOTLYENV || {};\n",
              "                    \n",
              "                if (document.getElementById(\"22119fc4-c7e3-4447-9bfb-3345e89237fb\")) {\n",
              "                    Plotly.newPlot(\n",
              "                        '22119fc4-c7e3-4447-9bfb-3345e89237fb',\n",
              "                        [{\"hoverlabel\": {\"namelength\": 0}, \"hovertemplate\": \"r=%{r}<br>theta=%{theta}\", \"legendgroup\": \"\", \"line\": {\"color\": \"#636efa\", \"dash\": \"solid\"}, \"mode\": \"lines\", \"name\": \"\", \"r\": [-0.10334811330702659, 0.09598304946274971, 0.09159027203231679, 0.13695360820729738, 0.2557976778413056, 0.44101850483326527, 2.858633760845801, -0.08549372015537958, 0.0004942488969851443, 0.044719718790795386, 1.0266543382195283, 0.43893891301128196, 0.06779757900811474, 0.8214822369248267, 0.5043302167137007, 0.3397893940323164, 0.1967916964392415, -0.31508440699334583, 0.41566300621089836, 0.4378617321529348, 0.4706287235786224, 0.3671942638693304, 0.040596797026016804, 0.1931080296500458, 0.62421273575408, 0.0954989198326808, 0.07100455500144148, 0.07047617961272558, 0.6482774836701374, -0.2391259021373969, -0.8974999354213029, 0.7725511084992555, 0.2518986799434919, 0.8426230814969438, 0.18338241470146333, -0.8051078496149053, -0.922201246204027, -0.9558240222290677, -0.34539560955243437, -0.33975345476091223, -0.3380638071292425, -0.34024608857488675, -0.34298474618197683, 0.41656071057436084, -0.4665778585186222, -0.020434988169254594, -0.027071406721664724, 0.09460318297003915, -0.13796354706639843, 0.13796354706639843, -0.10334811330702659], \"showlegend\": false, \"subplot\": \"polar\", \"theta\": [\"Age\", \"Value\", \"Wage\", \"Special\", \"Weak Foot\", \"Skill Moves\", \"Jersey Number\", \"Height\", \"Weight\", \"Crossing\", \"Finishing\", \"HeadingAccuracy\", \"ShortPassing\", \"Volleys\", \"Dribbling\", \"Curve\", \"FKAccuracy\", \"LongPassing\", \"BallControl\", \"Acceleration\", \"SprintSpeed\", \"Agility\", \"Reactions\", \"Balance\", \"ShotPower\", \"Jumping\", \"Stamina\", \"Strength\", \"LongShots\", \"Aggression\", \"Interceptions\", \"Positioning\", \"Vision\", \"Penalties\", \"Composure\", \"Marking\", \"StandingTackle\", \"SlidingTackle\", \"GKDiving\", \"GKHandling\", \"GKKicking\", \"GKPositioning\", \"GKReflexes\", \"AttackRate\", \"DefenseRate\", \"Body Type_Lean\", \"Body Type_Normal\", \"Body Type_Stocky\", \"Preferred Foot_Left\", \"Preferred Foot_Right\", \"Age\"], \"type\": \"scatterpolar\"}],\n",
              "                        {\"legend\": {\"tracegroupgap\": 0}, \"polar\": {\"angularaxis\": {\"direction\": \"clockwise\", \"rotation\": 90}, \"domain\": {\"x\": [0.0, 1.0], \"y\": [0.0, 1.0]}}, \"template\": {\"data\": {\"bar\": [{\"error_x\": {\"color\": \"#2a3f5f\"}, \"error_y\": {\"color\": \"#2a3f5f\"}, \"marker\": {\"line\": {\"color\": \"#E5ECF6\", \"width\": 0.5}}, \"type\": \"bar\"}], \"barpolar\": [{\"marker\": {\"line\": {\"color\": \"#E5ECF6\", \"width\": 0.5}}, \"type\": \"barpolar\"}], \"carpet\": [{\"aaxis\": {\"endlinecolor\": \"#2a3f5f\", \"gridcolor\": \"white\", \"linecolor\": \"white\", \"minorgridcolor\": \"white\", \"startlinecolor\": \"#2a3f5f\"}, \"baxis\": {\"endlinecolor\": \"#2a3f5f\", \"gridcolor\": \"white\", \"linecolor\": \"white\", \"minorgridcolor\": \"white\", \"startlinecolor\": \"#2a3f5f\"}, \"type\": \"carpet\"}], \"choropleth\": [{\"colorbar\": {\"outlinewidth\": 0, \"ticks\": \"\"}, \"type\": \"choropleth\"}], \"contour\": [{\"colorbar\": {\"outlinewidth\": 0, \"ticks\": \"\"}, \"colorscale\": [[0.0, \"#0d0887\"], [0.1111111111111111, \"#46039f\"], [0.2222222222222222, \"#7201a8\"], [0.3333333333333333, \"#9c179e\"], [0.4444444444444444, \"#bd3786\"], [0.5555555555555556, \"#d8576b\"], [0.6666666666666666, \"#ed7953\"], [0.7777777777777778, \"#fb9f3a\"], [0.8888888888888888, \"#fdca26\"], [1.0, \"#f0f921\"]], \"type\": \"contour\"}], \"contourcarpet\": [{\"colorbar\": {\"outlinewidth\": 0, \"ticks\": \"\"}, \"type\": \"contourcarpet\"}], \"heatmap\": [{\"colorbar\": {\"outlinewidth\": 0, \"ticks\": \"\"}, \"colorscale\": [[0.0, \"#0d0887\"], [0.1111111111111111, \"#46039f\"], [0.2222222222222222, \"#7201a8\"], [0.3333333333333333, \"#9c179e\"], [0.4444444444444444, \"#bd3786\"], [0.5555555555555556, \"#d8576b\"], [0.6666666666666666, \"#ed7953\"], [0.7777777777777778, \"#fb9f3a\"], [0.8888888888888888, \"#fdca26\"], [1.0, \"#f0f921\"]], \"type\": \"heatmap\"}], \"heatmapgl\": [{\"colorbar\": {\"outlinewidth\": 0, \"ticks\": \"\"}, \"colorscale\": [[0.0, \"#0d0887\"], [0.1111111111111111, \"#46039f\"], [0.2222222222222222, \"#7201a8\"], [0.3333333333333333, \"#9c179e\"], [0.4444444444444444, \"#bd3786\"], [0.5555555555555556, \"#d8576b\"], [0.6666666666666666, \"#ed7953\"], [0.7777777777777778, \"#fb9f3a\"], [0.8888888888888888, \"#fdca26\"], [1.0, \"#f0f921\"]], \"type\": \"heatmapgl\"}], \"histogram\": [{\"marker\": {\"colorbar\": {\"outlinewidth\": 0, \"ticks\": \"\"}}, \"type\": \"histogram\"}], \"histogram2d\": [{\"colorbar\": {\"outlinewidth\": 0, \"ticks\": \"\"}, \"colorscale\": [[0.0, \"#0d0887\"], [0.1111111111111111, \"#46039f\"], [0.2222222222222222, \"#7201a8\"], [0.3333333333333333, \"#9c179e\"], [0.4444444444444444, \"#bd3786\"], [0.5555555555555556, \"#d8576b\"], [0.6666666666666666, \"#ed7953\"], [0.7777777777777778, \"#fb9f3a\"], [0.8888888888888888, \"#fdca26\"], [1.0, \"#f0f921\"]], \"type\": \"histogram2d\"}], \"histogram2dcontour\": [{\"colorbar\": {\"outlinewidth\": 0, \"ticks\": \"\"}, \"colorscale\": [[0.0, \"#0d0887\"], [0.1111111111111111, \"#46039f\"], [0.2222222222222222, \"#7201a8\"], [0.3333333333333333, \"#9c179e\"], [0.4444444444444444, \"#bd3786\"], [0.5555555555555556, \"#d8576b\"], [0.6666666666666666, \"#ed7953\"], [0.7777777777777778, \"#fb9f3a\"], [0.8888888888888888, \"#fdca26\"], [1.0, \"#f0f921\"]], \"type\": \"histogram2dcontour\"}], \"mesh3d\": [{\"colorbar\": {\"outlinewidth\": 0, \"ticks\": \"\"}, \"type\": \"mesh3d\"}], \"parcoords\": [{\"line\": {\"colorbar\": {\"outlinewidth\": 0, \"ticks\": \"\"}}, \"type\": \"parcoords\"}], \"pie\": [{\"automargin\": true, \"type\": \"pie\"}], \"scatter\": [{\"marker\": {\"colorbar\": {\"outlinewidth\": 0, \"ticks\": \"\"}}, \"type\": \"scatter\"}], \"scatter3d\": [{\"line\": {\"colorbar\": {\"outlinewidth\": 0, \"ticks\": \"\"}}, \"marker\": {\"colorbar\": {\"outlinewidth\": 0, \"ticks\": \"\"}}, \"type\": \"scatter3d\"}], \"scattercarpet\": [{\"marker\": {\"colorbar\": {\"outlinewidth\": 0, \"ticks\": \"\"}}, \"type\": \"scattercarpet\"}], \"scattergeo\": [{\"marker\": {\"colorbar\": {\"outlinewidth\": 0, \"ticks\": \"\"}}, \"type\": \"scattergeo\"}], \"scattergl\": [{\"marker\": {\"colorbar\": {\"outlinewidth\": 0, \"ticks\": \"\"}}, \"type\": \"scattergl\"}], \"scattermapbox\": [{\"marker\": {\"colorbar\": {\"outlinewidth\": 0, \"ticks\": \"\"}}, \"type\": \"scattermapbox\"}], \"scatterpolar\": [{\"marker\": {\"colorbar\": {\"outlinewidth\": 0, \"ticks\": \"\"}}, \"type\": \"scatterpolar\"}], \"scatterpolargl\": [{\"marker\": {\"colorbar\": {\"outlinewidth\": 0, \"ticks\": \"\"}}, \"type\": \"scatterpolargl\"}], \"scatterternary\": [{\"marker\": {\"colorbar\": {\"outlinewidth\": 0, \"ticks\": \"\"}}, \"type\": \"scatterternary\"}], \"surface\": [{\"colorbar\": {\"outlinewidth\": 0, \"ticks\": \"\"}, \"colorscale\": [[0.0, \"#0d0887\"], [0.1111111111111111, \"#46039f\"], [0.2222222222222222, \"#7201a8\"], [0.3333333333333333, \"#9c179e\"], [0.4444444444444444, \"#bd3786\"], [0.5555555555555556, \"#d8576b\"], [0.6666666666666666, \"#ed7953\"], [0.7777777777777778, \"#fb9f3a\"], [0.8888888888888888, \"#fdca26\"], [1.0, \"#f0f921\"]], \"type\": \"surface\"}], \"table\": [{\"cells\": {\"fill\": {\"color\": \"#EBF0F8\"}, \"line\": {\"color\": \"white\"}}, \"header\": {\"fill\": {\"color\": \"#C8D4E3\"}, \"line\": {\"color\": \"white\"}}, \"type\": \"table\"}]}, \"layout\": {\"annotationdefaults\": {\"arrowcolor\": \"#2a3f5f\", \"arrowhead\": 0, \"arrowwidth\": 1}, \"coloraxis\": {\"colorbar\": {\"outlinewidth\": 0, \"ticks\": \"\"}}, \"colorscale\": {\"diverging\": [[0, \"#8e0152\"], [0.1, \"#c51b7d\"], [0.2, \"#de77ae\"], [0.3, \"#f1b6da\"], [0.4, \"#fde0ef\"], [0.5, \"#f7f7f7\"], [0.6, \"#e6f5d0\"], [0.7, \"#b8e186\"], [0.8, \"#7fbc41\"], [0.9, \"#4d9221\"], [1, \"#276419\"]], \"sequential\": [[0.0, \"#0d0887\"], [0.1111111111111111, \"#46039f\"], [0.2222222222222222, \"#7201a8\"], [0.3333333333333333, \"#9c179e\"], [0.4444444444444444, \"#bd3786\"], [0.5555555555555556, \"#d8576b\"], [0.6666666666666666, \"#ed7953\"], [0.7777777777777778, \"#fb9f3a\"], [0.8888888888888888, \"#fdca26\"], [1.0, \"#f0f921\"]], \"sequentialminus\": [[0.0, \"#0d0887\"], [0.1111111111111111, \"#46039f\"], [0.2222222222222222, \"#7201a8\"], [0.3333333333333333, \"#9c179e\"], [0.4444444444444444, \"#bd3786\"], [0.5555555555555556, \"#d8576b\"], [0.6666666666666666, \"#ed7953\"], [0.7777777777777778, \"#fb9f3a\"], [0.8888888888888888, \"#fdca26\"], [1.0, \"#f0f921\"]]}, \"colorway\": [\"#636efa\", \"#EF553B\", \"#00cc96\", \"#ab63fa\", \"#FFA15A\", \"#19d3f3\", \"#FF6692\", \"#B6E880\", \"#FF97FF\", \"#FECB52\"], \"font\": {\"color\": \"#2a3f5f\"}, \"geo\": {\"bgcolor\": \"white\", \"lakecolor\": \"white\", \"landcolor\": \"#E5ECF6\", \"showlakes\": true, \"showland\": true, \"subunitcolor\": \"white\"}, \"hoverlabel\": {\"align\": \"left\"}, \"hovermode\": \"closest\", \"mapbox\": {\"style\": \"light\"}, \"paper_bgcolor\": \"white\", \"plot_bgcolor\": \"#E5ECF6\", \"polar\": {\"angularaxis\": {\"gridcolor\": \"white\", \"linecolor\": \"white\", \"ticks\": \"\"}, \"bgcolor\": \"#E5ECF6\", \"radialaxis\": {\"gridcolor\": \"white\", \"linecolor\": \"white\", \"ticks\": \"\"}}, \"scene\": {\"xaxis\": {\"backgroundcolor\": \"#E5ECF6\", \"gridcolor\": \"white\", \"gridwidth\": 2, \"linecolor\": \"white\", \"showbackground\": true, \"ticks\": \"\", \"zerolinecolor\": \"white\"}, \"yaxis\": {\"backgroundcolor\": \"#E5ECF6\", \"gridcolor\": \"white\", \"gridwidth\": 2, \"linecolor\": \"white\", \"showbackground\": true, \"ticks\": \"\", \"zerolinecolor\": \"white\"}, \"zaxis\": {\"backgroundcolor\": \"#E5ECF6\", \"gridcolor\": \"white\", \"gridwidth\": 2, \"linecolor\": \"white\", \"showbackground\": true, \"ticks\": \"\", \"zerolinecolor\": \"white\"}}, \"shapedefaults\": {\"line\": {\"color\": \"#2a3f5f\"}}, \"ternary\": {\"aaxis\": {\"gridcolor\": \"white\", \"linecolor\": \"white\", \"ticks\": \"\"}, \"baxis\": {\"gridcolor\": \"white\", \"linecolor\": \"white\", \"ticks\": \"\"}, \"bgcolor\": \"#E5ECF6\", \"caxis\": {\"gridcolor\": \"white\", \"linecolor\": \"white\", \"ticks\": \"\"}}, \"title\": {\"x\": 0.05}, \"xaxis\": {\"automargin\": true, \"gridcolor\": \"white\", \"linecolor\": \"white\", \"ticks\": \"\", \"title\": {\"standoff\": 15}, \"zerolinecolor\": \"white\", \"zerolinewidth\": 2}, \"yaxis\": {\"automargin\": true, \"gridcolor\": \"white\", \"linecolor\": \"white\", \"ticks\": \"\", \"title\": {\"standoff\": 15}, \"zerolinecolor\": \"white\", \"zerolinewidth\": 2}}}, \"title\": {\"text\": \"FWD\"}},\n",
              "                        {\"responsive\": true}\n",
              "                    ).then(function(){\n",
              "                            \n",
              "var gd = document.getElementById('22119fc4-c7e3-4447-9bfb-3345e89237fb');\n",
              "var x = new MutationObserver(function (mutations, observer) {{\n",
              "        var display = window.getComputedStyle(gd).display;\n",
              "        if (!display || display === 'none') {{\n",
              "            console.log([gd, 'removed!']);\n",
              "            Plotly.purge(gd);\n",
              "            observer.disconnect();\n",
              "        }}\n",
              "}});\n",
              "\n",
              "// Listen for the removal of the full notebook cells\n",
              "var notebookContainer = gd.closest('#notebook-container');\n",
              "if (notebookContainer) {{\n",
              "    x.observe(notebookContainer, {childList: true});\n",
              "}}\n",
              "\n",
              "// Listen for the clearing of the current output cell\n",
              "var outputEl = gd.closest('.output');\n",
              "if (outputEl) {{\n",
              "    x.observe(outputEl, {childList: true});\n",
              "}}\n",
              "\n",
              "                        })\n",
              "                };\n",
              "                \n",
              "            </script>\n",
              "        </div>\n",
              "</body>\n",
              "</html>"
            ]
          },
          "metadata": {
            "tags": []
          }
        }
      ]
    },
    {
      "cell_type": "code",
      "metadata": {
        "colab": {
          "base_uri": "https://localhost:8080/",
          "height": 542
        },
        "id": "CGJEZimsfZ44",
        "outputId": "a01f318c-5b3f-4e50-9a26-ae05e51c5128"
      },
      "source": [
        "lista = [\"Position\", 'Weak Foot', 'Skill Moves', 'Jersey Number', 'Height', 'Crossing',\n",
        "       'Finishing', 'HeadingAccuracy', 'ShortPassing', 'Volleys', 'Dribbling',\n",
        "       'Curve', 'FKAccuracy', 'LongPassing', 'BallControl', 'Acceleration',\n",
        "       'SprintSpeed', 'Agility', 'Reactions', 'Balance', 'ShotPower',\n",
        "       'Jumping', 'Stamina', 'Strength', 'LongShots', 'Aggression',\n",
        "       'Interceptions', 'Positioning', 'Vision', 'Penalties', 'Composure',\n",
        "       'Marking', 'StandingTackle', 'SlidingTackle','AttackRate', 'DefenseRate']\n",
        "avg_data = data.loc[:, lista].groupby(\"Position\", as_index=False).mean()\n",
        "df = pd.DataFrame(dict(\n",
        "    r=avg_data.loc[0,lista].values,\n",
        "    theta=lista))\n",
        "fig = px.line_polar(df, r='r', theta='theta', line_close=True, title = \"GK\")\n",
        "fig.show()"
      ],
      "execution_count": null,
      "outputs": [
        {
          "output_type": "display_data",
          "data": {
            "text/html": [
              "<html>\n",
              "<head><meta charset=\"utf-8\" /></head>\n",
              "<body>\n",
              "    <div>\n",
              "            <script src=\"https://cdnjs.cloudflare.com/ajax/libs/mathjax/2.7.5/MathJax.js?config=TeX-AMS-MML_SVG\"></script><script type=\"text/javascript\">if (window.MathJax) {MathJax.Hub.Config({SVG: {font: \"STIX-Web\"}});}</script>\n",
              "                <script type=\"text/javascript\">window.PlotlyConfig = {MathJaxConfig: 'local'};</script>\n",
              "        <script src=\"https://cdn.plot.ly/plotly-latest.min.js\"></script>    \n",
              "            <div id=\"abf7f8e3-f1a1-4d62-9c6d-6f46ca073198\" class=\"plotly-graph-div\" style=\"height:525px; width:100%;\"></div>\n",
              "            <script type=\"text/javascript\">\n",
              "                \n",
              "                    window.PLOTLYENV=window.PLOTLYENV || {};\n",
              "                    \n",
              "                if (document.getElementById(\"abf7f8e3-f1a1-4d62-9c6d-6f46ca073198\")) {\n",
              "                    Plotly.newPlot(\n",
              "                        'abf7f8e3-f1a1-4d62-9c6d-6f46ca073198',\n",
              "                        [{\"hoverlabel\": {\"namelength\": 0}, \"hovertemplate\": \"r=%{r}<br>theta=%{theta}\", \"legendgroup\": \"\", \"line\": {\"color\": \"#636efa\", \"dash\": \"solid\"}, \"mode\": \"lines\", \"name\": \"\", \"r\": [0.0, -0.1931728639927069, -0.2063693481117739, 2.4329648751705597, 0.13965045535221196, 0.06834738023683383, -0.5491122825977243, 0.5025122002017038, 0.02559562047051082, -0.4293502708076216, -0.17178382439100348, -0.21742437578504506, -0.23841256609334704, 0.0468358191015747, -0.052278649911673164, -0.045165137617508906, 0.019699022516936383, -0.2332670925455445, -0.02931259278151223, -0.18884460842344067, -0.24489916248647112, 0.3374133333746205, 0.2949530976246652, 0.4302587508709114, -0.399147919211067, 0.5530934234339127, 0.8316128704926691, -0.32965778187627515, -0.5177620023679315, -0.33796507297619544, -0.025569118491897747, 0.8435588918743862, 0.8863852117663789, 0.9170547344591672, -0.224077722326693, 0.30526548088813077, 0.0], \"showlegend\": false, \"subplot\": \"polar\", \"theta\": [\"Position\", \"Weak Foot\", \"Skill Moves\", \"Jersey Number\", \"Height\", \"Crossing\", \"Finishing\", \"HeadingAccuracy\", \"ShortPassing\", \"Volleys\", \"Dribbling\", \"Curve\", \"FKAccuracy\", \"LongPassing\", \"BallControl\", \"Acceleration\", \"SprintSpeed\", \"Agility\", \"Reactions\", \"Balance\", \"ShotPower\", \"Jumping\", \"Stamina\", \"Strength\", \"LongShots\", \"Aggression\", \"Interceptions\", \"Positioning\", \"Vision\", \"Penalties\", \"Composure\", \"Marking\", \"StandingTackle\", \"SlidingTackle\", \"AttackRate\", \"DefenseRate\", \"Position\"], \"type\": \"scatterpolar\"}],\n",
              "                        {\"legend\": {\"tracegroupgap\": 0}, \"polar\": {\"angularaxis\": {\"direction\": \"clockwise\", \"rotation\": 90}, \"domain\": {\"x\": [0.0, 1.0], \"y\": [0.0, 1.0]}}, \"template\": {\"data\": {\"bar\": [{\"error_x\": {\"color\": \"#2a3f5f\"}, \"error_y\": {\"color\": \"#2a3f5f\"}, \"marker\": {\"line\": {\"color\": \"#E5ECF6\", \"width\": 0.5}}, \"type\": \"bar\"}], \"barpolar\": [{\"marker\": {\"line\": {\"color\": \"#E5ECF6\", \"width\": 0.5}}, \"type\": \"barpolar\"}], \"carpet\": [{\"aaxis\": {\"endlinecolor\": \"#2a3f5f\", \"gridcolor\": \"white\", \"linecolor\": \"white\", \"minorgridcolor\": \"white\", \"startlinecolor\": \"#2a3f5f\"}, \"baxis\": {\"endlinecolor\": \"#2a3f5f\", \"gridcolor\": \"white\", \"linecolor\": \"white\", \"minorgridcolor\": \"white\", \"startlinecolor\": \"#2a3f5f\"}, \"type\": \"carpet\"}], \"choropleth\": [{\"colorbar\": {\"outlinewidth\": 0, \"ticks\": \"\"}, \"type\": \"choropleth\"}], \"contour\": [{\"colorbar\": {\"outlinewidth\": 0, \"ticks\": \"\"}, \"colorscale\": [[0.0, \"#0d0887\"], [0.1111111111111111, \"#46039f\"], [0.2222222222222222, \"#7201a8\"], [0.3333333333333333, \"#9c179e\"], [0.4444444444444444, \"#bd3786\"], [0.5555555555555556, \"#d8576b\"], [0.6666666666666666, \"#ed7953\"], [0.7777777777777778, \"#fb9f3a\"], [0.8888888888888888, \"#fdca26\"], [1.0, \"#f0f921\"]], \"type\": \"contour\"}], \"contourcarpet\": [{\"colorbar\": {\"outlinewidth\": 0, \"ticks\": \"\"}, \"type\": \"contourcarpet\"}], \"heatmap\": [{\"colorbar\": {\"outlinewidth\": 0, \"ticks\": \"\"}, \"colorscale\": [[0.0, \"#0d0887\"], [0.1111111111111111, \"#46039f\"], [0.2222222222222222, \"#7201a8\"], [0.3333333333333333, \"#9c179e\"], [0.4444444444444444, \"#bd3786\"], [0.5555555555555556, \"#d8576b\"], [0.6666666666666666, \"#ed7953\"], [0.7777777777777778, \"#fb9f3a\"], [0.8888888888888888, \"#fdca26\"], [1.0, \"#f0f921\"]], \"type\": \"heatmap\"}], \"heatmapgl\": [{\"colorbar\": {\"outlinewidth\": 0, \"ticks\": \"\"}, \"colorscale\": [[0.0, \"#0d0887\"], [0.1111111111111111, \"#46039f\"], [0.2222222222222222, \"#7201a8\"], [0.3333333333333333, \"#9c179e\"], [0.4444444444444444, \"#bd3786\"], [0.5555555555555556, \"#d8576b\"], [0.6666666666666666, \"#ed7953\"], [0.7777777777777778, \"#fb9f3a\"], [0.8888888888888888, \"#fdca26\"], [1.0, \"#f0f921\"]], \"type\": \"heatmapgl\"}], \"histogram\": [{\"marker\": {\"colorbar\": {\"outlinewidth\": 0, \"ticks\": \"\"}}, \"type\": \"histogram\"}], \"histogram2d\": [{\"colorbar\": {\"outlinewidth\": 0, \"ticks\": \"\"}, \"colorscale\": [[0.0, \"#0d0887\"], [0.1111111111111111, \"#46039f\"], [0.2222222222222222, \"#7201a8\"], [0.3333333333333333, \"#9c179e\"], [0.4444444444444444, \"#bd3786\"], [0.5555555555555556, \"#d8576b\"], [0.6666666666666666, \"#ed7953\"], [0.7777777777777778, \"#fb9f3a\"], [0.8888888888888888, \"#fdca26\"], [1.0, \"#f0f921\"]], \"type\": \"histogram2d\"}], \"histogram2dcontour\": [{\"colorbar\": {\"outlinewidth\": 0, \"ticks\": \"\"}, \"colorscale\": [[0.0, \"#0d0887\"], [0.1111111111111111, \"#46039f\"], [0.2222222222222222, \"#7201a8\"], [0.3333333333333333, \"#9c179e\"], [0.4444444444444444, \"#bd3786\"], [0.5555555555555556, \"#d8576b\"], [0.6666666666666666, \"#ed7953\"], [0.7777777777777778, \"#fb9f3a\"], [0.8888888888888888, \"#fdca26\"], [1.0, \"#f0f921\"]], \"type\": \"histogram2dcontour\"}], \"mesh3d\": [{\"colorbar\": {\"outlinewidth\": 0, \"ticks\": \"\"}, \"type\": \"mesh3d\"}], \"parcoords\": [{\"line\": {\"colorbar\": {\"outlinewidth\": 0, \"ticks\": \"\"}}, \"type\": \"parcoords\"}], \"pie\": [{\"automargin\": true, \"type\": \"pie\"}], \"scatter\": [{\"marker\": {\"colorbar\": {\"outlinewidth\": 0, \"ticks\": \"\"}}, \"type\": \"scatter\"}], \"scatter3d\": [{\"line\": {\"colorbar\": {\"outlinewidth\": 0, \"ticks\": \"\"}}, \"marker\": {\"colorbar\": {\"outlinewidth\": 0, \"ticks\": \"\"}}, \"type\": \"scatter3d\"}], \"scattercarpet\": [{\"marker\": {\"colorbar\": {\"outlinewidth\": 0, \"ticks\": \"\"}}, \"type\": \"scattercarpet\"}], \"scattergeo\": [{\"marker\": {\"colorbar\": {\"outlinewidth\": 0, \"ticks\": \"\"}}, \"type\": \"scattergeo\"}], \"scattergl\": [{\"marker\": {\"colorbar\": {\"outlinewidth\": 0, \"ticks\": \"\"}}, \"type\": \"scattergl\"}], \"scattermapbox\": [{\"marker\": {\"colorbar\": {\"outlinewidth\": 0, \"ticks\": \"\"}}, \"type\": \"scattermapbox\"}], \"scatterpolar\": [{\"marker\": {\"colorbar\": {\"outlinewidth\": 0, \"ticks\": \"\"}}, \"type\": \"scatterpolar\"}], \"scatterpolargl\": [{\"marker\": {\"colorbar\": {\"outlinewidth\": 0, \"ticks\": \"\"}}, \"type\": \"scatterpolargl\"}], \"scatterternary\": [{\"marker\": {\"colorbar\": {\"outlinewidth\": 0, \"ticks\": \"\"}}, \"type\": \"scatterternary\"}], \"surface\": [{\"colorbar\": {\"outlinewidth\": 0, \"ticks\": \"\"}, \"colorscale\": [[0.0, \"#0d0887\"], [0.1111111111111111, \"#46039f\"], [0.2222222222222222, \"#7201a8\"], [0.3333333333333333, \"#9c179e\"], [0.4444444444444444, \"#bd3786\"], [0.5555555555555556, \"#d8576b\"], [0.6666666666666666, \"#ed7953\"], [0.7777777777777778, \"#fb9f3a\"], [0.8888888888888888, \"#fdca26\"], [1.0, \"#f0f921\"]], \"type\": \"surface\"}], \"table\": [{\"cells\": {\"fill\": {\"color\": \"#EBF0F8\"}, \"line\": {\"color\": \"white\"}}, \"header\": {\"fill\": {\"color\": \"#C8D4E3\"}, \"line\": {\"color\": \"white\"}}, \"type\": \"table\"}]}, \"layout\": {\"annotationdefaults\": {\"arrowcolor\": \"#2a3f5f\", \"arrowhead\": 0, \"arrowwidth\": 1}, \"coloraxis\": {\"colorbar\": {\"outlinewidth\": 0, \"ticks\": \"\"}}, \"colorscale\": {\"diverging\": [[0, \"#8e0152\"], [0.1, \"#c51b7d\"], [0.2, \"#de77ae\"], [0.3, \"#f1b6da\"], [0.4, \"#fde0ef\"], [0.5, \"#f7f7f7\"], [0.6, \"#e6f5d0\"], [0.7, \"#b8e186\"], [0.8, \"#7fbc41\"], [0.9, \"#4d9221\"], [1, \"#276419\"]], \"sequential\": [[0.0, \"#0d0887\"], [0.1111111111111111, \"#46039f\"], [0.2222222222222222, \"#7201a8\"], [0.3333333333333333, \"#9c179e\"], [0.4444444444444444, \"#bd3786\"], [0.5555555555555556, \"#d8576b\"], [0.6666666666666666, \"#ed7953\"], [0.7777777777777778, \"#fb9f3a\"], [0.8888888888888888, \"#fdca26\"], [1.0, \"#f0f921\"]], \"sequentialminus\": [[0.0, \"#0d0887\"], [0.1111111111111111, \"#46039f\"], [0.2222222222222222, \"#7201a8\"], [0.3333333333333333, \"#9c179e\"], [0.4444444444444444, \"#bd3786\"], [0.5555555555555556, \"#d8576b\"], [0.6666666666666666, \"#ed7953\"], [0.7777777777777778, \"#fb9f3a\"], [0.8888888888888888, \"#fdca26\"], [1.0, \"#f0f921\"]]}, \"colorway\": [\"#636efa\", \"#EF553B\", \"#00cc96\", \"#ab63fa\", \"#FFA15A\", \"#19d3f3\", \"#FF6692\", \"#B6E880\", \"#FF97FF\", \"#FECB52\"], \"font\": {\"color\": \"#2a3f5f\"}, \"geo\": {\"bgcolor\": \"white\", \"lakecolor\": \"white\", \"landcolor\": \"#E5ECF6\", \"showlakes\": true, \"showland\": true, \"subunitcolor\": \"white\"}, \"hoverlabel\": {\"align\": \"left\"}, \"hovermode\": \"closest\", \"mapbox\": {\"style\": \"light\"}, \"paper_bgcolor\": \"white\", \"plot_bgcolor\": \"#E5ECF6\", \"polar\": {\"angularaxis\": {\"gridcolor\": \"white\", \"linecolor\": \"white\", \"ticks\": \"\"}, \"bgcolor\": \"#E5ECF6\", \"radialaxis\": {\"gridcolor\": \"white\", \"linecolor\": \"white\", \"ticks\": \"\"}}, \"scene\": {\"xaxis\": {\"backgroundcolor\": \"#E5ECF6\", \"gridcolor\": \"white\", \"gridwidth\": 2, \"linecolor\": \"white\", \"showbackground\": true, \"ticks\": \"\", \"zerolinecolor\": \"white\"}, \"yaxis\": {\"backgroundcolor\": \"#E5ECF6\", \"gridcolor\": \"white\", \"gridwidth\": 2, \"linecolor\": \"white\", \"showbackground\": true, \"ticks\": \"\", \"zerolinecolor\": \"white\"}, \"zaxis\": {\"backgroundcolor\": \"#E5ECF6\", \"gridcolor\": \"white\", \"gridwidth\": 2, \"linecolor\": \"white\", \"showbackground\": true, \"ticks\": \"\", \"zerolinecolor\": \"white\"}}, \"shapedefaults\": {\"line\": {\"color\": \"#2a3f5f\"}}, \"ternary\": {\"aaxis\": {\"gridcolor\": \"white\", \"linecolor\": \"white\", \"ticks\": \"\"}, \"baxis\": {\"gridcolor\": \"white\", \"linecolor\": \"white\", \"ticks\": \"\"}, \"bgcolor\": \"#E5ECF6\", \"caxis\": {\"gridcolor\": \"white\", \"linecolor\": \"white\", \"ticks\": \"\"}}, \"title\": {\"x\": 0.05}, \"xaxis\": {\"automargin\": true, \"gridcolor\": \"white\", \"linecolor\": \"white\", \"ticks\": \"\", \"title\": {\"standoff\": 15}, \"zerolinecolor\": \"white\", \"zerolinewidth\": 2}, \"yaxis\": {\"automargin\": true, \"gridcolor\": \"white\", \"linecolor\": \"white\", \"ticks\": \"\", \"title\": {\"standoff\": 15}, \"zerolinecolor\": \"white\", \"zerolinewidth\": 2}}}, \"title\": {\"text\": \"GK\"}},\n",
              "                        {\"responsive\": true}\n",
              "                    ).then(function(){\n",
              "                            \n",
              "var gd = document.getElementById('abf7f8e3-f1a1-4d62-9c6d-6f46ca073198');\n",
              "var x = new MutationObserver(function (mutations, observer) {{\n",
              "        var display = window.getComputedStyle(gd).display;\n",
              "        if (!display || display === 'none') {{\n",
              "            console.log([gd, 'removed!']);\n",
              "            Plotly.purge(gd);\n",
              "            observer.disconnect();\n",
              "        }}\n",
              "}});\n",
              "\n",
              "// Listen for the removal of the full notebook cells\n",
              "var notebookContainer = gd.closest('#notebook-container');\n",
              "if (notebookContainer) {{\n",
              "    x.observe(notebookContainer, {childList: true});\n",
              "}}\n",
              "\n",
              "// Listen for the clearing of the current output cell\n",
              "var outputEl = gd.closest('.output');\n",
              "if (outputEl) {{\n",
              "    x.observe(outputEl, {childList: true});\n",
              "}}\n",
              "\n",
              "                        })\n",
              "                };\n",
              "                \n",
              "            </script>\n",
              "        </div>\n",
              "</body>\n",
              "</html>"
            ]
          },
          "metadata": {
            "tags": []
          }
        }
      ]
    },
    {
      "cell_type": "code",
      "metadata": {
        "id": "AjTY_jCvtyyT"
      },
      "source": [
        "lista = [\"Position\", 'Skill Moves', 'Crossing',\n",
        "       'Finishing', 'HeadingAccuracy', 'ShortPassing', 'Volleys', 'Dribbling',\n",
        "       'Curve', 'FKAccuracy', 'LongPassing', 'BallControl', 'Acceleration',\n",
        "       'SprintSpeed', 'Agility', 'Balance', 'ShotPower',\n",
        "       'Jumping', 'Stamina', 'Strength', 'LongShots', 'Aggression',\n",
        "       'Interceptions', 'Positioning', 'Vision', 'Penalties', 'Composure',\n",
        "       'Marking', 'StandingTackle', 'SlidingTackle']"
      ],
      "execution_count": null,
      "outputs": []
    },
    {
      "cell_type": "code",
      "metadata": {
        "id": "oHTiMSmYr_eW"
      },
      "source": [
        "avg_data = data.loc[:, lista].groupby(\"Position\").mean()"
      ],
      "execution_count": null,
      "outputs": []
    },
    {
      "cell_type": "code",
      "metadata": {
        "colab": {
          "base_uri": "https://localhost:8080/",
          "height": 542
        },
        "id": "FNTRZN2rrFxy",
        "outputId": "f471f1ca-58ce-42e0-c753-9f6b239f1bc2"
      },
      "source": [
        "fig = go.Figure()\n",
        "\n",
        "for i in [0,1,2]:\n",
        "    if i == 0:\n",
        "      b= \"Defensor\"\n",
        "    elif i == 1:\n",
        "      b= \"Mediocampista\"\n",
        "    else:\n",
        "      b= \"Delantero\"\n",
        "    fig.add_trace(\n",
        "                go.Scatterpolar(\n",
        "                                r=avg_data.iloc[i].values,\n",
        "                                theta=avg_data.columns,\n",
        "                                fill='toself',\n",
        "                                name=b,\n",
        "                                showlegend=True,\n",
        "                                )\n",
        "                )\n",
        "\n",
        "fig.update_layout(\n",
        "    polar=dict(\n",
        "        radialaxis=dict(\n",
        "                        visible=True,\n",
        "                        range=[0, 1]\n",
        "                    )\n",
        "            ),\n",
        "    title=\"Wine Variables According to Wine Categories\"\n",
        ")\n",
        "\n",
        "fig.show()"
      ],
      "execution_count": null,
      "outputs": [
        {
          "output_type": "display_data",
          "data": {
            "text/html": [
              "<html>\n",
              "<head><meta charset=\"utf-8\" /></head>\n",
              "<body>\n",
              "    <div>\n",
              "            <script src=\"https://cdnjs.cloudflare.com/ajax/libs/mathjax/2.7.5/MathJax.js?config=TeX-AMS-MML_SVG\"></script><script type=\"text/javascript\">if (window.MathJax) {MathJax.Hub.Config({SVG: {font: \"STIX-Web\"}});}</script>\n",
              "                <script type=\"text/javascript\">window.PlotlyConfig = {MathJaxConfig: 'local'};</script>\n",
              "        <script src=\"https://cdn.plot.ly/plotly-latest.min.js\"></script>    \n",
              "            <div id=\"0ba7cb0b-ffbf-45a9-a39b-11bf68decdd6\" class=\"plotly-graph-div\" style=\"height:525px; width:100%;\"></div>\n",
              "            <script type=\"text/javascript\">\n",
              "                \n",
              "                    window.PLOTLYENV=window.PLOTLYENV || {};\n",
              "                    \n",
              "                if (document.getElementById(\"0ba7cb0b-ffbf-45a9-a39b-11bf68decdd6\")) {\n",
              "                    Plotly.newPlot(\n",
              "                        '0ba7cb0b-ffbf-45a9-a39b-11bf68decdd6',\n",
              "                        [{\"fill\": \"toself\", \"name\": \"Defensor\", \"r\": [-0.2063693481117739, 0.06834738023683383, -0.5491122825977243, 0.5025122002017038, 0.02559562047051082, -0.4293502708076216, -0.17178382439100348, -0.21742437578504506, -0.23841256609334704, 0.0468358191015747, -0.052278649911673164, -0.045165137617508906, 0.019699022516936383, -0.2332670925455445, -0.18884460842344067, -0.24489916248647112, 0.3374133333746205, 0.2949530976246652, 0.4302587508709114, -0.399147919211067, 0.5530934234339127, 0.8316128704926691, -0.32965778187627515, -0.5177620023679315, -0.33796507297619544, -0.025569118491897747, 0.8435588918743862, 0.8863852117663789, 0.9170547344591672], \"showlegend\": true, \"theta\": [\"Skill Moves\", \"Crossing\", \"Finishing\", \"HeadingAccuracy\", \"ShortPassing\", \"Volleys\", \"Dribbling\", \"Curve\", \"FKAccuracy\", \"LongPassing\", \"BallControl\", \"Acceleration\", \"SprintSpeed\", \"Agility\", \"Balance\", \"ShotPower\", \"Jumping\", \"Stamina\", \"Strength\", \"LongShots\", \"Aggression\", \"Interceptions\", \"Positioning\", \"Vision\", \"Penalties\", \"Composure\", \"Marking\", \"StandingTackle\", \"SlidingTackle\"], \"type\": \"scatterpolar\"}, {\"fill\": \"toself\", \"name\": \"Mediocampista\", \"r\": [0.47248016614410876, 0.47970596807013854, 0.4401526323763249, -0.01866858937719062, 0.5660816900693961, 0.4448359262096531, 0.5275265121756929, 0.522968310886835, 0.5732803053926754, 0.6313745250313396, 0.5031899952222041, 0.3258993359239613, 0.2571060285789003, 0.4666223783809056, 0.49036992441994937, 0.44429908012611957, -0.15155862485653585, 0.3139354430210416, -0.2947384927309325, 0.5293328704215671, 0.1451451781519057, 0.16497797886519983, 0.4598057013369563, 0.6516606284938091, 0.38241456307092986, 0.2705249011050645, 0.16228194346664182, 0.16431124299583816, 0.13613105011753746], \"showlegend\": true, \"theta\": [\"Skill Moves\", \"Crossing\", \"Finishing\", \"HeadingAccuracy\", \"ShortPassing\", \"Volleys\", \"Dribbling\", \"Curve\", \"FKAccuracy\", \"LongPassing\", \"BallControl\", \"Acceleration\", \"SprintSpeed\", \"Agility\", \"Balance\", \"ShotPower\", \"Jumping\", \"Stamina\", \"Strength\", \"LongShots\", \"Aggression\", \"Interceptions\", \"Positioning\", \"Vision\", \"Penalties\", \"Composure\", \"Marking\", \"StandingTackle\", \"SlidingTackle\"], \"type\": \"scatterpolar\"}, {\"fill\": \"toself\", \"name\": \"Delantero\", \"r\": [0.44101850483326527, 0.044719718790795386, 1.0266543382195283, 0.43893891301128196, 0.06779757900811474, 0.8214822369248267, 0.5043302167137007, 0.3397893940323164, 0.1967916964392415, -0.31508440699334583, 0.41566300621089836, 0.4378617321529348, 0.4706287235786224, 0.3671942638693304, 0.1931080296500458, 0.62421273575408, 0.0954989198326808, 0.07100455500144148, 0.07047617961272558, 0.6482774836701374, -0.2391259021373969, -0.8974999354213029, 0.7725511084992555, 0.2518986799434919, 0.8426230814969438, 0.18338241470146333, -0.8051078496149053, -0.922201246204027, -0.9558240222290677], \"showlegend\": true, \"theta\": [\"Skill Moves\", \"Crossing\", \"Finishing\", \"HeadingAccuracy\", \"ShortPassing\", \"Volleys\", \"Dribbling\", \"Curve\", \"FKAccuracy\", \"LongPassing\", \"BallControl\", \"Acceleration\", \"SprintSpeed\", \"Agility\", \"Balance\", \"ShotPower\", \"Jumping\", \"Stamina\", \"Strength\", \"LongShots\", \"Aggression\", \"Interceptions\", \"Positioning\", \"Vision\", \"Penalties\", \"Composure\", \"Marking\", \"StandingTackle\", \"SlidingTackle\"], \"type\": \"scatterpolar\"}],\n",
              "                        {\"polar\": {\"radialaxis\": {\"range\": [0, 1], \"visible\": true}}, \"template\": {\"data\": {\"bar\": [{\"error_x\": {\"color\": \"#2a3f5f\"}, \"error_y\": {\"color\": \"#2a3f5f\"}, \"marker\": {\"line\": {\"color\": \"#E5ECF6\", \"width\": 0.5}}, \"type\": \"bar\"}], \"barpolar\": [{\"marker\": {\"line\": {\"color\": \"#E5ECF6\", \"width\": 0.5}}, \"type\": \"barpolar\"}], \"carpet\": [{\"aaxis\": {\"endlinecolor\": \"#2a3f5f\", \"gridcolor\": \"white\", \"linecolor\": \"white\", \"minorgridcolor\": \"white\", \"startlinecolor\": \"#2a3f5f\"}, \"baxis\": {\"endlinecolor\": \"#2a3f5f\", \"gridcolor\": \"white\", \"linecolor\": \"white\", \"minorgridcolor\": \"white\", \"startlinecolor\": \"#2a3f5f\"}, \"type\": \"carpet\"}], \"choropleth\": [{\"colorbar\": {\"outlinewidth\": 0, \"ticks\": \"\"}, \"type\": \"choropleth\"}], \"contour\": [{\"colorbar\": {\"outlinewidth\": 0, \"ticks\": \"\"}, \"colorscale\": [[0.0, \"#0d0887\"], [0.1111111111111111, \"#46039f\"], [0.2222222222222222, \"#7201a8\"], [0.3333333333333333, \"#9c179e\"], [0.4444444444444444, \"#bd3786\"], [0.5555555555555556, \"#d8576b\"], [0.6666666666666666, \"#ed7953\"], [0.7777777777777778, \"#fb9f3a\"], [0.8888888888888888, \"#fdca26\"], [1.0, \"#f0f921\"]], \"type\": \"contour\"}], \"contourcarpet\": [{\"colorbar\": {\"outlinewidth\": 0, \"ticks\": \"\"}, \"type\": \"contourcarpet\"}], \"heatmap\": [{\"colorbar\": {\"outlinewidth\": 0, \"ticks\": \"\"}, \"colorscale\": [[0.0, \"#0d0887\"], [0.1111111111111111, \"#46039f\"], [0.2222222222222222, \"#7201a8\"], [0.3333333333333333, \"#9c179e\"], [0.4444444444444444, \"#bd3786\"], [0.5555555555555556, \"#d8576b\"], [0.6666666666666666, \"#ed7953\"], [0.7777777777777778, \"#fb9f3a\"], [0.8888888888888888, \"#fdca26\"], [1.0, \"#f0f921\"]], \"type\": \"heatmap\"}], \"heatmapgl\": [{\"colorbar\": {\"outlinewidth\": 0, \"ticks\": \"\"}, \"colorscale\": [[0.0, \"#0d0887\"], [0.1111111111111111, \"#46039f\"], [0.2222222222222222, \"#7201a8\"], [0.3333333333333333, \"#9c179e\"], [0.4444444444444444, \"#bd3786\"], [0.5555555555555556, \"#d8576b\"], [0.6666666666666666, \"#ed7953\"], [0.7777777777777778, \"#fb9f3a\"], [0.8888888888888888, \"#fdca26\"], [1.0, \"#f0f921\"]], \"type\": \"heatmapgl\"}], \"histogram\": [{\"marker\": {\"colorbar\": {\"outlinewidth\": 0, \"ticks\": \"\"}}, \"type\": \"histogram\"}], \"histogram2d\": [{\"colorbar\": {\"outlinewidth\": 0, \"ticks\": \"\"}, \"colorscale\": [[0.0, \"#0d0887\"], [0.1111111111111111, \"#46039f\"], [0.2222222222222222, \"#7201a8\"], [0.3333333333333333, \"#9c179e\"], [0.4444444444444444, \"#bd3786\"], [0.5555555555555556, \"#d8576b\"], [0.6666666666666666, \"#ed7953\"], [0.7777777777777778, \"#fb9f3a\"], [0.8888888888888888, \"#fdca26\"], [1.0, \"#f0f921\"]], \"type\": \"histogram2d\"}], \"histogram2dcontour\": [{\"colorbar\": {\"outlinewidth\": 0, \"ticks\": \"\"}, \"colorscale\": [[0.0, \"#0d0887\"], [0.1111111111111111, \"#46039f\"], [0.2222222222222222, \"#7201a8\"], [0.3333333333333333, \"#9c179e\"], [0.4444444444444444, \"#bd3786\"], [0.5555555555555556, \"#d8576b\"], [0.6666666666666666, \"#ed7953\"], [0.7777777777777778, \"#fb9f3a\"], [0.8888888888888888, \"#fdca26\"], [1.0, \"#f0f921\"]], \"type\": \"histogram2dcontour\"}], \"mesh3d\": [{\"colorbar\": {\"outlinewidth\": 0, \"ticks\": \"\"}, \"type\": \"mesh3d\"}], \"parcoords\": [{\"line\": {\"colorbar\": {\"outlinewidth\": 0, \"ticks\": \"\"}}, \"type\": \"parcoords\"}], \"pie\": [{\"automargin\": true, \"type\": \"pie\"}], \"scatter\": [{\"marker\": {\"colorbar\": {\"outlinewidth\": 0, \"ticks\": \"\"}}, \"type\": \"scatter\"}], \"scatter3d\": [{\"line\": {\"colorbar\": {\"outlinewidth\": 0, \"ticks\": \"\"}}, \"marker\": {\"colorbar\": {\"outlinewidth\": 0, \"ticks\": \"\"}}, \"type\": \"scatter3d\"}], \"scattercarpet\": [{\"marker\": {\"colorbar\": {\"outlinewidth\": 0, \"ticks\": \"\"}}, \"type\": \"scattercarpet\"}], \"scattergeo\": [{\"marker\": {\"colorbar\": {\"outlinewidth\": 0, \"ticks\": \"\"}}, \"type\": \"scattergeo\"}], \"scattergl\": [{\"marker\": {\"colorbar\": {\"outlinewidth\": 0, \"ticks\": \"\"}}, \"type\": \"scattergl\"}], \"scattermapbox\": [{\"marker\": {\"colorbar\": {\"outlinewidth\": 0, \"ticks\": \"\"}}, \"type\": \"scattermapbox\"}], \"scatterpolar\": [{\"marker\": {\"colorbar\": {\"outlinewidth\": 0, \"ticks\": \"\"}}, \"type\": \"scatterpolar\"}], \"scatterpolargl\": [{\"marker\": {\"colorbar\": {\"outlinewidth\": 0, \"ticks\": \"\"}}, \"type\": \"scatterpolargl\"}], \"scatterternary\": [{\"marker\": {\"colorbar\": {\"outlinewidth\": 0, \"ticks\": \"\"}}, \"type\": \"scatterternary\"}], \"surface\": [{\"colorbar\": {\"outlinewidth\": 0, \"ticks\": \"\"}, \"colorscale\": [[0.0, \"#0d0887\"], [0.1111111111111111, \"#46039f\"], [0.2222222222222222, \"#7201a8\"], [0.3333333333333333, \"#9c179e\"], [0.4444444444444444, \"#bd3786\"], [0.5555555555555556, \"#d8576b\"], [0.6666666666666666, \"#ed7953\"], [0.7777777777777778, \"#fb9f3a\"], [0.8888888888888888, \"#fdca26\"], [1.0, \"#f0f921\"]], \"type\": \"surface\"}], \"table\": [{\"cells\": {\"fill\": {\"color\": \"#EBF0F8\"}, \"line\": {\"color\": \"white\"}}, \"header\": {\"fill\": {\"color\": \"#C8D4E3\"}, \"line\": {\"color\": \"white\"}}, \"type\": \"table\"}]}, \"layout\": {\"annotationdefaults\": {\"arrowcolor\": \"#2a3f5f\", \"arrowhead\": 0, \"arrowwidth\": 1}, \"coloraxis\": {\"colorbar\": {\"outlinewidth\": 0, \"ticks\": \"\"}}, \"colorscale\": {\"diverging\": [[0, \"#8e0152\"], [0.1, \"#c51b7d\"], [0.2, \"#de77ae\"], [0.3, \"#f1b6da\"], [0.4, \"#fde0ef\"], [0.5, \"#f7f7f7\"], [0.6, \"#e6f5d0\"], [0.7, \"#b8e186\"], [0.8, \"#7fbc41\"], [0.9, \"#4d9221\"], [1, \"#276419\"]], \"sequential\": [[0.0, \"#0d0887\"], [0.1111111111111111, \"#46039f\"], [0.2222222222222222, \"#7201a8\"], [0.3333333333333333, \"#9c179e\"], [0.4444444444444444, \"#bd3786\"], [0.5555555555555556, \"#d8576b\"], [0.6666666666666666, \"#ed7953\"], [0.7777777777777778, \"#fb9f3a\"], [0.8888888888888888, \"#fdca26\"], [1.0, \"#f0f921\"]], \"sequentialminus\": [[0.0, \"#0d0887\"], [0.1111111111111111, \"#46039f\"], [0.2222222222222222, \"#7201a8\"], [0.3333333333333333, \"#9c179e\"], [0.4444444444444444, \"#bd3786\"], [0.5555555555555556, \"#d8576b\"], [0.6666666666666666, \"#ed7953\"], [0.7777777777777778, \"#fb9f3a\"], [0.8888888888888888, \"#fdca26\"], [1.0, \"#f0f921\"]]}, \"colorway\": [\"#636efa\", \"#EF553B\", \"#00cc96\", \"#ab63fa\", \"#FFA15A\", \"#19d3f3\", \"#FF6692\", \"#B6E880\", \"#FF97FF\", \"#FECB52\"], \"font\": {\"color\": \"#2a3f5f\"}, \"geo\": {\"bgcolor\": \"white\", \"lakecolor\": \"white\", \"landcolor\": \"#E5ECF6\", \"showlakes\": true, \"showland\": true, \"subunitcolor\": \"white\"}, \"hoverlabel\": {\"align\": \"left\"}, \"hovermode\": \"closest\", \"mapbox\": {\"style\": \"light\"}, \"paper_bgcolor\": \"white\", \"plot_bgcolor\": \"#E5ECF6\", \"polar\": {\"angularaxis\": {\"gridcolor\": \"white\", \"linecolor\": \"white\", \"ticks\": \"\"}, \"bgcolor\": \"#E5ECF6\", \"radialaxis\": {\"gridcolor\": \"white\", \"linecolor\": \"white\", \"ticks\": \"\"}}, \"scene\": {\"xaxis\": {\"backgroundcolor\": \"#E5ECF6\", \"gridcolor\": \"white\", \"gridwidth\": 2, \"linecolor\": \"white\", \"showbackground\": true, \"ticks\": \"\", \"zerolinecolor\": \"white\"}, \"yaxis\": {\"backgroundcolor\": \"#E5ECF6\", \"gridcolor\": \"white\", \"gridwidth\": 2, \"linecolor\": \"white\", \"showbackground\": true, \"ticks\": \"\", \"zerolinecolor\": \"white\"}, \"zaxis\": {\"backgroundcolor\": \"#E5ECF6\", \"gridcolor\": \"white\", \"gridwidth\": 2, \"linecolor\": \"white\", \"showbackground\": true, \"ticks\": \"\", \"zerolinecolor\": \"white\"}}, \"shapedefaults\": {\"line\": {\"color\": \"#2a3f5f\"}}, \"ternary\": {\"aaxis\": {\"gridcolor\": \"white\", \"linecolor\": \"white\", \"ticks\": \"\"}, \"baxis\": {\"gridcolor\": \"white\", \"linecolor\": \"white\", \"ticks\": \"\"}, \"bgcolor\": \"#E5ECF6\", \"caxis\": {\"gridcolor\": \"white\", \"linecolor\": \"white\", \"ticks\": \"\"}}, \"title\": {\"x\": 0.05}, \"xaxis\": {\"automargin\": true, \"gridcolor\": \"white\", \"linecolor\": \"white\", \"ticks\": \"\", \"title\": {\"standoff\": 15}, \"zerolinecolor\": \"white\", \"zerolinewidth\": 2}, \"yaxis\": {\"automargin\": true, \"gridcolor\": \"white\", \"linecolor\": \"white\", \"ticks\": \"\", \"title\": {\"standoff\": 15}, \"zerolinecolor\": \"white\", \"zerolinewidth\": 2}}}, \"title\": {\"text\": \"Wine Variables According to Wine Categories\"}},\n",
              "                        {\"responsive\": true}\n",
              "                    ).then(function(){\n",
              "                            \n",
              "var gd = document.getElementById('0ba7cb0b-ffbf-45a9-a39b-11bf68decdd6');\n",
              "var x = new MutationObserver(function (mutations, observer) {{\n",
              "        var display = window.getComputedStyle(gd).display;\n",
              "        if (!display || display === 'none') {{\n",
              "            console.log([gd, 'removed!']);\n",
              "            Plotly.purge(gd);\n",
              "            observer.disconnect();\n",
              "        }}\n",
              "}});\n",
              "\n",
              "// Listen for the removal of the full notebook cells\n",
              "var notebookContainer = gd.closest('#notebook-container');\n",
              "if (notebookContainer) {{\n",
              "    x.observe(notebookContainer, {childList: true});\n",
              "}}\n",
              "\n",
              "// Listen for the clearing of the current output cell\n",
              "var outputEl = gd.closest('.output');\n",
              "if (outputEl) {{\n",
              "    x.observe(outputEl, {childList: true});\n",
              "}}\n",
              "\n",
              "                        })\n",
              "                };\n",
              "                \n",
              "            </script>\n",
              "        </div>\n",
              "</body>\n",
              "</html>"
            ]
          },
          "metadata": {
            "tags": []
          }
        }
      ]
    },
    {
      "cell_type": "code",
      "metadata": {
        "colab": {
          "base_uri": "https://localhost:8080/",
          "height": 241
        },
        "id": "z-nrSjhR4yzz",
        "outputId": "7dc69ef0-4dcc-4776-9ed6-0fbe07e900cb"
      },
      "source": [
        "avg_data"
      ],
      "execution_count": null,
      "outputs": [
        {
          "output_type": "execute_result",
          "data": {
            "text/html": [
              "<div>\n",
              "<style scoped>\n",
              "    .dataframe tbody tr th:only-of-type {\n",
              "        vertical-align: middle;\n",
              "    }\n",
              "\n",
              "    .dataframe tbody tr th {\n",
              "        vertical-align: top;\n",
              "    }\n",
              "\n",
              "    .dataframe thead th {\n",
              "        text-align: right;\n",
              "    }\n",
              "</style>\n",
              "<table border=\"1\" class=\"dataframe\">\n",
              "  <thead>\n",
              "    <tr style=\"text-align: right;\">\n",
              "      <th></th>\n",
              "      <th>Skill Moves</th>\n",
              "      <th>Crossing</th>\n",
              "      <th>Finishing</th>\n",
              "      <th>HeadingAccuracy</th>\n",
              "      <th>ShortPassing</th>\n",
              "      <th>Volleys</th>\n",
              "      <th>Dribbling</th>\n",
              "      <th>Curve</th>\n",
              "      <th>FKAccuracy</th>\n",
              "      <th>LongPassing</th>\n",
              "      <th>BallControl</th>\n",
              "      <th>Acceleration</th>\n",
              "      <th>SprintSpeed</th>\n",
              "      <th>Agility</th>\n",
              "      <th>Balance</th>\n",
              "      <th>ShotPower</th>\n",
              "      <th>Jumping</th>\n",
              "      <th>Stamina</th>\n",
              "      <th>Strength</th>\n",
              "      <th>LongShots</th>\n",
              "      <th>Aggression</th>\n",
              "      <th>Interceptions</th>\n",
              "      <th>Positioning</th>\n",
              "      <th>Vision</th>\n",
              "      <th>Penalties</th>\n",
              "      <th>Composure</th>\n",
              "      <th>Marking</th>\n",
              "      <th>StandingTackle</th>\n",
              "      <th>SlidingTackle</th>\n",
              "    </tr>\n",
              "    <tr>\n",
              "      <th>Position</th>\n",
              "      <th></th>\n",
              "      <th></th>\n",
              "      <th></th>\n",
              "      <th></th>\n",
              "      <th></th>\n",
              "      <th></th>\n",
              "      <th></th>\n",
              "      <th></th>\n",
              "      <th></th>\n",
              "      <th></th>\n",
              "      <th></th>\n",
              "      <th></th>\n",
              "      <th></th>\n",
              "      <th></th>\n",
              "      <th></th>\n",
              "      <th></th>\n",
              "      <th></th>\n",
              "      <th></th>\n",
              "      <th></th>\n",
              "      <th></th>\n",
              "      <th></th>\n",
              "      <th></th>\n",
              "      <th></th>\n",
              "      <th></th>\n",
              "      <th></th>\n",
              "      <th></th>\n",
              "      <th></th>\n",
              "      <th></th>\n",
              "      <th></th>\n",
              "    </tr>\n",
              "  </thead>\n",
              "  <tbody>\n",
              "    <tr>\n",
              "      <th>0</th>\n",
              "      <td>-0.206369</td>\n",
              "      <td>0.068347</td>\n",
              "      <td>-0.549112</td>\n",
              "      <td>0.502512</td>\n",
              "      <td>0.025596</td>\n",
              "      <td>-0.429350</td>\n",
              "      <td>-0.171784</td>\n",
              "      <td>-0.217424</td>\n",
              "      <td>-0.238413</td>\n",
              "      <td>0.046836</td>\n",
              "      <td>-0.052279</td>\n",
              "      <td>-0.045165</td>\n",
              "      <td>0.019699</td>\n",
              "      <td>-0.233267</td>\n",
              "      <td>-0.188845</td>\n",
              "      <td>-0.244899</td>\n",
              "      <td>0.337413</td>\n",
              "      <td>0.294953</td>\n",
              "      <td>0.430259</td>\n",
              "      <td>-0.399148</td>\n",
              "      <td>0.553093</td>\n",
              "      <td>0.831613</td>\n",
              "      <td>-0.329658</td>\n",
              "      <td>-0.517762</td>\n",
              "      <td>-0.337965</td>\n",
              "      <td>-0.025569</td>\n",
              "      <td>0.843559</td>\n",
              "      <td>0.886385</td>\n",
              "      <td>0.917055</td>\n",
              "    </tr>\n",
              "    <tr>\n",
              "      <th>1</th>\n",
              "      <td>0.472480</td>\n",
              "      <td>0.479706</td>\n",
              "      <td>0.440153</td>\n",
              "      <td>-0.018669</td>\n",
              "      <td>0.566082</td>\n",
              "      <td>0.444836</td>\n",
              "      <td>0.527527</td>\n",
              "      <td>0.522968</td>\n",
              "      <td>0.573280</td>\n",
              "      <td>0.631375</td>\n",
              "      <td>0.503190</td>\n",
              "      <td>0.325899</td>\n",
              "      <td>0.257106</td>\n",
              "      <td>0.466622</td>\n",
              "      <td>0.490370</td>\n",
              "      <td>0.444299</td>\n",
              "      <td>-0.151559</td>\n",
              "      <td>0.313935</td>\n",
              "      <td>-0.294738</td>\n",
              "      <td>0.529333</td>\n",
              "      <td>0.145145</td>\n",
              "      <td>0.164978</td>\n",
              "      <td>0.459806</td>\n",
              "      <td>0.651661</td>\n",
              "      <td>0.382415</td>\n",
              "      <td>0.270525</td>\n",
              "      <td>0.162282</td>\n",
              "      <td>0.164311</td>\n",
              "      <td>0.136131</td>\n",
              "    </tr>\n",
              "    <tr>\n",
              "      <th>2</th>\n",
              "      <td>0.441019</td>\n",
              "      <td>0.044720</td>\n",
              "      <td>1.026654</td>\n",
              "      <td>0.438939</td>\n",
              "      <td>0.067798</td>\n",
              "      <td>0.821482</td>\n",
              "      <td>0.504330</td>\n",
              "      <td>0.339789</td>\n",
              "      <td>0.196792</td>\n",
              "      <td>-0.315084</td>\n",
              "      <td>0.415663</td>\n",
              "      <td>0.437862</td>\n",
              "      <td>0.470629</td>\n",
              "      <td>0.367194</td>\n",
              "      <td>0.193108</td>\n",
              "      <td>0.624213</td>\n",
              "      <td>0.095499</td>\n",
              "      <td>0.071005</td>\n",
              "      <td>0.070476</td>\n",
              "      <td>0.648277</td>\n",
              "      <td>-0.239126</td>\n",
              "      <td>-0.897500</td>\n",
              "      <td>0.772551</td>\n",
              "      <td>0.251899</td>\n",
              "      <td>0.842623</td>\n",
              "      <td>0.183382</td>\n",
              "      <td>-0.805108</td>\n",
              "      <td>-0.922201</td>\n",
              "      <td>-0.955824</td>\n",
              "    </tr>\n",
              "    <tr>\n",
              "      <th>3</th>\n",
              "      <td>-1.807266</td>\n",
              "      <td>-1.937278</td>\n",
              "      <td>-1.727015</td>\n",
              "      <td>-2.200461</td>\n",
              "      <td>-2.150355</td>\n",
              "      <td>-1.731272</td>\n",
              "      <td>-2.212115</td>\n",
              "      <td>-1.768638</td>\n",
              "      <td>-1.625696</td>\n",
              "      <td>-1.756553</td>\n",
              "      <td>-2.322925</td>\n",
              "      <td>-1.771463</td>\n",
              "      <td>-1.783799</td>\n",
              "      <td>-1.576181</td>\n",
              "      <td>-1.479239</td>\n",
              "      <td>-1.922517</td>\n",
              "      <td>-0.642801</td>\n",
              "      <td>-2.080702</td>\n",
              "      <td>-0.378031</td>\n",
              "      <td>-1.803630</td>\n",
              "      <td>-1.707652</td>\n",
              "      <td>-1.425673</td>\n",
              "      <td>-1.990053</td>\n",
              "      <td>-1.169884</td>\n",
              "      <td>-1.823177</td>\n",
              "      <td>-1.184948</td>\n",
              "      <td>-1.616168</td>\n",
              "      <td>-1.541045</td>\n",
              "      <td>-1.474413</td>\n",
              "    </tr>\n",
              "  </tbody>\n",
              "</table>\n",
              "</div>"
            ],
            "text/plain": [
              "          Skill Moves  Crossing  ...  StandingTackle  SlidingTackle\n",
              "Position                         ...                               \n",
              "0           -0.206369  0.068347  ...        0.886385       0.917055\n",
              "1            0.472480  0.479706  ...        0.164311       0.136131\n",
              "2            0.441019  0.044720  ...       -0.922201      -0.955824\n",
              "3           -1.807266 -1.937278  ...       -1.541045      -1.474413\n",
              "\n",
              "[4 rows x 29 columns]"
            ]
          },
          "metadata": {
            "tags": []
          },
          "execution_count": 2877
        }
      ]
    },
    {
      "cell_type": "markdown",
      "metadata": {
        "id": "UjpcUTFYkoTd"
      },
      "source": [
        "# **Preprocesamiento Final**"
      ]
    },
    {
      "cell_type": "code",
      "metadata": {
        "colab": {
          "base_uri": "https://localhost:8080/",
          "height": 117
        },
        "id": "MWP8dSip59lj",
        "outputId": "ec286361-f2fa-4b70-d902-d9c87a5442f6"
      },
      "source": [
        "data.head(1)"
      ],
      "execution_count": null,
      "outputs": [
        {
          "output_type": "execute_result",
          "data": {
            "text/html": [
              "<div>\n",
              "<style scoped>\n",
              "    .dataframe tbody tr th:only-of-type {\n",
              "        vertical-align: middle;\n",
              "    }\n",
              "\n",
              "    .dataframe tbody tr th {\n",
              "        vertical-align: top;\n",
              "    }\n",
              "\n",
              "    .dataframe thead th {\n",
              "        text-align: right;\n",
              "    }\n",
              "</style>\n",
              "<table border=\"1\" class=\"dataframe\">\n",
              "  <thead>\n",
              "    <tr style=\"text-align: right;\">\n",
              "      <th></th>\n",
              "      <th>Age</th>\n",
              "      <th>Value</th>\n",
              "      <th>Wage</th>\n",
              "      <th>Special</th>\n",
              "      <th>Weak Foot</th>\n",
              "      <th>Skill Moves</th>\n",
              "      <th>Jersey Number</th>\n",
              "      <th>Height</th>\n",
              "      <th>Weight</th>\n",
              "      <th>Crossing</th>\n",
              "      <th>Finishing</th>\n",
              "      <th>HeadingAccuracy</th>\n",
              "      <th>ShortPassing</th>\n",
              "      <th>Volleys</th>\n",
              "      <th>Dribbling</th>\n",
              "      <th>Curve</th>\n",
              "      <th>FKAccuracy</th>\n",
              "      <th>LongPassing</th>\n",
              "      <th>BallControl</th>\n",
              "      <th>Acceleration</th>\n",
              "      <th>SprintSpeed</th>\n",
              "      <th>Agility</th>\n",
              "      <th>Reactions</th>\n",
              "      <th>Balance</th>\n",
              "      <th>ShotPower</th>\n",
              "      <th>Jumping</th>\n",
              "      <th>Stamina</th>\n",
              "      <th>Strength</th>\n",
              "      <th>LongShots</th>\n",
              "      <th>Aggression</th>\n",
              "      <th>Interceptions</th>\n",
              "      <th>Positioning</th>\n",
              "      <th>Vision</th>\n",
              "      <th>Penalties</th>\n",
              "      <th>Composure</th>\n",
              "      <th>Marking</th>\n",
              "      <th>StandingTackle</th>\n",
              "      <th>SlidingTackle</th>\n",
              "      <th>GKDiving</th>\n",
              "      <th>GKHandling</th>\n",
              "      <th>GKKicking</th>\n",
              "      <th>GKPositioning</th>\n",
              "      <th>GKReflexes</th>\n",
              "      <th>Position</th>\n",
              "      <th>AttackRate</th>\n",
              "      <th>DefenseRate</th>\n",
              "      <th>Body Type_Lean</th>\n",
              "      <th>Body Type_Normal</th>\n",
              "      <th>Body Type_Stocky</th>\n",
              "      <th>Preferred Foot_Left</th>\n",
              "      <th>Preferred Foot_Right</th>\n",
              "    </tr>\n",
              "  </thead>\n",
              "  <tbody>\n",
              "    <tr>\n",
              "      <th>0</th>\n",
              "      <td>-0.670452</td>\n",
              "      <td>-0.402528</td>\n",
              "      <td>-0.400739</td>\n",
              "      <td>-1.241761</td>\n",
              "      <td>0.081894</td>\n",
              "      <td>-0.486292</td>\n",
              "      <td>0.693147</td>\n",
              "      <td>0.895723</td>\n",
              "      <td>-0.320603</td>\n",
              "      <td>-1.295531</td>\n",
              "      <td>-1.015898</td>\n",
              "      <td>-0.433376</td>\n",
              "      <td>-1.971354</td>\n",
              "      <td>-0.737348</td>\n",
              "      <td>-1.245608</td>\n",
              "      <td>-1.375056</td>\n",
              "      <td>-1.14107</td>\n",
              "      <td>-1.619383</td>\n",
              "      <td>-0.935498</td>\n",
              "      <td>-0.312705</td>\n",
              "      <td>0.355947</td>\n",
              "      <td>-1.53814</td>\n",
              "      <td>-1.533215</td>\n",
              "      <td>-0.635963</td>\n",
              "      <td>-1.200017</td>\n",
              "      <td>0.244195</td>\n",
              "      <td>-0.58859</td>\n",
              "      <td>0.923802</td>\n",
              "      <td>-1.473879</td>\n",
              "      <td>0.466073</td>\n",
              "      <td>0.264025</td>\n",
              "      <td>-1.492766</td>\n",
              "      <td>-1.303587</td>\n",
              "      <td>-0.746274</td>\n",
              "      <td>-1.108164</td>\n",
              "      <td>0.594824</td>\n",
              "      <td>0.668075</td>\n",
              "      <td>0.588368</td>\n",
              "      <td>-0.427023</td>\n",
              "      <td>-0.551799</td>\n",
              "      <td>-0.495208</td>\n",
              "      <td>-0.548518</td>\n",
              "      <td>-0.369994</td>\n",
              "      <td>0</td>\n",
              "      <td>-0.42579</td>\n",
              "      <td>-0.165276</td>\n",
              "      <td>1.353034</td>\n",
              "      <td>-1.182308</td>\n",
              "      <td>-0.260974</td>\n",
              "      <td>-0.549616</td>\n",
              "      <td>0.549616</td>\n",
              "    </tr>\n",
              "  </tbody>\n",
              "</table>\n",
              "</div>"
            ],
            "text/plain": [
              "        Age     Value  ...  Preferred Foot_Left  Preferred Foot_Right\n",
              "0 -0.670452 -0.402528  ...            -0.549616              0.549616\n",
              "\n",
              "[1 rows x 51 columns]"
            ]
          },
          "metadata": {
            "tags": []
          },
          "execution_count": 2878
        }
      ]
    },
    {
      "cell_type": "code",
      "metadata": {
        "id": "TMxWl2Px41W6"
      },
      "source": [
        "#Elimino las ultimas columnas que no demuestran ser buenas clasificadoras del target\n",
        "data.drop([\"Body Type_Lean\", \"Value\", \"Wage\",\"Body Type_Normal\", \"Body Type_Stocky\", \"Weak Foot\", \"Age\", \"Special\", \"Height\", \"Weight\", \"GKHandling\",\t\"GKKicking\",\t\"GKPositioning\",\t\"GKReflexes\", \"Body Type_Lean\",\t\"Body Type_Normal\",\t\"Body Type_Stocky\"], axis = 1, inplace = True)"
      ],
      "execution_count": null,
      "outputs": []
    },
    {
      "cell_type": "code",
      "metadata": {
        "id": "GW7bxMaZ-tSw"
      },
      "source": [
        "entrenamiento, validacion = train_test_split(data, test_size=0.2) #Split en entrenamiento y validacion"
      ],
      "execution_count": null,
      "outputs": []
    },
    {
      "cell_type": "code",
      "metadata": {
        "colab": {
          "base_uri": "https://localhost:8080/"
        },
        "id": "cTT2KQ5x_X7s",
        "outputId": "6458fa9a-48f3-4673-ca94-1b949d1205fc"
      },
      "source": [
        "entrenamiento.shape"
      ],
      "execution_count": null,
      "outputs": [
        {
          "output_type": "execute_result",
          "data": {
            "text/plain": [
              "(10161, 37)"
            ]
          },
          "metadata": {
            "tags": []
          },
          "execution_count": 2882
        }
      ]
    },
    {
      "cell_type": "code",
      "metadata": {
        "colab": {
          "base_uri": "https://localhost:8080/"
        },
        "id": "WB70ZGJ9_cS8",
        "outputId": "706e98f0-bd9f-4ddb-8812-58b2ff04bc9c"
      },
      "source": [
        "validacion.shape"
      ],
      "execution_count": null,
      "outputs": [
        {
          "output_type": "execute_result",
          "data": {
            "text/plain": [
              "(2541, 37)"
            ]
          },
          "metadata": {
            "tags": []
          },
          "execution_count": 2883
        }
      ]
    },
    {
      "cell_type": "code",
      "metadata": {
        "id": "7ufa0qa2vU6x"
      },
      "source": [
        "x = entrenamiento.loc[:, data.columns != \"Position\"] #Matriz de labels\n",
        "y = entrenamiento.loc[:, \"Position\"] #Matriz de target"
      ],
      "execution_count": null,
      "outputs": []
    },
    {
      "cell_type": "code",
      "metadata": {
        "id": "kCp1u2nYqua0"
      },
      "source": [
        "train_target = torch.tensor(y.values.astype(np.float32))\n",
        "train = torch.tensor(x.values.astype(np.float32)) \n",
        "train_tensor = torch.utils.data.TensorDataset(train, train_target) \n",
        "\n",
        "train_loader = torch.utils.data.DataLoader(dataset = train_tensor, batch_size = 1129, shuffle = True) #Generador de batches de entrenamiento"
      ],
      "execution_count": null,
      "outputs": []
    },
    {
      "cell_type": "code",
      "metadata": {
        "id": "ou8fD1NsARIL"
      },
      "source": [
        "x = validacion.loc[:, data.columns != \"Position\"]\n",
        "y = validacion.loc[:, \"Position\"] \n",
        "\n",
        "val_target = torch.tensor(y.values.astype(np.float32)) #Tensor target de validacion\n",
        "val_label = torch.tensor(x.values.astype(np.float32))  #Tensor labels de validacion"
      ],
      "execution_count": null,
      "outputs": []
    },
    {
      "cell_type": "code",
      "metadata": {
        "colab": {
          "base_uri": "https://localhost:8080/"
        },
        "id": "tB9kAhOxBhQz",
        "outputId": "5858a671-86a6-4df9-fa5b-f7d393075414"
      },
      "source": [
        "val_label.shape"
      ],
      "execution_count": null,
      "outputs": [
        {
          "output_type": "execute_result",
          "data": {
            "text/plain": [
              "torch.Size([2541, 36])"
            ]
          },
          "metadata": {
            "tags": []
          },
          "execution_count": 2887
        }
      ]
    },
    {
      "cell_type": "code",
      "metadata": {
        "colab": {
          "base_uri": "https://localhost:8080/"
        },
        "id": "3zi5TNsdgQCn",
        "outputId": "7917c36e-9fcd-4757-fe3c-3574387bb3bc"
      },
      "source": [
        "val_target.shape"
      ],
      "execution_count": null,
      "outputs": [
        {
          "output_type": "execute_result",
          "data": {
            "text/plain": [
              "torch.Size([2541])"
            ]
          },
          "metadata": {
            "tags": []
          },
          "execution_count": 2888
        }
      ]
    },
    {
      "cell_type": "markdown",
      "metadata": {
        "id": "2zH7Kv9ngj4h"
      },
      "source": [
        "# **Modelo**"
      ]
    },
    {
      "cell_type": "code",
      "metadata": {
        "id": "a21_hInwj4AD"
      },
      "source": [
        "def evaluate(x):\n",
        "    model.eval()\n",
        "    y_pred = model(x)\n",
        "    y_probas = softmax(y_pred)\n",
        "    return torch.argmax(y_probas, axis=1)\n",
        "\n",
        "def softmax(x):\n",
        "    return torch.exp(x) / torch.exp(x).sum(axis=-1,keepdims=True)"
      ],
      "execution_count": null,
      "outputs": []
    },
    {
      "cell_type": "code",
      "metadata": {
        "id": "8sDqatxgxGrW",
        "colab": {
          "base_uri": "https://localhost:8080/"
        },
        "outputId": "5ff82ee7-7505-4c95-e3aa-9f59ccd3168c"
      },
      "source": [
        "#Genero el perceptron multicapa\n",
        "model = torch.nn.Sequential(\n",
        "    torch.nn.Linear(36, 33),  \n",
        "    torch.nn.ReLU(),\n",
        "    torch.nn.Linear(33, 30),\n",
        "    torch.nn.ReLU(),\n",
        "    torch.nn.Linear(30, 17),\n",
        "    torch.nn.ReLU(),\n",
        "    torch.nn.Linear(17, 10),\n",
        "    torch.nn.ReLU(),\n",
        "    torch.nn.Linear(10, 4)\n",
        ")\n",
        "\n",
        "#Funcion de perdida\n",
        "criterion = torch.nn.CrossEntropyLoss()\n",
        "\n",
        "#Algoritmo de optimizacion\n",
        "optimizer = torch.optim.SGD(model.parameters(), lr=0.1)\n",
        "\n",
        "epochs = 50 #Numero de epocas que va a iterar. 70\n",
        "\n",
        "l = []\n",
        "model.train() #Le indico al modelo que va a entrenar\n",
        "\n",
        "for e in range(1, epochs+1): \n",
        "    _l = []\n",
        "    \n",
        "    # iteramos por batches en el dataloader\n",
        "    for x_b, y_b in train_loader:\n",
        "        \n",
        "        y_b = y_b.long()\n",
        "        \n",
        "        y_pred = model(x_b.view(1129,36)) #Ingreso labels al modelo\n",
        "\n",
        "        loss = criterion(y_pred, y_b) #Calculo de funcion de perdida\n",
        "        _l.append(loss.item())\n",
        "\n",
        "        optimizer.zero_grad() # ponemos a cero los gradientes asi no se acumulan\n",
        "\n",
        "        loss.backward() #calculamos los gradientes\n",
        "        \n",
        "        optimizer.step() # update de los pesos\n",
        "    \n",
        "    l.append(np.mean(_l))\n",
        "    \n",
        "    if not e % 1:\n",
        "        print(f\"Epoch {e}/{epochs} Loss {np.mean(l):.5f}\")\n",
        "\n",
        "y_pred = evaluate(val_label) #Evaluamos los datos de validacion\n",
        "print(\"Validacion:\")\n",
        "print(f\"Accuracy :{accuracy_score(val_target, y_pred.numpy())} \")\n",
        "print(f\"Accuracy balanceado:{balanced_accuracy_score(val_target, y_pred.numpy())} \")\n",
        "print(f\"Nro de epocas: {epochs}\")"
      ],
      "execution_count": null,
      "outputs": [
        {
          "output_type": "stream",
          "text": [
            "Epoch 1/50 Loss 1.37170\n",
            "Epoch 2/50 Loss 1.35466\n",
            "Epoch 3/50 Loss 1.34141\n",
            "Epoch 4/50 Loss 1.33072\n",
            "Epoch 5/50 Loss 1.32133\n",
            "Epoch 6/50 Loss 1.31195\n",
            "Epoch 7/50 Loss 1.30081\n",
            "Epoch 8/50 Loss 1.28514\n",
            "Epoch 9/50 Loss 1.26529\n",
            "Epoch 10/50 Loss 1.24532\n",
            "Epoch 11/50 Loss 1.22651\n",
            "Epoch 12/50 Loss 1.20889\n",
            "Epoch 13/50 Loss 1.19224\n",
            "Epoch 14/50 Loss 1.17624\n",
            "Epoch 15/50 Loss 1.16064\n",
            "Epoch 16/50 Loss 1.14520\n",
            "Epoch 17/50 Loss 1.12978\n",
            "Epoch 18/50 Loss 1.11419\n",
            "Epoch 19/50 Loss 1.09817\n",
            "Epoch 20/50 Loss 1.08144\n",
            "Epoch 21/50 Loss 1.06382\n",
            "Epoch 22/50 Loss 1.04534\n",
            "Epoch 23/50 Loss 1.02624\n",
            "Epoch 24/50 Loss 1.00689\n",
            "Epoch 25/50 Loss 0.98757\n",
            "Epoch 26/50 Loss 0.96853\n",
            "Epoch 27/50 Loss 0.94989\n",
            "Epoch 28/50 Loss 0.93177\n",
            "Epoch 29/50 Loss 0.91423\n",
            "Epoch 30/50 Loss 0.89730\n",
            "Epoch 31/50 Loss 0.88103\n",
            "Epoch 32/50 Loss 0.86539\n",
            "Epoch 33/50 Loss 0.85038\n",
            "Epoch 34/50 Loss 0.83599\n",
            "Epoch 35/50 Loss 0.82219\n",
            "Epoch 36/50 Loss 0.80898\n",
            "Epoch 37/50 Loss 0.79632\n",
            "Epoch 38/50 Loss 0.78419\n",
            "Epoch 39/50 Loss 0.77257\n",
            "Epoch 40/50 Loss 0.76143\n",
            "Epoch 41/50 Loss 0.75074\n",
            "Epoch 42/50 Loss 0.74047\n",
            "Epoch 43/50 Loss 0.73062\n",
            "Epoch 44/50 Loss 0.72116\n",
            "Epoch 45/50 Loss 0.71208\n",
            "Epoch 46/50 Loss 0.70334\n",
            "Epoch 47/50 Loss 0.69493\n",
            "Epoch 48/50 Loss 0.68683\n",
            "Epoch 49/50 Loss 0.67906\n",
            "Epoch 50/50 Loss 0.67156\n",
            "Validacion:\n",
            "Accuracy :0.88823297914207 \n",
            "Accuracy balanceado:0.8930432803707382 \n",
            "Nro de epocas: 50\n"
          ],
          "name": "stdout"
        }
      ]
    },
    {
      "cell_type": "code",
      "metadata": {
        "id": "ES4R5aMnVIO_",
        "colab": {
          "base_uri": "https://localhost:8080/"
        },
        "outputId": "600fa8ac-49f6-427e-f804-d500423d577f"
      },
      "source": [
        "#Matriz de confusion\n",
        "confusion_matrix(val_target, y_pred)"
      ],
      "execution_count": null,
      "outputs": [
        {
          "output_type": "execute_result",
          "data": {
            "text/plain": [
              "array([[791,  49,   0,   0],\n",
              "       [ 60, 832,  58,   0],\n",
              "       [  1, 116, 360,   0],\n",
              "       [  0,   0,   0, 274]])"
            ]
          },
          "metadata": {
            "tags": []
          },
          "execution_count": 2891
        }
      ]
    },
    {
      "cell_type": "code",
      "metadata": {
        "id": "ZmU5eEWNW4_Z",
        "colab": {
          "base_uri": "https://localhost:8080/",
          "height": 391
        },
        "outputId": "3bef1bb9-7a67-48d0-a813-240b2a45d14b"
      },
      "source": [
        "plt.figure(figsize = (6,6))\n",
        "sns.heatmap(confusion_matrix(val_target, y_pred), annot=True)"
      ],
      "execution_count": null,
      "outputs": [
        {
          "output_type": "execute_result",
          "data": {
            "text/plain": [
              "<matplotlib.axes._subplots.AxesSubplot at 0x7f72884f9f50>"
            ]
          },
          "metadata": {
            "tags": []
          },
          "execution_count": 2892
        },
        {
          "output_type": "display_data",
          "data": {
            "image/png": "[encoded data removed]",
            "text/plain": [
              "<Figure size 432x432 with 2 Axes>"
            ]
          },
          "metadata": {
            "tags": [],
            "needs_background": "light"
          }
        }
      ]
    },
    {
      "cell_type": "code",
      "metadata": {
        "id": "mOmhEOCJKfGU",
        "colab": {
          "base_uri": "https://localhost:8080/",
          "height": 52
        },
        "outputId": "624243ea-01a1-4a5a-e81d-12e56a92faa2"
      },
      "source": [
        "'''\n",
        "#Prediccion manual por id\n",
        "id = 1\n",
        "x = testeo.iloc[id, data.columns != \"Position\"]\n",
        "testt = torch.tensor(x.values.astype(np.float32)) \n",
        "model.eval()\n",
        "y_pred = model(testt)\n",
        "print(testt.shape)\n",
        "print(f\"Prediccion: {np.argmax(y_pred.tolist())}\")\n",
        "print(f\"Valor correcto:{testeo.iloc[id,42]}\")\n",
        "'''"
      ],
      "execution_count": null,
      "outputs": [
        {
          "output_type": "execute_result",
          "data": {
            "application/vnd.google.colaboratory.intrinsic+json": {
              "type": "string"
            },
            "text/plain": [
              "'\\n#Prediccion manual por id\\nid = 1\\nx = testeo.iloc[id, data.columns != \"Position\"]\\ntestt = torch.tensor(x.values.astype(np.float32)) \\nmodel.eval()\\ny_pred = model(testt)\\nprint(testt.shape)\\nprint(f\"Prediccion: {np.argmax(y_pred.tolist())}\")\\nprint(f\"Valor correcto:{testeo.iloc[id,42]}\")\\n'"
            ]
          },
          "metadata": {
            "tags": []
          },
          "execution_count": 2893
        }
      ]
    }
  ]
}